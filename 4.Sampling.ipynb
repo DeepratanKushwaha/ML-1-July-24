{
 "cells": [
  {
   "cell_type": "code",
   "execution_count": null,
   "id": "6834f186-808a-42ee-b7be-8de4faf035e3",
   "metadata": {},
   "outputs": [],
   "source": []
  },
  {
   "cell_type": "code",
   "execution_count": 1,
   "id": "8a14d228-818f-46ef-9374-5bc24cf77d91",
   "metadata": {},
   "outputs": [],
   "source": [
    "import numpy as np\n",
    "import pandas as pd\n",
    "import matplotlib.pyplot as plt\n",
    "import seaborn as sns"
   ]
  },
  {
   "cell_type": "code",
   "execution_count": null,
   "id": "b7e8d852-d7b6-4f2b-b2b5-b435b884e50b",
   "metadata": {},
   "outputs": [],
   "source": []
  },
  {
   "cell_type": "code",
   "execution_count": null,
   "id": "1f1cd53f-e0f8-46a1-a5c5-74af952a23bb",
   "metadata": {},
   "outputs": [],
   "source": []
  },
  {
   "cell_type": "code",
   "execution_count": 2,
   "id": "0cf38d02-370c-4910-81c8-0beb3aa661a3",
   "metadata": {},
   "outputs": [
    {
     "data": {
      "text/html": [
       "<div>\n",
       "<style scoped>\n",
       "    .dataframe tbody tr th:only-of-type {\n",
       "        vertical-align: middle;\n",
       "    }\n",
       "\n",
       "    .dataframe tbody tr th {\n",
       "        vertical-align: top;\n",
       "    }\n",
       "\n",
       "    .dataframe thead th {\n",
       "        text-align: right;\n",
       "    }\n",
       "</style>\n",
       "<table border=\"1\" class=\"dataframe\">\n",
       "  <thead>\n",
       "    <tr style=\"text-align: right;\">\n",
       "      <th></th>\n",
       "      <th>longitude</th>\n",
       "      <th>latitude</th>\n",
       "      <th>housing_median_age</th>\n",
       "      <th>total_rooms</th>\n",
       "      <th>total_bedrooms</th>\n",
       "      <th>population</th>\n",
       "      <th>households</th>\n",
       "      <th>median_income</th>\n",
       "      <th>median_house_value</th>\n",
       "      <th>ocean_proximity</th>\n",
       "    </tr>\n",
       "  </thead>\n",
       "  <tbody>\n",
       "    <tr>\n",
       "      <th>0</th>\n",
       "      <td>-122.23</td>\n",
       "      <td>37.88</td>\n",
       "      <td>41.0</td>\n",
       "      <td>880.0</td>\n",
       "      <td>129.0</td>\n",
       "      <td>322.0</td>\n",
       "      <td>126.0</td>\n",
       "      <td>8.3252</td>\n",
       "      <td>452600.0</td>\n",
       "      <td>NEAR BAY</td>\n",
       "    </tr>\n",
       "    <tr>\n",
       "      <th>1</th>\n",
       "      <td>-122.22</td>\n",
       "      <td>37.86</td>\n",
       "      <td>21.0</td>\n",
       "      <td>7099.0</td>\n",
       "      <td>1106.0</td>\n",
       "      <td>2401.0</td>\n",
       "      <td>1138.0</td>\n",
       "      <td>8.3014</td>\n",
       "      <td>358500.0</td>\n",
       "      <td>NEAR BAY</td>\n",
       "    </tr>\n",
       "    <tr>\n",
       "      <th>2</th>\n",
       "      <td>-122.24</td>\n",
       "      <td>37.85</td>\n",
       "      <td>52.0</td>\n",
       "      <td>1467.0</td>\n",
       "      <td>190.0</td>\n",
       "      <td>496.0</td>\n",
       "      <td>177.0</td>\n",
       "      <td>7.2574</td>\n",
       "      <td>352100.0</td>\n",
       "      <td>NEAR BAY</td>\n",
       "    </tr>\n",
       "    <tr>\n",
       "      <th>3</th>\n",
       "      <td>-122.25</td>\n",
       "      <td>37.85</td>\n",
       "      <td>52.0</td>\n",
       "      <td>1274.0</td>\n",
       "      <td>235.0</td>\n",
       "      <td>558.0</td>\n",
       "      <td>219.0</td>\n",
       "      <td>5.6431</td>\n",
       "      <td>341300.0</td>\n",
       "      <td>NEAR BAY</td>\n",
       "    </tr>\n",
       "    <tr>\n",
       "      <th>4</th>\n",
       "      <td>-122.25</td>\n",
       "      <td>37.85</td>\n",
       "      <td>52.0</td>\n",
       "      <td>1627.0</td>\n",
       "      <td>280.0</td>\n",
       "      <td>565.0</td>\n",
       "      <td>259.0</td>\n",
       "      <td>3.8462</td>\n",
       "      <td>342200.0</td>\n",
       "      <td>NEAR BAY</td>\n",
       "    </tr>\n",
       "    <tr>\n",
       "      <th>...</th>\n",
       "      <td>...</td>\n",
       "      <td>...</td>\n",
       "      <td>...</td>\n",
       "      <td>...</td>\n",
       "      <td>...</td>\n",
       "      <td>...</td>\n",
       "      <td>...</td>\n",
       "      <td>...</td>\n",
       "      <td>...</td>\n",
       "      <td>...</td>\n",
       "    </tr>\n",
       "    <tr>\n",
       "      <th>20635</th>\n",
       "      <td>-121.09</td>\n",
       "      <td>39.48</td>\n",
       "      <td>25.0</td>\n",
       "      <td>1665.0</td>\n",
       "      <td>374.0</td>\n",
       "      <td>845.0</td>\n",
       "      <td>330.0</td>\n",
       "      <td>1.5603</td>\n",
       "      <td>78100.0</td>\n",
       "      <td>INLAND</td>\n",
       "    </tr>\n",
       "    <tr>\n",
       "      <th>20636</th>\n",
       "      <td>-121.21</td>\n",
       "      <td>39.49</td>\n",
       "      <td>18.0</td>\n",
       "      <td>697.0</td>\n",
       "      <td>150.0</td>\n",
       "      <td>356.0</td>\n",
       "      <td>114.0</td>\n",
       "      <td>2.5568</td>\n",
       "      <td>77100.0</td>\n",
       "      <td>INLAND</td>\n",
       "    </tr>\n",
       "    <tr>\n",
       "      <th>20637</th>\n",
       "      <td>-121.22</td>\n",
       "      <td>39.43</td>\n",
       "      <td>17.0</td>\n",
       "      <td>2254.0</td>\n",
       "      <td>485.0</td>\n",
       "      <td>1007.0</td>\n",
       "      <td>433.0</td>\n",
       "      <td>1.7000</td>\n",
       "      <td>92300.0</td>\n",
       "      <td>INLAND</td>\n",
       "    </tr>\n",
       "    <tr>\n",
       "      <th>20638</th>\n",
       "      <td>-121.32</td>\n",
       "      <td>39.43</td>\n",
       "      <td>18.0</td>\n",
       "      <td>1860.0</td>\n",
       "      <td>409.0</td>\n",
       "      <td>741.0</td>\n",
       "      <td>349.0</td>\n",
       "      <td>1.8672</td>\n",
       "      <td>84700.0</td>\n",
       "      <td>INLAND</td>\n",
       "    </tr>\n",
       "    <tr>\n",
       "      <th>20639</th>\n",
       "      <td>-121.24</td>\n",
       "      <td>39.37</td>\n",
       "      <td>16.0</td>\n",
       "      <td>2785.0</td>\n",
       "      <td>616.0</td>\n",
       "      <td>1387.0</td>\n",
       "      <td>530.0</td>\n",
       "      <td>2.3886</td>\n",
       "      <td>89400.0</td>\n",
       "      <td>INLAND</td>\n",
       "    </tr>\n",
       "  </tbody>\n",
       "</table>\n",
       "<p>20640 rows × 10 columns</p>\n",
       "</div>"
      ],
      "text/plain": [
       "       longitude  latitude  housing_median_age  total_rooms  total_bedrooms  \\\n",
       "0        -122.23     37.88                41.0        880.0           129.0   \n",
       "1        -122.22     37.86                21.0       7099.0          1106.0   \n",
       "2        -122.24     37.85                52.0       1467.0           190.0   \n",
       "3        -122.25     37.85                52.0       1274.0           235.0   \n",
       "4        -122.25     37.85                52.0       1627.0           280.0   \n",
       "...          ...       ...                 ...          ...             ...   \n",
       "20635    -121.09     39.48                25.0       1665.0           374.0   \n",
       "20636    -121.21     39.49                18.0        697.0           150.0   \n",
       "20637    -121.22     39.43                17.0       2254.0           485.0   \n",
       "20638    -121.32     39.43                18.0       1860.0           409.0   \n",
       "20639    -121.24     39.37                16.0       2785.0           616.0   \n",
       "\n",
       "       population  households  median_income  median_house_value  \\\n",
       "0           322.0       126.0         8.3252            452600.0   \n",
       "1          2401.0      1138.0         8.3014            358500.0   \n",
       "2           496.0       177.0         7.2574            352100.0   \n",
       "3           558.0       219.0         5.6431            341300.0   \n",
       "4           565.0       259.0         3.8462            342200.0   \n",
       "...           ...         ...            ...                 ...   \n",
       "20635       845.0       330.0         1.5603             78100.0   \n",
       "20636       356.0       114.0         2.5568             77100.0   \n",
       "20637      1007.0       433.0         1.7000             92300.0   \n",
       "20638       741.0       349.0         1.8672             84700.0   \n",
       "20639      1387.0       530.0         2.3886             89400.0   \n",
       "\n",
       "      ocean_proximity  \n",
       "0            NEAR BAY  \n",
       "1            NEAR BAY  \n",
       "2            NEAR BAY  \n",
       "3            NEAR BAY  \n",
       "4            NEAR BAY  \n",
       "...               ...  \n",
       "20635          INLAND  \n",
       "20636          INLAND  \n",
       "20637          INLAND  \n",
       "20638          INLAND  \n",
       "20639          INLAND  \n",
       "\n",
       "[20640 rows x 10 columns]"
      ]
     },
     "execution_count": 2,
     "metadata": {},
     "output_type": "execute_result"
    }
   ],
   "source": [
    "house = pd.read_csv('../housing.csv')\n",
    "house"
   ]
  },
  {
   "cell_type": "code",
   "execution_count": null,
   "id": "3be89eba-4932-4b39-8843-e0e51edcfe2d",
   "metadata": {},
   "outputs": [],
   "source": []
  },
  {
   "cell_type": "code",
   "execution_count": null,
   "id": "94435816-ea43-4ed6-b198-51c7ad9d67fe",
   "metadata": {},
   "outputs": [],
   "source": []
  },
  {
   "cell_type": "code",
   "execution_count": 3,
   "id": "72682f6e-0a8c-4b3a-a7e5-4c3629e79659",
   "metadata": {},
   "outputs": [],
   "source": [
    "from sklearn.model_selection import train_test_split"
   ]
  },
  {
   "cell_type": "code",
   "execution_count": 4,
   "id": "b9c3cb0f-ce26-40c6-9ba0-ec9025a0ef2c",
   "metadata": {},
   "outputs": [],
   "source": [
    "X = house.drop('median_house_value', axis=1)\n",
    "y = house['median_house_value']"
   ]
  },
  {
   "cell_type": "code",
   "execution_count": 5,
   "id": "4a2569a5-8c7c-49c5-bb7c-fc68337ed7c0",
   "metadata": {},
   "outputs": [],
   "source": [
    "X_train, X_test, y_train, y_test = train_test_split(X, y, test_size=0.2, random_state=124)"
   ]
  },
  {
   "cell_type": "code",
   "execution_count": 6,
   "id": "08d0d4b5-d771-45bd-970a-d8c1bc8db42d",
   "metadata": {},
   "outputs": [
    {
     "data": {
      "text/html": [
       "<div>\n",
       "<style scoped>\n",
       "    .dataframe tbody tr th:only-of-type {\n",
       "        vertical-align: middle;\n",
       "    }\n",
       "\n",
       "    .dataframe tbody tr th {\n",
       "        vertical-align: top;\n",
       "    }\n",
       "\n",
       "    .dataframe thead th {\n",
       "        text-align: right;\n",
       "    }\n",
       "</style>\n",
       "<table border=\"1\" class=\"dataframe\">\n",
       "  <thead>\n",
       "    <tr style=\"text-align: right;\">\n",
       "      <th></th>\n",
       "      <th>longitude</th>\n",
       "      <th>latitude</th>\n",
       "      <th>housing_median_age</th>\n",
       "      <th>total_rooms</th>\n",
       "      <th>total_bedrooms</th>\n",
       "      <th>population</th>\n",
       "      <th>households</th>\n",
       "      <th>median_income</th>\n",
       "      <th>ocean_proximity</th>\n",
       "    </tr>\n",
       "  </thead>\n",
       "  <tbody>\n",
       "    <tr>\n",
       "      <th>16563</th>\n",
       "      <td>-121.48</td>\n",
       "      <td>37.77</td>\n",
       "      <td>19.0</td>\n",
       "      <td>2364.0</td>\n",
       "      <td>373.0</td>\n",
       "      <td>1264.0</td>\n",
       "      <td>390.0</td>\n",
       "      <td>5.0176</td>\n",
       "      <td>INLAND</td>\n",
       "    </tr>\n",
       "    <tr>\n",
       "      <th>6996</th>\n",
       "      <td>-118.03</td>\n",
       "      <td>33.95</td>\n",
       "      <td>34.0</td>\n",
       "      <td>1882.0</td>\n",
       "      <td>428.0</td>\n",
       "      <td>1034.0</td>\n",
       "      <td>375.0</td>\n",
       "      <td>3.6509</td>\n",
       "      <td>&lt;1H OCEAN</td>\n",
       "    </tr>\n",
       "    <tr>\n",
       "      <th>16525</th>\n",
       "      <td>-121.20</td>\n",
       "      <td>37.79</td>\n",
       "      <td>36.0</td>\n",
       "      <td>866.0</td>\n",
       "      <td>160.0</td>\n",
       "      <td>502.0</td>\n",
       "      <td>149.0</td>\n",
       "      <td>2.4798</td>\n",
       "      <td>INLAND</td>\n",
       "    </tr>\n",
       "    <tr>\n",
       "      <th>16305</th>\n",
       "      <td>-121.35</td>\n",
       "      <td>38.01</td>\n",
       "      <td>15.0</td>\n",
       "      <td>2682.0</td>\n",
       "      <td>599.0</td>\n",
       "      <td>1520.0</td>\n",
       "      <td>601.0</td>\n",
       "      <td>3.5982</td>\n",
       "      <td>INLAND</td>\n",
       "    </tr>\n",
       "    <tr>\n",
       "      <th>11317</th>\n",
       "      <td>-117.97</td>\n",
       "      <td>33.77</td>\n",
       "      <td>22.0</td>\n",
       "      <td>2244.0</td>\n",
       "      <td>575.0</td>\n",
       "      <td>1543.0</td>\n",
       "      <td>533.0</td>\n",
       "      <td>2.6618</td>\n",
       "      <td>&lt;1H OCEAN</td>\n",
       "    </tr>\n",
       "  </tbody>\n",
       "</table>\n",
       "</div>"
      ],
      "text/plain": [
       "       longitude  latitude  housing_median_age  total_rooms  total_bedrooms  \\\n",
       "16563    -121.48     37.77                19.0       2364.0           373.0   \n",
       "6996     -118.03     33.95                34.0       1882.0           428.0   \n",
       "16525    -121.20     37.79                36.0        866.0           160.0   \n",
       "16305    -121.35     38.01                15.0       2682.0           599.0   \n",
       "11317    -117.97     33.77                22.0       2244.0           575.0   \n",
       "\n",
       "       population  households  median_income ocean_proximity  \n",
       "16563      1264.0       390.0         5.0176          INLAND  \n",
       "6996       1034.0       375.0         3.6509       <1H OCEAN  \n",
       "16525       502.0       149.0         2.4798          INLAND  \n",
       "16305      1520.0       601.0         3.5982          INLAND  \n",
       "11317      1543.0       533.0         2.6618       <1H OCEAN  "
      ]
     },
     "execution_count": 6,
     "metadata": {},
     "output_type": "execute_result"
    }
   ],
   "source": [
    "X_train.head()"
   ]
  },
  {
   "cell_type": "code",
   "execution_count": 7,
   "id": "4e303b29-b6b6-457a-ac0c-707d39a8d4e0",
   "metadata": {},
   "outputs": [
    {
     "data": {
      "text/plain": [
       "16563    274200.0\n",
       "6996     173200.0\n",
       "16525    101500.0\n",
       "16305     94400.0\n",
       "11317    179600.0\n",
       "Name: median_house_value, dtype: float64"
      ]
     },
     "execution_count": 7,
     "metadata": {},
     "output_type": "execute_result"
    }
   ],
   "source": [
    "y_train.head()"
   ]
  },
  {
   "cell_type": "code",
   "execution_count": null,
   "id": "7188ff12-3b24-4e1b-9209-ccaeb034cd16",
   "metadata": {},
   "outputs": [],
   "source": []
  },
  {
   "cell_type": "code",
   "execution_count": null,
   "id": "8fac3b4c-f194-44cc-a89c-5f99526a527d",
   "metadata": {},
   "outputs": [],
   "source": []
  },
  {
   "cell_type": "code",
   "execution_count": 8,
   "id": "11574f2b-b3bb-4b88-a022-46912e2021b3",
   "metadata": {},
   "outputs": [
    {
     "data": {
      "image/png": "[encoded data removed]",
      "text/plain": [
       "<Figure size 768x576 with 1 Axes>"
      ]
     },
     "metadata": {},
     "output_type": "display_data"
    }
   ],
   "source": [
    "plt.figure(dpi=120)\n",
    "sns.scatterplot(data=house, x='longitude', y='latitude', hue='ocean_proximity')\n",
    "plt.show()"
   ]
  },
  {
   "cell_type": "code",
   "execution_count": null,
   "id": "51a93327-e290-466d-896d-df576bc4a973",
   "metadata": {},
   "outputs": [],
   "source": []
  },
  {
   "cell_type": "code",
   "execution_count": null,
   "id": "c6125db2-5cbc-4c5c-9841-24eaa51c761c",
   "metadata": {},
   "outputs": [],
   "source": []
  },
  {
   "cell_type": "code",
   "execution_count": null,
   "id": "14ec3d5d-4d7e-4a4c-aece-e0298bc889ac",
   "metadata": {},
   "outputs": [],
   "source": []
  },
  {
   "cell_type": "code",
   "execution_count": 9,
   "id": "35893cf8-2f57-4f1d-bbf1-142f628aba3c",
   "metadata": {},
   "outputs": [
    {
     "name": "stderr",
     "output_type": "stream",
     "text": [
      "C:\\Users\\hello\\anaconda3\\Lib\\site-packages\\seaborn\\_oldcore.py:1119: FutureWarning: use_inf_as_na option is deprecated and will be removed in a future version. Convert inf values to NaN before operating instead.\n",
      "  with pd.option_context('mode.use_inf_as_na', True):\n"
     ]
    },
    {
     "data": {
      "image/png": "[encoded data removed]",
      "text/plain": [
       "<Figure size 768x576 with 1 Axes>"
      ]
     },
     "metadata": {},
     "output_type": "display_data"
    }
   ],
   "source": [
    "plt.figure(dpi=120)\n",
    "sns.histplot(house['median_income'], kde=True)\n",
    "plt.show()"
   ]
  },
  {
   "cell_type": "code",
   "execution_count": null,
   "id": "06183dca-541e-4920-bec6-67bb685f9966",
   "metadata": {},
   "outputs": [],
   "source": []
  },
  {
   "cell_type": "code",
   "execution_count": 10,
   "id": "a4bce218-47b5-4b74-a79c-f5c430ed9a9e",
   "metadata": {},
   "outputs": [
    {
     "data": {
      "text/plain": [
       "ocean_proximity\n",
       "<1H OCEAN     44.263566\n",
       "INLAND        31.739341\n",
       "NEAR OCEAN    12.877907\n",
       "NEAR BAY      11.094961\n",
       "ISLAND         0.024225\n",
       "Name: count, dtype: float64"
      ]
     },
     "execution_count": 10,
     "metadata": {},
     "output_type": "execute_result"
    }
   ],
   "source": [
    "(house['ocean_proximity'].value_counts() / house.shape[0] * 100).sort_values(ascending=False)"
   ]
  },
  {
   "cell_type": "code",
   "execution_count": 11,
   "id": "ed003fbf-a778-4ee4-8695-c01fe29a5350",
   "metadata": {},
   "outputs": [
    {
     "data": {
      "text/plain": [
       "ocean_proximity\n",
       "<1H OCEAN     44.149709\n",
       "INLAND        31.734496\n",
       "NEAR OCEAN    12.954215\n",
       "NEAR BAY      11.131298\n",
       "ISLAND         0.030281\n",
       "Name: count, dtype: float64"
      ]
     },
     "execution_count": 11,
     "metadata": {},
     "output_type": "execute_result"
    }
   ],
   "source": [
    "(X_train['ocean_proximity'].value_counts() / X_train.shape[0] * 100).sort_values(ascending=False)"
   ]
  },
  {
   "cell_type": "code",
   "execution_count": 12,
   "id": "ee744d8b-31d4-4634-bca6-5dbf6e1fe106",
   "metadata": {},
   "outputs": [
    {
     "data": {
      "text/plain": [
       "ocean_proximity\n",
       "<1H OCEAN     44.718992\n",
       "INLAND        31.758721\n",
       "NEAR OCEAN    12.572674\n",
       "NEAR BAY      10.949612\n",
       "Name: count, dtype: float64"
      ]
     },
     "execution_count": 12,
     "metadata": {},
     "output_type": "execute_result"
    }
   ],
   "source": [
    "(X_test['ocean_proximity'].value_counts() / X_test.shape[0] * 100).sort_values(ascending=False)\n"
   ]
  },
  {
   "cell_type": "code",
   "execution_count": null,
   "id": "42c69dea-d7cf-4c23-b5ee-13cf44160eb4",
   "metadata": {},
   "outputs": [],
   "source": []
  },
  {
   "cell_type": "code",
   "execution_count": 13,
   "id": "bd674e00-9c33-44f3-afd4-42462850cfc2",
   "metadata": {},
   "outputs": [
    {
     "data": {
      "text/plain": [
       "ocean_proximity\n",
       "<1H OCEAN     9136\n",
       "INLAND        6551\n",
       "NEAR OCEAN    2658\n",
       "NEAR BAY      2290\n",
       "ISLAND           5\n",
       "Name: count, dtype: int64"
      ]
     },
     "execution_count": 13,
     "metadata": {},
     "output_type": "execute_result"
    }
   ],
   "source": [
    "house.ocean_proximity.value_counts()"
   ]
  },
  {
   "cell_type": "code",
   "execution_count": null,
   "id": "54ba04eb-5b2a-405c-b288-a654598410ec",
   "metadata": {},
   "outputs": [],
   "source": []
  },
  {
   "cell_type": "code",
   "execution_count": 14,
   "id": "8bdc0ec7-fed4-4e32-8d35-e6e31c20ea51",
   "metadata": {},
   "outputs": [
    {
     "name": "stderr",
     "output_type": "stream",
     "text": [
      "C:\\Users\\hello\\anaconda3\\Lib\\site-packages\\seaborn\\_oldcore.py:1119: FutureWarning: use_inf_as_na option is deprecated and will be removed in a future version. Convert inf values to NaN before operating instead.\n",
      "  with pd.option_context('mode.use_inf_as_na', True):\n"
     ]
    },
    {
     "data": {
      "image/png": "[encoded data removed]",
      "text/plain": [
       "<Figure size 768x576 with 1 Axes>"
      ]
     },
     "metadata": {},
     "output_type": "display_data"
    }
   ],
   "source": [
    "plt.figure(dpi=120)\n",
    "sns.histplot(house['median_income'], kde=True)\n",
    "plt.show()"
   ]
  },
  {
   "cell_type": "code",
   "execution_count": 15,
   "id": "31d462b0-a773-4d8e-9761-5c11ec54005c",
   "metadata": {},
   "outputs": [
    {
     "data": {
      "text/plain": [
       "0        5\n",
       "1        5\n",
       "2        4\n",
       "3        3\n",
       "4        2\n",
       "        ..\n",
       "20635    1\n",
       "20636    2\n",
       "20637    1\n",
       "20638    1\n",
       "20639    2\n",
       "Name: median_income, Length: 20640, dtype: category\n",
       "Categories (5, int64): [1 < 2 < 3 < 4 < 5]"
      ]
     },
     "execution_count": 15,
     "metadata": {},
     "output_type": "execute_result"
    }
   ],
   "source": [
    "pd.cut(house['median_income'], bins=[0,2,4,6,8,np.inf], labels=[1,2,3,4,5])"
   ]
  },
  {
   "cell_type": "code",
   "execution_count": null,
   "id": "7314e540-5a2b-4aeb-b120-21c8af43d0cd",
   "metadata": {},
   "outputs": [],
   "source": []
  },
  {
   "cell_type": "code",
   "execution_count": 16,
   "id": "0c78593b-e9d9-45ff-811c-eb5949583421",
   "metadata": {},
   "outputs": [
    {
     "data": {
      "text/plain": [
       "median_income\n",
       "2    10096\n",
       "3     5725\n",
       "1     2457\n",
       "4     1672\n",
       "5      690\n",
       "Name: count, dtype: int64"
      ]
     },
     "execution_count": 16,
     "metadata": {},
     "output_type": "execute_result"
    }
   ],
   "source": [
    "pd.cut(house['median_income'], bins=[0,2,4,6,8,np.inf], labels=[1,2,3,4,5]).value_counts()\n"
   ]
  },
  {
   "cell_type": "code",
   "execution_count": null,
   "id": "394b83d8-4526-4114-beac-e89a2f2a7964",
   "metadata": {},
   "outputs": [],
   "source": []
  },
  {
   "cell_type": "code",
   "execution_count": 17,
   "id": "0790ac82-299c-4770-b40a-cbd76bf82bbd",
   "metadata": {},
   "outputs": [
    {
     "data": {
      "text/plain": [
       "<Axes: xlabel='median_income'>"
      ]
     },
     "execution_count": 17,
     "metadata": {},
     "output_type": "execute_result"
    },
    {
     "data": {
      "image/png": "[encoded data removed]",
      "text/plain": [
       "<Figure size 640x480 with 1 Axes>"
      ]
     },
     "metadata": {},
     "output_type": "display_data"
    }
   ],
   "source": [
    "pd.cut(house['median_income'], bins=[0,2,4,6,8,np.inf], labels=[1,2,3,4,5]).value_counts().plot(kind='bar', color=list('ygr'))\n"
   ]
  },
  {
   "cell_type": "code",
   "execution_count": null,
   "id": "b8073c5a-6068-40af-b7c0-8782080dc7ce",
   "metadata": {},
   "outputs": [],
   "source": []
  },
  {
   "cell_type": "code",
   "execution_count": 18,
   "id": "8ae48e57-0f4d-4d45-90cf-ff62108aa01a",
   "metadata": {},
   "outputs": [
    {
     "data": {
      "text/html": [
       "<div>\n",
       "<style scoped>\n",
       "    .dataframe tbody tr th:only-of-type {\n",
       "        vertical-align: middle;\n",
       "    }\n",
       "\n",
       "    .dataframe tbody tr th {\n",
       "        vertical-align: top;\n",
       "    }\n",
       "\n",
       "    .dataframe thead th {\n",
       "        text-align: right;\n",
       "    }\n",
       "</style>\n",
       "<table border=\"1\" class=\"dataframe\">\n",
       "  <thead>\n",
       "    <tr style=\"text-align: right;\">\n",
       "      <th></th>\n",
       "      <th>longitude</th>\n",
       "      <th>latitude</th>\n",
       "      <th>housing_median_age</th>\n",
       "      <th>total_rooms</th>\n",
       "      <th>total_bedrooms</th>\n",
       "      <th>population</th>\n",
       "      <th>households</th>\n",
       "      <th>median_income</th>\n",
       "      <th>median_house_value</th>\n",
       "      <th>ocean_proximity</th>\n",
       "    </tr>\n",
       "  </thead>\n",
       "  <tbody>\n",
       "    <tr>\n",
       "      <th>0</th>\n",
       "      <td>-122.23</td>\n",
       "      <td>37.88</td>\n",
       "      <td>41.0</td>\n",
       "      <td>880.0</td>\n",
       "      <td>129.0</td>\n",
       "      <td>322.0</td>\n",
       "      <td>126.0</td>\n",
       "      <td>8.3252</td>\n",
       "      <td>452600.0</td>\n",
       "      <td>NEAR BAY</td>\n",
       "    </tr>\n",
       "    <tr>\n",
       "      <th>1</th>\n",
       "      <td>-122.22</td>\n",
       "      <td>37.86</td>\n",
       "      <td>21.0</td>\n",
       "      <td>7099.0</td>\n",
       "      <td>1106.0</td>\n",
       "      <td>2401.0</td>\n",
       "      <td>1138.0</td>\n",
       "      <td>8.3014</td>\n",
       "      <td>358500.0</td>\n",
       "      <td>NEAR BAY</td>\n",
       "    </tr>\n",
       "    <tr>\n",
       "      <th>2</th>\n",
       "      <td>-122.24</td>\n",
       "      <td>37.85</td>\n",
       "      <td>52.0</td>\n",
       "      <td>1467.0</td>\n",
       "      <td>190.0</td>\n",
       "      <td>496.0</td>\n",
       "      <td>177.0</td>\n",
       "      <td>7.2574</td>\n",
       "      <td>352100.0</td>\n",
       "      <td>NEAR BAY</td>\n",
       "    </tr>\n",
       "    <tr>\n",
       "      <th>3</th>\n",
       "      <td>-122.25</td>\n",
       "      <td>37.85</td>\n",
       "      <td>52.0</td>\n",
       "      <td>1274.0</td>\n",
       "      <td>235.0</td>\n",
       "      <td>558.0</td>\n",
       "      <td>219.0</td>\n",
       "      <td>5.6431</td>\n",
       "      <td>341300.0</td>\n",
       "      <td>NEAR BAY</td>\n",
       "    </tr>\n",
       "    <tr>\n",
       "      <th>4</th>\n",
       "      <td>-122.25</td>\n",
       "      <td>37.85</td>\n",
       "      <td>52.0</td>\n",
       "      <td>1627.0</td>\n",
       "      <td>280.0</td>\n",
       "      <td>565.0</td>\n",
       "      <td>259.0</td>\n",
       "      <td>3.8462</td>\n",
       "      <td>342200.0</td>\n",
       "      <td>NEAR BAY</td>\n",
       "    </tr>\n",
       "    <tr>\n",
       "      <th>...</th>\n",
       "      <td>...</td>\n",
       "      <td>...</td>\n",
       "      <td>...</td>\n",
       "      <td>...</td>\n",
       "      <td>...</td>\n",
       "      <td>...</td>\n",
       "      <td>...</td>\n",
       "      <td>...</td>\n",
       "      <td>...</td>\n",
       "      <td>...</td>\n",
       "    </tr>\n",
       "    <tr>\n",
       "      <th>20635</th>\n",
       "      <td>-121.09</td>\n",
       "      <td>39.48</td>\n",
       "      <td>25.0</td>\n",
       "      <td>1665.0</td>\n",
       "      <td>374.0</td>\n",
       "      <td>845.0</td>\n",
       "      <td>330.0</td>\n",
       "      <td>1.5603</td>\n",
       "      <td>78100.0</td>\n",
       "      <td>INLAND</td>\n",
       "    </tr>\n",
       "    <tr>\n",
       "      <th>20636</th>\n",
       "      <td>-121.21</td>\n",
       "      <td>39.49</td>\n",
       "      <td>18.0</td>\n",
       "      <td>697.0</td>\n",
       "      <td>150.0</td>\n",
       "      <td>356.0</td>\n",
       "      <td>114.0</td>\n",
       "      <td>2.5568</td>\n",
       "      <td>77100.0</td>\n",
       "      <td>INLAND</td>\n",
       "    </tr>\n",
       "    <tr>\n",
       "      <th>20637</th>\n",
       "      <td>-121.22</td>\n",
       "      <td>39.43</td>\n",
       "      <td>17.0</td>\n",
       "      <td>2254.0</td>\n",
       "      <td>485.0</td>\n",
       "      <td>1007.0</td>\n",
       "      <td>433.0</td>\n",
       "      <td>1.7000</td>\n",
       "      <td>92300.0</td>\n",
       "      <td>INLAND</td>\n",
       "    </tr>\n",
       "    <tr>\n",
       "      <th>20638</th>\n",
       "      <td>-121.32</td>\n",
       "      <td>39.43</td>\n",
       "      <td>18.0</td>\n",
       "      <td>1860.0</td>\n",
       "      <td>409.0</td>\n",
       "      <td>741.0</td>\n",
       "      <td>349.0</td>\n",
       "      <td>1.8672</td>\n",
       "      <td>84700.0</td>\n",
       "      <td>INLAND</td>\n",
       "    </tr>\n",
       "    <tr>\n",
       "      <th>20639</th>\n",
       "      <td>-121.24</td>\n",
       "      <td>39.37</td>\n",
       "      <td>16.0</td>\n",
       "      <td>2785.0</td>\n",
       "      <td>616.0</td>\n",
       "      <td>1387.0</td>\n",
       "      <td>530.0</td>\n",
       "      <td>2.3886</td>\n",
       "      <td>89400.0</td>\n",
       "      <td>INLAND</td>\n",
       "    </tr>\n",
       "  </tbody>\n",
       "</table>\n",
       "<p>20640 rows × 10 columns</p>\n",
       "</div>"
      ],
      "text/plain": [
       "       longitude  latitude  housing_median_age  total_rooms  total_bedrooms  \\\n",
       "0        -122.23     37.88                41.0        880.0           129.0   \n",
       "1        -122.22     37.86                21.0       7099.0          1106.0   \n",
       "2        -122.24     37.85                52.0       1467.0           190.0   \n",
       "3        -122.25     37.85                52.0       1274.0           235.0   \n",
       "4        -122.25     37.85                52.0       1627.0           280.0   \n",
       "...          ...       ...                 ...          ...             ...   \n",
       "20635    -121.09     39.48                25.0       1665.0           374.0   \n",
       "20636    -121.21     39.49                18.0        697.0           150.0   \n",
       "20637    -121.22     39.43                17.0       2254.0           485.0   \n",
       "20638    -121.32     39.43                18.0       1860.0           409.0   \n",
       "20639    -121.24     39.37                16.0       2785.0           616.0   \n",
       "\n",
       "       population  households  median_income  median_house_value  \\\n",
       "0           322.0       126.0         8.3252            452600.0   \n",
       "1          2401.0      1138.0         8.3014            358500.0   \n",
       "2           496.0       177.0         7.2574            352100.0   \n",
       "3           558.0       219.0         5.6431            341300.0   \n",
       "4           565.0       259.0         3.8462            342200.0   \n",
       "...           ...         ...            ...                 ...   \n",
       "20635       845.0       330.0         1.5603             78100.0   \n",
       "20636       356.0       114.0         2.5568             77100.0   \n",
       "20637      1007.0       433.0         1.7000             92300.0   \n",
       "20638       741.0       349.0         1.8672             84700.0   \n",
       "20639      1387.0       530.0         2.3886             89400.0   \n",
       "\n",
       "      ocean_proximity  \n",
       "0            NEAR BAY  \n",
       "1            NEAR BAY  \n",
       "2            NEAR BAY  \n",
       "3            NEAR BAY  \n",
       "4            NEAR BAY  \n",
       "...               ...  \n",
       "20635          INLAND  \n",
       "20636          INLAND  \n",
       "20637          INLAND  \n",
       "20638          INLAND  \n",
       "20639          INLAND  \n",
       "\n",
       "[20640 rows x 10 columns]"
      ]
     },
     "execution_count": 18,
     "metadata": {},
     "output_type": "execute_result"
    }
   ],
   "source": [
    "house"
   ]
  },
  {
   "cell_type": "code",
   "execution_count": null,
   "id": "35801c7b-6d01-4441-8fef-1bee6aada467",
   "metadata": {},
   "outputs": [],
   "source": []
  },
  {
   "cell_type": "code",
   "execution_count": 19,
   "id": "5dd88d11-89f9-45f9-8418-f853514ef6e5",
   "metadata": {},
   "outputs": [
    {
     "data": {
      "text/html": [
       "<div>\n",
       "<style scoped>\n",
       "    .dataframe tbody tr th:only-of-type {\n",
       "        vertical-align: middle;\n",
       "    }\n",
       "\n",
       "    .dataframe tbody tr th {\n",
       "        vertical-align: top;\n",
       "    }\n",
       "\n",
       "    .dataframe thead th {\n",
       "        text-align: right;\n",
       "    }\n",
       "</style>\n",
       "<table border=\"1\" class=\"dataframe\">\n",
       "  <thead>\n",
       "    <tr style=\"text-align: right;\">\n",
       "      <th></th>\n",
       "      <th>longitude</th>\n",
       "      <th>latitude</th>\n",
       "      <th>housing_median_age</th>\n",
       "      <th>total_rooms</th>\n",
       "      <th>total_bedrooms</th>\n",
       "      <th>population</th>\n",
       "      <th>households</th>\n",
       "      <th>median_income</th>\n",
       "      <th>ocean_proximity</th>\n",
       "    </tr>\n",
       "  </thead>\n",
       "  <tbody>\n",
       "    <tr>\n",
       "      <th>16563</th>\n",
       "      <td>-121.48</td>\n",
       "      <td>37.77</td>\n",
       "      <td>19.0</td>\n",
       "      <td>2364.0</td>\n",
       "      <td>373.0</td>\n",
       "      <td>1264.0</td>\n",
       "      <td>390.0</td>\n",
       "      <td>5.0176</td>\n",
       "      <td>INLAND</td>\n",
       "    </tr>\n",
       "    <tr>\n",
       "      <th>6996</th>\n",
       "      <td>-118.03</td>\n",
       "      <td>33.95</td>\n",
       "      <td>34.0</td>\n",
       "      <td>1882.0</td>\n",
       "      <td>428.0</td>\n",
       "      <td>1034.0</td>\n",
       "      <td>375.0</td>\n",
       "      <td>3.6509</td>\n",
       "      <td>&lt;1H OCEAN</td>\n",
       "    </tr>\n",
       "    <tr>\n",
       "      <th>16525</th>\n",
       "      <td>-121.20</td>\n",
       "      <td>37.79</td>\n",
       "      <td>36.0</td>\n",
       "      <td>866.0</td>\n",
       "      <td>160.0</td>\n",
       "      <td>502.0</td>\n",
       "      <td>149.0</td>\n",
       "      <td>2.4798</td>\n",
       "      <td>INLAND</td>\n",
       "    </tr>\n",
       "    <tr>\n",
       "      <th>16305</th>\n",
       "      <td>-121.35</td>\n",
       "      <td>38.01</td>\n",
       "      <td>15.0</td>\n",
       "      <td>2682.0</td>\n",
       "      <td>599.0</td>\n",
       "      <td>1520.0</td>\n",
       "      <td>601.0</td>\n",
       "      <td>3.5982</td>\n",
       "      <td>INLAND</td>\n",
       "    </tr>\n",
       "    <tr>\n",
       "      <th>11317</th>\n",
       "      <td>-117.97</td>\n",
       "      <td>33.77</td>\n",
       "      <td>22.0</td>\n",
       "      <td>2244.0</td>\n",
       "      <td>575.0</td>\n",
       "      <td>1543.0</td>\n",
       "      <td>533.0</td>\n",
       "      <td>2.6618</td>\n",
       "      <td>&lt;1H OCEAN</td>\n",
       "    </tr>\n",
       "  </tbody>\n",
       "</table>\n",
       "</div>"
      ],
      "text/plain": [
       "       longitude  latitude  housing_median_age  total_rooms  total_bedrooms  \\\n",
       "16563    -121.48     37.77                19.0       2364.0           373.0   \n",
       "6996     -118.03     33.95                34.0       1882.0           428.0   \n",
       "16525    -121.20     37.79                36.0        866.0           160.0   \n",
       "16305    -121.35     38.01                15.0       2682.0           599.0   \n",
       "11317    -117.97     33.77                22.0       2244.0           575.0   \n",
       "\n",
       "       population  households  median_income ocean_proximity  \n",
       "16563      1264.0       390.0         5.0176          INLAND  \n",
       "6996       1034.0       375.0         3.6509       <1H OCEAN  \n",
       "16525       502.0       149.0         2.4798          INLAND  \n",
       "16305      1520.0       601.0         3.5982          INLAND  \n",
       "11317      1543.0       533.0         2.6618       <1H OCEAN  "
      ]
     },
     "execution_count": 19,
     "metadata": {},
     "output_type": "execute_result"
    }
   ],
   "source": [
    "X_train.head()"
   ]
  },
  {
   "cell_type": "code",
   "execution_count": 20,
   "id": "27c66cf7-0553-489e-99d2-ad2566876a2f",
   "metadata": {},
   "outputs": [
    {
     "data": {
      "text/html": [
       "<div>\n",
       "<style scoped>\n",
       "    .dataframe tbody tr th:only-of-type {\n",
       "        vertical-align: middle;\n",
       "    }\n",
       "\n",
       "    .dataframe tbody tr th {\n",
       "        vertical-align: top;\n",
       "    }\n",
       "\n",
       "    .dataframe thead th {\n",
       "        text-align: right;\n",
       "    }\n",
       "</style>\n",
       "<table border=\"1\" class=\"dataframe\">\n",
       "  <thead>\n",
       "    <tr style=\"text-align: right;\">\n",
       "      <th></th>\n",
       "      <th>longitude</th>\n",
       "      <th>latitude</th>\n",
       "      <th>housing_median_age</th>\n",
       "      <th>total_rooms</th>\n",
       "      <th>total_bedrooms</th>\n",
       "      <th>population</th>\n",
       "      <th>households</th>\n",
       "      <th>median_income</th>\n",
       "      <th>ocean_proximity</th>\n",
       "    </tr>\n",
       "  </thead>\n",
       "  <tbody>\n",
       "    <tr>\n",
       "      <th>2983</th>\n",
       "      <td>-119.03</td>\n",
       "      <td>35.34</td>\n",
       "      <td>34.0</td>\n",
       "      <td>2221.0</td>\n",
       "      <td>436.0</td>\n",
       "      <td>1131.0</td>\n",
       "      <td>408.0</td>\n",
       "      <td>3.0486</td>\n",
       "      <td>INLAND</td>\n",
       "    </tr>\n",
       "    <tr>\n",
       "      <th>17551</th>\n",
       "      <td>-121.86</td>\n",
       "      <td>37.34</td>\n",
       "      <td>29.0</td>\n",
       "      <td>5274.0</td>\n",
       "      <td>1625.0</td>\n",
       "      <td>6234.0</td>\n",
       "      <td>1639.0</td>\n",
       "      <td>2.5947</td>\n",
       "      <td>&lt;1H OCEAN</td>\n",
       "    </tr>\n",
       "    <tr>\n",
       "      <th>6341</th>\n",
       "      <td>-117.90</td>\n",
       "      <td>33.97</td>\n",
       "      <td>23.0</td>\n",
       "      <td>7353.0</td>\n",
       "      <td>1255.0</td>\n",
       "      <td>4014.0</td>\n",
       "      <td>1124.0</td>\n",
       "      <td>5.4155</td>\n",
       "      <td>&lt;1H OCEAN</td>\n",
       "    </tr>\n",
       "    <tr>\n",
       "      <th>9001</th>\n",
       "      <td>-118.34</td>\n",
       "      <td>33.99</td>\n",
       "      <td>47.0</td>\n",
       "      <td>1107.0</td>\n",
       "      <td>199.0</td>\n",
       "      <td>437.0</td>\n",
       "      <td>178.0</td>\n",
       "      <td>3.7344</td>\n",
       "      <td>&lt;1H OCEAN</td>\n",
       "    </tr>\n",
       "    <tr>\n",
       "      <th>10243</th>\n",
       "      <td>-117.86</td>\n",
       "      <td>33.91</td>\n",
       "      <td>16.0</td>\n",
       "      <td>2889.0</td>\n",
       "      <td>423.0</td>\n",
       "      <td>1227.0</td>\n",
       "      <td>401.0</td>\n",
       "      <td>6.4514</td>\n",
       "      <td>&lt;1H OCEAN</td>\n",
       "    </tr>\n",
       "  </tbody>\n",
       "</table>\n",
       "</div>"
      ],
      "text/plain": [
       "       longitude  latitude  housing_median_age  total_rooms  total_bedrooms  \\\n",
       "2983     -119.03     35.34                34.0       2221.0           436.0   \n",
       "17551    -121.86     37.34                29.0       5274.0          1625.0   \n",
       "6341     -117.90     33.97                23.0       7353.0          1255.0   \n",
       "9001     -118.34     33.99                47.0       1107.0           199.0   \n",
       "10243    -117.86     33.91                16.0       2889.0           423.0   \n",
       "\n",
       "       population  households  median_income ocean_proximity  \n",
       "2983       1131.0       408.0         3.0486          INLAND  \n",
       "17551      6234.0      1639.0         2.5947       <1H OCEAN  \n",
       "6341       4014.0      1124.0         5.4155       <1H OCEAN  \n",
       "9001        437.0       178.0         3.7344       <1H OCEAN  \n",
       "10243      1227.0       401.0         6.4514       <1H OCEAN  "
      ]
     },
     "execution_count": 20,
     "metadata": {},
     "output_type": "execute_result"
    }
   ],
   "source": [
    "X_test.head()"
   ]
  },
  {
   "cell_type": "code",
   "execution_count": null,
   "id": "5df4bb20-4218-4446-a9b5-a26020d4cefa",
   "metadata": {},
   "outputs": [],
   "source": []
  },
  {
   "cell_type": "code",
   "execution_count": 22,
   "id": "ac000a37-5b8f-4c7e-a0e3-3cd844ba09c8",
   "metadata": {},
   "outputs": [],
   "source": [
    "def get_ratio(df, col):\n",
    "    ratio = (df[col].value_counts() / df.shape[0])*100\n",
    "    return ratio"
   ]
  },
  {
   "cell_type": "code",
   "execution_count": 24,
   "id": "75788b79-ef3c-4955-8898-3bcbbe557b9c",
   "metadata": {},
   "outputs": [
    {
     "data": {
      "text/plain": [
       "ocean_proximity\n",
       "<1H OCEAN     44.263566\n",
       "INLAND        31.739341\n",
       "NEAR OCEAN    12.877907\n",
       "NEAR BAY      11.094961\n",
       "ISLAND         0.024225\n",
       "Name: count, dtype: float64"
      ]
     },
     "execution_count": 24,
     "metadata": {},
     "output_type": "execute_result"
    }
   ],
   "source": [
    "get_ratio(house, 'ocean_proximity')"
   ]
  },
  {
   "cell_type": "code",
   "execution_count": 23,
   "id": "77c05a5a-0e96-4ffe-95f9-2cf5bbd7926a",
   "metadata": {},
   "outputs": [
    {
     "data": {
      "text/plain": [
       "ocean_proximity\n",
       "<1H OCEAN     44.149709\n",
       "INLAND        31.734496\n",
       "NEAR OCEAN    12.954215\n",
       "NEAR BAY      11.131298\n",
       "ISLAND         0.030281\n",
       "Name: count, dtype: float64"
      ]
     },
     "execution_count": 23,
     "metadata": {},
     "output_type": "execute_result"
    }
   ],
   "source": [
    "get_ratio(X_train, 'ocean_proximity')"
   ]
  },
  {
   "cell_type": "code",
   "execution_count": 25,
   "id": "d3af2dea-c840-4d0d-b968-0c658384eb88",
   "metadata": {},
   "outputs": [
    {
     "data": {
      "text/plain": [
       "ocean_proximity\n",
       "<1H OCEAN     44.718992\n",
       "INLAND        31.758721\n",
       "NEAR OCEAN    12.572674\n",
       "NEAR BAY      10.949612\n",
       "Name: count, dtype: float64"
      ]
     },
     "execution_count": 25,
     "metadata": {},
     "output_type": "execute_result"
    }
   ],
   "source": [
    "get_ratio(X_test, 'ocean_proximity')"
   ]
  },
  {
   "cell_type": "code",
   "execution_count": null,
   "id": "2a37d5d4-e626-4b9f-a84e-e642cfb0e373",
   "metadata": {},
   "outputs": [],
   "source": []
  },
  {
   "cell_type": "code",
   "execution_count": 27,
   "id": "cfa18870-64dc-4a74-ad4f-6b6c52f786e3",
   "metadata": {},
   "outputs": [
    {
     "name": "stderr",
     "output_type": "stream",
     "text": [
      "C:\\Users\\hello\\anaconda3\\Lib\\site-packages\\seaborn\\_oldcore.py:1119: FutureWarning: use_inf_as_na option is deprecated and will be removed in a future version. Convert inf values to NaN before operating instead.\n",
      "  with pd.option_context('mode.use_inf_as_na', True):\n"
     ]
    },
    {
     "data": {
      "image/png": "[encoded data removed]",
      "text/plain": [
       "<Figure size 768x576 with 1 Axes>"
      ]
     },
     "metadata": {},
     "output_type": "display_data"
    }
   ],
   "source": [
    "plt.figure(dpi=120)\n",
    "sns.histplot(data=house, x='median_income', kde=True)\n",
    "plt.show()"
   ]
  },
  {
   "cell_type": "code",
   "execution_count": null,
   "id": "0e9de05d-cecb-44d3-9d9d-d325f5d4d41f",
   "metadata": {},
   "outputs": [],
   "source": []
  },
  {
   "cell_type": "code",
   "execution_count": 29,
   "id": "4d771623-926c-4149-8d49-54b57a4ccbd4",
   "metadata": {},
   "outputs": [
    {
     "data": {
      "text/html": [
       "<div>\n",
       "<style scoped>\n",
       "    .dataframe tbody tr th:only-of-type {\n",
       "        vertical-align: middle;\n",
       "    }\n",
       "\n",
       "    .dataframe tbody tr th {\n",
       "        vertical-align: top;\n",
       "    }\n",
       "\n",
       "    .dataframe thead th {\n",
       "        text-align: right;\n",
       "    }\n",
       "</style>\n",
       "<table border=\"1\" class=\"dataframe\">\n",
       "  <thead>\n",
       "    <tr style=\"text-align: right;\">\n",
       "      <th></th>\n",
       "      <th>longitude</th>\n",
       "      <th>latitude</th>\n",
       "      <th>housing_median_age</th>\n",
       "      <th>total_rooms</th>\n",
       "      <th>total_bedrooms</th>\n",
       "      <th>population</th>\n",
       "      <th>households</th>\n",
       "      <th>median_income</th>\n",
       "      <th>median_house_value</th>\n",
       "      <th>ocean_proximity</th>\n",
       "    </tr>\n",
       "  </thead>\n",
       "  <tbody>\n",
       "    <tr>\n",
       "      <th>0</th>\n",
       "      <td>-122.23</td>\n",
       "      <td>37.88</td>\n",
       "      <td>41.0</td>\n",
       "      <td>880.0</td>\n",
       "      <td>129.0</td>\n",
       "      <td>322.0</td>\n",
       "      <td>126.0</td>\n",
       "      <td>8.3252</td>\n",
       "      <td>452600.0</td>\n",
       "      <td>NEAR BAY</td>\n",
       "    </tr>\n",
       "    <tr>\n",
       "      <th>1</th>\n",
       "      <td>-122.22</td>\n",
       "      <td>37.86</td>\n",
       "      <td>21.0</td>\n",
       "      <td>7099.0</td>\n",
       "      <td>1106.0</td>\n",
       "      <td>2401.0</td>\n",
       "      <td>1138.0</td>\n",
       "      <td>8.3014</td>\n",
       "      <td>358500.0</td>\n",
       "      <td>NEAR BAY</td>\n",
       "    </tr>\n",
       "    <tr>\n",
       "      <th>2</th>\n",
       "      <td>-122.24</td>\n",
       "      <td>37.85</td>\n",
       "      <td>52.0</td>\n",
       "      <td>1467.0</td>\n",
       "      <td>190.0</td>\n",
       "      <td>496.0</td>\n",
       "      <td>177.0</td>\n",
       "      <td>7.2574</td>\n",
       "      <td>352100.0</td>\n",
       "      <td>NEAR BAY</td>\n",
       "    </tr>\n",
       "    <tr>\n",
       "      <th>3</th>\n",
       "      <td>-122.25</td>\n",
       "      <td>37.85</td>\n",
       "      <td>52.0</td>\n",
       "      <td>1274.0</td>\n",
       "      <td>235.0</td>\n",
       "      <td>558.0</td>\n",
       "      <td>219.0</td>\n",
       "      <td>5.6431</td>\n",
       "      <td>341300.0</td>\n",
       "      <td>NEAR BAY</td>\n",
       "    </tr>\n",
       "    <tr>\n",
       "      <th>4</th>\n",
       "      <td>-122.25</td>\n",
       "      <td>37.85</td>\n",
       "      <td>52.0</td>\n",
       "      <td>1627.0</td>\n",
       "      <td>280.0</td>\n",
       "      <td>565.0</td>\n",
       "      <td>259.0</td>\n",
       "      <td>3.8462</td>\n",
       "      <td>342200.0</td>\n",
       "      <td>NEAR BAY</td>\n",
       "    </tr>\n",
       "    <tr>\n",
       "      <th>5</th>\n",
       "      <td>-122.25</td>\n",
       "      <td>37.85</td>\n",
       "      <td>52.0</td>\n",
       "      <td>919.0</td>\n",
       "      <td>213.0</td>\n",
       "      <td>413.0</td>\n",
       "      <td>193.0</td>\n",
       "      <td>4.0368</td>\n",
       "      <td>269700.0</td>\n",
       "      <td>NEAR BAY</td>\n",
       "    </tr>\n",
       "    <tr>\n",
       "      <th>6</th>\n",
       "      <td>-122.25</td>\n",
       "      <td>37.84</td>\n",
       "      <td>52.0</td>\n",
       "      <td>2535.0</td>\n",
       "      <td>489.0</td>\n",
       "      <td>1094.0</td>\n",
       "      <td>514.0</td>\n",
       "      <td>3.6591</td>\n",
       "      <td>299200.0</td>\n",
       "      <td>NEAR BAY</td>\n",
       "    </tr>\n",
       "    <tr>\n",
       "      <th>7</th>\n",
       "      <td>-122.25</td>\n",
       "      <td>37.84</td>\n",
       "      <td>52.0</td>\n",
       "      <td>3104.0</td>\n",
       "      <td>687.0</td>\n",
       "      <td>1157.0</td>\n",
       "      <td>647.0</td>\n",
       "      <td>3.1200</td>\n",
       "      <td>241400.0</td>\n",
       "      <td>NEAR BAY</td>\n",
       "    </tr>\n",
       "    <tr>\n",
       "      <th>8</th>\n",
       "      <td>-122.26</td>\n",
       "      <td>37.84</td>\n",
       "      <td>42.0</td>\n",
       "      <td>2555.0</td>\n",
       "      <td>665.0</td>\n",
       "      <td>1206.0</td>\n",
       "      <td>595.0</td>\n",
       "      <td>2.0804</td>\n",
       "      <td>226700.0</td>\n",
       "      <td>NEAR BAY</td>\n",
       "    </tr>\n",
       "    <tr>\n",
       "      <th>9</th>\n",
       "      <td>-122.25</td>\n",
       "      <td>37.84</td>\n",
       "      <td>52.0</td>\n",
       "      <td>3549.0</td>\n",
       "      <td>707.0</td>\n",
       "      <td>1551.0</td>\n",
       "      <td>714.0</td>\n",
       "      <td>3.6912</td>\n",
       "      <td>261100.0</td>\n",
       "      <td>NEAR BAY</td>\n",
       "    </tr>\n",
       "  </tbody>\n",
       "</table>\n",
       "</div>"
      ],
      "text/plain": [
       "   longitude  latitude  housing_median_age  total_rooms  total_bedrooms  \\\n",
       "0    -122.23     37.88                41.0        880.0           129.0   \n",
       "1    -122.22     37.86                21.0       7099.0          1106.0   \n",
       "2    -122.24     37.85                52.0       1467.0           190.0   \n",
       "3    -122.25     37.85                52.0       1274.0           235.0   \n",
       "4    -122.25     37.85                52.0       1627.0           280.0   \n",
       "5    -122.25     37.85                52.0        919.0           213.0   \n",
       "6    -122.25     37.84                52.0       2535.0           489.0   \n",
       "7    -122.25     37.84                52.0       3104.0           687.0   \n",
       "8    -122.26     37.84                42.0       2555.0           665.0   \n",
       "9    -122.25     37.84                52.0       3549.0           707.0   \n",
       "\n",
       "   population  households  median_income  median_house_value ocean_proximity  \n",
       "0       322.0       126.0         8.3252            452600.0        NEAR BAY  \n",
       "1      2401.0      1138.0         8.3014            358500.0        NEAR BAY  \n",
       "2       496.0       177.0         7.2574            352100.0        NEAR BAY  \n",
       "3       558.0       219.0         5.6431            341300.0        NEAR BAY  \n",
       "4       565.0       259.0         3.8462            342200.0        NEAR BAY  \n",
       "5       413.0       193.0         4.0368            269700.0        NEAR BAY  \n",
       "6      1094.0       514.0         3.6591            299200.0        NEAR BAY  \n",
       "7      1157.0       647.0         3.1200            241400.0        NEAR BAY  \n",
       "8      1206.0       595.0         2.0804            226700.0        NEAR BAY  \n",
       "9      1551.0       714.0         3.6912            261100.0        NEAR BAY  "
      ]
     },
     "execution_count": 29,
     "metadata": {},
     "output_type": "execute_result"
    }
   ],
   "source": [
    "house.head(10)"
   ]
  },
  {
   "cell_type": "code",
   "execution_count": null,
   "id": "06414a85-a55a-47c4-916c-a207487cea04",
   "metadata": {},
   "outputs": [],
   "source": []
  },
  {
   "cell_type": "code",
   "execution_count": null,
   "id": "65236aee-e1bd-4bc9-b2b2-77ef8401eda8",
   "metadata": {},
   "outputs": [],
   "source": [
    "X_train"
   ]
  },
  {
   "cell_type": "code",
   "execution_count": 30,
   "id": "2204184a-cd17-4b49-bd0e-15a2e2d15e37",
   "metadata": {},
   "outputs": [],
   "source": [
    "house['income_cat'] = pd.cut(house['median_income'], bins=[0, 2, 4, 6, 8, np.inf], labels=['very low', 'low', 'medium', 'high', 'very high'])\n",
    "X_train['income_cat'] = pd.cut(X_train['median_income'], bins=[0, 2, 4, 6, 8, np.inf], labels=['very low', 'low', 'medium', 'high', 'very high'])\n",
    "X_test['income_cat'] = pd.cut(X_test['median_income'], bins=[0, 2, 4, 6, 8, np.inf], labels=['very low', 'low', 'medium', 'high', 'very high'])\n"
   ]
  },
  {
   "cell_type": "code",
   "execution_count": 31,
   "id": "c4d83328-aa47-48f6-8441-6e0c15315e4d",
   "metadata": {},
   "outputs": [
    {
     "data": {
      "text/html": [
       "<div>\n",
       "<style scoped>\n",
       "    .dataframe tbody tr th:only-of-type {\n",
       "        vertical-align: middle;\n",
       "    }\n",
       "\n",
       "    .dataframe tbody tr th {\n",
       "        vertical-align: top;\n",
       "    }\n",
       "\n",
       "    .dataframe thead th {\n",
       "        text-align: right;\n",
       "    }\n",
       "</style>\n",
       "<table border=\"1\" class=\"dataframe\">\n",
       "  <thead>\n",
       "    <tr style=\"text-align: right;\">\n",
       "      <th></th>\n",
       "      <th>longitude</th>\n",
       "      <th>latitude</th>\n",
       "      <th>housing_median_age</th>\n",
       "      <th>total_rooms</th>\n",
       "      <th>total_bedrooms</th>\n",
       "      <th>population</th>\n",
       "      <th>households</th>\n",
       "      <th>median_income</th>\n",
       "      <th>median_house_value</th>\n",
       "      <th>ocean_proximity</th>\n",
       "      <th>income_cat</th>\n",
       "    </tr>\n",
       "  </thead>\n",
       "  <tbody>\n",
       "    <tr>\n",
       "      <th>0</th>\n",
       "      <td>-122.23</td>\n",
       "      <td>37.88</td>\n",
       "      <td>41.0</td>\n",
       "      <td>880.0</td>\n",
       "      <td>129.0</td>\n",
       "      <td>322.0</td>\n",
       "      <td>126.0</td>\n",
       "      <td>8.3252</td>\n",
       "      <td>452600.0</td>\n",
       "      <td>NEAR BAY</td>\n",
       "      <td>very high</td>\n",
       "    </tr>\n",
       "    <tr>\n",
       "      <th>1</th>\n",
       "      <td>-122.22</td>\n",
       "      <td>37.86</td>\n",
       "      <td>21.0</td>\n",
       "      <td>7099.0</td>\n",
       "      <td>1106.0</td>\n",
       "      <td>2401.0</td>\n",
       "      <td>1138.0</td>\n",
       "      <td>8.3014</td>\n",
       "      <td>358500.0</td>\n",
       "      <td>NEAR BAY</td>\n",
       "      <td>very high</td>\n",
       "    </tr>\n",
       "    <tr>\n",
       "      <th>2</th>\n",
       "      <td>-122.24</td>\n",
       "      <td>37.85</td>\n",
       "      <td>52.0</td>\n",
       "      <td>1467.0</td>\n",
       "      <td>190.0</td>\n",
       "      <td>496.0</td>\n",
       "      <td>177.0</td>\n",
       "      <td>7.2574</td>\n",
       "      <td>352100.0</td>\n",
       "      <td>NEAR BAY</td>\n",
       "      <td>high</td>\n",
       "    </tr>\n",
       "    <tr>\n",
       "      <th>3</th>\n",
       "      <td>-122.25</td>\n",
       "      <td>37.85</td>\n",
       "      <td>52.0</td>\n",
       "      <td>1274.0</td>\n",
       "      <td>235.0</td>\n",
       "      <td>558.0</td>\n",
       "      <td>219.0</td>\n",
       "      <td>5.6431</td>\n",
       "      <td>341300.0</td>\n",
       "      <td>NEAR BAY</td>\n",
       "      <td>medium</td>\n",
       "    </tr>\n",
       "    <tr>\n",
       "      <th>4</th>\n",
       "      <td>-122.25</td>\n",
       "      <td>37.85</td>\n",
       "      <td>52.0</td>\n",
       "      <td>1627.0</td>\n",
       "      <td>280.0</td>\n",
       "      <td>565.0</td>\n",
       "      <td>259.0</td>\n",
       "      <td>3.8462</td>\n",
       "      <td>342200.0</td>\n",
       "      <td>NEAR BAY</td>\n",
       "      <td>low</td>\n",
       "    </tr>\n",
       "    <tr>\n",
       "      <th>...</th>\n",
       "      <td>...</td>\n",
       "      <td>...</td>\n",
       "      <td>...</td>\n",
       "      <td>...</td>\n",
       "      <td>...</td>\n",
       "      <td>...</td>\n",
       "      <td>...</td>\n",
       "      <td>...</td>\n",
       "      <td>...</td>\n",
       "      <td>...</td>\n",
       "      <td>...</td>\n",
       "    </tr>\n",
       "    <tr>\n",
       "      <th>20635</th>\n",
       "      <td>-121.09</td>\n",
       "      <td>39.48</td>\n",
       "      <td>25.0</td>\n",
       "      <td>1665.0</td>\n",
       "      <td>374.0</td>\n",
       "      <td>845.0</td>\n",
       "      <td>330.0</td>\n",
       "      <td>1.5603</td>\n",
       "      <td>78100.0</td>\n",
       "      <td>INLAND</td>\n",
       "      <td>very low</td>\n",
       "    </tr>\n",
       "    <tr>\n",
       "      <th>20636</th>\n",
       "      <td>-121.21</td>\n",
       "      <td>39.49</td>\n",
       "      <td>18.0</td>\n",
       "      <td>697.0</td>\n",
       "      <td>150.0</td>\n",
       "      <td>356.0</td>\n",
       "      <td>114.0</td>\n",
       "      <td>2.5568</td>\n",
       "      <td>77100.0</td>\n",
       "      <td>INLAND</td>\n",
       "      <td>low</td>\n",
       "    </tr>\n",
       "    <tr>\n",
       "      <th>20637</th>\n",
       "      <td>-121.22</td>\n",
       "      <td>39.43</td>\n",
       "      <td>17.0</td>\n",
       "      <td>2254.0</td>\n",
       "      <td>485.0</td>\n",
       "      <td>1007.0</td>\n",
       "      <td>433.0</td>\n",
       "      <td>1.7000</td>\n",
       "      <td>92300.0</td>\n",
       "      <td>INLAND</td>\n",
       "      <td>very low</td>\n",
       "    </tr>\n",
       "    <tr>\n",
       "      <th>20638</th>\n",
       "      <td>-121.32</td>\n",
       "      <td>39.43</td>\n",
       "      <td>18.0</td>\n",
       "      <td>1860.0</td>\n",
       "      <td>409.0</td>\n",
       "      <td>741.0</td>\n",
       "      <td>349.0</td>\n",
       "      <td>1.8672</td>\n",
       "      <td>84700.0</td>\n",
       "      <td>INLAND</td>\n",
       "      <td>very low</td>\n",
       "    </tr>\n",
       "    <tr>\n",
       "      <th>20639</th>\n",
       "      <td>-121.24</td>\n",
       "      <td>39.37</td>\n",
       "      <td>16.0</td>\n",
       "      <td>2785.0</td>\n",
       "      <td>616.0</td>\n",
       "      <td>1387.0</td>\n",
       "      <td>530.0</td>\n",
       "      <td>2.3886</td>\n",
       "      <td>89400.0</td>\n",
       "      <td>INLAND</td>\n",
       "      <td>low</td>\n",
       "    </tr>\n",
       "  </tbody>\n",
       "</table>\n",
       "<p>20640 rows × 11 columns</p>\n",
       "</div>"
      ],
      "text/plain": [
       "       longitude  latitude  housing_median_age  total_rooms  total_bedrooms  \\\n",
       "0        -122.23     37.88                41.0        880.0           129.0   \n",
       "1        -122.22     37.86                21.0       7099.0          1106.0   \n",
       "2        -122.24     37.85                52.0       1467.0           190.0   \n",
       "3        -122.25     37.85                52.0       1274.0           235.0   \n",
       "4        -122.25     37.85                52.0       1627.0           280.0   \n",
       "...          ...       ...                 ...          ...             ...   \n",
       "20635    -121.09     39.48                25.0       1665.0           374.0   \n",
       "20636    -121.21     39.49                18.0        697.0           150.0   \n",
       "20637    -121.22     39.43                17.0       2254.0           485.0   \n",
       "20638    -121.32     39.43                18.0       1860.0           409.0   \n",
       "20639    -121.24     39.37                16.0       2785.0           616.0   \n",
       "\n",
       "       population  households  median_income  median_house_value  \\\n",
       "0           322.0       126.0         8.3252            452600.0   \n",
       "1          2401.0      1138.0         8.3014            358500.0   \n",
       "2           496.0       177.0         7.2574            352100.0   \n",
       "3           558.0       219.0         5.6431            341300.0   \n",
       "4           565.0       259.0         3.8462            342200.0   \n",
       "...           ...         ...            ...                 ...   \n",
       "20635       845.0       330.0         1.5603             78100.0   \n",
       "20636       356.0       114.0         2.5568             77100.0   \n",
       "20637      1007.0       433.0         1.7000             92300.0   \n",
       "20638       741.0       349.0         1.8672             84700.0   \n",
       "20639      1387.0       530.0         2.3886             89400.0   \n",
       "\n",
       "      ocean_proximity income_cat  \n",
       "0            NEAR BAY  very high  \n",
       "1            NEAR BAY  very high  \n",
       "2            NEAR BAY       high  \n",
       "3            NEAR BAY     medium  \n",
       "4            NEAR BAY        low  \n",
       "...               ...        ...  \n",
       "20635          INLAND   very low  \n",
       "20636          INLAND        low  \n",
       "20637          INLAND   very low  \n",
       "20638          INLAND   very low  \n",
       "20639          INLAND        low  \n",
       "\n",
       "[20640 rows x 11 columns]"
      ]
     },
     "execution_count": 31,
     "metadata": {},
     "output_type": "execute_result"
    }
   ],
   "source": [
    "house"
   ]
  },
  {
   "cell_type": "code",
   "execution_count": null,
   "id": "18213d37-1eb4-4577-b651-eb47a19afaec",
   "metadata": {},
   "outputs": [],
   "source": []
  },
  {
   "cell_type": "code",
   "execution_count": 32,
   "id": "6967130e-7b45-47f1-92ee-e1f2711cc154",
   "metadata": {},
   "outputs": [
    {
     "data": {
      "text/html": [
       "<div>\n",
       "<style scoped>\n",
       "    .dataframe tbody tr th:only-of-type {\n",
       "        vertical-align: middle;\n",
       "    }\n",
       "\n",
       "    .dataframe tbody tr th {\n",
       "        vertical-align: top;\n",
       "    }\n",
       "\n",
       "    .dataframe thead th {\n",
       "        text-align: right;\n",
       "    }\n",
       "</style>\n",
       "<table border=\"1\" class=\"dataframe\">\n",
       "  <thead>\n",
       "    <tr style=\"text-align: right;\">\n",
       "      <th></th>\n",
       "      <th>longitude</th>\n",
       "      <th>latitude</th>\n",
       "      <th>housing_median_age</th>\n",
       "      <th>total_rooms</th>\n",
       "      <th>total_bedrooms</th>\n",
       "      <th>population</th>\n",
       "      <th>households</th>\n",
       "      <th>median_income</th>\n",
       "      <th>ocean_proximity</th>\n",
       "      <th>income_cat</th>\n",
       "    </tr>\n",
       "  </thead>\n",
       "  <tbody>\n",
       "    <tr>\n",
       "      <th>16563</th>\n",
       "      <td>-121.48</td>\n",
       "      <td>37.77</td>\n",
       "      <td>19.0</td>\n",
       "      <td>2364.0</td>\n",
       "      <td>373.0</td>\n",
       "      <td>1264.0</td>\n",
       "      <td>390.0</td>\n",
       "      <td>5.0176</td>\n",
       "      <td>INLAND</td>\n",
       "      <td>medium</td>\n",
       "    </tr>\n",
       "    <tr>\n",
       "      <th>6996</th>\n",
       "      <td>-118.03</td>\n",
       "      <td>33.95</td>\n",
       "      <td>34.0</td>\n",
       "      <td>1882.0</td>\n",
       "      <td>428.0</td>\n",
       "      <td>1034.0</td>\n",
       "      <td>375.0</td>\n",
       "      <td>3.6509</td>\n",
       "      <td>&lt;1H OCEAN</td>\n",
       "      <td>low</td>\n",
       "    </tr>\n",
       "    <tr>\n",
       "      <th>16525</th>\n",
       "      <td>-121.20</td>\n",
       "      <td>37.79</td>\n",
       "      <td>36.0</td>\n",
       "      <td>866.0</td>\n",
       "      <td>160.0</td>\n",
       "      <td>502.0</td>\n",
       "      <td>149.0</td>\n",
       "      <td>2.4798</td>\n",
       "      <td>INLAND</td>\n",
       "      <td>low</td>\n",
       "    </tr>\n",
       "    <tr>\n",
       "      <th>16305</th>\n",
       "      <td>-121.35</td>\n",
       "      <td>38.01</td>\n",
       "      <td>15.0</td>\n",
       "      <td>2682.0</td>\n",
       "      <td>599.0</td>\n",
       "      <td>1520.0</td>\n",
       "      <td>601.0</td>\n",
       "      <td>3.5982</td>\n",
       "      <td>INLAND</td>\n",
       "      <td>low</td>\n",
       "    </tr>\n",
       "    <tr>\n",
       "      <th>11317</th>\n",
       "      <td>-117.97</td>\n",
       "      <td>33.77</td>\n",
       "      <td>22.0</td>\n",
       "      <td>2244.0</td>\n",
       "      <td>575.0</td>\n",
       "      <td>1543.0</td>\n",
       "      <td>533.0</td>\n",
       "      <td>2.6618</td>\n",
       "      <td>&lt;1H OCEAN</td>\n",
       "      <td>low</td>\n",
       "    </tr>\n",
       "    <tr>\n",
       "      <th>...</th>\n",
       "      <td>...</td>\n",
       "      <td>...</td>\n",
       "      <td>...</td>\n",
       "      <td>...</td>\n",
       "      <td>...</td>\n",
       "      <td>...</td>\n",
       "      <td>...</td>\n",
       "      <td>...</td>\n",
       "      <td>...</td>\n",
       "      <td>...</td>\n",
       "    </tr>\n",
       "    <tr>\n",
       "      <th>681</th>\n",
       "      <td>-122.15</td>\n",
       "      <td>37.69</td>\n",
       "      <td>39.0</td>\n",
       "      <td>1670.0</td>\n",
       "      <td>308.0</td>\n",
       "      <td>957.0</td>\n",
       "      <td>335.0</td>\n",
       "      <td>5.1312</td>\n",
       "      <td>NEAR BAY</td>\n",
       "      <td>medium</td>\n",
       "    </tr>\n",
       "    <tr>\n",
       "      <th>9154</th>\n",
       "      <td>-118.52</td>\n",
       "      <td>34.46</td>\n",
       "      <td>5.0</td>\n",
       "      <td>15341.0</td>\n",
       "      <td>2527.0</td>\n",
       "      <td>7270.0</td>\n",
       "      <td>2320.0</td>\n",
       "      <td>6.1281</td>\n",
       "      <td>&lt;1H OCEAN</td>\n",
       "      <td>high</td>\n",
       "    </tr>\n",
       "    <tr>\n",
       "      <th>14353</th>\n",
       "      <td>-117.22</td>\n",
       "      <td>32.75</td>\n",
       "      <td>26.0</td>\n",
       "      <td>696.0</td>\n",
       "      <td>185.0</td>\n",
       "      <td>384.0</td>\n",
       "      <td>184.0</td>\n",
       "      <td>2.6121</td>\n",
       "      <td>NEAR OCEAN</td>\n",
       "      <td>low</td>\n",
       "    </tr>\n",
       "    <tr>\n",
       "      <th>4764</th>\n",
       "      <td>-118.36</td>\n",
       "      <td>34.04</td>\n",
       "      <td>45.0</td>\n",
       "      <td>1767.0</td>\n",
       "      <td>417.0</td>\n",
       "      <td>1052.0</td>\n",
       "      <td>379.0</td>\n",
       "      <td>3.5161</td>\n",
       "      <td>&lt;1H OCEAN</td>\n",
       "      <td>low</td>\n",
       "    </tr>\n",
       "    <tr>\n",
       "      <th>4558</th>\n",
       "      <td>-118.25</td>\n",
       "      <td>34.06</td>\n",
       "      <td>12.0</td>\n",
       "      <td>4011.0</td>\n",
       "      <td>1438.0</td>\n",
       "      <td>1673.0</td>\n",
       "      <td>1088.0</td>\n",
       "      <td>5.3081</td>\n",
       "      <td>&lt;1H OCEAN</td>\n",
       "      <td>medium</td>\n",
       "    </tr>\n",
       "  </tbody>\n",
       "</table>\n",
       "<p>16512 rows × 10 columns</p>\n",
       "</div>"
      ],
      "text/plain": [
       "       longitude  latitude  housing_median_age  total_rooms  total_bedrooms  \\\n",
       "16563    -121.48     37.77                19.0       2364.0           373.0   \n",
       "6996     -118.03     33.95                34.0       1882.0           428.0   \n",
       "16525    -121.20     37.79                36.0        866.0           160.0   \n",
       "16305    -121.35     38.01                15.0       2682.0           599.0   \n",
       "11317    -117.97     33.77                22.0       2244.0           575.0   \n",
       "...          ...       ...                 ...          ...             ...   \n",
       "681      -122.15     37.69                39.0       1670.0           308.0   \n",
       "9154     -118.52     34.46                 5.0      15341.0          2527.0   \n",
       "14353    -117.22     32.75                26.0        696.0           185.0   \n",
       "4764     -118.36     34.04                45.0       1767.0           417.0   \n",
       "4558     -118.25     34.06                12.0       4011.0          1438.0   \n",
       "\n",
       "       population  households  median_income ocean_proximity income_cat  \n",
       "16563      1264.0       390.0         5.0176          INLAND     medium  \n",
       "6996       1034.0       375.0         3.6509       <1H OCEAN        low  \n",
       "16525       502.0       149.0         2.4798          INLAND        low  \n",
       "16305      1520.0       601.0         3.5982          INLAND        low  \n",
       "11317      1543.0       533.0         2.6618       <1H OCEAN        low  \n",
       "...           ...         ...            ...             ...        ...  \n",
       "681         957.0       335.0         5.1312        NEAR BAY     medium  \n",
       "9154       7270.0      2320.0         6.1281       <1H OCEAN       high  \n",
       "14353       384.0       184.0         2.6121      NEAR OCEAN        low  \n",
       "4764       1052.0       379.0         3.5161       <1H OCEAN        low  \n",
       "4558       1673.0      1088.0         5.3081       <1H OCEAN     medium  \n",
       "\n",
       "[16512 rows x 10 columns]"
      ]
     },
     "execution_count": 32,
     "metadata": {},
     "output_type": "execute_result"
    }
   ],
   "source": [
    "X_train"
   ]
  },
  {
   "cell_type": "code",
   "execution_count": null,
   "id": "7b64c815-0c5b-4f2b-91fd-5595b745272a",
   "metadata": {},
   "outputs": [],
   "source": []
  },
  {
   "cell_type": "code",
   "execution_count": 33,
   "id": "0bbe3aa7-2fdd-4444-b84c-518c85c5fee7",
   "metadata": {},
   "outputs": [
    {
     "data": {
      "text/html": [
       "<div>\n",
       "<style scoped>\n",
       "    .dataframe tbody tr th:only-of-type {\n",
       "        vertical-align: middle;\n",
       "    }\n",
       "\n",
       "    .dataframe tbody tr th {\n",
       "        vertical-align: top;\n",
       "    }\n",
       "\n",
       "    .dataframe thead th {\n",
       "        text-align: right;\n",
       "    }\n",
       "</style>\n",
       "<table border=\"1\" class=\"dataframe\">\n",
       "  <thead>\n",
       "    <tr style=\"text-align: right;\">\n",
       "      <th></th>\n",
       "      <th>longitude</th>\n",
       "      <th>latitude</th>\n",
       "      <th>housing_median_age</th>\n",
       "      <th>total_rooms</th>\n",
       "      <th>total_bedrooms</th>\n",
       "      <th>population</th>\n",
       "      <th>households</th>\n",
       "      <th>median_income</th>\n",
       "      <th>ocean_proximity</th>\n",
       "      <th>income_cat</th>\n",
       "    </tr>\n",
       "  </thead>\n",
       "  <tbody>\n",
       "    <tr>\n",
       "      <th>2983</th>\n",
       "      <td>-119.03</td>\n",
       "      <td>35.34</td>\n",
       "      <td>34.0</td>\n",
       "      <td>2221.0</td>\n",
       "      <td>436.0</td>\n",
       "      <td>1131.0</td>\n",
       "      <td>408.0</td>\n",
       "      <td>3.0486</td>\n",
       "      <td>INLAND</td>\n",
       "      <td>low</td>\n",
       "    </tr>\n",
       "    <tr>\n",
       "      <th>17551</th>\n",
       "      <td>-121.86</td>\n",
       "      <td>37.34</td>\n",
       "      <td>29.0</td>\n",
       "      <td>5274.0</td>\n",
       "      <td>1625.0</td>\n",
       "      <td>6234.0</td>\n",
       "      <td>1639.0</td>\n",
       "      <td>2.5947</td>\n",
       "      <td>&lt;1H OCEAN</td>\n",
       "      <td>low</td>\n",
       "    </tr>\n",
       "    <tr>\n",
       "      <th>6341</th>\n",
       "      <td>-117.90</td>\n",
       "      <td>33.97</td>\n",
       "      <td>23.0</td>\n",
       "      <td>7353.0</td>\n",
       "      <td>1255.0</td>\n",
       "      <td>4014.0</td>\n",
       "      <td>1124.0</td>\n",
       "      <td>5.4155</td>\n",
       "      <td>&lt;1H OCEAN</td>\n",
       "      <td>medium</td>\n",
       "    </tr>\n",
       "    <tr>\n",
       "      <th>9001</th>\n",
       "      <td>-118.34</td>\n",
       "      <td>33.99</td>\n",
       "      <td>47.0</td>\n",
       "      <td>1107.0</td>\n",
       "      <td>199.0</td>\n",
       "      <td>437.0</td>\n",
       "      <td>178.0</td>\n",
       "      <td>3.7344</td>\n",
       "      <td>&lt;1H OCEAN</td>\n",
       "      <td>low</td>\n",
       "    </tr>\n",
       "    <tr>\n",
       "      <th>10243</th>\n",
       "      <td>-117.86</td>\n",
       "      <td>33.91</td>\n",
       "      <td>16.0</td>\n",
       "      <td>2889.0</td>\n",
       "      <td>423.0</td>\n",
       "      <td>1227.0</td>\n",
       "      <td>401.0</td>\n",
       "      <td>6.4514</td>\n",
       "      <td>&lt;1H OCEAN</td>\n",
       "      <td>high</td>\n",
       "    </tr>\n",
       "    <tr>\n",
       "      <th>...</th>\n",
       "      <td>...</td>\n",
       "      <td>...</td>\n",
       "      <td>...</td>\n",
       "      <td>...</td>\n",
       "      <td>...</td>\n",
       "      <td>...</td>\n",
       "      <td>...</td>\n",
       "      <td>...</td>\n",
       "      <td>...</td>\n",
       "      <td>...</td>\n",
       "    </tr>\n",
       "    <tr>\n",
       "      <th>8677</th>\n",
       "      <td>-118.32</td>\n",
       "      <td>33.88</td>\n",
       "      <td>34.0</td>\n",
       "      <td>1803.0</td>\n",
       "      <td>341.0</td>\n",
       "      <td>947.0</td>\n",
       "      <td>333.0</td>\n",
       "      <td>5.5538</td>\n",
       "      <td>&lt;1H OCEAN</td>\n",
       "      <td>medium</td>\n",
       "    </tr>\n",
       "    <tr>\n",
       "      <th>16536</th>\n",
       "      <td>-121.24</td>\n",
       "      <td>37.79</td>\n",
       "      <td>7.0</td>\n",
       "      <td>5151.0</td>\n",
       "      <td>867.0</td>\n",
       "      <td>2553.0</td>\n",
       "      <td>805.0</td>\n",
       "      <td>4.0750</td>\n",
       "      <td>INLAND</td>\n",
       "      <td>medium</td>\n",
       "    </tr>\n",
       "    <tr>\n",
       "      <th>17460</th>\n",
       "      <td>-119.85</td>\n",
       "      <td>34.40</td>\n",
       "      <td>14.0</td>\n",
       "      <td>2307.0</td>\n",
       "      <td>650.0</td>\n",
       "      <td>5723.0</td>\n",
       "      <td>615.0</td>\n",
       "      <td>2.1652</td>\n",
       "      <td>NEAR OCEAN</td>\n",
       "      <td>low</td>\n",
       "    </tr>\n",
       "    <tr>\n",
       "      <th>7375</th>\n",
       "      <td>-118.22</td>\n",
       "      <td>33.97</td>\n",
       "      <td>47.0</td>\n",
       "      <td>1058.0</td>\n",
       "      <td>295.0</td>\n",
       "      <td>1097.0</td>\n",
       "      <td>274.0</td>\n",
       "      <td>2.8810</td>\n",
       "      <td>&lt;1H OCEAN</td>\n",
       "      <td>low</td>\n",
       "    </tr>\n",
       "    <tr>\n",
       "      <th>12394</th>\n",
       "      <td>-116.37</td>\n",
       "      <td>33.69</td>\n",
       "      <td>7.0</td>\n",
       "      <td>8806.0</td>\n",
       "      <td>1542.0</td>\n",
       "      <td>858.0</td>\n",
       "      <td>448.0</td>\n",
       "      <td>7.8005</td>\n",
       "      <td>INLAND</td>\n",
       "      <td>high</td>\n",
       "    </tr>\n",
       "  </tbody>\n",
       "</table>\n",
       "<p>4128 rows × 10 columns</p>\n",
       "</div>"
      ],
      "text/plain": [
       "       longitude  latitude  housing_median_age  total_rooms  total_bedrooms  \\\n",
       "2983     -119.03     35.34                34.0       2221.0           436.0   \n",
       "17551    -121.86     37.34                29.0       5274.0          1625.0   \n",
       "6341     -117.90     33.97                23.0       7353.0          1255.0   \n",
       "9001     -118.34     33.99                47.0       1107.0           199.0   \n",
       "10243    -117.86     33.91                16.0       2889.0           423.0   \n",
       "...          ...       ...                 ...          ...             ...   \n",
       "8677     -118.32     33.88                34.0       1803.0           341.0   \n",
       "16536    -121.24     37.79                 7.0       5151.0           867.0   \n",
       "17460    -119.85     34.40                14.0       2307.0           650.0   \n",
       "7375     -118.22     33.97                47.0       1058.0           295.0   \n",
       "12394    -116.37     33.69                 7.0       8806.0          1542.0   \n",
       "\n",
       "       population  households  median_income ocean_proximity income_cat  \n",
       "2983       1131.0       408.0         3.0486          INLAND        low  \n",
       "17551      6234.0      1639.0         2.5947       <1H OCEAN        low  \n",
       "6341       4014.0      1124.0         5.4155       <1H OCEAN     medium  \n",
       "9001        437.0       178.0         3.7344       <1H OCEAN        low  \n",
       "10243      1227.0       401.0         6.4514       <1H OCEAN       high  \n",
       "...           ...         ...            ...             ...        ...  \n",
       "8677        947.0       333.0         5.5538       <1H OCEAN     medium  \n",
       "16536      2553.0       805.0         4.0750          INLAND     medium  \n",
       "17460      5723.0       615.0         2.1652      NEAR OCEAN        low  \n",
       "7375       1097.0       274.0         2.8810       <1H OCEAN        low  \n",
       "12394       858.0       448.0         7.8005          INLAND       high  \n",
       "\n",
       "[4128 rows x 10 columns]"
      ]
     },
     "execution_count": 33,
     "metadata": {},
     "output_type": "execute_result"
    }
   ],
   "source": [
    "X_test"
   ]
  },
  {
   "cell_type": "code",
   "execution_count": null,
   "id": "0e63cd3c-6b21-470f-adf0-800071aa73f5",
   "metadata": {},
   "outputs": [],
   "source": []
  },
  {
   "cell_type": "code",
   "execution_count": null,
   "id": "0e2b003b-09e2-4f9c-a03b-e7dc51531e9d",
   "metadata": {},
   "outputs": [],
   "source": []
  },
  {
   "cell_type": "code",
   "execution_count": 34,
   "id": "5ae538a0-61c6-4a14-ad51-c649761cb9e7",
   "metadata": {},
   "outputs": [
    {
     "data": {
      "text/plain": [
       "income_cat\n",
       "low          48.914729\n",
       "medium       27.737403\n",
       "very low     11.904070\n",
       "high          8.100775\n",
       "very high     3.343023\n",
       "Name: count, dtype: float64"
      ]
     },
     "execution_count": 34,
     "metadata": {},
     "output_type": "execute_result"
    }
   ],
   "source": [
    "get_ratio(house, 'income_cat')"
   ]
  },
  {
   "cell_type": "code",
   "execution_count": null,
   "id": "0be03e20-65d9-46a7-a74b-d9e37c0f2433",
   "metadata": {},
   "outputs": [],
   "source": []
  },
  {
   "cell_type": "code",
   "execution_count": null,
   "id": "fc52e0bf-f6ca-4e2e-ba44-a64f86f42a6a",
   "metadata": {},
   "outputs": [],
   "source": []
  },
  {
   "cell_type": "code",
   "execution_count": 35,
   "id": "3052d438-e0ff-455f-9a60-a01b034358c4",
   "metadata": {},
   "outputs": [
    {
     "data": {
      "text/plain": [
       "income_cat\n",
       "low          49.218750\n",
       "medium       27.458818\n",
       "very low     11.979167\n",
       "high          7.969961\n",
       "very high     3.373304\n",
       "Name: count, dtype: float64"
      ]
     },
     "execution_count": 35,
     "metadata": {},
     "output_type": "execute_result"
    }
   ],
   "source": [
    "get_ratio(X_train, 'income_cat')"
   ]
  },
  {
   "cell_type": "code",
   "execution_count": null,
   "id": "418e1a62-cf2f-45b2-ae51-7366a9ebd51e",
   "metadata": {},
   "outputs": [],
   "source": []
  },
  {
   "cell_type": "code",
   "execution_count": 36,
   "id": "375be0c2-aed1-4408-a645-40be2203ef65",
   "metadata": {},
   "outputs": [
    {
     "data": {
      "text/plain": [
       "income_cat\n",
       "low          47.698643\n",
       "medium       28.851744\n",
       "very low     11.603682\n",
       "high          8.624031\n",
       "very high     3.221899\n",
       "Name: count, dtype: float64"
      ]
     },
     "execution_count": 36,
     "metadata": {},
     "output_type": "execute_result"
    }
   ],
   "source": [
    "get_ratio(X_test, 'income_cat')"
   ]
  },
  {
   "cell_type": "code",
   "execution_count": null,
   "id": "36a06f0f-2ea9-4e63-873c-41fe61a0e905",
   "metadata": {},
   "outputs": [],
   "source": []
  },
  {
   "cell_type": "code",
   "execution_count": null,
   "id": "2c33999a-5456-465b-bbd8-2221f64f64c8",
   "metadata": {},
   "outputs": [],
   "source": []
  },
  {
   "cell_type": "code",
   "execution_count": 37,
   "id": "a9a73e17-21b3-44b2-8d56-928fbab3baf9",
   "metadata": {},
   "outputs": [],
   "source": [
    "from sklearn.model_selection import StratifiedShuffleSplit"
   ]
  },
  {
   "cell_type": "code",
   "execution_count": 42,
   "id": "fa67d398-6277-475a-ab83-cc563bad9f35",
   "metadata": {},
   "outputs": [],
   "source": [
    "X = house.drop(['median_house_value'], axis=1)\n",
    "y = house.median_house_value"
   ]
  },
  {
   "cell_type": "code",
   "execution_count": 39,
   "id": "72597174-056c-4b30-b20a-cc4d5ca40442",
   "metadata": {},
   "outputs": [
    {
     "data": {
      "text/plain": [
       "StratifiedShuffleSplit(n_splits=5, random_state=123, test_size=0.2,\n",
       "            train_size=None)"
      ]
     },
     "execution_count": 39,
     "metadata": {},
     "output_type": "execute_result"
    }
   ],
   "source": [
    "split = StratifiedShuffleSplit(n_splits=5, test_size=0.2, random_state=123)\n",
    "split"
   ]
  },
  {
   "cell_type": "code",
   "execution_count": 40,
   "id": "92d7492a-905a-4136-8ff2-5046107cdc3b",
   "metadata": {},
   "outputs": [
    {
     "name": "stdout",
     "output_type": "stream",
     "text": [
      "['__abstractmethods__', '__class__', '__delattr__', '__dict__', '__dir__', '__doc__', '__eq__', '__format__', '__ge__', '__getattribute__', '__getstate__', '__gt__', '__hash__', '__init__', '__init_subclass__', '__le__', '__lt__', '__module__', '__ne__', '__new__', '__reduce__', '__reduce_ex__', '__repr__', '__setattr__', '__sizeof__', '__str__', '__subclasshook__', '__weakref__', '_abc_impl', '_default_test_size', '_iter_indices', 'get_n_splits', 'n_splits', 'random_state', 'split', 'test_size', 'train_size']\n"
     ]
    }
   ],
   "source": [
    "print(dir(split))"
   ]
  },
  {
   "cell_type": "code",
   "execution_count": null,
   "id": "bdb28c44-d106-417b-af7b-c8967bac9d89",
   "metadata": {},
   "outputs": [],
   "source": []
  },
  {
   "cell_type": "code",
   "execution_count": 46,
   "id": "ba8031f9-b43f-48d4-aeb8-da0e6c39ee0d",
   "metadata": {},
   "outputs": [
    {
     "name": "stdout",
     "output_type": "stream",
     "text": [
      "Split-1: (array([ 5015,  3769,  4895, ...,  5040, 15540, 16420], dtype=int64), array([15606,  1721, 10372, ..., 17953,  4683, 20144], dtype=int64))\n",
      "\n",
      "Split-2: (array([ 3239,  6480,  1242, ...,  5607,  6186, 15453], dtype=int64), array([20638, 19583, 15351, ..., 10120, 17973,  8380], dtype=int64))\n",
      "\n",
      "Split-3: (array([17201,  9158, 18204, ..., 16694,  4065,  7006], dtype=int64), array([12059,   452, 12482, ...,  3445, 20047, 10784], dtype=int64))\n",
      "\n",
      "Split-4: (array([12213, 15033, 13893, ...,  3346,  9067,  9779], dtype=int64), array([18842, 20635,   232, ...,  6419, 20335, 19781], dtype=int64))\n",
      "\n",
      "Split-5: (array([20012, 19870,  8754, ...,  4096,  1904, 13255], dtype=int64), array([ 7009,  5307, 15015, ...,  7692,  8119,  7242], dtype=int64))\n",
      "\n"
     ]
    }
   ],
   "source": [
    "c = 1\n",
    "for i in split.split(X, X['ocean_proximity']):\n",
    "    print(f\"Split-{c}: {i}\")\n",
    "    print()\n",
    "    c += 1"
   ]
  },
  {
   "cell_type": "code",
   "execution_count": null,
   "id": "dbd25810-9ac4-40e6-a23d-7b2ca60d4542",
   "metadata": {},
   "outputs": [],
   "source": []
  },
  {
   "cell_type": "code",
   "execution_count": null,
   "id": "6f839f70-f0d8-4cb8-9909-fcbbb4a431cb",
   "metadata": {},
   "outputs": [],
   "source": []
  },
  {
   "cell_type": "code",
   "execution_count": 47,
   "id": "f1d21a40-e910-465b-a416-b4c543d63a00",
   "metadata": {},
   "outputs": [
    {
     "data": {
      "text/plain": [
       "StratifiedShuffleSplit(n_splits=1, random_state=123, test_size=0.2,\n",
       "            train_size=None)"
      ]
     },
     "execution_count": 47,
     "metadata": {},
     "output_type": "execute_result"
    }
   ],
   "source": [
    "split = StratifiedShuffleSplit(n_splits=1, test_size=0.2, random_state=123)\n",
    "split"
   ]
  },
  {
   "cell_type": "code",
   "execution_count": null,
   "id": "a997ad98-0285-4f1d-bc9d-06d0aeeff065",
   "metadata": {},
   "outputs": [],
   "source": []
  },
  {
   "cell_type": "code",
   "execution_count": 49,
   "id": "4c358c90-59c4-4276-940c-e81eb2512ad7",
   "metadata": {},
   "outputs": [
    {
     "name": "stdout",
     "output_type": "stream",
     "text": [
      "(array([ 5015,  3769,  4895, ...,  5040, 15540, 16420], dtype=int64), array([15606,  1721, 10372, ..., 17953,  4683, 20144], dtype=int64))\n"
     ]
    }
   ],
   "source": [
    "for i in split.split(X, X['ocean_proximity']):\n",
    "    print(i)"
   ]
  },
  {
   "cell_type": "code",
   "execution_count": null,
   "id": "7ca2bee2-e6a6-4ce1-b9e2-037d73ced3bd",
   "metadata": {},
   "outputs": [],
   "source": []
  },
  {
   "cell_type": "code",
   "execution_count": 50,
   "id": "2f3a606d-517b-45c3-949d-484016ed4f7c",
   "metadata": {},
   "outputs": [
    {
     "name": "stdout",
     "output_type": "stream",
     "text": [
      "[ 5015  3769  4895 ...  5040 15540 16420]\n",
      "\n",
      "[15606  1721 10372 ... 17953  4683 20144]\n"
     ]
    }
   ],
   "source": [
    "for train_idx, test_idx in split.split(X, X['ocean_proximity']):\n",
    "    print(train_idx)\n",
    "    print()\n",
    "    print(test_idx)"
   ]
  },
  {
   "cell_type": "code",
   "execution_count": 52,
   "id": "2b3ddb62-7879-4c0d-9f24-2dd7511cfc96",
   "metadata": {},
   "outputs": [
    {
     "data": {
      "text/plain": [
       "<generator object BaseShuffleSplit.split at 0x00000296CEC3CE40>"
      ]
     },
     "execution_count": 52,
     "metadata": {},
     "output_type": "execute_result"
    }
   ],
   "source": [
    "split.split(X, X['ocean_proximity'])"
   ]
  },
  {
   "cell_type": "code",
   "execution_count": null,
   "id": "691526bc-939b-45c1-b844-05d5d3073b0c",
   "metadata": {},
   "outputs": [],
   "source": []
  },
  {
   "cell_type": "code",
   "execution_count": 51,
   "id": "44539276-fa19-43fe-9154-a1fdbfde9028",
   "metadata": {},
   "outputs": [
    {
     "ename": "ValueError",
     "evalue": "not enough values to unpack (expected 2, got 1)",
     "output_type": "error",
     "traceback": [
      "\u001b[1;31m---------------------------------------------------------------------------\u001b[0m",
      "\u001b[1;31mValueError\u001b[0m                                Traceback (most recent call last)",
      "Cell \u001b[1;32mIn[51], line 1\u001b[0m\n\u001b[1;32m----> 1\u001b[0m train_idx, test_idx \u001b[38;5;241m=\u001b[39m split\u001b[38;5;241m.\u001b[39msplit(X, X[\u001b[38;5;124m'\u001b[39m\u001b[38;5;124mocean_proximity\u001b[39m\u001b[38;5;124m'\u001b[39m])\n",
      "\u001b[1;31mValueError\u001b[0m: not enough values to unpack (expected 2, got 1)"
     ]
    }
   ],
   "source": [
    "train_idx, test_idx = split.split(X, X['ocean_proximity'])"
   ]
  },
  {
   "cell_type": "code",
   "execution_count": null,
   "id": "e2f30a00-3f83-4881-991b-a5a43a81cdb4",
   "metadata": {},
   "outputs": [],
   "source": []
  },
  {
   "cell_type": "code",
   "execution_count": 53,
   "id": "addc1a55-a904-4920-bd1e-679785c51cc9",
   "metadata": {},
   "outputs": [],
   "source": [
    "(train_idx, test_idx), = split.split(X, X['ocean_proximity'])"
   ]
  },
  {
   "cell_type": "code",
   "execution_count": 54,
   "id": "291f715b-9f18-464e-b28c-a906e1cfb0d3",
   "metadata": {},
   "outputs": [
    {
     "data": {
      "text/plain": [
       "array([ 5015,  3769,  4895, ...,  5040, 15540, 16420], dtype=int64)"
      ]
     },
     "execution_count": 54,
     "metadata": {},
     "output_type": "execute_result"
    }
   ],
   "source": [
    "train_idx"
   ]
  },
  {
   "cell_type": "code",
   "execution_count": 55,
   "id": "3383196b-b883-497e-a9f5-683bd45f2911",
   "metadata": {},
   "outputs": [
    {
     "data": {
      "text/plain": [
       "array([15606,  1721, 10372, ..., 17953,  4683, 20144], dtype=int64)"
      ]
     },
     "execution_count": 55,
     "metadata": {},
     "output_type": "execute_result"
    }
   ],
   "source": [
    "test_idx"
   ]
  },
  {
   "cell_type": "code",
   "execution_count": null,
   "id": "f021f83d-87c0-48cb-9523-6de19faf1531",
   "metadata": {},
   "outputs": [],
   "source": []
  },
  {
   "cell_type": "code",
   "execution_count": 56,
   "id": "c34e29b2-8504-49b8-88ee-e873c06b295f",
   "metadata": {},
   "outputs": [],
   "source": [
    "X_train = X.iloc[train_idx]\n",
    "X_test = X.iloc[test_idx]\n",
    "y_train = y.iloc[train_idx]\n",
    "y_test = y.iloc[test_idx]"
   ]
  },
  {
   "cell_type": "code",
   "execution_count": null,
   "id": "f3a31314-21e6-45b8-814b-cc504efc1e8a",
   "metadata": {},
   "outputs": [],
   "source": []
  },
  {
   "cell_type": "code",
   "execution_count": 57,
   "id": "150bb429-cf96-4d50-8dd1-f11885cd7d8f",
   "metadata": {},
   "outputs": [
    {
     "data": {
      "text/html": [
       "<div>\n",
       "<style scoped>\n",
       "    .dataframe tbody tr th:only-of-type {\n",
       "        vertical-align: middle;\n",
       "    }\n",
       "\n",
       "    .dataframe tbody tr th {\n",
       "        vertical-align: top;\n",
       "    }\n",
       "\n",
       "    .dataframe thead th {\n",
       "        text-align: right;\n",
       "    }\n",
       "</style>\n",
       "<table border=\"1\" class=\"dataframe\">\n",
       "  <thead>\n",
       "    <tr style=\"text-align: right;\">\n",
       "      <th></th>\n",
       "      <th>longitude</th>\n",
       "      <th>latitude</th>\n",
       "      <th>housing_median_age</th>\n",
       "      <th>total_rooms</th>\n",
       "      <th>total_bedrooms</th>\n",
       "      <th>population</th>\n",
       "      <th>households</th>\n",
       "      <th>median_income</th>\n",
       "      <th>ocean_proximity</th>\n",
       "      <th>income_cat</th>\n",
       "    </tr>\n",
       "  </thead>\n",
       "  <tbody>\n",
       "    <tr>\n",
       "      <th>5015</th>\n",
       "      <td>-118.32</td>\n",
       "      <td>34.00</td>\n",
       "      <td>50.0</td>\n",
       "      <td>2189.0</td>\n",
       "      <td>460.0</td>\n",
       "      <td>1097.0</td>\n",
       "      <td>469.0</td>\n",
       "      <td>2.4583</td>\n",
       "      <td>&lt;1H OCEAN</td>\n",
       "      <td>low</td>\n",
       "    </tr>\n",
       "    <tr>\n",
       "      <th>3769</th>\n",
       "      <td>-118.43</td>\n",
       "      <td>34.16</td>\n",
       "      <td>34.0</td>\n",
       "      <td>2459.0</td>\n",
       "      <td>489.0</td>\n",
       "      <td>1139.0</td>\n",
       "      <td>463.0</td>\n",
       "      <td>4.0347</td>\n",
       "      <td>&lt;1H OCEAN</td>\n",
       "      <td>medium</td>\n",
       "    </tr>\n",
       "    <tr>\n",
       "      <th>4895</th>\n",
       "      <td>-118.24</td>\n",
       "      <td>34.01</td>\n",
       "      <td>48.0</td>\n",
       "      <td>396.0</td>\n",
       "      <td>99.0</td>\n",
       "      <td>485.0</td>\n",
       "      <td>110.0</td>\n",
       "      <td>2.3750</td>\n",
       "      <td>&lt;1H OCEAN</td>\n",
       "      <td>low</td>\n",
       "    </tr>\n",
       "    <tr>\n",
       "      <th>7963</th>\n",
       "      <td>-118.19</td>\n",
       "      <td>33.86</td>\n",
       "      <td>42.0</td>\n",
       "      <td>1999.0</td>\n",
       "      <td>431.0</td>\n",
       "      <td>1060.0</td>\n",
       "      <td>399.0</td>\n",
       "      <td>3.7031</td>\n",
       "      <td>&lt;1H OCEAN</td>\n",
       "      <td>low</td>\n",
       "    </tr>\n",
       "    <tr>\n",
       "      <th>19675</th>\n",
       "      <td>-121.62</td>\n",
       "      <td>39.16</td>\n",
       "      <td>7.0</td>\n",
       "      <td>4480.0</td>\n",
       "      <td>776.0</td>\n",
       "      <td>2271.0</td>\n",
       "      <td>767.0</td>\n",
       "      <td>3.8090</td>\n",
       "      <td>INLAND</td>\n",
       "      <td>low</td>\n",
       "    </tr>\n",
       "  </tbody>\n",
       "</table>\n",
       "</div>"
      ],
      "text/plain": [
       "       longitude  latitude  housing_median_age  total_rooms  total_bedrooms  \\\n",
       "5015     -118.32     34.00                50.0       2189.0           460.0   \n",
       "3769     -118.43     34.16                34.0       2459.0           489.0   \n",
       "4895     -118.24     34.01                48.0        396.0            99.0   \n",
       "7963     -118.19     33.86                42.0       1999.0           431.0   \n",
       "19675    -121.62     39.16                 7.0       4480.0           776.0   \n",
       "\n",
       "       population  households  median_income ocean_proximity income_cat  \n",
       "5015       1097.0       469.0         2.4583       <1H OCEAN        low  \n",
       "3769       1139.0       463.0         4.0347       <1H OCEAN     medium  \n",
       "4895        485.0       110.0         2.3750       <1H OCEAN        low  \n",
       "7963       1060.0       399.0         3.7031       <1H OCEAN        low  \n",
       "19675      2271.0       767.0         3.8090          INLAND        low  "
      ]
     },
     "execution_count": 57,
     "metadata": {},
     "output_type": "execute_result"
    }
   ],
   "source": [
    "X_train.head()"
   ]
  },
  {
   "cell_type": "code",
   "execution_count": null,
   "id": "0fd8e3e7-b80e-481a-bb68-abbe8899320a",
   "metadata": {},
   "outputs": [],
   "source": []
  },
  {
   "cell_type": "code",
   "execution_count": 58,
   "id": "bbd44553-dd5f-4a24-bd6f-8ad1f8c9c38f",
   "metadata": {},
   "outputs": [
    {
     "data": {
      "text/html": [
       "<div>\n",
       "<style scoped>\n",
       "    .dataframe tbody tr th:only-of-type {\n",
       "        vertical-align: middle;\n",
       "    }\n",
       "\n",
       "    .dataframe tbody tr th {\n",
       "        vertical-align: top;\n",
       "    }\n",
       "\n",
       "    .dataframe thead th {\n",
       "        text-align: right;\n",
       "    }\n",
       "</style>\n",
       "<table border=\"1\" class=\"dataframe\">\n",
       "  <thead>\n",
       "    <tr style=\"text-align: right;\">\n",
       "      <th></th>\n",
       "      <th>longitude</th>\n",
       "      <th>latitude</th>\n",
       "      <th>housing_median_age</th>\n",
       "      <th>total_rooms</th>\n",
       "      <th>total_bedrooms</th>\n",
       "      <th>population</th>\n",
       "      <th>households</th>\n",
       "      <th>median_income</th>\n",
       "      <th>ocean_proximity</th>\n",
       "      <th>income_cat</th>\n",
       "    </tr>\n",
       "  </thead>\n",
       "  <tbody>\n",
       "    <tr>\n",
       "      <th>15606</th>\n",
       "      <td>-116.62</td>\n",
       "      <td>32.86</td>\n",
       "      <td>18.0</td>\n",
       "      <td>4115.0</td>\n",
       "      <td>847.0</td>\n",
       "      <td>2032.0</td>\n",
       "      <td>745.0</td>\n",
       "      <td>4.0159</td>\n",
       "      <td>&lt;1H OCEAN</td>\n",
       "      <td>medium</td>\n",
       "    </tr>\n",
       "    <tr>\n",
       "      <th>1721</th>\n",
       "      <td>-122.39</td>\n",
       "      <td>38.00</td>\n",
       "      <td>33.0</td>\n",
       "      <td>44.0</td>\n",
       "      <td>6.0</td>\n",
       "      <td>23.0</td>\n",
       "      <td>11.0</td>\n",
       "      <td>4.1250</td>\n",
       "      <td>NEAR BAY</td>\n",
       "      <td>medium</td>\n",
       "    </tr>\n",
       "    <tr>\n",
       "      <th>10372</th>\n",
       "      <td>-117.65</td>\n",
       "      <td>33.63</td>\n",
       "      <td>16.0</td>\n",
       "      <td>3388.0</td>\n",
       "      <td>425.0</td>\n",
       "      <td>1395.0</td>\n",
       "      <td>427.0</td>\n",
       "      <td>8.4471</td>\n",
       "      <td>&lt;1H OCEAN</td>\n",
       "      <td>very high</td>\n",
       "    </tr>\n",
       "    <tr>\n",
       "      <th>2949</th>\n",
       "      <td>-119.00</td>\n",
       "      <td>35.35</td>\n",
       "      <td>31.0</td>\n",
       "      <td>2931.0</td>\n",
       "      <td>716.0</td>\n",
       "      <td>1969.0</td>\n",
       "      <td>588.0</td>\n",
       "      <td>2.2155</td>\n",
       "      <td>INLAND</td>\n",
       "      <td>low</td>\n",
       "    </tr>\n",
       "    <tr>\n",
       "      <th>11342</th>\n",
       "      <td>-117.93</td>\n",
       "      <td>33.76</td>\n",
       "      <td>17.0</td>\n",
       "      <td>3341.0</td>\n",
       "      <td>803.0</td>\n",
       "      <td>3381.0</td>\n",
       "      <td>825.0</td>\n",
       "      <td>3.3710</td>\n",
       "      <td>&lt;1H OCEAN</td>\n",
       "      <td>low</td>\n",
       "    </tr>\n",
       "  </tbody>\n",
       "</table>\n",
       "</div>"
      ],
      "text/plain": [
       "       longitude  latitude  housing_median_age  total_rooms  total_bedrooms  \\\n",
       "15606    -116.62     32.86                18.0       4115.0           847.0   \n",
       "1721     -122.39     38.00                33.0         44.0             6.0   \n",
       "10372    -117.65     33.63                16.0       3388.0           425.0   \n",
       "2949     -119.00     35.35                31.0       2931.0           716.0   \n",
       "11342    -117.93     33.76                17.0       3341.0           803.0   \n",
       "\n",
       "       population  households  median_income ocean_proximity income_cat  \n",
       "15606      2032.0       745.0         4.0159       <1H OCEAN     medium  \n",
       "1721         23.0        11.0         4.1250        NEAR BAY     medium  \n",
       "10372      1395.0       427.0         8.4471       <1H OCEAN  very high  \n",
       "2949       1969.0       588.0         2.2155          INLAND        low  \n",
       "11342      3381.0       825.0         3.3710       <1H OCEAN        low  "
      ]
     },
     "execution_count": 58,
     "metadata": {},
     "output_type": "execute_result"
    }
   ],
   "source": [
    "X_test.head()"
   ]
  },
  {
   "cell_type": "code",
   "execution_count": null,
   "id": "d2b3a6dd-b9f1-447b-a738-164502417b0e",
   "metadata": {},
   "outputs": [],
   "source": []
  },
  {
   "cell_type": "code",
   "execution_count": 59,
   "id": "9fc3345b-eff3-4c6d-a9e2-26489c6f85ec",
   "metadata": {},
   "outputs": [
    {
     "data": {
      "text/plain": [
       "ocean_proximity\n",
       "<1H OCEAN     44.263566\n",
       "INLAND        31.739341\n",
       "NEAR OCEAN    12.877907\n",
       "NEAR BAY      11.094961\n",
       "ISLAND         0.024225\n",
       "Name: count, dtype: float64"
      ]
     },
     "execution_count": 59,
     "metadata": {},
     "output_type": "execute_result"
    }
   ],
   "source": [
    "get_ratio(X, 'ocean_proximity')"
   ]
  },
  {
   "cell_type": "code",
   "execution_count": null,
   "id": "20b9ed84-8a3d-4031-8363-7f508882d0ea",
   "metadata": {},
   "outputs": [],
   "source": []
  },
  {
   "cell_type": "code",
   "execution_count": 60,
   "id": "9559a096-d199-4de7-9fba-499d01dc4b7e",
   "metadata": {},
   "outputs": [
    {
     "data": {
      "text/plain": [
       "ocean_proximity\n",
       "<1H OCEAN     44.264777\n",
       "INLAND        31.740552\n",
       "NEAR OCEAN    12.875484\n",
       "NEAR BAY      11.094961\n",
       "ISLAND         0.024225\n",
       "Name: count, dtype: float64"
      ]
     },
     "execution_count": 60,
     "metadata": {},
     "output_type": "execute_result"
    }
   ],
   "source": [
    "get_ratio(X_train, 'ocean_proximity')\n"
   ]
  },
  {
   "cell_type": "code",
   "execution_count": 61,
   "id": "fd13b61c-27ae-4615-af9e-1347f9bfbb7e",
   "metadata": {},
   "outputs": [
    {
     "data": {
      "text/plain": [
       "ocean_proximity\n",
       "<1H OCEAN     44.258721\n",
       "INLAND        31.734496\n",
       "NEAR OCEAN    12.887597\n",
       "NEAR BAY      11.094961\n",
       "ISLAND         0.024225\n",
       "Name: count, dtype: float64"
      ]
     },
     "execution_count": 61,
     "metadata": {},
     "output_type": "execute_result"
    }
   ],
   "source": [
    "get_ratio(X_test, 'ocean_proximity')\n"
   ]
  },
  {
   "cell_type": "code",
   "execution_count": null,
   "id": "04ab68f5-67b0-4408-a175-f4752bfeb212",
   "metadata": {},
   "outputs": [],
   "source": []
  },
  {
   "cell_type": "code",
   "execution_count": null,
   "id": "32a92c35-9cdf-4c8b-9147-d289c267ba02",
   "metadata": {},
   "outputs": [],
   "source": []
  },
  {
   "cell_type": "code",
   "execution_count": null,
   "id": "c04b8256-86ab-4291-8bda-66105dea8eef",
   "metadata": {},
   "outputs": [],
   "source": []
  },
  {
   "cell_type": "code",
   "execution_count": null,
   "id": "8cfd0a6f-394c-4dab-8c48-b7c3d1524fc7",
   "metadata": {},
   "outputs": [],
   "source": []
  },
  {
   "cell_type": "code",
   "execution_count": null,
   "id": "e00a417e-531a-403d-9948-5b9a8b7b7f16",
   "metadata": {},
   "outputs": [],
   "source": [
    "def stratified_sampling()"
   ]
  },
  {
   "cell_type": "code",
   "execution_count": null,
   "id": "49999b03-1167-4b75-bad3-c4cbd096d338",
   "metadata": {},
   "outputs": [],
   "source": []
  },
  {
   "cell_type": "code",
   "execution_count": 63,
   "id": "53a7131f-c0f3-4882-801c-94bc6059b275",
   "metadata": {},
   "outputs": [
    {
     "data": {
      "text/plain": [
       "array([[-118.32, 34.0, 50.0, ..., 2.4583, '<1H OCEAN', 'low'],\n",
       "       [-118.43, 34.16, 34.0, ..., 4.0347, '<1H OCEAN', 'medium'],\n",
       "       [-118.24, 34.01, 48.0, ..., 2.375, '<1H OCEAN', 'low'],\n",
       "       ...,\n",
       "       [-118.32, 33.98, 44.0, ..., 2.2396, '<1H OCEAN', 'low'],\n",
       "       [-117.14, 33.07, 12.0, ..., 4.3513, '<1H OCEAN', 'medium'],\n",
       "       [-121.29, 37.89, 26.0, ..., 5.7485, 'INLAND', 'medium']],\n",
       "      dtype=object)"
      ]
     },
     "execution_count": 63,
     "metadata": {},
     "output_type": "execute_result"
    }
   ],
   "source": [
    "X_train.to_numpy()"
   ]
  },
  {
   "cell_type": "code",
   "execution_count": null,
   "id": "7be7e9e4-c927-4c1f-a1bd-eba0cd32e203",
   "metadata": {},
   "outputs": [],
   "source": []
  },
  {
   "cell_type": "code",
   "execution_count": null,
   "id": "564ec1a7-a579-4c59-ab13-6f44efd85f55",
   "metadata": {},
   "outputs": [],
   "source": []
  }
 ],
 "metadata": {
  "kernelspec": {
   "display_name": "Python 3 (ipykernel)",
   "language": "python",
   "name": "python3"
  },
  "language_info": {
   "codemirror_mode": {
    "name": "ipython",
    "version": 3
   },
   "file_extension": ".py",
   "mimetype": "text/x-python",
   "name": "python",
   "nbconvert_exporter": "python",
   "pygments_lexer": "ipython3",
   "version": "3.11.7"
  }
 },
 "nbformat": 4,
 "nbformat_minor": 5
}
