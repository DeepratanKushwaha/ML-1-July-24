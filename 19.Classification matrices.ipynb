{
 "cells": [
  {
   "cell_type": "markdown",
   "id": "4444c29c-2951-42c2-8341-22f74d0b9e8b",
   "metadata": {},
   "source": [
    "## Classification matrices"
   ]
  },
  {
   "cell_type": "markdown",
   "id": "3d25879c-e963-44a4-a62f-72b96294cdd1",
   "metadata": {},
   "source": [
    "    1. Accuracy Score\n",
    "\n",
    "    2. Confusion Matrix\n",
    "\n",
    "    3. Precision Score\n",
    "\n",
    "    4. Recall Score\n",
    "\n",
    "    5. f1 score\n",
    "\n",
    "    6. PR curve\n",
    "\n",
    "    7. ROC curve\n",
    "\n",
    "    8. Classification Report"
   ]
  },
  {
   "cell_type": "code",
   "execution_count": null,
   "id": "9d0c6f7a-ff37-40af-8f72-c661c595e5b9",
   "metadata": {},
   "outputs": [],
   "source": []
  },
  {
   "cell_type": "code",
   "execution_count": 1,
   "id": "8c08dfc6-45f8-43ca-888c-311bb551800d",
   "metadata": {},
   "outputs": [],
   "source": [
    "import numpy as np\n",
    "import pandas as pd\n",
    "import matplotlib.pyplot as plt\n",
    "import seaborn as sns"
   ]
  },
  {
   "cell_type": "code",
   "execution_count": null,
   "id": "76f5d189-6a96-48db-919f-a117eb7f63a5",
   "metadata": {},
   "outputs": [],
   "source": []
  },
  {
   "cell_type": "code",
   "execution_count": null,
   "id": "8d93a128-a148-428f-91a6-a3e6ee9c0665",
   "metadata": {},
   "outputs": [],
   "source": []
  },
  {
   "cell_type": "code",
   "execution_count": null,
   "id": "31e03f8c-7065-4d99-9165-6c55b02390a6",
   "metadata": {},
   "outputs": [],
   "source": []
  },
  {
   "cell_type": "code",
   "execution_count": null,
   "id": "2bc44d5e-4578-4615-a678-c25034defa25",
   "metadata": {},
   "outputs": [],
   "source": []
  },
  {
   "cell_type": "code",
   "execution_count": null,
   "id": "43878ff9-1ed0-45a5-9f7f-77ba3ca9f9b6",
   "metadata": {},
   "outputs": [],
   "source": []
  }
 ],
 "metadata": {
  "kernelspec": {
   "display_name": "Python 3 (ipykernel)",
   "language": "python",
   "name": "python3"
  },
  "language_info": {
   "codemirror_mode": {
    "name": "ipython",
    "version": 3
   },
   "file_extension": ".py",
   "mimetype": "text/x-python",
   "name": "python",
   "nbconvert_exporter": "python",
   "pygments_lexer": "ipython3",
   "version": "3.11.7"
  }
 },
 "nbformat": 4,
 "nbformat_minor": 5
}
