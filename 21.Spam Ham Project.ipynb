{
 "cells": [
  {
   "cell_type": "code",
   "execution_count": null,
   "id": "7845e14e-c129-41dd-a4a1-dbe7c1ae31f5",
   "metadata": {},
   "outputs": [],
   "source": []
  },
  {
   "cell_type": "code",
   "execution_count": 2,
   "id": "8dca04d2-f64b-4fe4-b2f5-887d4b4b39c3",
   "metadata": {},
   "outputs": [],
   "source": [
    "corpus = [\n",
    "    \"python is awesome\",\n",
    "    \"hello world\",\n",
    "    \"we are learning python\",\n",
    "    \"we will meet tomorrow\"\n",
    "]"
   ]
  },
  {
   "cell_type": "code",
   "execution_count": null,
   "id": "03085048-c745-46fe-8a75-2dc57ea40772",
   "metadata": {},
   "outputs": [],
   "source": []
  },
  {
   "cell_type": "code",
   "execution_count": 5,
   "id": "c6ebc79d-05c2-4a96-b2fa-42548a02c3af",
   "metadata": {},
   "outputs": [],
   "source": [
    "vocab = []\n",
    "for document in corpus:\n",
    "    for word in document.split():\n",
    "        if word not in vocab:\n",
    "            vocab.append(word)"
   ]
  },
  {
   "cell_type": "code",
   "execution_count": 6,
   "id": "d6dc0460-ee13-414e-abdd-4c187c280c39",
   "metadata": {},
   "outputs": [
    {
     "data": {
      "text/plain": [
       "['python',\n",
       " 'is',\n",
       " 'awesome',\n",
       " 'hello',\n",
       " 'world',\n",
       " 'we',\n",
       " 'are',\n",
       " 'learning',\n",
       " 'will',\n",
       " 'meet',\n",
       " 'tomorrow']"
      ]
     },
     "execution_count": 6,
     "metadata": {},
     "output_type": "execute_result"
    }
   ],
   "source": [
    "vocab"
   ]
  },
  {
   "cell_type": "code",
   "execution_count": null,
   "id": "60153f97-480d-44e6-be05-ad451f027936",
   "metadata": {},
   "outputs": [],
   "source": []
  },
  {
   "cell_type": "markdown",
   "id": "82f2cfa4-d2bf-405a-9e62-d2286b1b282a",
   "metadata": {},
   "source": [
    "    word to vector\n",
    "\n",
    "    vector to word\n",
    "\n",
    "    {'python': 0, 'hello':1}\n",
    "\n",
    "    {0:'python', 1:'hello'}"
   ]
  },
  {
   "cell_type": "code",
   "execution_count": null,
   "id": "19bdc4d1-9e1c-4444-9c2f-f652e0b6904b",
   "metadata": {},
   "outputs": [],
   "source": []
  },
  {
   "cell_type": "code",
   "execution_count": 3,
   "id": "c860bec2-5b99-4bf7-8442-361377f0b0fd",
   "metadata": {},
   "outputs": [
    {
     "data": {
      "text/plain": [
       "['are',\n",
       " 'awesome',\n",
       " 'hello',\n",
       " 'is',\n",
       " 'learning',\n",
       " 'meet',\n",
       " 'python',\n",
       " 'tomorrow',\n",
       " 'we',\n",
       " 'will',\n",
       " 'world']"
      ]
     },
     "execution_count": 3,
     "metadata": {},
     "output_type": "execute_result"
    }
   ],
   "source": [
    "vocab = []\n",
    "for document in corpus:\n",
    "    for word in document.split():\n",
    "        if word not in vocab:\n",
    "            vocab.append(word)\n",
    "vocab.sort()\n",
    "vocab"
   ]
  },
  {
   "cell_type": "code",
   "execution_count": null,
   "id": "1c9aa516-eb6c-44ff-a0c3-3751d7f1542a",
   "metadata": {},
   "outputs": [],
   "source": []
  },
  {
   "cell_type": "code",
   "execution_count": 4,
   "id": "ea1f7c72-2146-4236-83ef-d21b8c73b9d6",
   "metadata": {},
   "outputs": [
    {
     "name": "stdout",
     "output_type": "stream",
     "text": [
      "(0, 'are')\n",
      "(1, 'awesome')\n",
      "(2, 'hello')\n",
      "(3, 'is')\n",
      "(4, 'learning')\n",
      "(5, 'meet')\n",
      "(6, 'python')\n",
      "(7, 'tomorrow')\n",
      "(8, 'we')\n",
      "(9, 'will')\n",
      "(10, 'world')\n"
     ]
    }
   ],
   "source": [
    "for i in enumerate(vocab):\n",
    "    print(i)"
   ]
  },
  {
   "cell_type": "code",
   "execution_count": null,
   "id": "542b48a1-7b3a-4bc2-ba18-433c5a07066d",
   "metadata": {},
   "outputs": [],
   "source": []
  },
  {
   "cell_type": "code",
   "execution_count": 6,
   "id": "108ec9a0-10a2-439d-9783-c72403e9e42f",
   "metadata": {},
   "outputs": [
    {
     "name": "stdout",
     "output_type": "stream",
     "text": [
      "{'are': 0, 'awesome': 1, 'hello': 2, 'is': 3, 'learning': 4, 'meet': 5, 'python': 6, 'tomorrow': 7, 'we': 8, 'will': 9, 'world': 10}\n"
     ]
    }
   ],
   "source": [
    "vocab = []\n",
    "for document in corpus:\n",
    "    for word in document.split():\n",
    "        if word not in vocab:\n",
    "            vocab.append(word)\n",
    "vocab.sort()\n",
    "v = {w:v for v, w in enumerate(vocab)}\n",
    "print(v)"
   ]
  },
  {
   "cell_type": "code",
   "execution_count": null,
   "id": "91eb2e58-e1fa-43eb-b1f6-c3245a80178a",
   "metadata": {},
   "outputs": [],
   "source": []
  },
  {
   "cell_type": "code",
   "execution_count": null,
   "id": "eb6f4dc5-bc7e-448f-b5e8-a5fe6728fc62",
   "metadata": {},
   "outputs": [],
   "source": []
  },
  {
   "cell_type": "code",
   "execution_count": null,
   "id": "744d0a37-3966-4e01-936d-0d1c805bdbfa",
   "metadata": {},
   "outputs": [],
   "source": []
  },
  {
   "cell_type": "code",
   "execution_count": null,
   "id": "157f23ce-7d31-4fa1-9754-2a2123c09260",
   "metadata": {},
   "outputs": [],
   "source": []
  },
  {
   "cell_type": "code",
   "execution_count": null,
   "id": "f940fb08-c50d-44a0-9ba3-e548519ba604",
   "metadata": {},
   "outputs": [],
   "source": []
  },
  {
   "cell_type": "code",
   "execution_count": null,
   "id": "973ddfbd-1bf3-44ae-a3d5-1e27838e6380",
   "metadata": {},
   "outputs": [],
   "source": []
  },
  {
   "cell_type": "code",
   "execution_count": null,
   "id": "4e709ab3-e27a-4a60-96cd-400a3a64cb6f",
   "metadata": {},
   "outputs": [],
   "source": []
  },
  {
   "cell_type": "code",
   "execution_count": null,
   "id": "800f8d06-8d94-4bbd-b212-72c4109d1ae9",
   "metadata": {},
   "outputs": [],
   "source": []
  },
  {
   "cell_type": "code",
   "execution_count": null,
   "id": "daafdde1-1b66-4afe-a207-bcb944358787",
   "metadata": {},
   "outputs": [],
   "source": []
  }
 ],
 "metadata": {
  "kernelspec": {
   "display_name": "Python 3 (ipykernel)",
   "language": "python",
   "name": "python3"
  },
  "language_info": {
   "codemirror_mode": {
    "name": "ipython",
    "version": 3
   },
   "file_extension": ".py",
   "mimetype": "text/x-python",
   "name": "python",
   "nbconvert_exporter": "python",
   "pygments_lexer": "ipython3",
   "version": "3.11.7"
  }
 },
 "nbformat": 4,
 "nbformat_minor": 5
}
