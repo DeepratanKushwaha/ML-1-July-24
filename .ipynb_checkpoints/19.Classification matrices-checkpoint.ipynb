{
 "cells": [
  {
   "cell_type": "markdown",
   "id": "4444c29c-2951-42c2-8341-22f74d0b9e8b",
   "metadata": {},
   "source": [
    "## Classification matrices"
   ]
  },
  {
   "cell_type": "markdown",
   "id": "3d25879c-e963-44a4-a62f-72b96294cdd1",
   "metadata": {},
   "source": [
    "    1. Accuracy Score\n",
    "\n",
    "    2. Confusion Matrix\n",
    "\n",
    "    3. Precision Score\n",
    "\n",
    "    4. Recall Score\n",
    "\n",
    "    5. f1 score\n",
    "\n",
    "    6. PR curve\n",
    "\n",
    "    7. ROC curve\n",
    "\n",
    "    8. Classification Report"
   ]
  },
  {
   "cell_type": "code",
   "execution_count": null,
   "id": "9d0c6f7a-ff37-40af-8f72-c661c595e5b9",
   "metadata": {},
   "outputs": [],
   "source": []
  },
  {
   "cell_type": "code",
   "execution_count": 1,
   "id": "8c08dfc6-45f8-43ca-888c-311bb551800d",
   "metadata": {},
   "outputs": [],
   "source": [
    "import numpy as np\n",
    "import pandas as pd\n",
    "import matplotlib.pyplot as plt\n",
    "import seaborn as sns"
   ]
  },
  {
   "cell_type": "code",
   "execution_count": null,
   "id": "76f5d189-6a96-48db-919f-a117eb7f63a5",
   "metadata": {},
   "outputs": [],
   "source": []
  },
  {
   "cell_type": "code",
   "execution_count": 2,
   "id": "88d12813-285e-4c8f-8384-fe793676a9f9",
   "metadata": {},
   "outputs": [
    {
     "data": {
      "text/html": [
       "<div>\n",
       "<style scoped>\n",
       "    .dataframe tbody tr th:only-of-type {\n",
       "        vertical-align: middle;\n",
       "    }\n",
       "\n",
       "    .dataframe tbody tr th {\n",
       "        vertical-align: top;\n",
       "    }\n",
       "\n",
       "    .dataframe thead th {\n",
       "        text-align: right;\n",
       "    }\n",
       "</style>\n",
       "<table border=\"1\" class=\"dataframe\">\n",
       "  <thead>\n",
       "    <tr style=\"text-align: right;\">\n",
       "      <th></th>\n",
       "      <th>sepal_length</th>\n",
       "      <th>sepal_width</th>\n",
       "      <th>petal_length</th>\n",
       "      <th>petal_width</th>\n",
       "      <th>species</th>\n",
       "    </tr>\n",
       "  </thead>\n",
       "  <tbody>\n",
       "    <tr>\n",
       "      <th>0</th>\n",
       "      <td>5.1</td>\n",
       "      <td>3.5</td>\n",
       "      <td>1.4</td>\n",
       "      <td>0.2</td>\n",
       "      <td>setosa</td>\n",
       "    </tr>\n",
       "    <tr>\n",
       "      <th>1</th>\n",
       "      <td>4.9</td>\n",
       "      <td>3.0</td>\n",
       "      <td>1.4</td>\n",
       "      <td>0.2</td>\n",
       "      <td>setosa</td>\n",
       "    </tr>\n",
       "    <tr>\n",
       "      <th>2</th>\n",
       "      <td>4.7</td>\n",
       "      <td>3.2</td>\n",
       "      <td>1.3</td>\n",
       "      <td>0.2</td>\n",
       "      <td>setosa</td>\n",
       "    </tr>\n",
       "    <tr>\n",
       "      <th>3</th>\n",
       "      <td>4.6</td>\n",
       "      <td>3.1</td>\n",
       "      <td>1.5</td>\n",
       "      <td>0.2</td>\n",
       "      <td>setosa</td>\n",
       "    </tr>\n",
       "    <tr>\n",
       "      <th>4</th>\n",
       "      <td>5.0</td>\n",
       "      <td>3.6</td>\n",
       "      <td>1.4</td>\n",
       "      <td>0.2</td>\n",
       "      <td>setosa</td>\n",
       "    </tr>\n",
       "    <tr>\n",
       "      <th>...</th>\n",
       "      <td>...</td>\n",
       "      <td>...</td>\n",
       "      <td>...</td>\n",
       "      <td>...</td>\n",
       "      <td>...</td>\n",
       "    </tr>\n",
       "    <tr>\n",
       "      <th>145</th>\n",
       "      <td>6.7</td>\n",
       "      <td>3.0</td>\n",
       "      <td>5.2</td>\n",
       "      <td>2.3</td>\n",
       "      <td>virginica</td>\n",
       "    </tr>\n",
       "    <tr>\n",
       "      <th>146</th>\n",
       "      <td>6.3</td>\n",
       "      <td>2.5</td>\n",
       "      <td>5.0</td>\n",
       "      <td>1.9</td>\n",
       "      <td>virginica</td>\n",
       "    </tr>\n",
       "    <tr>\n",
       "      <th>147</th>\n",
       "      <td>6.5</td>\n",
       "      <td>3.0</td>\n",
       "      <td>5.2</td>\n",
       "      <td>2.0</td>\n",
       "      <td>virginica</td>\n",
       "    </tr>\n",
       "    <tr>\n",
       "      <th>148</th>\n",
       "      <td>6.2</td>\n",
       "      <td>3.4</td>\n",
       "      <td>5.4</td>\n",
       "      <td>2.3</td>\n",
       "      <td>virginica</td>\n",
       "    </tr>\n",
       "    <tr>\n",
       "      <th>149</th>\n",
       "      <td>5.9</td>\n",
       "      <td>3.0</td>\n",
       "      <td>5.1</td>\n",
       "      <td>1.8</td>\n",
       "      <td>virginica</td>\n",
       "    </tr>\n",
       "  </tbody>\n",
       "</table>\n",
       "<p>150 rows × 5 columns</p>\n",
       "</div>"
      ],
      "text/plain": [
       "     sepal_length  sepal_width  petal_length  petal_width    species\n",
       "0             5.1          3.5           1.4          0.2     setosa\n",
       "1             4.9          3.0           1.4          0.2     setosa\n",
       "2             4.7          3.2           1.3          0.2     setosa\n",
       "3             4.6          3.1           1.5          0.2     setosa\n",
       "4             5.0          3.6           1.4          0.2     setosa\n",
       "..            ...          ...           ...          ...        ...\n",
       "145           6.7          3.0           5.2          2.3  virginica\n",
       "146           6.3          2.5           5.0          1.9  virginica\n",
       "147           6.5          3.0           5.2          2.0  virginica\n",
       "148           6.2          3.4           5.4          2.3  virginica\n",
       "149           5.9          3.0           5.1          1.8  virginica\n",
       "\n",
       "[150 rows x 5 columns]"
      ]
     },
     "execution_count": 2,
     "metadata": {},
     "output_type": "execute_result"
    }
   ],
   "source": [
    "iris = sns.load_dataset('iris')\n",
    "iris"
   ]
  },
  {
   "cell_type": "code",
   "execution_count": null,
   "id": "b8f78cfe-3cef-4e5d-8ee3-f9af7adf7f06",
   "metadata": {},
   "outputs": [],
   "source": []
  },
  {
   "cell_type": "code",
   "execution_count": null,
   "id": "b3678168-1df6-4a5e-b62b-e27eaee529d3",
   "metadata": {},
   "outputs": [],
   "source": []
  },
  {
   "cell_type": "code",
   "execution_count": 3,
   "id": "da7d712a-daeb-480b-aa64-e68a621776ec",
   "metadata": {},
   "outputs": [],
   "source": [
    "X = iris.drop('species', axis=1)\n",
    "y = iris.species"
   ]
  },
  {
   "cell_type": "code",
   "execution_count": 4,
   "id": "37feb699-d335-4d72-9a0a-19c20bca9d84",
   "metadata": {},
   "outputs": [
    {
     "data": {
      "text/html": [
       "<div>\n",
       "<style scoped>\n",
       "    .dataframe tbody tr th:only-of-type {\n",
       "        vertical-align: middle;\n",
       "    }\n",
       "\n",
       "    .dataframe tbody tr th {\n",
       "        vertical-align: top;\n",
       "    }\n",
       "\n",
       "    .dataframe thead th {\n",
       "        text-align: right;\n",
       "    }\n",
       "</style>\n",
       "<table border=\"1\" class=\"dataframe\">\n",
       "  <thead>\n",
       "    <tr style=\"text-align: right;\">\n",
       "      <th></th>\n",
       "      <th>sepal_length</th>\n",
       "      <th>sepal_width</th>\n",
       "      <th>petal_length</th>\n",
       "      <th>petal_width</th>\n",
       "    </tr>\n",
       "  </thead>\n",
       "  <tbody>\n",
       "    <tr>\n",
       "      <th>0</th>\n",
       "      <td>5.1</td>\n",
       "      <td>3.5</td>\n",
       "      <td>1.4</td>\n",
       "      <td>0.2</td>\n",
       "    </tr>\n",
       "    <tr>\n",
       "      <th>1</th>\n",
       "      <td>4.9</td>\n",
       "      <td>3.0</td>\n",
       "      <td>1.4</td>\n",
       "      <td>0.2</td>\n",
       "    </tr>\n",
       "    <tr>\n",
       "      <th>2</th>\n",
       "      <td>4.7</td>\n",
       "      <td>3.2</td>\n",
       "      <td>1.3</td>\n",
       "      <td>0.2</td>\n",
       "    </tr>\n",
       "    <tr>\n",
       "      <th>3</th>\n",
       "      <td>4.6</td>\n",
       "      <td>3.1</td>\n",
       "      <td>1.5</td>\n",
       "      <td>0.2</td>\n",
       "    </tr>\n",
       "    <tr>\n",
       "      <th>4</th>\n",
       "      <td>5.0</td>\n",
       "      <td>3.6</td>\n",
       "      <td>1.4</td>\n",
       "      <td>0.2</td>\n",
       "    </tr>\n",
       "    <tr>\n",
       "      <th>...</th>\n",
       "      <td>...</td>\n",
       "      <td>...</td>\n",
       "      <td>...</td>\n",
       "      <td>...</td>\n",
       "    </tr>\n",
       "    <tr>\n",
       "      <th>145</th>\n",
       "      <td>6.7</td>\n",
       "      <td>3.0</td>\n",
       "      <td>5.2</td>\n",
       "      <td>2.3</td>\n",
       "    </tr>\n",
       "    <tr>\n",
       "      <th>146</th>\n",
       "      <td>6.3</td>\n",
       "      <td>2.5</td>\n",
       "      <td>5.0</td>\n",
       "      <td>1.9</td>\n",
       "    </tr>\n",
       "    <tr>\n",
       "      <th>147</th>\n",
       "      <td>6.5</td>\n",
       "      <td>3.0</td>\n",
       "      <td>5.2</td>\n",
       "      <td>2.0</td>\n",
       "    </tr>\n",
       "    <tr>\n",
       "      <th>148</th>\n",
       "      <td>6.2</td>\n",
       "      <td>3.4</td>\n",
       "      <td>5.4</td>\n",
       "      <td>2.3</td>\n",
       "    </tr>\n",
       "    <tr>\n",
       "      <th>149</th>\n",
       "      <td>5.9</td>\n",
       "      <td>3.0</td>\n",
       "      <td>5.1</td>\n",
       "      <td>1.8</td>\n",
       "    </tr>\n",
       "  </tbody>\n",
       "</table>\n",
       "<p>150 rows × 4 columns</p>\n",
       "</div>"
      ],
      "text/plain": [
       "     sepal_length  sepal_width  petal_length  petal_width\n",
       "0             5.1          3.5           1.4          0.2\n",
       "1             4.9          3.0           1.4          0.2\n",
       "2             4.7          3.2           1.3          0.2\n",
       "3             4.6          3.1           1.5          0.2\n",
       "4             5.0          3.6           1.4          0.2\n",
       "..            ...          ...           ...          ...\n",
       "145           6.7          3.0           5.2          2.3\n",
       "146           6.3          2.5           5.0          1.9\n",
       "147           6.5          3.0           5.2          2.0\n",
       "148           6.2          3.4           5.4          2.3\n",
       "149           5.9          3.0           5.1          1.8\n",
       "\n",
       "[150 rows x 4 columns]"
      ]
     },
     "execution_count": 4,
     "metadata": {},
     "output_type": "execute_result"
    }
   ],
   "source": [
    "X"
   ]
  },
  {
   "cell_type": "code",
   "execution_count": 5,
   "id": "19db55b1-a17c-4cf2-bdbf-60e24bfaa656",
   "metadata": {},
   "outputs": [
    {
     "data": {
      "text/plain": [
       "0         setosa\n",
       "1         setosa\n",
       "2         setosa\n",
       "3         setosa\n",
       "4         setosa\n",
       "         ...    \n",
       "145    virginica\n",
       "146    virginica\n",
       "147    virginica\n",
       "148    virginica\n",
       "149    virginica\n",
       "Name: species, Length: 150, dtype: object"
      ]
     },
     "execution_count": 5,
     "metadata": {},
     "output_type": "execute_result"
    }
   ],
   "source": [
    "y"
   ]
  },
  {
   "cell_type": "code",
   "execution_count": null,
   "id": "839e08dc-3275-4ee3-8c40-ac8a142fa819",
   "metadata": {},
   "outputs": [],
   "source": []
  },
  {
   "cell_type": "code",
   "execution_count": 6,
   "id": "8865d238-bb39-4923-857e-fe76b3ea5911",
   "metadata": {},
   "outputs": [
    {
     "data": {
      "image/png": "[encoded data removed]",
      "text/plain": [
       "<Figure size 640x480 with 1 Axes>"
      ]
     },
     "metadata": {},
     "output_type": "display_data"
    }
   ],
   "source": [
    "sns.scatterplot(data=iris, x='petal_length', y='petal_width', hue='species')\n",
    "plt.show()"
   ]
  },
  {
   "cell_type": "code",
   "execution_count": null,
   "id": "f7112959-dda4-4250-92f1-c07ee1417d1e",
   "metadata": {},
   "outputs": [],
   "source": []
  },
  {
   "cell_type": "code",
   "execution_count": 7,
   "id": "4d55b615-6b2a-45df-b97c-cd69defa4169",
   "metadata": {},
   "outputs": [
    {
     "data": {
      "text/plain": [
       "array(['setosa', 'versicolor', 'virginica'], dtype=object)"
      ]
     },
     "execution_count": 7,
     "metadata": {},
     "output_type": "execute_result"
    }
   ],
   "source": [
    "y.unique()"
   ]
  },
  {
   "cell_type": "markdown",
   "id": "f872e14a-12d6-4e9f-b656-20fbf6e81d4e",
   "metadata": {},
   "source": [
    "    we have three categories in target y which leads us to multinomial classification\n",
    "\n",
    "    but just for now we are using binary classification\n"
   ]
  },
  {
   "cell_type": "code",
   "execution_count": 8,
   "id": "8d93a128-a148-428f-91a6-a3e6ee9c0665",
   "metadata": {},
   "outputs": [
    {
     "data": {
      "text/plain": [
       "0       True\n",
       "1       True\n",
       "2       True\n",
       "3       True\n",
       "4       True\n",
       "       ...  \n",
       "145    False\n",
       "146    False\n",
       "147    False\n",
       "148    False\n",
       "149    False\n",
       "Name: species, Length: 150, dtype: bool"
      ]
     },
     "execution_count": 8,
     "metadata": {},
     "output_type": "execute_result"
    }
   ],
   "source": [
    "y = y == 'setosa'\n",
    "y"
   ]
  },
  {
   "cell_type": "code",
   "execution_count": null,
   "id": "d8e9f6a5-a2d1-422f-a4a8-c7f0426177b1",
   "metadata": {},
   "outputs": [],
   "source": []
  },
  {
   "cell_type": "code",
   "execution_count": 9,
   "id": "362116d4-07c7-47d7-aa4d-fcd5ecaf1cea",
   "metadata": {},
   "outputs": [
    {
     "data": {
      "image/png": "[encoded data removed]",
      "text/plain": [
       "<Figure size 640x480 with 1 Axes>"
      ]
     },
     "metadata": {},
     "output_type": "display_data"
    }
   ],
   "source": [
    "sns.scatterplot(data=X, x='petal_length', y='petal_width', hue=y)\n",
    "plt.show()"
   ]
  },
  {
   "cell_type": "code",
   "execution_count": null,
   "id": "1b81a57e-fbe2-4c1b-a30b-52fae14d0857",
   "metadata": {},
   "outputs": [],
   "source": []
  },
  {
   "cell_type": "code",
   "execution_count": null,
   "id": "e2416a4b-2537-4826-8da7-f8436e5bca42",
   "metadata": {},
   "outputs": [],
   "source": []
  },
  {
   "cell_type": "code",
   "execution_count": 10,
   "id": "8f0768d2-ada5-418d-a443-113ebbe303ed",
   "metadata": {},
   "outputs": [],
   "source": [
    "from sklearn.linear_model import SGDClassifier, LogisticRegression\n",
    "from sklearn.ensemble import RandomForestClassifier\n",
    "\n",
    "from sklearn.model_selection import StratifiedShuffleSplit"
   ]
  },
  {
   "cell_type": "code",
   "execution_count": 11,
   "id": "c8d4fd1c-91e4-4b99-89cf-6f8140576e2d",
   "metadata": {},
   "outputs": [],
   "source": [
    "def split_data(X, y):\n",
    "    split = StratifiedShuffleSplit(n_splits=1, test_size=0.2, random_state=123)\n",
    "    (train_idx, test_idx), = split.split(X, y)\n",
    "    X_train = X.iloc[train_idx]\n",
    "    X_test = X.iloc[test_idx]\n",
    "    y_train = y.iloc[train_idx]\n",
    "    y_test = y.iloc[test_idx]\n",
    "    return X_train,X_test,y_train,y_test"
   ]
  },
  {
   "cell_type": "code",
   "execution_count": 12,
   "id": "8a39d961-51b2-436a-afbe-ad9353567d6f",
   "metadata": {},
   "outputs": [],
   "source": [
    "X_train,X_test,y_train,y_test = split_data(X, y)"
   ]
  },
  {
   "cell_type": "code",
   "execution_count": 13,
   "id": "ae30ebfb-7940-4a9c-81ca-f91d0b495f48",
   "metadata": {},
   "outputs": [
    {
     "data": {
      "text/html": [
       "<div>\n",
       "<style scoped>\n",
       "    .dataframe tbody tr th:only-of-type {\n",
       "        vertical-align: middle;\n",
       "    }\n",
       "\n",
       "    .dataframe tbody tr th {\n",
       "        vertical-align: top;\n",
       "    }\n",
       "\n",
       "    .dataframe thead th {\n",
       "        text-align: right;\n",
       "    }\n",
       "</style>\n",
       "<table border=\"1\" class=\"dataframe\">\n",
       "  <thead>\n",
       "    <tr style=\"text-align: right;\">\n",
       "      <th></th>\n",
       "      <th>sepal_length</th>\n",
       "      <th>sepal_width</th>\n",
       "      <th>petal_length</th>\n",
       "      <th>petal_width</th>\n",
       "    </tr>\n",
       "  </thead>\n",
       "  <tbody>\n",
       "    <tr>\n",
       "      <th>139</th>\n",
       "      <td>6.9</td>\n",
       "      <td>3.1</td>\n",
       "      <td>5.4</td>\n",
       "      <td>2.1</td>\n",
       "    </tr>\n",
       "    <tr>\n",
       "      <th>81</th>\n",
       "      <td>5.5</td>\n",
       "      <td>2.4</td>\n",
       "      <td>3.7</td>\n",
       "      <td>1.0</td>\n",
       "    </tr>\n",
       "    <tr>\n",
       "      <th>77</th>\n",
       "      <td>6.7</td>\n",
       "      <td>3.0</td>\n",
       "      <td>5.0</td>\n",
       "      <td>1.7</td>\n",
       "    </tr>\n",
       "    <tr>\n",
       "      <th>92</th>\n",
       "      <td>5.8</td>\n",
       "      <td>2.6</td>\n",
       "      <td>4.0</td>\n",
       "      <td>1.2</td>\n",
       "    </tr>\n",
       "    <tr>\n",
       "      <th>76</th>\n",
       "      <td>6.8</td>\n",
       "      <td>2.8</td>\n",
       "      <td>4.8</td>\n",
       "      <td>1.4</td>\n",
       "    </tr>\n",
       "    <tr>\n",
       "      <th>...</th>\n",
       "      <td>...</td>\n",
       "      <td>...</td>\n",
       "      <td>...</td>\n",
       "      <td>...</td>\n",
       "    </tr>\n",
       "    <tr>\n",
       "      <th>78</th>\n",
       "      <td>6.0</td>\n",
       "      <td>2.9</td>\n",
       "      <td>4.5</td>\n",
       "      <td>1.5</td>\n",
       "    </tr>\n",
       "    <tr>\n",
       "      <th>14</th>\n",
       "      <td>5.8</td>\n",
       "      <td>4.0</td>\n",
       "      <td>1.2</td>\n",
       "      <td>0.2</td>\n",
       "    </tr>\n",
       "    <tr>\n",
       "      <th>63</th>\n",
       "      <td>6.1</td>\n",
       "      <td>2.9</td>\n",
       "      <td>4.7</td>\n",
       "      <td>1.4</td>\n",
       "    </tr>\n",
       "    <tr>\n",
       "      <th>11</th>\n",
       "      <td>4.8</td>\n",
       "      <td>3.4</td>\n",
       "      <td>1.6</td>\n",
       "      <td>0.2</td>\n",
       "    </tr>\n",
       "    <tr>\n",
       "      <th>80</th>\n",
       "      <td>5.5</td>\n",
       "      <td>2.4</td>\n",
       "      <td>3.8</td>\n",
       "      <td>1.1</td>\n",
       "    </tr>\n",
       "  </tbody>\n",
       "</table>\n",
       "<p>120 rows × 4 columns</p>\n",
       "</div>"
      ],
      "text/plain": [
       "     sepal_length  sepal_width  petal_length  petal_width\n",
       "139           6.9          3.1           5.4          2.1\n",
       "81            5.5          2.4           3.7          1.0\n",
       "77            6.7          3.0           5.0          1.7\n",
       "92            5.8          2.6           4.0          1.2\n",
       "76            6.8          2.8           4.8          1.4\n",
       "..            ...          ...           ...          ...\n",
       "78            6.0          2.9           4.5          1.5\n",
       "14            5.8          4.0           1.2          0.2\n",
       "63            6.1          2.9           4.7          1.4\n",
       "11            4.8          3.4           1.6          0.2\n",
       "80            5.5          2.4           3.8          1.1\n",
       "\n",
       "[120 rows x 4 columns]"
      ]
     },
     "execution_count": 13,
     "metadata": {},
     "output_type": "execute_result"
    }
   ],
   "source": [
    "X_train"
   ]
  },
  {
   "cell_type": "code",
   "execution_count": 14,
   "id": "1b9c4c9d-b481-402d-b093-43699a8cb2e7",
   "metadata": {},
   "outputs": [
    {
     "data": {
      "text/html": [
       "<div>\n",
       "<style scoped>\n",
       "    .dataframe tbody tr th:only-of-type {\n",
       "        vertical-align: middle;\n",
       "    }\n",
       "\n",
       "    .dataframe tbody tr th {\n",
       "        vertical-align: top;\n",
       "    }\n",
       "\n",
       "    .dataframe thead th {\n",
       "        text-align: right;\n",
       "    }\n",
       "</style>\n",
       "<table border=\"1\" class=\"dataframe\">\n",
       "  <thead>\n",
       "    <tr style=\"text-align: right;\">\n",
       "      <th></th>\n",
       "      <th>sepal_length</th>\n",
       "      <th>sepal_width</th>\n",
       "      <th>petal_length</th>\n",
       "      <th>petal_width</th>\n",
       "    </tr>\n",
       "  </thead>\n",
       "  <tbody>\n",
       "    <tr>\n",
       "      <th>19</th>\n",
       "      <td>5.1</td>\n",
       "      <td>3.8</td>\n",
       "      <td>1.5</td>\n",
       "      <td>0.3</td>\n",
       "    </tr>\n",
       "    <tr>\n",
       "      <th>105</th>\n",
       "      <td>7.6</td>\n",
       "      <td>3.0</td>\n",
       "      <td>6.6</td>\n",
       "      <td>2.1</td>\n",
       "    </tr>\n",
       "    <tr>\n",
       "      <th>82</th>\n",
       "      <td>5.8</td>\n",
       "      <td>2.7</td>\n",
       "      <td>3.9</td>\n",
       "      <td>1.2</td>\n",
       "    </tr>\n",
       "    <tr>\n",
       "      <th>118</th>\n",
       "      <td>7.7</td>\n",
       "      <td>2.6</td>\n",
       "      <td>6.9</td>\n",
       "      <td>2.3</td>\n",
       "    </tr>\n",
       "    <tr>\n",
       "      <th>142</th>\n",
       "      <td>5.8</td>\n",
       "      <td>2.7</td>\n",
       "      <td>5.1</td>\n",
       "      <td>1.9</td>\n",
       "    </tr>\n",
       "    <tr>\n",
       "      <th>75</th>\n",
       "      <td>6.6</td>\n",
       "      <td>3.0</td>\n",
       "      <td>4.4</td>\n",
       "      <td>1.4</td>\n",
       "    </tr>\n",
       "    <tr>\n",
       "      <th>116</th>\n",
       "      <td>6.5</td>\n",
       "      <td>3.0</td>\n",
       "      <td>5.5</td>\n",
       "      <td>1.8</td>\n",
       "    </tr>\n",
       "    <tr>\n",
       "      <th>29</th>\n",
       "      <td>4.7</td>\n",
       "      <td>3.2</td>\n",
       "      <td>1.6</td>\n",
       "      <td>0.2</td>\n",
       "    </tr>\n",
       "    <tr>\n",
       "      <th>0</th>\n",
       "      <td>5.1</td>\n",
       "      <td>3.5</td>\n",
       "      <td>1.4</td>\n",
       "      <td>0.2</td>\n",
       "    </tr>\n",
       "    <tr>\n",
       "      <th>136</th>\n",
       "      <td>6.3</td>\n",
       "      <td>3.4</td>\n",
       "      <td>5.6</td>\n",
       "      <td>2.4</td>\n",
       "    </tr>\n",
       "    <tr>\n",
       "      <th>130</th>\n",
       "      <td>7.4</td>\n",
       "      <td>2.8</td>\n",
       "      <td>6.1</td>\n",
       "      <td>1.9</td>\n",
       "    </tr>\n",
       "    <tr>\n",
       "      <th>123</th>\n",
       "      <td>6.3</td>\n",
       "      <td>2.7</td>\n",
       "      <td>4.9</td>\n",
       "      <td>1.8</td>\n",
       "    </tr>\n",
       "    <tr>\n",
       "      <th>1</th>\n",
       "      <td>4.9</td>\n",
       "      <td>3.0</td>\n",
       "      <td>1.4</td>\n",
       "      <td>0.2</td>\n",
       "    </tr>\n",
       "    <tr>\n",
       "      <th>40</th>\n",
       "      <td>5.0</td>\n",
       "      <td>3.5</td>\n",
       "      <td>1.3</td>\n",
       "      <td>0.3</td>\n",
       "    </tr>\n",
       "    <tr>\n",
       "      <th>133</th>\n",
       "      <td>6.3</td>\n",
       "      <td>2.8</td>\n",
       "      <td>5.1</td>\n",
       "      <td>1.5</td>\n",
       "    </tr>\n",
       "    <tr>\n",
       "      <th>35</th>\n",
       "      <td>5.0</td>\n",
       "      <td>3.2</td>\n",
       "      <td>1.2</td>\n",
       "      <td>0.2</td>\n",
       "    </tr>\n",
       "    <tr>\n",
       "      <th>25</th>\n",
       "      <td>5.0</td>\n",
       "      <td>3.0</td>\n",
       "      <td>1.6</td>\n",
       "      <td>0.2</td>\n",
       "    </tr>\n",
       "    <tr>\n",
       "      <th>52</th>\n",
       "      <td>6.9</td>\n",
       "      <td>3.1</td>\n",
       "      <td>4.9</td>\n",
       "      <td>1.5</td>\n",
       "    </tr>\n",
       "    <tr>\n",
       "      <th>107</th>\n",
       "      <td>7.3</td>\n",
       "      <td>2.9</td>\n",
       "      <td>6.3</td>\n",
       "      <td>1.8</td>\n",
       "    </tr>\n",
       "    <tr>\n",
       "      <th>96</th>\n",
       "      <td>5.7</td>\n",
       "      <td>2.9</td>\n",
       "      <td>4.2</td>\n",
       "      <td>1.3</td>\n",
       "    </tr>\n",
       "    <tr>\n",
       "      <th>97</th>\n",
       "      <td>6.2</td>\n",
       "      <td>2.9</td>\n",
       "      <td>4.3</td>\n",
       "      <td>1.3</td>\n",
       "    </tr>\n",
       "    <tr>\n",
       "      <th>67</th>\n",
       "      <td>5.8</td>\n",
       "      <td>2.7</td>\n",
       "      <td>4.1</td>\n",
       "      <td>1.0</td>\n",
       "    </tr>\n",
       "    <tr>\n",
       "      <th>4</th>\n",
       "      <td>5.0</td>\n",
       "      <td>3.6</td>\n",
       "      <td>1.4</td>\n",
       "      <td>0.2</td>\n",
       "    </tr>\n",
       "    <tr>\n",
       "      <th>146</th>\n",
       "      <td>6.3</td>\n",
       "      <td>2.5</td>\n",
       "      <td>5.0</td>\n",
       "      <td>1.9</td>\n",
       "    </tr>\n",
       "    <tr>\n",
       "      <th>117</th>\n",
       "      <td>7.7</td>\n",
       "      <td>3.8</td>\n",
       "      <td>6.7</td>\n",
       "      <td>2.2</td>\n",
       "    </tr>\n",
       "    <tr>\n",
       "      <th>86</th>\n",
       "      <td>6.7</td>\n",
       "      <td>3.1</td>\n",
       "      <td>4.7</td>\n",
       "      <td>1.5</td>\n",
       "    </tr>\n",
       "    <tr>\n",
       "      <th>15</th>\n",
       "      <td>5.7</td>\n",
       "      <td>4.4</td>\n",
       "      <td>1.5</td>\n",
       "      <td>0.4</td>\n",
       "    </tr>\n",
       "    <tr>\n",
       "      <th>99</th>\n",
       "      <td>5.7</td>\n",
       "      <td>2.8</td>\n",
       "      <td>4.1</td>\n",
       "      <td>1.3</td>\n",
       "    </tr>\n",
       "    <tr>\n",
       "      <th>128</th>\n",
       "      <td>6.4</td>\n",
       "      <td>2.8</td>\n",
       "      <td>5.6</td>\n",
       "      <td>2.1</td>\n",
       "    </tr>\n",
       "    <tr>\n",
       "      <th>45</th>\n",
       "      <td>4.8</td>\n",
       "      <td>3.0</td>\n",
       "      <td>1.4</td>\n",
       "      <td>0.3</td>\n",
       "    </tr>\n",
       "  </tbody>\n",
       "</table>\n",
       "</div>"
      ],
      "text/plain": [
       "     sepal_length  sepal_width  petal_length  petal_width\n",
       "19            5.1          3.8           1.5          0.3\n",
       "105           7.6          3.0           6.6          2.1\n",
       "82            5.8          2.7           3.9          1.2\n",
       "118           7.7          2.6           6.9          2.3\n",
       "142           5.8          2.7           5.1          1.9\n",
       "75            6.6          3.0           4.4          1.4\n",
       "116           6.5          3.0           5.5          1.8\n",
       "29            4.7          3.2           1.6          0.2\n",
       "0             5.1          3.5           1.4          0.2\n",
       "136           6.3          3.4           5.6          2.4\n",
       "130           7.4          2.8           6.1          1.9\n",
       "123           6.3          2.7           4.9          1.8\n",
       "1             4.9          3.0           1.4          0.2\n",
       "40            5.0          3.5           1.3          0.3\n",
       "133           6.3          2.8           5.1          1.5\n",
       "35            5.0          3.2           1.2          0.2\n",
       "25            5.0          3.0           1.6          0.2\n",
       "52            6.9          3.1           4.9          1.5\n",
       "107           7.3          2.9           6.3          1.8\n",
       "96            5.7          2.9           4.2          1.3\n",
       "97            6.2          2.9           4.3          1.3\n",
       "67            5.8          2.7           4.1          1.0\n",
       "4             5.0          3.6           1.4          0.2\n",
       "146           6.3          2.5           5.0          1.9\n",
       "117           7.7          3.8           6.7          2.2\n",
       "86            6.7          3.1           4.7          1.5\n",
       "15            5.7          4.4           1.5          0.4\n",
       "99            5.7          2.8           4.1          1.3\n",
       "128           6.4          2.8           5.6          2.1\n",
       "45            4.8          3.0           1.4          0.3"
      ]
     },
     "execution_count": 14,
     "metadata": {},
     "output_type": "execute_result"
    }
   ],
   "source": [
    "X_test"
   ]
  },
  {
   "cell_type": "code",
   "execution_count": null,
   "id": "3f49b642-72fd-4b56-aa6a-fbb38e590d3a",
   "metadata": {},
   "outputs": [],
   "source": []
  },
  {
   "cell_type": "code",
   "execution_count": 15,
   "id": "5d27104b-cd5c-4298-8c44-2db6ef15d7fd",
   "metadata": {
    "scrolled": true
   },
   "outputs": [
    {
     "data": {
      "text/plain": [
       "139    False\n",
       "81     False\n",
       "77     False\n",
       "92     False\n",
       "76     False\n",
       "       ...  \n",
       "78     False\n",
       "14      True\n",
       "63     False\n",
       "11      True\n",
       "80     False\n",
       "Name: species, Length: 120, dtype: bool"
      ]
     },
     "execution_count": 15,
     "metadata": {},
     "output_type": "execute_result"
    }
   ],
   "source": [
    "y_train"
   ]
  },
  {
   "cell_type": "code",
   "execution_count": 16,
   "id": "3b22d6b1-b68c-4577-bfd0-dcbcdd6593a7",
   "metadata": {
    "scrolled": true
   },
   "outputs": [
    {
     "data": {
      "text/plain": [
       "19      True\n",
       "105    False\n",
       "82     False\n",
       "118    False\n",
       "142    False\n",
       "75     False\n",
       "116    False\n",
       "29      True\n",
       "0       True\n",
       "136    False\n",
       "130    False\n",
       "123    False\n",
       "1       True\n",
       "40      True\n",
       "133    False\n",
       "35      True\n",
       "25      True\n",
       "52     False\n",
       "107    False\n",
       "96     False\n",
       "97     False\n",
       "67     False\n",
       "4       True\n",
       "146    False\n",
       "117    False\n",
       "86     False\n",
       "15      True\n",
       "99     False\n",
       "128    False\n",
       "45      True\n",
       "Name: species, dtype: bool"
      ]
     },
     "execution_count": 16,
     "metadata": {},
     "output_type": "execute_result"
    }
   ],
   "source": [
    "y_test"
   ]
  },
  {
   "cell_type": "code",
   "execution_count": null,
   "id": "acd3a47d-3d65-4787-82da-072e626bf8d0",
   "metadata": {},
   "outputs": [],
   "source": []
  },
  {
   "cell_type": "code",
   "execution_count": 17,
   "id": "2049bd1d-520f-4cc1-8a40-e09471bff37e",
   "metadata": {},
   "outputs": [
    {
     "data": {
      "text/plain": [
       "species\n",
       "False    66.666667\n",
       "True     33.333333\n",
       "Name: count, dtype: float64"
      ]
     },
     "execution_count": 17,
     "metadata": {},
     "output_type": "execute_result"
    }
   ],
   "source": [
    "y_train.value_counts() / len(y_train) * 100"
   ]
  },
  {
   "cell_type": "markdown",
   "id": "6c6b9fe5-986d-40e9-9095-6f356f9467e9",
   "metadata": {},
   "source": [
    "    we have 33.33 % setosa and 66.55 % others in training data"
   ]
  },
  {
   "cell_type": "code",
   "execution_count": 18,
   "id": "2b07b0f1-8e26-41ed-9608-8c490ccf85cf",
   "metadata": {},
   "outputs": [
    {
     "data": {
      "text/plain": [
       "species\n",
       "False    66.666667\n",
       "True     33.333333\n",
       "Name: count, dtype: float64"
      ]
     },
     "execution_count": 18,
     "metadata": {},
     "output_type": "execute_result"
    }
   ],
   "source": [
    "y_test.value_counts() / len(y_test) * 100\n"
   ]
  },
  {
   "cell_type": "code",
   "execution_count": null,
   "id": "ac803b14-5d86-45b7-9769-17df7b1c44e8",
   "metadata": {},
   "outputs": [],
   "source": []
  },
  {
   "cell_type": "code",
   "execution_count": 19,
   "id": "31e03f8c-7065-4d99-9165-6c55b02390a6",
   "metadata": {},
   "outputs": [],
   "source": [
    "sgd = SGDClassifier()\n",
    "ensemble = RandomForestClassifier()\n",
    "log = LogisticRegression()"
   ]
  },
  {
   "cell_type": "code",
   "execution_count": 20,
   "id": "9076bc85-54c7-4c1a-906e-7ea4dab91335",
   "metadata": {},
   "outputs": [
    {
     "data": {
      "text/html": [
       "<style>#sk-container-id-1 {color: black;background-color: white;}#sk-container-id-1 pre{padding: 0;}#sk-container-id-1 div.sk-toggleable {background-color: white;}#sk-container-id-1 label.sk-toggleable__label {cursor: pointer;display: block;width: 100%;margin-bottom: 0;padding: 0.3em;box-sizing: border-box;text-align: center;}#sk-container-id-1 label.sk-toggleable__label-arrow:before {content: \"▸\";float: left;margin-right: 0.25em;color: #696969;}#sk-container-id-1 label.sk-toggleable__label-arrow:hover:before {color: black;}#sk-container-id-1 div.sk-estimator:hover label.sk-toggleable__label-arrow:before {color: black;}#sk-container-id-1 div.sk-toggleable__content {max-height: 0;max-width: 0;overflow: hidden;text-align: left;background-color: #f0f8ff;}#sk-container-id-1 div.sk-toggleable__content pre {margin: 0.2em;color: black;border-radius: 0.25em;background-color: #f0f8ff;}#sk-container-id-1 input.sk-toggleable__control:checked~div.sk-toggleable__content {max-height: 200px;max-width: 100%;overflow: auto;}#sk-container-id-1 input.sk-toggleable__control:checked~label.sk-toggleable__label-arrow:before {content: \"▾\";}#sk-container-id-1 div.sk-estimator input.sk-toggleable__control:checked~label.sk-toggleable__label {background-color: #d4ebff;}#sk-container-id-1 div.sk-label input.sk-toggleable__control:checked~label.sk-toggleable__label {background-color: #d4ebff;}#sk-container-id-1 input.sk-hidden--visually {border: 0;clip: rect(1px 1px 1px 1px);clip: rect(1px, 1px, 1px, 1px);height: 1px;margin: -1px;overflow: hidden;padding: 0;position: absolute;width: 1px;}#sk-container-id-1 div.sk-estimator {font-family: monospace;background-color: #f0f8ff;border: 1px dotted black;border-radius: 0.25em;box-sizing: border-box;margin-bottom: 0.5em;}#sk-container-id-1 div.sk-estimator:hover {background-color: #d4ebff;}#sk-container-id-1 div.sk-parallel-item::after {content: \"\";width: 100%;border-bottom: 1px solid gray;flex-grow: 1;}#sk-container-id-1 div.sk-label:hover label.sk-toggleable__label {background-color: #d4ebff;}#sk-container-id-1 div.sk-serial::before {content: \"\";position: absolute;border-left: 1px solid gray;box-sizing: border-box;top: 0;bottom: 0;left: 50%;z-index: 0;}#sk-container-id-1 div.sk-serial {display: flex;flex-direction: column;align-items: center;background-color: white;padding-right: 0.2em;padding-left: 0.2em;position: relative;}#sk-container-id-1 div.sk-item {position: relative;z-index: 1;}#sk-container-id-1 div.sk-parallel {display: flex;align-items: stretch;justify-content: center;background-color: white;position: relative;}#sk-container-id-1 div.sk-item::before, #sk-container-id-1 div.sk-parallel-item::before {content: \"\";position: absolute;border-left: 1px solid gray;box-sizing: border-box;top: 0;bottom: 0;left: 50%;z-index: -1;}#sk-container-id-1 div.sk-parallel-item {display: flex;flex-direction: column;z-index: 1;position: relative;background-color: white;}#sk-container-id-1 div.sk-parallel-item:first-child::after {align-self: flex-end;width: 50%;}#sk-container-id-1 div.sk-parallel-item:last-child::after {align-self: flex-start;width: 50%;}#sk-container-id-1 div.sk-parallel-item:only-child::after {width: 0;}#sk-container-id-1 div.sk-dashed-wrapped {border: 1px dashed gray;margin: 0 0.4em 0.5em 0.4em;box-sizing: border-box;padding-bottom: 0.4em;background-color: white;}#sk-container-id-1 div.sk-label label {font-family: monospace;font-weight: bold;display: inline-block;line-height: 1.2em;}#sk-container-id-1 div.sk-label-container {text-align: center;}#sk-container-id-1 div.sk-container {/* jupyter's `normalize.less` sets `[hidden] { display: none; }` but bootstrap.min.css set `[hidden] { display: none !important; }` so we also need the `!important` here to be able to override the default hidden behavior on the sphinx rendered scikit-learn.org. See: https://github.com/scikit-learn/scikit-learn/issues/21755 */display: inline-block !important;position: relative;}#sk-container-id-1 div.sk-text-repr-fallback {display: none;}</style><div id=\"sk-container-id-1\" class=\"sk-top-container\"><div class=\"sk-text-repr-fallback\"><pre>SGDClassifier()</pre><b>In a Jupyter environment, please rerun this cell to show the HTML representation or trust the notebook. <br />On GitHub, the HTML representation is unable to render, please try loading this page with nbviewer.org.</b></div><div class=\"sk-container\" hidden><div class=\"sk-item\"><div class=\"sk-estimator sk-toggleable\"><input class=\"sk-toggleable__control sk-hidden--visually\" id=\"sk-estimator-id-1\" type=\"checkbox\" checked><label for=\"sk-estimator-id-1\" class=\"sk-toggleable__label sk-toggleable__label-arrow\">SGDClassifier</label><div class=\"sk-toggleable__content\"><pre>SGDClassifier()</pre></div></div></div></div></div>"
      ],
      "text/plain": [
       "SGDClassifier()"
      ]
     },
     "execution_count": 20,
     "metadata": {},
     "output_type": "execute_result"
    }
   ],
   "source": [
    "sgd.fit(X_train, y_train)"
   ]
  },
  {
   "cell_type": "code",
   "execution_count": 21,
   "id": "a20b508b-5471-433f-9a45-0d97022f1775",
   "metadata": {},
   "outputs": [],
   "source": [
    "y_hat_train = sgd.predict(X_train)\n",
    "y_hat_test = sgd.predict(X_test)"
   ]
  },
  {
   "cell_type": "code",
   "execution_count": 22,
   "id": "df22b6c6-7a1b-4756-951b-dbfa8dc81a50",
   "metadata": {},
   "outputs": [
    {
     "data": {
      "text/plain": [
       "array([False, False, False, False, False, False, False, False,  True,\n",
       "       False,  True, False, False, False, False, False,  True, False,\n",
       "       False, False, False, False,  True,  True, False, False, False,\n",
       "       False, False,  True, False,  True,  True, False,  True, False,\n",
       "       False,  True,  True, False,  True, False, False, False,  True,\n",
       "        True, False, False, False, False,  True,  True,  True,  True,\n",
       "       False, False, False, False, False, False,  True,  True, False,\n",
       "       False,  True,  True, False, False, False, False, False, False,\n",
       "       False, False,  True, False,  True, False,  True, False,  True,\n",
       "        True, False, False, False, False, False,  True,  True, False,\n",
       "       False, False, False, False, False,  True, False, False,  True,\n",
       "        True,  True, False, False, False, False, False, False,  True,\n",
       "       False,  True, False,  True,  True,  True, False, False,  True,\n",
       "       False,  True, False])"
      ]
     },
     "execution_count": 22,
     "metadata": {},
     "output_type": "execute_result"
    }
   ],
   "source": [
    "y_hat_train"
   ]
  },
  {
   "cell_type": "code",
   "execution_count": 23,
   "id": "a2bb4bc0-2dcc-4195-9ae5-e0e09103e5a4",
   "metadata": {},
   "outputs": [
    {
     "data": {
      "text/plain": [
       "array([ True, False, False, False, False, False, False,  True,  True,\n",
       "       False, False, False,  True,  True, False,  True,  True, False,\n",
       "       False, False, False, False,  True, False, False, False,  True,\n",
       "       False, False,  True])"
      ]
     },
     "execution_count": 23,
     "metadata": {},
     "output_type": "execute_result"
    }
   ],
   "source": [
    "y_hat_test"
   ]
  },
  {
   "cell_type": "code",
   "execution_count": null,
   "id": "e28c3a0e-22ac-4b3e-8c3a-1d9dfaf91937",
   "metadata": {},
   "outputs": [],
   "source": []
  },
  {
   "cell_type": "code",
   "execution_count": 24,
   "id": "20bbcd75-4680-4136-9924-f269cfb22f08",
   "metadata": {},
   "outputs": [],
   "source": [
    "from sklearn.metrics import accuracy_score, confusion_matrix, precision_score, recall_score, f1_score, classification_report"
   ]
  },
  {
   "cell_type": "code",
   "execution_count": null,
   "id": "6c9adfd0-54ff-47af-a91d-410f2d8cc10e",
   "metadata": {},
   "outputs": [],
   "source": []
  },
  {
   "cell_type": "code",
   "execution_count": 25,
   "id": "8b1f48df-7e14-44ae-a031-61aa26b62a09",
   "metadata": {},
   "outputs": [
    {
     "data": {
      "text/plain": [
       "1.0"
      ]
     },
     "execution_count": 25,
     "metadata": {},
     "output_type": "execute_result"
    }
   ],
   "source": [
    "training_accuracy = accuracy_score(y_train, y_hat_train)\n",
    "training_accuracy"
   ]
  },
  {
   "cell_type": "code",
   "execution_count": 26,
   "id": "fff6bdcc-a88f-4fd7-b702-f912e6c494d4",
   "metadata": {},
   "outputs": [
    {
     "data": {
      "text/plain": [
       "1.0"
      ]
     },
     "execution_count": 26,
     "metadata": {},
     "output_type": "execute_result"
    }
   ],
   "source": [
    "testing_accuracy = accuracy_score(y_test, y_hat_test)\n",
    "testing_accuracy"
   ]
  },
  {
   "cell_type": "code",
   "execution_count": null,
   "id": "cfa0f676-2503-4ed5-9a52-6d497d285cf6",
   "metadata": {},
   "outputs": [],
   "source": []
  },
  {
   "cell_type": "code",
   "execution_count": 27,
   "id": "738e32d8-f57c-45f8-91ab-b244a3b58b13",
   "metadata": {},
   "outputs": [
    {
     "data": {
      "text/plain": [
       "40"
      ]
     },
     "execution_count": 27,
     "metadata": {},
     "output_type": "execute_result"
    }
   ],
   "source": [
    "y_train.sum()"
   ]
  },
  {
   "cell_type": "code",
   "execution_count": 28,
   "id": "23f1b9ab-01fc-4ea6-b8ef-cb160d287f12",
   "metadata": {},
   "outputs": [
    {
     "data": {
      "text/plain": [
       "10"
      ]
     },
     "execution_count": 28,
     "metadata": {},
     "output_type": "execute_result"
    }
   ],
   "source": [
    "y_test.sum()"
   ]
  },
  {
   "cell_type": "code",
   "execution_count": 29,
   "id": "ac1b121b-6c1f-4611-90d9-7445c340af6c",
   "metadata": {},
   "outputs": [
    {
     "name": "stdout",
     "output_type": "stream",
     "text": [
      "[[80  0]\n",
      " [ 0 40]]\n"
     ]
    }
   ],
   "source": [
    "print(confusion_matrix(y_train, y_hat_train))"
   ]
  },
  {
   "cell_type": "code",
   "execution_count": null,
   "id": "3be61f9e-8505-45a8-b435-b5c94eb6a514",
   "metadata": {},
   "outputs": [],
   "source": []
  },
  {
   "cell_type": "code",
   "execution_count": 30,
   "id": "05ac778e-3d75-4242-b8db-37e0bca09ab5",
   "metadata": {},
   "outputs": [
    {
     "name": "stdout",
     "output_type": "stream",
     "text": [
      "[[20  0]\n",
      " [ 0 10]]\n"
     ]
    }
   ],
   "source": [
    "print(confusion_matrix(y_test, y_hat_test))\n"
   ]
  },
  {
   "cell_type": "code",
   "execution_count": null,
   "id": "3f505f23-34d4-42ff-9232-a7e8dc57fa5d",
   "metadata": {},
   "outputs": [],
   "source": []
  },
  {
   "cell_type": "code",
   "execution_count": 31,
   "id": "2bc44d5e-4578-4615-a678-c25034defa25",
   "metadata": {},
   "outputs": [
    {
     "name": "stdout",
     "output_type": "stream",
     "text": [
      "Enseble model\n",
      "Training accuracy: 1.0\n",
      "testing Accuracy: 1.0\n"
     ]
    }
   ],
   "source": [
    "ensemble.fit(X_train, y_train)\n",
    "y_hat_train = ensemble.predict(X_train)\n",
    "y_hat_test = ensemble.predict(X_test)\n",
    "training_accuracy = accuracy_score(y_train, y_hat_train)\n",
    "testing_accuracy = accuracy_score(y_test, y_hat_test)\n",
    "print(f\"Enseble model\")\n",
    "print(f\"Training accuracy: {training_accuracy}\")\n",
    "print(f\"testing Accuracy: {testing_accuracy}\")"
   ]
  },
  {
   "cell_type": "code",
   "execution_count": null,
   "id": "fcf2b73d-80d1-4958-94b3-ab5b7d168dff",
   "metadata": {},
   "outputs": [],
   "source": []
  },
  {
   "cell_type": "code",
   "execution_count": 32,
   "id": "566a246d-e1d3-4068-8cfd-50437841c61c",
   "metadata": {},
   "outputs": [
    {
     "name": "stdout",
     "output_type": "stream",
     "text": [
      "Enseble model\n",
      "Training accuracy: 1.0\n",
      "testing Accuracy: 1.0\n"
     ]
    }
   ],
   "source": [
    "log.fit(X_train, y_train)\n",
    "y_hat_train = log.predict(X_train)\n",
    "y_hat_test = log.predict(X_test)\n",
    "training_accuracy = accuracy_score(y_train, y_hat_train)\n",
    "testing_accuracy = accuracy_score(y_test, y_hat_test)\n",
    "print(f\"Enseble model\")\n",
    "print(f\"Training accuracy: {training_accuracy}\")\n",
    "print(f\"testing Accuracy: {testing_accuracy}\")"
   ]
  },
  {
   "cell_type": "code",
   "execution_count": null,
   "id": "43878ff9-1ed0-45a5-9f7f-77ba3ca9f9b6",
   "metadata": {},
   "outputs": [],
   "source": []
  },
  {
   "cell_type": "markdown",
   "id": "5c626410-1fc3-4cc5-8259-6f4030d3f651",
   "metadata": {},
   "source": [
    "### versicolor prediction"
   ]
  },
  {
   "cell_type": "code",
   "execution_count": 33,
   "id": "b723da69-f72b-4876-95fd-2aa6e0a56df4",
   "metadata": {},
   "outputs": [],
   "source": [
    "X = iris.drop('species', axis=1)\n",
    "y = iris.species == 'versicolor'"
   ]
  },
  {
   "cell_type": "code",
   "execution_count": 34,
   "id": "5bd1ab05-2cf4-4c24-81dd-484753ae6d8a",
   "metadata": {},
   "outputs": [
    {
     "data": {
      "text/html": [
       "<div>\n",
       "<style scoped>\n",
       "    .dataframe tbody tr th:only-of-type {\n",
       "        vertical-align: middle;\n",
       "    }\n",
       "\n",
       "    .dataframe tbody tr th {\n",
       "        vertical-align: top;\n",
       "    }\n",
       "\n",
       "    .dataframe thead th {\n",
       "        text-align: right;\n",
       "    }\n",
       "</style>\n",
       "<table border=\"1\" class=\"dataframe\">\n",
       "  <thead>\n",
       "    <tr style=\"text-align: right;\">\n",
       "      <th></th>\n",
       "      <th>sepal_length</th>\n",
       "      <th>sepal_width</th>\n",
       "      <th>petal_length</th>\n",
       "      <th>petal_width</th>\n",
       "    </tr>\n",
       "  </thead>\n",
       "  <tbody>\n",
       "    <tr>\n",
       "      <th>0</th>\n",
       "      <td>5.1</td>\n",
       "      <td>3.5</td>\n",
       "      <td>1.4</td>\n",
       "      <td>0.2</td>\n",
       "    </tr>\n",
       "    <tr>\n",
       "      <th>1</th>\n",
       "      <td>4.9</td>\n",
       "      <td>3.0</td>\n",
       "      <td>1.4</td>\n",
       "      <td>0.2</td>\n",
       "    </tr>\n",
       "    <tr>\n",
       "      <th>2</th>\n",
       "      <td>4.7</td>\n",
       "      <td>3.2</td>\n",
       "      <td>1.3</td>\n",
       "      <td>0.2</td>\n",
       "    </tr>\n",
       "    <tr>\n",
       "      <th>3</th>\n",
       "      <td>4.6</td>\n",
       "      <td>3.1</td>\n",
       "      <td>1.5</td>\n",
       "      <td>0.2</td>\n",
       "    </tr>\n",
       "    <tr>\n",
       "      <th>4</th>\n",
       "      <td>5.0</td>\n",
       "      <td>3.6</td>\n",
       "      <td>1.4</td>\n",
       "      <td>0.2</td>\n",
       "    </tr>\n",
       "    <tr>\n",
       "      <th>...</th>\n",
       "      <td>...</td>\n",
       "      <td>...</td>\n",
       "      <td>...</td>\n",
       "      <td>...</td>\n",
       "    </tr>\n",
       "    <tr>\n",
       "      <th>145</th>\n",
       "      <td>6.7</td>\n",
       "      <td>3.0</td>\n",
       "      <td>5.2</td>\n",
       "      <td>2.3</td>\n",
       "    </tr>\n",
       "    <tr>\n",
       "      <th>146</th>\n",
       "      <td>6.3</td>\n",
       "      <td>2.5</td>\n",
       "      <td>5.0</td>\n",
       "      <td>1.9</td>\n",
       "    </tr>\n",
       "    <tr>\n",
       "      <th>147</th>\n",
       "      <td>6.5</td>\n",
       "      <td>3.0</td>\n",
       "      <td>5.2</td>\n",
       "      <td>2.0</td>\n",
       "    </tr>\n",
       "    <tr>\n",
       "      <th>148</th>\n",
       "      <td>6.2</td>\n",
       "      <td>3.4</td>\n",
       "      <td>5.4</td>\n",
       "      <td>2.3</td>\n",
       "    </tr>\n",
       "    <tr>\n",
       "      <th>149</th>\n",
       "      <td>5.9</td>\n",
       "      <td>3.0</td>\n",
       "      <td>5.1</td>\n",
       "      <td>1.8</td>\n",
       "    </tr>\n",
       "  </tbody>\n",
       "</table>\n",
       "<p>150 rows × 4 columns</p>\n",
       "</div>"
      ],
      "text/plain": [
       "     sepal_length  sepal_width  petal_length  petal_width\n",
       "0             5.1          3.5           1.4          0.2\n",
       "1             4.9          3.0           1.4          0.2\n",
       "2             4.7          3.2           1.3          0.2\n",
       "3             4.6          3.1           1.5          0.2\n",
       "4             5.0          3.6           1.4          0.2\n",
       "..            ...          ...           ...          ...\n",
       "145           6.7          3.0           5.2          2.3\n",
       "146           6.3          2.5           5.0          1.9\n",
       "147           6.5          3.0           5.2          2.0\n",
       "148           6.2          3.4           5.4          2.3\n",
       "149           5.9          3.0           5.1          1.8\n",
       "\n",
       "[150 rows x 4 columns]"
      ]
     },
     "execution_count": 34,
     "metadata": {},
     "output_type": "execute_result"
    }
   ],
   "source": [
    "X"
   ]
  },
  {
   "cell_type": "code",
   "execution_count": 35,
   "id": "5926b733-83f0-4299-9624-d5874beaed05",
   "metadata": {},
   "outputs": [
    {
     "data": {
      "text/plain": [
       "0      False\n",
       "1      False\n",
       "2      False\n",
       "3      False\n",
       "4      False\n",
       "       ...  \n",
       "145    False\n",
       "146    False\n",
       "147    False\n",
       "148    False\n",
       "149    False\n",
       "Name: species, Length: 150, dtype: bool"
      ]
     },
     "execution_count": 35,
     "metadata": {},
     "output_type": "execute_result"
    }
   ],
   "source": [
    "y"
   ]
  },
  {
   "cell_type": "code",
   "execution_count": 36,
   "id": "e2215ac4-12e2-49b4-9afd-7b0c7f7fce0e",
   "metadata": {},
   "outputs": [],
   "source": [
    "X_train,X_test,y_train,y_test = split_data(X, y)"
   ]
  },
  {
   "cell_type": "code",
   "execution_count": null,
   "id": "597a9039-0059-4556-baf7-acd5a27f7d16",
   "metadata": {},
   "outputs": [],
   "source": []
  },
  {
   "cell_type": "code",
   "execution_count": 37,
   "id": "e0133604-86d1-4b65-85ca-08f45fac85bb",
   "metadata": {},
   "outputs": [
    {
     "name": "stdout",
     "output_type": "stream",
     "text": [
      "Logistic Regression model\n",
      "Training accuracy: 0.74\n",
      "testing Accuracy: 0.57\n",
      "Training Confusion matrix:\n",
      " [[69 11]\n",
      " [20 20]]\n",
      "Testing Confusion matrix:\n",
      " [[14  6]\n",
      " [ 7  3]]\n",
      "Training Precision Score: 0.65\n",
      "Testing Precision Score: 0.33\n",
      "\n",
      "Training Recall Score: 0.50\n",
      "Testing Recall Score: 0.30\n",
      "\n",
      "Training F1-Score: 0.56\n",
      "Testing F1-Score: 0.32\n",
      "\n",
      "Training Classification report:\n",
      "               precision    recall  f1-score   support\n",
      "\n",
      "       False       0.78      0.86      0.82        80\n",
      "        True       0.65      0.50      0.56        40\n",
      "\n",
      "    accuracy                           0.74       120\n",
      "   macro avg       0.71      0.68      0.69       120\n",
      "weighted avg       0.73      0.74      0.73       120\n",
      "\n",
      "Testing Classification report:\n",
      "               precision    recall  f1-score   support\n",
      "\n",
      "       False       0.67      0.70      0.68        20\n",
      "        True       0.33      0.30      0.32        10\n",
      "\n",
      "    accuracy                           0.57        30\n",
      "   macro avg       0.50      0.50      0.50        30\n",
      "weighted avg       0.56      0.57      0.56        30\n",
      "\n"
     ]
    }
   ],
   "source": [
    "log.fit(X_train, y_train)\n",
    "y_hat_train = log.predict(X_train)\n",
    "y_hat_test = log.predict(X_test)\n",
    "training_accuracy = accuracy_score(y_train, y_hat_train)\n",
    "testing_accuracy = accuracy_score(y_test, y_hat_test)\n",
    "print(f\"Logistic Regression model\")\n",
    "print(f\"Training accuracy: {training_accuracy:.2f}\")\n",
    "print(f\"testing Accuracy: {testing_accuracy:.2f}\")\n",
    "\n",
    "print(f\"Training Confusion matrix:\\n {confusion_matrix(y_train, y_hat_train)}\")\n",
    "print(f\"Testing Confusion matrix:\\n {confusion_matrix(y_test, y_hat_test)}\")\n",
    "\n",
    "print(f\"Training Precision Score: {precision_score(y_train, y_hat_train):.2f}\")\n",
    "print(f\"Testing Precision Score: {precision_score(y_test, y_hat_test):.2f}\")\n",
    "print()\n",
    "print(f\"Training Recall Score: {recall_score(y_train, y_hat_train):.2f}\")\n",
    "print(f\"Testing Recall Score: {recall_score(y_test, y_hat_test):.2f}\")\n",
    "print()\n",
    "print(f\"Training F1-Score: {f1_score(y_train, y_hat_train):.2f}\")\n",
    "print(f\"Testing F1-Score: {f1_score(y_test, y_hat_test):.2f}\")\n",
    "print()\n",
    "print(f\"Training Classification report:\\n {classification_report(y_train, y_hat_train)}\")\n",
    "print(f\"Testing Classification report:\\n {classification_report(y_test, y_hat_test)}\")\n"
   ]
  },
  {
   "cell_type": "code",
   "execution_count": 38,
   "id": "f21a12a3-2a3f-4e57-b9a7-2d256f9bae0e",
   "metadata": {},
   "outputs": [
    {
     "data": {
      "text/plain": [
       "0.6451612903225806"
      ]
     },
     "execution_count": 38,
     "metadata": {},
     "output_type": "execute_result"
    }
   ],
   "source": [
    "20 / (20 +11)"
   ]
  },
  {
   "cell_type": "code",
   "execution_count": null,
   "id": "bc1a8230-b99f-47e4-a5d2-7d6cf059f593",
   "metadata": {},
   "outputs": [],
   "source": []
  },
  {
   "cell_type": "code",
   "execution_count": 39,
   "id": "fb0414bc-4abe-4ea5-8f4a-de05f3d3a66e",
   "metadata": {},
   "outputs": [
    {
     "name": "stdout",
     "output_type": "stream",
     "text": [
      "SGD classfier model\n",
      "Training accuracy: 0.66\n",
      "testing Accuracy: 0.57\n",
      "Training Confusion matrix:\n",
      " [[39 41]\n",
      " [ 0 40]]\n",
      "Testing Confusion matrix:\n",
      " [[ 8 12]\n",
      " [ 1  9]]\n",
      "Training Precision Score: 0.49\n",
      "Testing Precision Score: 0.43\n",
      "\n",
      "Training Recall Score: 1.00\n",
      "Testing Recall Score: 0.90\n",
      "\n",
      "Traning F1-Score: 0.66\n",
      "Testing F1-Score: 0.58\n",
      "\n",
      "Training Classification report:\n",
      "               precision    recall  f1-score   support\n",
      "\n",
      "       False       1.00      0.49      0.66        80\n",
      "        True       0.49      1.00      0.66        40\n",
      "\n",
      "    accuracy                           0.66       120\n",
      "   macro avg       0.75      0.74      0.66       120\n",
      "weighted avg       0.83      0.66      0.66       120\n",
      "\n",
      "Testing Classification report:\n",
      "               precision    recall  f1-score   support\n",
      "\n",
      "       False       0.89      0.40      0.55        20\n",
      "        True       0.43      0.90      0.58        10\n",
      "\n",
      "    accuracy                           0.57        30\n",
      "   macro avg       0.66      0.65      0.57        30\n",
      "weighted avg       0.74      0.57      0.56        30\n",
      "\n"
     ]
    }
   ],
   "source": [
    "sgd.fit(X_train, y_train)\n",
    "y_hat_train = sgd.predict(X_train)\n",
    "y_hat_test = sgd.predict(X_test)\n",
    "training_accuracy = accuracy_score(y_train, y_hat_train)\n",
    "testing_accuracy = accuracy_score(y_test, y_hat_test)\n",
    "print(f\"SGD classfier model\")\n",
    "print(f\"Training accuracy: {training_accuracy:.2f}\")\n",
    "print(f\"testing Accuracy: {testing_accuracy:.2f}\")\n",
    "\n",
    "print(f\"Training Confusion matrix:\\n {confusion_matrix(y_train, y_hat_train)}\")\n",
    "print(f\"Testing Confusion matrix:\\n {confusion_matrix(y_test, y_hat_test)}\")\n",
    "\n",
    "print(f\"Training Precision Score: {precision_score(y_train, y_hat_train):.2f}\")\n",
    "print(f\"Testing Precision Score: {precision_score(y_test, y_hat_test):.2f}\")\n",
    "print()\n",
    "print(f\"Training Recall Score: {recall_score(y_train, y_hat_train):.2f}\")\n",
    "print(f\"Testing Recall Score: {recall_score(y_test, y_hat_test):.2f}\")\n",
    "print()\n",
    "print(f\"Traning F1-Score: {f1_score(y_train, y_hat_train):.2f}\")\n",
    "print(f\"Testing F1-Score: {f1_score(y_test, y_hat_test):.2f}\")\n",
    "print()\n",
    "print(f\"Training Classification report:\\n {classification_report(y_train, y_hat_train)}\")\n",
    "print(f\"Testing Classification report:\\n {classification_report(y_test, y_hat_test)}\")\n"
   ]
  },
  {
   "cell_type": "code",
   "execution_count": null,
   "id": "9a3cd936-9f5c-4baf-9798-b774c8ca9fa2",
   "metadata": {},
   "outputs": [],
   "source": []
  },
  {
   "cell_type": "code",
   "execution_count": 40,
   "id": "5fc9554c-b27b-453d-b262-6c29e7856310",
   "metadata": {},
   "outputs": [
    {
     "data": {
      "text/plain": [
       "40"
      ]
     },
     "execution_count": 40,
     "metadata": {},
     "output_type": "execute_result"
    }
   ],
   "source": [
    "y_train.sum()"
   ]
  },
  {
   "cell_type": "code",
   "execution_count": 41,
   "id": "d9c22abc-4875-4afc-bfa7-b8c4fd90ccfc",
   "metadata": {},
   "outputs": [
    {
     "data": {
      "text/plain": [
       "10"
      ]
     },
     "execution_count": 41,
     "metadata": {},
     "output_type": "execute_result"
    }
   ],
   "source": [
    "y_test.sum()"
   ]
  },
  {
   "cell_type": "code",
   "execution_count": null,
   "id": "942c00eb-9220-4882-98b5-6d27fe1a41b5",
   "metadata": {},
   "outputs": [],
   "source": []
  },
  {
   "cell_type": "code",
   "execution_count": 42,
   "id": "4afb50f9-2f7b-43fd-826a-1e9828dacdd7",
   "metadata": {},
   "outputs": [
    {
     "name": "stdout",
     "output_type": "stream",
     "text": [
      "Random forest classifier model\n",
      "Training accuracy: 1.00\n",
      "testing Accuracy: 0.97\n",
      "Training Confusion matrix:\n",
      " [[80  0]\n",
      " [ 0 40]]\n",
      "Testing Confusion matrix:\n",
      " [[19  1]\n",
      " [ 0 10]]\n",
      "Training Precision Score: 1.00\n",
      "Testing Precision Score: 0.91\n",
      "\n",
      "Training Recall Score: 1.00\n",
      "Testing Recall Score: 1.00\n",
      "\n",
      "Traning F1-Score: 1.00\n",
      "Testing F1-Score: 0.95\n",
      "\n",
      "Training Classification report:\n",
      "               precision    recall  f1-score   support\n",
      "\n",
      "       False       1.00      1.00      1.00        80\n",
      "        True       1.00      1.00      1.00        40\n",
      "\n",
      "    accuracy                           1.00       120\n",
      "   macro avg       1.00      1.00      1.00       120\n",
      "weighted avg       1.00      1.00      1.00       120\n",
      "\n",
      "Testing Classification report:\n",
      "               precision    recall  f1-score   support\n",
      "\n",
      "       False       1.00      0.95      0.97        20\n",
      "        True       0.91      1.00      0.95        10\n",
      "\n",
      "    accuracy                           0.97        30\n",
      "   macro avg       0.95      0.97      0.96        30\n",
      "weighted avg       0.97      0.97      0.97        30\n",
      "\n"
     ]
    }
   ],
   "source": [
    "ensemble.fit(X_train, y_train)\n",
    "y_hat_train = ensemble.predict(X_train)\n",
    "y_hat_test = ensemble.predict(X_test)\n",
    "training_accuracy = accuracy_score(y_train, y_hat_train)\n",
    "testing_accuracy = accuracy_score(y_test, y_hat_test)\n",
    "print(f\"Random forest classifier model\")\n",
    "print(f\"Training accuracy: {training_accuracy:.2f}\")\n",
    "print(f\"testing Accuracy: {testing_accuracy:.2f}\")\n",
    "\n",
    "print(f\"Training Confusion matrix:\\n {confusion_matrix(y_train, y_hat_train)}\")\n",
    "print(f\"Testing Confusion matrix:\\n {confusion_matrix(y_test, y_hat_test)}\")\n",
    "\n",
    "print(f\"Training Precision Score: {precision_score(y_train, y_hat_train):.2f}\")\n",
    "print(f\"Testing Precision Score: {precision_score(y_test, y_hat_test):.2f}\")\n",
    "print()\n",
    "print(f\"Training Recall Score: {recall_score(y_train, y_hat_train):.2f}\")\n",
    "print(f\"Testing Recall Score: {recall_score(y_test, y_hat_test):.2f}\")\n",
    "print()\n",
    "print(f\"Traning F1-Score: {f1_score(y_train, y_hat_train):.2f}\")\n",
    "print(f\"Testing F1-Score: {f1_score(y_test, y_hat_test):.2f}\")\n",
    "print()\n",
    "print(f\"Training Classification report:\\n {classification_report(y_train, y_hat_train)}\")\n",
    "print(f\"Testing Classification report:\\n {classification_report(y_test, y_hat_test)}\")"
   ]
  },
  {
   "cell_type": "code",
   "execution_count": 43,
   "id": "895ddf34-6076-40d9-8947-893cb58be1fa",
   "metadata": {},
   "outputs": [
    {
     "data": {
      "text/plain": [
       "10"
      ]
     },
     "execution_count": 43,
     "metadata": {},
     "output_type": "execute_result"
    }
   ],
   "source": [
    "y_test.sum()"
   ]
  },
  {
   "cell_type": "code",
   "execution_count": 44,
   "id": "470cdf36-27de-49c9-a0cc-3e024a2853c3",
   "metadata": {},
   "outputs": [
    {
     "data": {
      "text/plain": [
       "11"
      ]
     },
     "execution_count": 44,
     "metadata": {},
     "output_type": "execute_result"
    }
   ],
   "source": [
    "y_hat_test.sum()"
   ]
  },
  {
   "cell_type": "code",
   "execution_count": null,
   "id": "4a45efe6-5530-4f23-a093-b580830f1598",
   "metadata": {},
   "outputs": [],
   "source": []
  },
  {
   "cell_type": "markdown",
   "id": "b265a643-83be-45a6-8a4f-822badeda623",
   "metadata": {},
   "source": [
    "## multinomial classification"
   ]
  },
  {
   "cell_type": "code",
   "execution_count": 47,
   "id": "01e4de01-9e94-4bef-ab11-3a46b289e625",
   "metadata": {},
   "outputs": [],
   "source": [
    "X = iris.drop('species', axis=1)\n",
    "y = iris.species"
   ]
  },
  {
   "cell_type": "code",
   "execution_count": 48,
   "id": "472e4a30-d957-45ca-9baa-ba7164f7975e",
   "metadata": {},
   "outputs": [
    {
     "data": {
      "text/html": [
       "<div>\n",
       "<style scoped>\n",
       "    .dataframe tbody tr th:only-of-type {\n",
       "        vertical-align: middle;\n",
       "    }\n",
       "\n",
       "    .dataframe tbody tr th {\n",
       "        vertical-align: top;\n",
       "    }\n",
       "\n",
       "    .dataframe thead th {\n",
       "        text-align: right;\n",
       "    }\n",
       "</style>\n",
       "<table border=\"1\" class=\"dataframe\">\n",
       "  <thead>\n",
       "    <tr style=\"text-align: right;\">\n",
       "      <th></th>\n",
       "      <th>sepal_length</th>\n",
       "      <th>sepal_width</th>\n",
       "      <th>petal_length</th>\n",
       "      <th>petal_width</th>\n",
       "    </tr>\n",
       "  </thead>\n",
       "  <tbody>\n",
       "    <tr>\n",
       "      <th>0</th>\n",
       "      <td>5.1</td>\n",
       "      <td>3.5</td>\n",
       "      <td>1.4</td>\n",
       "      <td>0.2</td>\n",
       "    </tr>\n",
       "    <tr>\n",
       "      <th>1</th>\n",
       "      <td>4.9</td>\n",
       "      <td>3.0</td>\n",
       "      <td>1.4</td>\n",
       "      <td>0.2</td>\n",
       "    </tr>\n",
       "    <tr>\n",
       "      <th>2</th>\n",
       "      <td>4.7</td>\n",
       "      <td>3.2</td>\n",
       "      <td>1.3</td>\n",
       "      <td>0.2</td>\n",
       "    </tr>\n",
       "    <tr>\n",
       "      <th>3</th>\n",
       "      <td>4.6</td>\n",
       "      <td>3.1</td>\n",
       "      <td>1.5</td>\n",
       "      <td>0.2</td>\n",
       "    </tr>\n",
       "    <tr>\n",
       "      <th>4</th>\n",
       "      <td>5.0</td>\n",
       "      <td>3.6</td>\n",
       "      <td>1.4</td>\n",
       "      <td>0.2</td>\n",
       "    </tr>\n",
       "    <tr>\n",
       "      <th>...</th>\n",
       "      <td>...</td>\n",
       "      <td>...</td>\n",
       "      <td>...</td>\n",
       "      <td>...</td>\n",
       "    </tr>\n",
       "    <tr>\n",
       "      <th>145</th>\n",
       "      <td>6.7</td>\n",
       "      <td>3.0</td>\n",
       "      <td>5.2</td>\n",
       "      <td>2.3</td>\n",
       "    </tr>\n",
       "    <tr>\n",
       "      <th>146</th>\n",
       "      <td>6.3</td>\n",
       "      <td>2.5</td>\n",
       "      <td>5.0</td>\n",
       "      <td>1.9</td>\n",
       "    </tr>\n",
       "    <tr>\n",
       "      <th>147</th>\n",
       "      <td>6.5</td>\n",
       "      <td>3.0</td>\n",
       "      <td>5.2</td>\n",
       "      <td>2.0</td>\n",
       "    </tr>\n",
       "    <tr>\n",
       "      <th>148</th>\n",
       "      <td>6.2</td>\n",
       "      <td>3.4</td>\n",
       "      <td>5.4</td>\n",
       "      <td>2.3</td>\n",
       "    </tr>\n",
       "    <tr>\n",
       "      <th>149</th>\n",
       "      <td>5.9</td>\n",
       "      <td>3.0</td>\n",
       "      <td>5.1</td>\n",
       "      <td>1.8</td>\n",
       "    </tr>\n",
       "  </tbody>\n",
       "</table>\n",
       "<p>150 rows × 4 columns</p>\n",
       "</div>"
      ],
      "text/plain": [
       "     sepal_length  sepal_width  petal_length  petal_width\n",
       "0             5.1          3.5           1.4          0.2\n",
       "1             4.9          3.0           1.4          0.2\n",
       "2             4.7          3.2           1.3          0.2\n",
       "3             4.6          3.1           1.5          0.2\n",
       "4             5.0          3.6           1.4          0.2\n",
       "..            ...          ...           ...          ...\n",
       "145           6.7          3.0           5.2          2.3\n",
       "146           6.3          2.5           5.0          1.9\n",
       "147           6.5          3.0           5.2          2.0\n",
       "148           6.2          3.4           5.4          2.3\n",
       "149           5.9          3.0           5.1          1.8\n",
       "\n",
       "[150 rows x 4 columns]"
      ]
     },
     "execution_count": 48,
     "metadata": {},
     "output_type": "execute_result"
    }
   ],
   "source": [
    "X"
   ]
  },
  {
   "cell_type": "code",
   "execution_count": 49,
   "id": "52713673-2025-4cec-b685-f32407ab29ab",
   "metadata": {},
   "outputs": [
    {
     "data": {
      "text/plain": [
       "0         setosa\n",
       "1         setosa\n",
       "2         setosa\n",
       "3         setosa\n",
       "4         setosa\n",
       "         ...    \n",
       "145    virginica\n",
       "146    virginica\n",
       "147    virginica\n",
       "148    virginica\n",
       "149    virginica\n",
       "Name: species, Length: 150, dtype: object"
      ]
     },
     "execution_count": 49,
     "metadata": {},
     "output_type": "execute_result"
    }
   ],
   "source": [
    "y"
   ]
  },
  {
   "cell_type": "code",
   "execution_count": null,
   "id": "9219317a-94a4-4b60-a68b-b1c84c6299ab",
   "metadata": {},
   "outputs": [],
   "source": []
  },
  {
   "cell_type": "code",
   "execution_count": 50,
   "id": "e81be364-52d1-4dfa-94c4-dc2b86398d79",
   "metadata": {},
   "outputs": [],
   "source": [
    "X_train,X_test,y_train,y_test = split_data(X, y)"
   ]
  },
  {
   "cell_type": "code",
   "execution_count": 51,
   "id": "edd81fd5-3883-41d3-b3c2-7d952e68e358",
   "metadata": {},
   "outputs": [
    {
     "data": {
      "text/html": [
       "<div>\n",
       "<style scoped>\n",
       "    .dataframe tbody tr th:only-of-type {\n",
       "        vertical-align: middle;\n",
       "    }\n",
       "\n",
       "    .dataframe tbody tr th {\n",
       "        vertical-align: top;\n",
       "    }\n",
       "\n",
       "    .dataframe thead th {\n",
       "        text-align: right;\n",
       "    }\n",
       "</style>\n",
       "<table border=\"1\" class=\"dataframe\">\n",
       "  <thead>\n",
       "    <tr style=\"text-align: right;\">\n",
       "      <th></th>\n",
       "      <th>sepal_length</th>\n",
       "      <th>sepal_width</th>\n",
       "      <th>petal_length</th>\n",
       "      <th>petal_width</th>\n",
       "    </tr>\n",
       "  </thead>\n",
       "  <tbody>\n",
       "    <tr>\n",
       "      <th>99</th>\n",
       "      <td>5.7</td>\n",
       "      <td>2.8</td>\n",
       "      <td>4.1</td>\n",
       "      <td>1.3</td>\n",
       "    </tr>\n",
       "    <tr>\n",
       "      <th>35</th>\n",
       "      <td>5.0</td>\n",
       "      <td>3.2</td>\n",
       "      <td>1.2</td>\n",
       "      <td>0.2</td>\n",
       "    </tr>\n",
       "    <tr>\n",
       "      <th>87</th>\n",
       "      <td>6.3</td>\n",
       "      <td>2.3</td>\n",
       "      <td>4.4</td>\n",
       "      <td>1.3</td>\n",
       "    </tr>\n",
       "    <tr>\n",
       "      <th>5</th>\n",
       "      <td>5.4</td>\n",
       "      <td>3.9</td>\n",
       "      <td>1.7</td>\n",
       "      <td>0.4</td>\n",
       "    </tr>\n",
       "    <tr>\n",
       "      <th>10</th>\n",
       "      <td>5.4</td>\n",
       "      <td>3.7</td>\n",
       "      <td>1.5</td>\n",
       "      <td>0.2</td>\n",
       "    </tr>\n",
       "    <tr>\n",
       "      <th>...</th>\n",
       "      <td>...</td>\n",
       "      <td>...</td>\n",
       "      <td>...</td>\n",
       "      <td>...</td>\n",
       "    </tr>\n",
       "    <tr>\n",
       "      <th>12</th>\n",
       "      <td>4.8</td>\n",
       "      <td>3.0</td>\n",
       "      <td>1.4</td>\n",
       "      <td>0.1</td>\n",
       "    </tr>\n",
       "    <tr>\n",
       "      <th>142</th>\n",
       "      <td>5.8</td>\n",
       "      <td>2.7</td>\n",
       "      <td>5.1</td>\n",
       "      <td>1.9</td>\n",
       "    </tr>\n",
       "    <tr>\n",
       "      <th>120</th>\n",
       "      <td>6.9</td>\n",
       "      <td>3.2</td>\n",
       "      <td>5.7</td>\n",
       "      <td>2.3</td>\n",
       "    </tr>\n",
       "    <tr>\n",
       "      <th>20</th>\n",
       "      <td>5.4</td>\n",
       "      <td>3.4</td>\n",
       "      <td>1.7</td>\n",
       "      <td>0.2</td>\n",
       "    </tr>\n",
       "    <tr>\n",
       "      <th>61</th>\n",
       "      <td>5.9</td>\n",
       "      <td>3.0</td>\n",
       "      <td>4.2</td>\n",
       "      <td>1.5</td>\n",
       "    </tr>\n",
       "  </tbody>\n",
       "</table>\n",
       "<p>120 rows × 4 columns</p>\n",
       "</div>"
      ],
      "text/plain": [
       "     sepal_length  sepal_width  petal_length  petal_width\n",
       "99            5.7          2.8           4.1          1.3\n",
       "35            5.0          3.2           1.2          0.2\n",
       "87            6.3          2.3           4.4          1.3\n",
       "5             5.4          3.9           1.7          0.4\n",
       "10            5.4          3.7           1.5          0.2\n",
       "..            ...          ...           ...          ...\n",
       "12            4.8          3.0           1.4          0.1\n",
       "142           5.8          2.7           5.1          1.9\n",
       "120           6.9          3.2           5.7          2.3\n",
       "20            5.4          3.4           1.7          0.2\n",
       "61            5.9          3.0           4.2          1.5\n",
       "\n",
       "[120 rows x 4 columns]"
      ]
     },
     "execution_count": 51,
     "metadata": {},
     "output_type": "execute_result"
    }
   ],
   "source": [
    "X_train"
   ]
  },
  {
   "cell_type": "code",
   "execution_count": 52,
   "id": "84a71c96-398a-4ba7-b38b-200dfa447a3f",
   "metadata": {},
   "outputs": [
    {
     "data": {
      "text/plain": [
       "99     versicolor\n",
       "35         setosa\n",
       "87     versicolor\n",
       "5          setosa\n",
       "10         setosa\n",
       "          ...    \n",
       "12         setosa\n",
       "142     virginica\n",
       "120     virginica\n",
       "20         setosa\n",
       "61     versicolor\n",
       "Name: species, Length: 120, dtype: object"
      ]
     },
     "execution_count": 52,
     "metadata": {},
     "output_type": "execute_result"
    }
   ],
   "source": [
    "y_train"
   ]
  },
  {
   "cell_type": "code",
   "execution_count": 56,
   "id": "e88c5284-3360-4876-9529-2e1597b76ee4",
   "metadata": {},
   "outputs": [
    {
     "name": "stdout",
     "output_type": "stream",
     "text": [
      "species\n",
      "setosa        33.333333\n",
      "versicolor    33.333333\n",
      "virginica     33.333333\n",
      "Name: count, dtype: float64\n"
     ]
    }
   ],
   "source": [
    "print(f\"{y.value_counts() / len(y) * 100}\")"
   ]
  },
  {
   "cell_type": "code",
   "execution_count": 55,
   "id": "2651062a-0a4a-444c-9d7c-cf27083f74b4",
   "metadata": {},
   "outputs": [
    {
     "name": "stdout",
     "output_type": "stream",
     "text": [
      "species\n",
      "versicolor    33.333333\n",
      "setosa        33.333333\n",
      "virginica     33.333333\n",
      "Name: count, dtype: float64\n"
     ]
    }
   ],
   "source": [
    "print(f\"{y_train.value_counts() / len(y_train) * 100}\")"
   ]
  },
  {
   "cell_type": "code",
   "execution_count": 57,
   "id": "1ee778a4-10c3-4081-b4ce-79a0b7531cf8",
   "metadata": {},
   "outputs": [
    {
     "data": {
      "text/plain": [
       "species\n",
       "versicolor    33.333333\n",
       "setosa        33.333333\n",
       "virginica     33.333333\n",
       "Name: count, dtype: float64"
      ]
     },
     "execution_count": 57,
     "metadata": {},
     "output_type": "execute_result"
    }
   ],
   "source": [
    "y_test.value_counts() / len(y_test) * 100\n"
   ]
  },
  {
   "cell_type": "code",
   "execution_count": null,
   "id": "ef61b9e8-aebb-435a-baad-8b3447b22ccc",
   "metadata": {},
   "outputs": [],
   "source": []
  },
  {
   "cell_type": "code",
   "execution_count": 58,
   "id": "0496621d-7b07-4868-97ee-fc07864345b2",
   "metadata": {},
   "outputs": [],
   "source": [
    "model = SGDClassifier()"
   ]
  },
  {
   "cell_type": "code",
   "execution_count": 60,
   "id": "7d4585d8-7e1f-45fc-afe8-652ca5cea65a",
   "metadata": {},
   "outputs": [],
   "source": [
    "model.fit(X_train, y_train)\n",
    "y_hat_train = model.predict(X_train)\n",
    "y_hat_test = model.predict(X_test)"
   ]
  },
  {
   "cell_type": "code",
   "execution_count": 61,
   "id": "81cde7ed-61ce-455e-ae31-152faa5d3c10",
   "metadata": {},
   "outputs": [
    {
     "data": {
      "text/plain": [
       "array(['versicolor', 'setosa', 'versicolor', 'setosa', 'setosa',\n",
       "       'virginica', 'setosa', 'setosa', 'virginica', 'versicolor',\n",
       "       'setosa', 'setosa', 'setosa', 'versicolor', 'setosa', 'virginica',\n",
       "       'setosa', 'virginica', 'versicolor', 'setosa', 'setosa',\n",
       "       'versicolor', 'versicolor', 'versicolor', 'versicolor',\n",
       "       'versicolor', 'setosa', 'virginica', 'versicolor', 'versicolor',\n",
       "       'versicolor', 'versicolor', 'virginica', 'versicolor', 'setosa',\n",
       "       'virginica', 'versicolor', 'versicolor', 'virginica', 'versicolor',\n",
       "       'setosa', 'setosa', 'versicolor', 'versicolor', 'versicolor',\n",
       "       'virginica', 'setosa', 'versicolor', 'setosa', 'setosa',\n",
       "       'versicolor', 'virginica', 'versicolor', 'versicolor',\n",
       "       'versicolor', 'setosa', 'virginica', 'virginica', 'setosa',\n",
       "       'versicolor', 'setosa', 'versicolor', 'versicolor', 'setosa',\n",
       "       'setosa', 'setosa', 'versicolor', 'versicolor', 'setosa',\n",
       "       'versicolor', 'versicolor', 'versicolor', 'virginica', 'virginica',\n",
       "       'setosa', 'virginica', 'setosa', 'versicolor', 'versicolor',\n",
       "       'virginica', 'versicolor', 'setosa', 'versicolor', 'setosa',\n",
       "       'setosa', 'versicolor', 'versicolor', 'versicolor', 'versicolor',\n",
       "       'versicolor', 'versicolor', 'versicolor', 'virginica', 'setosa',\n",
       "       'versicolor', 'versicolor', 'versicolor', 'setosa', 'setosa',\n",
       "       'versicolor', 'versicolor', 'versicolor', 'virginica',\n",
       "       'versicolor', 'setosa', 'setosa', 'versicolor', 'versicolor',\n",
       "       'versicolor', 'versicolor', 'versicolor', 'versicolor', 'setosa',\n",
       "       'versicolor', 'versicolor', 'setosa', 'virginica', 'virginica',\n",
       "       'setosa', 'versicolor'], dtype='<U10')"
      ]
     },
     "execution_count": 61,
     "metadata": {},
     "output_type": "execute_result"
    }
   ],
   "source": [
    "y_hat_train"
   ]
  },
  {
   "cell_type": "code",
   "execution_count": 62,
   "id": "bbfbcad8-6fe2-4990-bd99-4167e4fd7822",
   "metadata": {},
   "outputs": [
    {
     "name": "stdout",
     "output_type": "stream",
     "text": [
      "Training Confusion matrix:\n",
      " [[39  1  0]\n",
      " [ 0 40  0]\n",
      " [ 0 20 20]]\n"
     ]
    }
   ],
   "source": [
    "print(f\"Training Confusion matrix:\\n {confusion_matrix(y_train, y_hat_train)}\")"
   ]
  },
  {
   "cell_type": "code",
   "execution_count": 65,
   "id": "4de92f9c-6ef6-4ef9-9e4f-d7cc944d8287",
   "metadata": {},
   "outputs": [
    {
     "name": "stdout",
     "output_type": "stream",
     "text": [
      "training classification report:\n",
      "               precision    recall  f1-score   support\n",
      "\n",
      "      setosa       1.00      0.97      0.99        40\n",
      "  versicolor       0.66      1.00      0.79        40\n",
      "   virginica       1.00      0.50      0.67        40\n",
      "\n",
      "    accuracy                           0.82       120\n",
      "   macro avg       0.89      0.83      0.82       120\n",
      "weighted avg       0.89      0.82      0.82       120\n",
      "\n"
     ]
    }
   ],
   "source": [
    "print(f\"training classification report:\\n {classification_report(y_train, y_hat_train)}\")"
   ]
  },
  {
   "cell_type": "code",
   "execution_count": 68,
   "id": "3cef7bf5-8b4d-4d73-a8f2-2540bb357b2e",
   "metadata": {},
   "outputs": [],
   "source": [
    "cls = ['setosa', 'versicolor', 'verginica']"
   ]
  },
  {
   "cell_type": "code",
   "execution_count": 69,
   "id": "5856c7c9-cb47-4818-8070-1677476771c4",
   "metadata": {},
   "outputs": [
    {
     "data": {
      "text/html": [
       "<div>\n",
       "<style scoped>\n",
       "    .dataframe tbody tr th:only-of-type {\n",
       "        vertical-align: middle;\n",
       "    }\n",
       "\n",
       "    .dataframe tbody tr th {\n",
       "        vertical-align: top;\n",
       "    }\n",
       "\n",
       "    .dataframe thead th {\n",
       "        text-align: right;\n",
       "    }\n",
       "</style>\n",
       "<table border=\"1\" class=\"dataframe\">\n",
       "  <thead>\n",
       "    <tr style=\"text-align: right;\">\n",
       "      <th></th>\n",
       "      <th>setosa</th>\n",
       "      <th>versicolor</th>\n",
       "      <th>verginica</th>\n",
       "    </tr>\n",
       "  </thead>\n",
       "  <tbody>\n",
       "    <tr>\n",
       "      <th>setosa</th>\n",
       "      <td>39</td>\n",
       "      <td>1</td>\n",
       "      <td>0</td>\n",
       "    </tr>\n",
       "    <tr>\n",
       "      <th>versicolor</th>\n",
       "      <td>0</td>\n",
       "      <td>40</td>\n",
       "      <td>0</td>\n",
       "    </tr>\n",
       "    <tr>\n",
       "      <th>verginica</th>\n",
       "      <td>0</td>\n",
       "      <td>20</td>\n",
       "      <td>20</td>\n",
       "    </tr>\n",
       "  </tbody>\n",
       "</table>\n",
       "</div>"
      ],
      "text/plain": [
       "            setosa  versicolor  verginica\n",
       "setosa          39           1          0\n",
       "versicolor       0          40          0\n",
       "verginica        0          20         20"
      ]
     },
     "execution_count": 69,
     "metadata": {},
     "output_type": "execute_result"
    }
   ],
   "source": [
    "pd.DataFrame(confusion_matrix(y_train, y_hat_train), index=cls, columns=cls)"
   ]
  },
  {
   "cell_type": "code",
   "execution_count": null,
   "id": "e48b4a20-6a99-4c4f-a4e9-2a80778dff6d",
   "metadata": {},
   "outputs": [],
   "source": []
  },
  {
   "cell_type": "code",
   "execution_count": 63,
   "id": "081a86df-714b-4067-85fa-a9081284ed35",
   "metadata": {},
   "outputs": [
    {
     "name": "stdout",
     "output_type": "stream",
     "text": [
      "Testing Confusion matrix:\n",
      " [[10  0  0]\n",
      " [ 0 10  0]\n",
      " [ 0  5  5]]\n"
     ]
    }
   ],
   "source": [
    "print(f\"Testing Confusion matrix:\\n {confusion_matrix(y_test, y_hat_test)}\")\n"
   ]
  },
  {
   "cell_type": "code",
   "execution_count": 67,
   "id": "6782e83f-3876-4b56-9d90-94dceddc9a12",
   "metadata": {},
   "outputs": [
    {
     "name": "stdout",
     "output_type": "stream",
     "text": [
      "testing classification report:\n",
      "               precision    recall  f1-score   support\n",
      "\n",
      "      setosa       1.00      1.00      1.00        10\n",
      "  versicolor       0.67      1.00      0.80        10\n",
      "   virginica       1.00      0.50      0.67        10\n",
      "\n",
      "    accuracy                           0.83        30\n",
      "   macro avg       0.89      0.83      0.82        30\n",
      "weighted avg       0.89      0.83      0.82        30\n",
      "\n"
     ]
    }
   ],
   "source": [
    "print(f\"testing classification report:\\n {classification_report(y_test, y_hat_test)}\")\n"
   ]
  },
  {
   "cell_type": "code",
   "execution_count": 70,
   "id": "bc4fcb32-8563-474b-9c2e-fcfb4e06fef8",
   "metadata": {},
   "outputs": [
    {
     "data": {
      "text/html": [
       "<div>\n",
       "<style scoped>\n",
       "    .dataframe tbody tr th:only-of-type {\n",
       "        vertical-align: middle;\n",
       "    }\n",
       "\n",
       "    .dataframe tbody tr th {\n",
       "        vertical-align: top;\n",
       "    }\n",
       "\n",
       "    .dataframe thead th {\n",
       "        text-align: right;\n",
       "    }\n",
       "</style>\n",
       "<table border=\"1\" class=\"dataframe\">\n",
       "  <thead>\n",
       "    <tr style=\"text-align: right;\">\n",
       "      <th></th>\n",
       "      <th>setosa</th>\n",
       "      <th>versicolor</th>\n",
       "      <th>verginica</th>\n",
       "    </tr>\n",
       "  </thead>\n",
       "  <tbody>\n",
       "    <tr>\n",
       "      <th>setosa</th>\n",
       "      <td>10</td>\n",
       "      <td>0</td>\n",
       "      <td>0</td>\n",
       "    </tr>\n",
       "    <tr>\n",
       "      <th>versicolor</th>\n",
       "      <td>0</td>\n",
       "      <td>10</td>\n",
       "      <td>0</td>\n",
       "    </tr>\n",
       "    <tr>\n",
       "      <th>verginica</th>\n",
       "      <td>0</td>\n",
       "      <td>5</td>\n",
       "      <td>5</td>\n",
       "    </tr>\n",
       "  </tbody>\n",
       "</table>\n",
       "</div>"
      ],
      "text/plain": [
       "            setosa  versicolor  verginica\n",
       "setosa          10           0          0\n",
       "versicolor       0          10          0\n",
       "verginica        0           5          5"
      ]
     },
     "execution_count": 70,
     "metadata": {},
     "output_type": "execute_result"
    }
   ],
   "source": [
    "pd.DataFrame(confusion_matrix(y_test, y_hat_test), index=cls, columns=cls)\n"
   ]
  },
  {
   "cell_type": "code",
   "execution_count": 72,
   "id": "11eb93f1-2ee2-4b77-a4bc-071d51202842",
   "metadata": {},
   "outputs": [
    {
     "data": {
      "text/plain": [
       "0.825"
      ]
     },
     "execution_count": 72,
     "metadata": {},
     "output_type": "execute_result"
    }
   ],
   "source": [
    "accuracy_score(y_train, y_hat_train)"
   ]
  },
  {
   "cell_type": "code",
   "execution_count": 73,
   "id": "887eb24c-be4b-4b08-a85d-2b717ac063f7",
   "metadata": {},
   "outputs": [
    {
     "data": {
      "text/plain": [
       "0.8333333333333334"
      ]
     },
     "execution_count": 73,
     "metadata": {},
     "output_type": "execute_result"
    }
   ],
   "source": [
    "accuracy_score(y_test, y_hat_test)\n"
   ]
  },
  {
   "cell_type": "code",
   "execution_count": null,
   "id": "5654c2a8-b5ea-42f4-8f54-f6fc9d535639",
   "metadata": {},
   "outputs": [],
   "source": []
  },
  {
   "cell_type": "markdown",
   "id": "1911a5d2-00cb-4545-bdad-b202cd992b2d",
   "metadata": {},
   "source": [
    "### Precision recall trade off"
   ]
  },
  {
   "cell_type": "code",
   "execution_count": 75,
   "id": "3cb3e43e-b687-4086-b1d5-04e0e3f11a35",
   "metadata": {},
   "outputs": [],
   "source": [
    "y_train = y_train == 'versicolor'"
   ]
  },
  {
   "cell_type": "code",
   "execution_count": 76,
   "id": "c7e65888-9de7-4492-99ab-51a84aabfd4c",
   "metadata": {},
   "outputs": [
    {
     "data": {
      "text/plain": [
       "99      True\n",
       "35     False\n",
       "87      True\n",
       "5      False\n",
       "10     False\n",
       "       ...  \n",
       "12     False\n",
       "142    False\n",
       "120    False\n",
       "20     False\n",
       "61      True\n",
       "Name: species, Length: 120, dtype: bool"
      ]
     },
     "execution_count": 76,
     "metadata": {},
     "output_type": "execute_result"
    }
   ],
   "source": [
    "y_train"
   ]
  },
  {
   "cell_type": "code",
   "execution_count": 77,
   "id": "9744868d-939b-407d-8de4-38672c29d9ef",
   "metadata": {},
   "outputs": [],
   "source": [
    "model = LogisticRegression()"
   ]
  },
  {
   "cell_type": "code",
   "execution_count": 78,
   "id": "8f6e0a9c-3b23-4ec7-a9a4-db493bf10f6f",
   "metadata": {},
   "outputs": [
    {
     "data": {
      "text/html": [
       "<style>#sk-container-id-2 {color: black;background-color: white;}#sk-container-id-2 pre{padding: 0;}#sk-container-id-2 div.sk-toggleable {background-color: white;}#sk-container-id-2 label.sk-toggleable__label {cursor: pointer;display: block;width: 100%;margin-bottom: 0;padding: 0.3em;box-sizing: border-box;text-align: center;}#sk-container-id-2 label.sk-toggleable__label-arrow:before {content: \"▸\";float: left;margin-right: 0.25em;color: #696969;}#sk-container-id-2 label.sk-toggleable__label-arrow:hover:before {color: black;}#sk-container-id-2 div.sk-estimator:hover label.sk-toggleable__label-arrow:before {color: black;}#sk-container-id-2 div.sk-toggleable__content {max-height: 0;max-width: 0;overflow: hidden;text-align: left;background-color: #f0f8ff;}#sk-container-id-2 div.sk-toggleable__content pre {margin: 0.2em;color: black;border-radius: 0.25em;background-color: #f0f8ff;}#sk-container-id-2 input.sk-toggleable__control:checked~div.sk-toggleable__content {max-height: 200px;max-width: 100%;overflow: auto;}#sk-container-id-2 input.sk-toggleable__control:checked~label.sk-toggleable__label-arrow:before {content: \"▾\";}#sk-container-id-2 div.sk-estimator input.sk-toggleable__control:checked~label.sk-toggleable__label {background-color: #d4ebff;}#sk-container-id-2 div.sk-label input.sk-toggleable__control:checked~label.sk-toggleable__label {background-color: #d4ebff;}#sk-container-id-2 input.sk-hidden--visually {border: 0;clip: rect(1px 1px 1px 1px);clip: rect(1px, 1px, 1px, 1px);height: 1px;margin: -1px;overflow: hidden;padding: 0;position: absolute;width: 1px;}#sk-container-id-2 div.sk-estimator {font-family: monospace;background-color: #f0f8ff;border: 1px dotted black;border-radius: 0.25em;box-sizing: border-box;margin-bottom: 0.5em;}#sk-container-id-2 div.sk-estimator:hover {background-color: #d4ebff;}#sk-container-id-2 div.sk-parallel-item::after {content: \"\";width: 100%;border-bottom: 1px solid gray;flex-grow: 1;}#sk-container-id-2 div.sk-label:hover label.sk-toggleable__label {background-color: #d4ebff;}#sk-container-id-2 div.sk-serial::before {content: \"\";position: absolute;border-left: 1px solid gray;box-sizing: border-box;top: 0;bottom: 0;left: 50%;z-index: 0;}#sk-container-id-2 div.sk-serial {display: flex;flex-direction: column;align-items: center;background-color: white;padding-right: 0.2em;padding-left: 0.2em;position: relative;}#sk-container-id-2 div.sk-item {position: relative;z-index: 1;}#sk-container-id-2 div.sk-parallel {display: flex;align-items: stretch;justify-content: center;background-color: white;position: relative;}#sk-container-id-2 div.sk-item::before, #sk-container-id-2 div.sk-parallel-item::before {content: \"\";position: absolute;border-left: 1px solid gray;box-sizing: border-box;top: 0;bottom: 0;left: 50%;z-index: -1;}#sk-container-id-2 div.sk-parallel-item {display: flex;flex-direction: column;z-index: 1;position: relative;background-color: white;}#sk-container-id-2 div.sk-parallel-item:first-child::after {align-self: flex-end;width: 50%;}#sk-container-id-2 div.sk-parallel-item:last-child::after {align-self: flex-start;width: 50%;}#sk-container-id-2 div.sk-parallel-item:only-child::after {width: 0;}#sk-container-id-2 div.sk-dashed-wrapped {border: 1px dashed gray;margin: 0 0.4em 0.5em 0.4em;box-sizing: border-box;padding-bottom: 0.4em;background-color: white;}#sk-container-id-2 div.sk-label label {font-family: monospace;font-weight: bold;display: inline-block;line-height: 1.2em;}#sk-container-id-2 div.sk-label-container {text-align: center;}#sk-container-id-2 div.sk-container {/* jupyter's `normalize.less` sets `[hidden] { display: none; }` but bootstrap.min.css set `[hidden] { display: none !important; }` so we also need the `!important` here to be able to override the default hidden behavior on the sphinx rendered scikit-learn.org. See: https://github.com/scikit-learn/scikit-learn/issues/21755 */display: inline-block !important;position: relative;}#sk-container-id-2 div.sk-text-repr-fallback {display: none;}</style><div id=\"sk-container-id-2\" class=\"sk-top-container\"><div class=\"sk-text-repr-fallback\"><pre>LogisticRegression()</pre><b>In a Jupyter environment, please rerun this cell to show the HTML representation or trust the notebook. <br />On GitHub, the HTML representation is unable to render, please try loading this page with nbviewer.org.</b></div><div class=\"sk-container\" hidden><div class=\"sk-item\"><div class=\"sk-estimator sk-toggleable\"><input class=\"sk-toggleable__control sk-hidden--visually\" id=\"sk-estimator-id-2\" type=\"checkbox\" checked><label for=\"sk-estimator-id-2\" class=\"sk-toggleable__label sk-toggleable__label-arrow\">LogisticRegression</label><div class=\"sk-toggleable__content\"><pre>LogisticRegression()</pre></div></div></div></div></div>"
      ],
      "text/plain": [
       "LogisticRegression()"
      ]
     },
     "execution_count": 78,
     "metadata": {},
     "output_type": "execute_result"
    }
   ],
   "source": [
    "model.fit(X_train, y_train)"
   ]
  },
  {
   "cell_type": "code",
   "execution_count": 79,
   "id": "af3a821b-10fc-49b9-bd57-61aa364ea9c4",
   "metadata": {},
   "outputs": [
    {
     "data": {
      "text/plain": [
       "array([False, False,  True, False, False,  True, False, False, False,\n",
       "       False, False, False, False, False, False, False, False, False,\n",
       "       False, False, False, False, False, False,  True, False, False,\n",
       "       False,  True,  True, False, False, False,  True, False, False,\n",
       "        True, False, False, False, False, False, False, False, False,\n",
       "       False, False,  True, False, False, False, False, False,  True,\n",
       "       False, False, False,  True, False, False, False,  True, False,\n",
       "       False, False, False,  True,  True, False, False, False, False,\n",
       "       False, False, False, False, False,  True,  True, False, False,\n",
       "       False,  True, False, False,  True, False, False, False, False,\n",
       "       False,  True, False, False, False,  True, False, False, False,\n",
       "        True, False,  True,  True, False, False, False, False, False,\n",
       "       False, False, False,  True, False,  True,  True, False,  True,\n",
       "       False, False, False])"
      ]
     },
     "execution_count": 79,
     "metadata": {},
     "output_type": "execute_result"
    }
   ],
   "source": [
    "y_hat_train = model.predict(X_train)\n",
    "y_hat_train"
   ]
  },
  {
   "cell_type": "code",
   "execution_count": null,
   "id": "c44bfdde-472c-45dc-9248-6d9daf67cbda",
   "metadata": {},
   "outputs": [],
   "source": []
  },
  {
   "cell_type": "code",
   "execution_count": 80,
   "id": "df3e6606-026a-4154-b283-530a259c1e2e",
   "metadata": {},
   "outputs": [
    {
     "name": "stdout",
     "output_type": "stream",
     "text": [
      "Classification report\n",
      "               precision    recall  f1-score   support\n",
      "\n",
      "       False       0.76      0.89      0.82        80\n",
      "        True       0.65      0.42      0.52        40\n",
      "\n",
      "    accuracy                           0.73       120\n",
      "   macro avg       0.70      0.66      0.67       120\n",
      "weighted avg       0.72      0.73      0.72       120\n",
      "\n"
     ]
    }
   ],
   "source": [
    "print(f\"Classification report\\n {classification_report(y_train, y_hat_train)}\")"
   ]
  },
  {
   "cell_type": "code",
   "execution_count": null,
   "id": "6ede1b5d-ed73-4e80-8faf-fee865250d69",
   "metadata": {},
   "outputs": [],
   "source": []
  },
  {
   "cell_type": "code",
   "execution_count": 82,
   "id": "dc4f7fec-ff99-4e40-b382-f76a04d40f9c",
   "metadata": {
    "scrolled": true
   },
   "outputs": [
    {
     "data": {
      "text/plain": [
       "array([[0.54870732, 0.45129268],\n",
       "       [0.81616701, 0.18383299],\n",
       "       [0.3330152 , 0.6669848 ],\n",
       "       [0.94602152, 0.05397848],\n",
       "       [0.91786728, 0.08213272],\n",
       "       [0.45525737, 0.54474263],\n",
       "       [0.88586995, 0.11413005],\n",
       "       [0.89234124, 0.10765876],\n",
       "       [0.78944573, 0.21055427],\n",
       "       [0.77290813, 0.22709187],\n",
       "       [0.84033386, 0.15966614],\n",
       "       [0.91717341, 0.08282659],\n",
       "       [0.84109482, 0.15890518],\n",
       "       [0.59604974, 0.40395026],\n",
       "       [0.78672455, 0.21327545],\n",
       "       [0.84568946, 0.15431054],\n",
       "       [0.72085729, 0.27914271],\n",
       "       [0.79449033, 0.20550967],\n",
       "       [0.61100774, 0.38899226],\n",
       "       [0.81903209, 0.18096791],\n",
       "       [0.95179695, 0.04820305],\n",
       "       [0.60211389, 0.39788611],\n",
       "       [0.5286432 , 0.4713568 ],\n",
       "       [0.61165834, 0.38834166],\n",
       "       [0.35875004, 0.64124996],\n",
       "       [0.6154607 , 0.3845393 ],\n",
       "       [0.95836788, 0.04163212],\n",
       "       [0.66763672, 0.33236328],\n",
       "       [0.40244757, 0.59755243],\n",
       "       [0.49625201, 0.50374799],\n",
       "       [0.60889311, 0.39110689],\n",
       "       [0.55023318, 0.44976682],\n",
       "       [0.90485869, 0.09514131],\n",
       "       [0.47880549, 0.52119451],\n",
       "       [0.89050291, 0.10949709],\n",
       "       [0.77648347, 0.22351653],\n",
       "       [0.22786552, 0.77213448],\n",
       "       [0.52070038, 0.47929962],\n",
       "       [0.66616636, 0.33383364],\n",
       "       [0.61416676, 0.38583324],\n",
       "       [0.90149547, 0.09850453],\n",
       "       [0.74749123, 0.25250877],\n",
       "       [0.62186197, 0.37813803],\n",
       "       [0.65384755, 0.34615245],\n",
       "       [0.53576334, 0.46423666],\n",
       "       [0.68817937, 0.31182063],\n",
       "       [0.98342984, 0.01657016],\n",
       "       [0.47591552, 0.52408448],\n",
       "       [0.84691518, 0.15308482],\n",
       "       [0.90028192, 0.09971808],\n",
       "       [0.76832365, 0.23167635],\n",
       "       [0.5070551 , 0.4929449 ],\n",
       "       [0.83817394, 0.16182606],\n",
       "       [0.43549172, 0.56450828],\n",
       "       [0.74692597, 0.25307403],\n",
       "       [0.8773613 , 0.1226387 ],\n",
       "       [0.60092686, 0.39907314],\n",
       "       [0.43349774, 0.56650226],\n",
       "       [0.84463052, 0.15536948],\n",
       "       [0.63616289, 0.36383711],\n",
       "       [0.71701938, 0.28298062],\n",
       "       [0.38015654, 0.61984346],\n",
       "       [0.59301369, 0.40698631],\n",
       "       [0.87749678, 0.12250322],\n",
       "       [0.96661023, 0.03338977],\n",
       "       [0.62679896, 0.37320104],\n",
       "       [0.47325302, 0.52674698],\n",
       "       [0.28341702, 0.71658298],\n",
       "       [0.93721303, 0.06278697],\n",
       "       [0.52702984, 0.47297016],\n",
       "       [0.6298452 , 0.3701548 ],\n",
       "       [0.66423954, 0.33576046],\n",
       "       [0.78891949, 0.21108051],\n",
       "       [0.84710213, 0.15289787],\n",
       "       [0.71485405, 0.28514595],\n",
       "       [0.81418909, 0.18581091],\n",
       "       [0.85866126, 0.14133874],\n",
       "       [0.31527058, 0.68472942],\n",
       "       [0.4415705 , 0.5584295 ],\n",
       "       [0.58098951, 0.41901049],\n",
       "       [0.71741321, 0.28258679],\n",
       "       [0.92323037, 0.07676963],\n",
       "       [0.33570413, 0.66429587],\n",
       "       [0.91447213, 0.08552787],\n",
       "       [0.76448086, 0.23551914],\n",
       "       [0.45624255, 0.54375745],\n",
       "       [0.50589154, 0.49410846],\n",
       "       [0.7110619 , 0.2889381 ],\n",
       "       [0.7051936 , 0.2948064 ],\n",
       "       [0.72253889, 0.27746111],\n",
       "       [0.90227235, 0.09772765],\n",
       "       [0.35966329, 0.64033671],\n",
       "       [0.57599028, 0.42400972],\n",
       "       [0.69795871, 0.30204129],\n",
       "       [0.57869946, 0.42130054],\n",
       "       [0.17722593, 0.82277407],\n",
       "       [0.59979244, 0.40020756],\n",
       "       [0.82410476, 0.17589524],\n",
       "       [0.71896442, 0.28103558],\n",
       "       [0.33405368, 0.66594632],\n",
       "       [0.69825373, 0.30174627],\n",
       "       [0.25852016, 0.74147984],\n",
       "       [0.35676788, 0.64323212],\n",
       "       [0.78549022, 0.21450978],\n",
       "       [0.87489798, 0.12510202],\n",
       "       [0.91706104, 0.08293896],\n",
       "       [0.55975613, 0.44024387],\n",
       "       [0.60836998, 0.39163002],\n",
       "       [0.77455379, 0.22544621],\n",
       "       [0.81836846, 0.18163154],\n",
       "       [0.62592059, 0.37407941],\n",
       "       [0.48070192, 0.51929808],\n",
       "       [0.68264854, 0.31735146],\n",
       "       [0.46512719, 0.53487281],\n",
       "       [0.3996169 , 0.6003831 ],\n",
       "       [0.68622269, 0.31377731],\n",
       "       [0.49644216, 0.50355784],\n",
       "       [0.80625255, 0.19374745],\n",
       "       [0.84643422, 0.15356578],\n",
       "       [0.69040342, 0.30959658]])"
      ]
     },
     "execution_count": 82,
     "metadata": {},
     "output_type": "execute_result"
    }
   ],
   "source": [
    "y_prob = model.predict_proba(X_train)\n",
    "y_prob"
   ]
  },
  {
   "cell_type": "code",
   "execution_count": null,
   "id": "2218b4a6-81b9-4e2a-b3e4-31ef1c070657",
   "metadata": {},
   "outputs": [],
   "source": []
  },
  {
   "cell_type": "code",
   "execution_count": 83,
   "id": "5c4b1cc5-81f5-4ca7-910a-2011f6959ca2",
   "metadata": {},
   "outputs": [],
   "source": [
    "false = y_prob[:, 0]\n",
    "true = y_prob[:, 1]"
   ]
  },
  {
   "cell_type": "code",
   "execution_count": null,
   "id": "a3b89bff-7210-4ea5-b1b3-6a0f877d00e7",
   "metadata": {},
   "outputs": [],
   "source": []
  },
  {
   "cell_type": "code",
   "execution_count": 84,
   "id": "e8ec7308-f8f8-4589-81e7-b1078efe2c89",
   "metadata": {},
   "outputs": [],
   "source": [
    "from sklearn.metrics import precision_recall_curve"
   ]
  },
  {
   "cell_type": "code",
   "execution_count": 86,
   "id": "c49e34c4-61b4-4ffe-a6aa-0390e05c681e",
   "metadata": {},
   "outputs": [],
   "source": [
    "precisions, recalls, thresholds = precision_recall_curve(y_train, true)"
   ]
  },
  {
   "cell_type": "code",
   "execution_count": 87,
   "id": "8196cd4f-765a-46ac-9723-023f07d2b184",
   "metadata": {},
   "outputs": [
    {
     "data": {
      "text/plain": [
       "array([0.33333333, 0.33613445, 0.33898305, 0.34188034, 0.34482759,\n",
       "       0.34782609, 0.35087719, 0.3539823 , 0.35714286, 0.36036036,\n",
       "       0.36363636, 0.36697248, 0.37037037, 0.37383178, 0.37735849,\n",
       "       0.38095238, 0.38461538, 0.38834951, 0.39215686, 0.3960396 ,\n",
       "       0.4       , 0.4040404 , 0.40816327, 0.41237113, 0.41666667,\n",
       "       0.42105263, 0.42553191, 0.43010753, 0.43478261, 0.43956044,\n",
       "       0.44444444, 0.4494382 , 0.45454545, 0.44827586, 0.45348837,\n",
       "       0.45882353, 0.46428571, 0.46987952, 0.47560976, 0.48148148,\n",
       "       0.4875    , 0.49367089, 0.5       , 0.50649351, 0.5       ,\n",
       "       0.49333333, 0.5       , 0.50684932, 0.5       , 0.49295775,\n",
       "       0.5       , 0.50724638, 0.51470588, 0.52238806, 0.53030303,\n",
       "       0.53846154, 0.53125   , 0.53968254, 0.5483871 , 0.54098361,\n",
       "       0.55      , 0.55932203, 0.56896552, 0.57894737, 0.58928571,\n",
       "       0.58181818, 0.59259259, 0.58490566, 0.57692308, 0.58823529,\n",
       "       0.58      , 0.59183673, 0.58333333, 0.57446809, 0.58695652,\n",
       "       0.57777778, 0.56818182, 0.55813953, 0.54761905, 0.56097561,\n",
       "       0.55      , 0.56410256, 0.55263158, 0.56756757, 0.55555556,\n",
       "       0.57142857, 0.58823529, 0.60606061, 0.59375   , 0.61290323,\n",
       "       0.63333333, 0.65517241, 0.64285714, 0.66666667, 0.65384615,\n",
       "       0.68      , 0.70833333, 0.69565217, 0.68181818, 0.66666667,\n",
       "       0.65      , 0.63157895, 0.61111111, 0.64705882, 0.625     ,\n",
       "       0.6       , 0.64285714, 0.61538462, 0.66666667, 0.63636364,\n",
       "       0.7       , 0.66666667, 0.75      , 0.71428571, 0.66666667,\n",
       "       0.6       , 0.5       , 0.66666667, 0.5       , 1.        ,\n",
       "       1.        ])"
      ]
     },
     "execution_count": 87,
     "metadata": {},
     "output_type": "execute_result"
    }
   ],
   "source": [
    "precisions"
   ]
  },
  {
   "cell_type": "code",
   "execution_count": 88,
   "id": "1f1e960d-57de-4f5e-bfee-85c01ca9b30f",
   "metadata": {},
   "outputs": [
    {
     "data": {
      "text/plain": [
       "array([1.   , 1.   , 1.   , 1.   , 1.   , 1.   , 1.   , 1.   , 1.   ,\n",
       "       1.   , 1.   , 1.   , 1.   , 1.   , 1.   , 1.   , 1.   , 1.   ,\n",
       "       1.   , 1.   , 1.   , 1.   , 1.   , 1.   , 1.   , 1.   , 1.   ,\n",
       "       1.   , 1.   , 1.   , 1.   , 1.   , 1.   , 0.975, 0.975, 0.975,\n",
       "       0.975, 0.975, 0.975, 0.975, 0.975, 0.975, 0.975, 0.975, 0.95 ,\n",
       "       0.925, 0.925, 0.925, 0.9  , 0.875, 0.875, 0.875, 0.875, 0.875,\n",
       "       0.875, 0.875, 0.85 , 0.85 , 0.85 , 0.825, 0.825, 0.825, 0.825,\n",
       "       0.825, 0.825, 0.8  , 0.8  , 0.775, 0.75 , 0.75 , 0.725, 0.725,\n",
       "       0.7  , 0.675, 0.675, 0.65 , 0.625, 0.6  , 0.575, 0.575, 0.55 ,\n",
       "       0.55 , 0.525, 0.525, 0.5  , 0.5  , 0.5  , 0.5  , 0.475, 0.475,\n",
       "       0.475, 0.475, 0.45 , 0.45 , 0.425, 0.425, 0.425, 0.4  , 0.375,\n",
       "       0.35 , 0.325, 0.3  , 0.275, 0.275, 0.25 , 0.225, 0.225, 0.2  ,\n",
       "       0.2  , 0.175, 0.175, 0.15 , 0.15 , 0.125, 0.1  , 0.075, 0.05 ,\n",
       "       0.05 , 0.025, 0.025, 0.   ])"
      ]
     },
     "execution_count": 88,
     "metadata": {},
     "output_type": "execute_result"
    }
   ],
   "source": [
    "recalls"
   ]
  },
  {
   "cell_type": "code",
   "execution_count": 89,
   "id": "f872e7d3-c9f1-4734-82ae-262d570bed2a",
   "metadata": {},
   "outputs": [
    {
     "data": {
      "text/plain": [
       "array([0.01657016, 0.03338977, 0.04163212, 0.04820305, 0.05397848,\n",
       "       0.06278697, 0.07676963, 0.08213272, 0.08282659, 0.08293896,\n",
       "       0.08552787, 0.09514131, 0.09772765, 0.09850453, 0.09971808,\n",
       "       0.10765876, 0.10949709, 0.11413005, 0.12250322, 0.1226387 ,\n",
       "       0.12510202, 0.14133874, 0.15289787, 0.15308482, 0.15356578,\n",
       "       0.15431054, 0.15536948, 0.15890518, 0.15966614, 0.16182606,\n",
       "       0.17589524, 0.18096791, 0.18163154, 0.18383299, 0.18581091,\n",
       "       0.19374745, 0.20550967, 0.21055427, 0.21108051, 0.21327545,\n",
       "       0.21450978, 0.22351653, 0.22544621, 0.22709187, 0.23167635,\n",
       "       0.23551914, 0.25250877, 0.25307403, 0.27746111, 0.27914271,\n",
       "       0.28103558, 0.28258679, 0.28298062, 0.28514595, 0.2889381 ,\n",
       "       0.2948064 , 0.30174627, 0.30204129, 0.30959658, 0.31182063,\n",
       "       0.31377731, 0.31735146, 0.33236328, 0.33383364, 0.33576046,\n",
       "       0.34615245, 0.36383711, 0.3701548 , 0.37320104, 0.37407941,\n",
       "       0.37813803, 0.3845393 , 0.38583324, 0.38834166, 0.38899226,\n",
       "       0.39110689, 0.39163002, 0.39788611, 0.39907314, 0.40020756,\n",
       "       0.40395026, 0.40698631, 0.41901049, 0.42130054, 0.42400972,\n",
       "       0.44024387, 0.44976682, 0.45129268, 0.46423666, 0.4713568 ,\n",
       "       0.47297016, 0.47929962, 0.4929449 , 0.49410846, 0.50355784,\n",
       "       0.50374799, 0.51929808, 0.52119451, 0.52408448, 0.52674698,\n",
       "       0.53487281, 0.54375745, 0.54474263, 0.5584295 , 0.56450828,\n",
       "       0.56650226, 0.59755243, 0.6003831 , 0.61984346, 0.64033671,\n",
       "       0.64124996, 0.64323212, 0.66429587, 0.66594632, 0.6669848 ,\n",
       "       0.68472942, 0.71658298, 0.74147984, 0.77213448, 0.82277407])"
      ]
     },
     "execution_count": 89,
     "metadata": {},
     "output_type": "execute_result"
    }
   ],
   "source": [
    "thresholds"
   ]
  },
  {
   "cell_type": "code",
   "execution_count": null,
   "id": "dd698e7c-3261-4b36-85d2-bd8e9314f3d7",
   "metadata": {},
   "outputs": [],
   "source": []
  },
  {
   "cell_type": "code",
   "execution_count": 90,
   "id": "5ee9723d-10b2-4688-8b61-4bc4fc089ec4",
   "metadata": {},
   "outputs": [
    {
     "data": {
      "text/plain": [
       "121"
      ]
     },
     "execution_count": 90,
     "metadata": {},
     "output_type": "execute_result"
    }
   ],
   "source": [
    "len(precisions)"
   ]
  },
  {
   "cell_type": "code",
   "execution_count": 91,
   "id": "9aa869da-acf8-45e6-9d37-639c6cbc7dc2",
   "metadata": {},
   "outputs": [
    {
     "data": {
      "text/plain": [
       "121"
      ]
     },
     "execution_count": 91,
     "metadata": {},
     "output_type": "execute_result"
    }
   ],
   "source": [
    "len(recalls)"
   ]
  },
  {
   "cell_type": "code",
   "execution_count": 92,
   "id": "de3e4a4c-3a9c-46dc-8677-16a3efea68c3",
   "metadata": {},
   "outputs": [
    {
     "data": {
      "text/plain": [
       "120"
      ]
     },
     "execution_count": 92,
     "metadata": {},
     "output_type": "execute_result"
    }
   ],
   "source": [
    "len(thresholds)"
   ]
  },
  {
   "cell_type": "code",
   "execution_count": null,
   "id": "891face8-bcf5-46de-bf71-36eee4ff9e42",
   "metadata": {},
   "outputs": [],
   "source": []
  },
  {
   "cell_type": "code",
   "execution_count": 102,
   "id": "ff9051de-f1a8-43c4-91ff-a1995289d825",
   "metadata": {},
   "outputs": [],
   "source": [
    "def plot_pr_curve(pr, rc, th):\n",
    "    plt.figure(dpi=120)\n",
    "    plt.plot(th, pr, 'r--', label='precision')\n",
    "    plt.plot(th, rc, 'k:', label='recall')\n",
    "    plt.xlabel(\"Threshold\")\n",
    "    plt.ylabel(\"PR-RC\")\n",
    "    plt.legend()\n",
    "    plt.grid()\n",
    "    plt.show()"
   ]
  },
  {
   "cell_type": "code",
   "execution_count": 103,
   "id": "afc3aa00-46e9-4e52-b720-e3333c3c8406",
   "metadata": {},
   "outputs": [
    {
     "data": {
      "image/png": "[encoded data removed]",
      "text/plain": [
       "<Figure size 768x576 with 1 Axes>"
      ]
     },
     "metadata": {},
     "output_type": "display_data"
    }
   ],
   "source": [
    "plot_pr_curve(precisions[:-1], recalls[:-1], thresholds)"
   ]
  },
  {
   "cell_type": "code",
   "execution_count": null,
   "id": "c7011d8d-faf3-4d41-bed3-45e521608e40",
   "metadata": {},
   "outputs": [],
   "source": []
  },
  {
   "cell_type": "code",
   "execution_count": null,
   "id": "f470a088-a9da-4639-a405-4bff140001f9",
   "metadata": {},
   "outputs": [],
   "source": []
  },
  {
   "cell_type": "markdown",
   "id": "354023f5-2e70-41b4-8afc-f1aa86159556",
   "metadata": {},
   "source": [
    "### PR curve"
   ]
  },
  {
   "cell_type": "code",
   "execution_count": 107,
   "id": "d0a1f800-7a1d-4031-a8b8-284f230eb18f",
   "metadata": {},
   "outputs": [
    {
     "data": {
      "image/png": "[encoded data removed]",
      "text/plain": [
       "<Figure size 640x480 with 1 Axes>"
      ]
     },
     "metadata": {},
     "output_type": "display_data"
    }
   ],
   "source": [
    "plt.plot(precisions, recalls, 'k:')\n",
    "plt.xlabel('Precision')\n",
    "plt.ylabel('Recall')\n",
    "plt.show()"
   ]
  },
  {
   "cell_type": "code",
   "execution_count": null,
   "id": "7ba46290-efd8-4abb-8123-f5a9801ede8a",
   "metadata": {},
   "outputs": [],
   "source": []
  },
  {
   "cell_type": "markdown",
   "id": "78e9bd1d-2f5a-4140-9baa-fe818cd5b7e3",
   "metadata": {},
   "source": [
    "## ROC curve"
   ]
  },
  {
   "cell_type": "code",
   "execution_count": null,
   "id": "a97a68f4-6472-4f18-b1f2-68465cad5f20",
   "metadata": {},
   "outputs": [],
   "source": []
  },
  {
   "cell_type": "code",
   "execution_count": null,
   "id": "c259f247-19e9-470a-a2b3-9752b73d6c45",
   "metadata": {},
   "outputs": [],
   "source": []
  }
 ],
 "metadata": {
  "kernelspec": {
   "display_name": "Python 3 (ipykernel)",
   "language": "python",
   "name": "python3"
  },
  "language_info": {
   "codemirror_mode": {
    "name": "ipython",
    "version": 3
   },
   "file_extension": ".py",
   "mimetype": "text/x-python",
   "name": "python",
   "nbconvert_exporter": "python",
   "pygments_lexer": "ipython3",
   "version": "3.11.7"
  }
 },
 "nbformat": 4,
 "nbformat_minor": 5
}
