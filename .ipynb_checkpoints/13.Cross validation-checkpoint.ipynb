{
 "cells": [
  {
   "cell_type": "code",
   "execution_count": 2,
   "id": "29b99055-3a6b-428a-a5df-5bfd485b872f",
   "metadata": {},
   "outputs": [
    {
     "name": "stdout",
     "output_type": "stream",
     "text": [
      "Random_forest\n",
      "Training error: 11019.95\n",
      "Training accuracy: 0.98\n",
      "____________________________________________________________________________________________________\n",
      "Testing error: 29984.50\n",
      "Testing accuracy: 0.83\n",
      "\n"
     ]
    }
   ],
   "source": [
    "import numpy as np\n",
    "import pandas as pd\n",
    "import matplotlib.pyplot as plt\n",
    "import seaborn as sns\n",
    "\n",
    "\n",
    "from sklearn.model_selection import train_test_split\n",
    "from sklearn.model_selection import StratifiedShuffleSplit\n",
    "\n",
    "from sklearn.preprocessing import StandardScaler, OneHotEncoder, OrdinalEncoder\n",
    "from sklearn.impute import SimpleImputer\n",
    "from sklearn.pipeline import Pipeline\n",
    "\n",
    "from sklearn.linear_model import LinearRegression, SGDRegressor\n",
    "from sklearn.ensemble import RandomForestRegressor\n",
    "from sklearn.tree import DecisionTreeRegressor\n",
    "from sklearn.neighbors import KNeighborsRegressor\n",
    "from sklearn.svm import SVR\n",
    "\n",
    "from sklearn.model_selection  import StratifiedShuffleSplit\n",
    "\n",
    "from sklearn.metrics import r2_score, mean_absolute_error\n",
    "from sklearn.compose import ColumnTransformer\n",
    "from predict_function import predict\n",
    "\n",
    "from sklearn.base import BaseEstimator, TransformerMixin\n",
    "\n",
    "\n",
    "class Add_features(BaseEstimator, TransformerMixin):\n",
    "\n",
    "    def __init__(self):\n",
    "        self.lon = 0\n",
    "        self.lat = 1\n",
    "        self.hma = 2\n",
    "        self.trms = 3\n",
    "        self.pop = 5\n",
    "        self.med_inc = 7\n",
    "\n",
    "    def fit(self, X, y=None):\n",
    "        return self\n",
    "\n",
    "    def transform(self, X):\n",
    "        lat_long = X[:, self.lon] + X[:, self.lat]\n",
    "        hma_med_inc = X[:, self.hma] / X[:, self.med_inc]\n",
    "        trms_pop = X[:, self.trms] / X[:, self.pop]\n",
    "\n",
    "        return np.c_[X, lat_long, hma_med_inc, trms_pop]\n",
    "        \n",
    "\n",
    "\n",
    "house = pd.read_csv('../housing.csv')\n",
    "\n",
    "X = house.drop('median_house_value', axis=1).copy()\n",
    "y = house.median_house_value\n",
    "\n",
    "\n",
    "split = StratifiedShuffleSplit(n_splits=1, test_size=0.2, random_state=123)\n",
    "(train_idx, test_idx), = split.split(X, X['ocean_proximity'])\n",
    "\n",
    "X_train = X.iloc[train_idx]\n",
    "X_test = X.iloc[test_idx]\n",
    "y_train = y.iloc[train_idx]\n",
    "y_test = y.iloc[test_idx]\n",
    "\n",
    "\n",
    "num_features = X.select_dtypes('float').columns\n",
    "cat_features = X.select_dtypes('object').columns\n",
    "\n",
    "\n",
    "num_pipline = Pipeline([\n",
    "    ('impute', SimpleImputer()),\n",
    "    ('add_feature', Add_features()),\n",
    "    ('scale', StandardScaler())\n",
    "])\n",
    "\n",
    "cat_pipeline = Pipeline([\n",
    "    ('one_hot_encoder', OneHotEncoder(sparse_output=False))\n",
    "])\n",
    "\n",
    "\n",
    "final_pipeline = ColumnTransformer([\n",
    "    ('num_pipeline', num_pipline, num_features),\n",
    "    ('cat_pipeline', cat_pipeline, cat_features)\n",
    "])\n",
    "\n",
    "final_pipeline.fit(X_train)\n",
    "\n",
    "X_train_tr = final_pipeline.transform(X_train)\n",
    "X_test_tr = final_pipeline.transform(X_test)\n",
    "\n",
    "\n",
    "\n",
    "models = [\n",
    "    ('Random_forest', RandomForestRegressor(n_jobs=-1))\n",
    "]\n",
    "\n",
    "predict(models, X_train_tr, X_test_tr, y_train, y_test)"
   ]
  },
  {
   "cell_type": "code",
   "execution_count": null,
   "id": "50c80f77-dc2b-42b0-b523-929ecdad7c8e",
   "metadata": {},
   "outputs": [],
   "source": []
  },
  {
   "cell_type": "code",
   "execution_count": 3,
   "id": "2429241f-67d7-4b68-8cbd-25d4e0fe3fb3",
   "metadata": {},
   "outputs": [],
   "source": [
    "from sklearn.model_selection import KFold"
   ]
  },
  {
   "cell_type": "code",
   "execution_count": 4,
   "id": "04be3b3e-3ee6-41aa-ba69-63d81edcb8bd",
   "metadata": {},
   "outputs": [],
   "source": [
    "folds = KFold()"
   ]
  },
  {
   "cell_type": "code",
   "execution_count": 5,
   "id": "d9cd2515-dec6-419f-bad9-7854a7c1d4ce",
   "metadata": {},
   "outputs": [
    {
     "data": {
      "text/plain": [
       "<generator object _BaseKFold.split at 0x000002183C89BD00>"
      ]
     },
     "execution_count": 5,
     "metadata": {},
     "output_type": "execute_result"
    }
   ],
   "source": [
    "folds.split(X_train_tr)"
   ]
  },
  {
   "cell_type": "code",
   "execution_count": null,
   "id": "96f8296b-0e48-4658-bd80-b8e4a2100cf8",
   "metadata": {},
   "outputs": [],
   "source": []
  },
  {
   "cell_type": "code",
   "execution_count": 6,
   "id": "55bc3e94-4df5-4380-a706-c9cb2f42bbb3",
   "metadata": {},
   "outputs": [
    {
     "name": "stdout",
     "output_type": "stream",
     "text": [
      "Split no: 1: (array([ 3303,  3304,  3305, ..., 16509, 16510, 16511]), array([   0,    1,    2, ..., 3300, 3301, 3302]))\n",
      "\n",
      "Split no: 2: (array([    0,     1,     2, ..., 16509, 16510, 16511]), array([3303, 3304, 3305, ..., 6603, 6604, 6605]))\n",
      "\n",
      "Split no: 3: (array([    0,     1,     2, ..., 16509, 16510, 16511]), array([6606, 6607, 6608, ..., 9905, 9906, 9907]))\n",
      "\n",
      "Split no: 4: (array([    0,     1,     2, ..., 16509, 16510, 16511]), array([ 9908,  9909,  9910, ..., 13207, 13208, 13209]))\n",
      "\n",
      "Split no: 5: (array([    0,     1,     2, ..., 13207, 13208, 13209]), array([13210, 13211, 13212, ..., 16509, 16510, 16511]))\n",
      "\n"
     ]
    }
   ],
   "source": [
    "c = 1\n",
    "for i in folds.split(X_train_tr):\n",
    "    print(f\"Split no: {c}: {i}\")\n",
    "    print()\n",
    "    c+=1\n"
   ]
  },
  {
   "cell_type": "code",
   "execution_count": 7,
   "id": "1832b250-b285-42d7-b12e-e39b3990aab0",
   "metadata": {},
   "outputs": [
    {
     "data": {
      "text/plain": [
       "array([[ 0.62286403, -0.76422645,  1.70268675, ...,  0.        ,\n",
       "         0.        ,  0.        ],\n",
       "       [ 0.56806326, -0.68937821,  0.4311512 , ...,  0.        ,\n",
       "         0.        ,  0.        ],\n",
       "       [ 0.66271915, -0.75954843,  1.54374481, ...,  0.        ,\n",
       "         0.        ,  0.        ],\n",
       "       ...,\n",
       "       [ 0.62286403, -0.77358248,  1.22586092, ...,  0.        ,\n",
       "         0.        ,  0.        ],\n",
       "       [ 1.21072692, -1.19928181, -1.31721019, ...,  0.        ,\n",
       "         0.        ,  0.        ],\n",
       "       [-0.85675696,  1.05552126, -0.20461658, ...,  0.        ,\n",
       "         0.        ,  0.        ]])"
      ]
     },
     "execution_count": 7,
     "metadata": {},
     "output_type": "execute_result"
    }
   ],
   "source": [
    "X_train_tr"
   ]
  },
  {
   "cell_type": "code",
   "execution_count": 8,
   "id": "a052b3bc-aa73-4511-b059-d8a39139afe5",
   "metadata": {},
   "outputs": [
    {
     "data": {
      "text/plain": [
       "5015     120900.0\n",
       "3769     353600.0\n",
       "4895     107500.0\n",
       "7963     167100.0\n",
       "19675    110700.0\n",
       "           ...   \n",
       "3500     179700.0\n",
       "876      158000.0\n",
       "5040     108600.0\n",
       "15540    199600.0\n",
       "16420    162500.0\n",
       "Name: median_house_value, Length: 16512, dtype: float64"
      ]
     },
     "execution_count": 8,
     "metadata": {},
     "output_type": "execute_result"
    }
   ],
   "source": [
    "y_train"
   ]
  },
  {
   "cell_type": "code",
   "execution_count": 9,
   "id": "1cf4192e-57bc-49d4-8e18-6571011a54fc",
   "metadata": {},
   "outputs": [],
   "source": [
    "models = [\n",
    "    ('Random_forest', RandomForestRegressor())\n",
    "]"
   ]
  },
  {
   "cell_type": "code",
   "execution_count": 10,
   "id": "17b49ae2-3e06-4de2-904c-4d229044c464",
   "metadata": {},
   "outputs": [
    {
     "name": "stdout",
     "output_type": "stream",
     "text": [
      "Split no: 1\n",
      "Random_forest\n",
      "Training error: 11246.73\n",
      "Training accuracy: 0.98\n",
      "____________________________________________________________________________________________________\n",
      "Testing error: 30947.02\n",
      "Testing accuracy: 0.83\n",
      "\n",
      "Split no: 2\n",
      "Random_forest\n",
      "Training error: 11350.88\n",
      "Training accuracy: 0.98\n",
      "____________________________________________________________________________________________________\n",
      "Testing error: 30085.37\n",
      "Testing accuracy: 0.84\n",
      "\n",
      "Split no: 3\n",
      "Random_forest\n",
      "Training error: 11345.54\n",
      "Training accuracy: 0.98\n",
      "____________________________________________________________________________________________________\n",
      "Testing error: 29285.59\n",
      "Testing accuracy: 0.85\n",
      "\n",
      "Split no: 4\n",
      "Random_forest\n",
      "Training error: 11153.37\n",
      "Training accuracy: 0.98\n",
      "____________________________________________________________________________________________________\n",
      "Testing error: 30439.91\n",
      "Testing accuracy: 0.83\n",
      "\n",
      "Split no: 5\n",
      "Random_forest\n",
      "Training error: 11277.83\n",
      "Training accuracy: 0.98\n",
      "____________________________________________________________________________________________________\n",
      "Testing error: 30092.68\n",
      "Testing accuracy: 0.83\n",
      "\n"
     ]
    }
   ],
   "source": [
    "c = 1\n",
    "for train_idx, test_idx in folds.split(X_train_tr):\n",
    "    print(f\"Split no: {c}\")\n",
    "    tr_X = X_train_tr[train_idx]\n",
    "    ts_X = X_train_tr[test_idx]\n",
    "    tr_y = y_train.values[train_idx]\n",
    "    ts_y = y_train.values[test_idx]\n",
    "    predict(models, tr_X, ts_X, tr_y, ts_y)\n",
    "    c+=1\n"
   ]
  },
  {
   "cell_type": "code",
   "execution_count": null,
   "id": "8e781bd1-152a-40a1-91fe-d54e3cf2796c",
   "metadata": {},
   "outputs": [],
   "source": []
  },
  {
   "cell_type": "code",
   "execution_count": 17,
   "id": "12b7f387-0e8b-4988-bf55-31ab007ebb85",
   "metadata": {},
   "outputs": [],
   "source": [
    "model = RandomForestRegressor(n_jobs=-1)"
   ]
  },
  {
   "cell_type": "code",
   "execution_count": 18,
   "id": "4d3bbba1-0809-429f-b3ca-8b77c6cd9253",
   "metadata": {},
   "outputs": [],
   "source": [
    "from sklearn.model_selection import cross_val_score"
   ]
  },
  {
   "cell_type": "code",
   "execution_count": 19,
   "id": "39106a99-3d49-4745-87e5-62cf89a469d6",
   "metadata": {},
   "outputs": [
    {
     "data": {
      "text/plain": [
       "array([0.8287176 , 0.83814977, 0.84990057, 0.82482394, 0.83399893])"
      ]
     },
     "execution_count": 19,
     "metadata": {},
     "output_type": "execute_result"
    }
   ],
   "source": [
    "cross_val_r2_score = cross_val_score(model, X_train_tr, y_train, scoring='r2', cv=5)\n",
    "cross_val_r2_score"
   ]
  },
  {
   "cell_type": "code",
   "execution_count": null,
   "id": "9cfe599b-449b-446f-a141-9737a576880b",
   "metadata": {},
   "outputs": [],
   "source": []
  },
  {
   "cell_type": "code",
   "execution_count": null,
   "id": "18411613-17a9-4edb-9049-6e76582a678c",
   "metadata": {},
   "outputs": [],
   "source": []
  },
  {
   "cell_type": "code",
   "execution_count": null,
   "id": "4f1e17c5-6b68-4943-ba72-abbacae69bf9",
   "metadata": {},
   "outputs": [],
   "source": []
  },
  {
   "cell_type": "code",
   "execution_count": 21,
   "id": "79a09bea-1ba6-4e12-87e8-e56ac502e0ad",
   "metadata": {},
   "outputs": [
    {
     "data": {
      "text/plain": [
       "array([-2.29176717e+09, -2.24354034e+09, -2.04211800e+09, -2.26715924e+09,\n",
       "       -2.18624502e+09])"
      ]
     },
     "execution_count": 21,
     "metadata": {},
     "output_type": "execute_result"
    }
   ],
   "source": [
    "cross_val_nmse = cross_val_score(model, X_train_tr, y_train, scoring='neg_mean_squared_error', cv=5)\n",
    "cross_val_nmse"
   ]
  },
  {
   "cell_type": "code",
   "execution_count": null,
   "id": "0012bea3-10c6-4e45-b0c6-8e6322497801",
   "metadata": {},
   "outputs": [],
   "source": []
  },
  {
   "cell_type": "code",
   "execution_count": 24,
   "id": "c2ce9266-68ab-47e3-9603-02e065e804bd",
   "metadata": {},
   "outputs": [
    {
     "data": {
      "text/plain": [
       "array([47872.40512429, 47366.02520614, 45189.79975117, 47614.69566448,\n",
       "       46757.29912408])"
      ]
     },
     "execution_count": 24,
     "metadata": {},
     "output_type": "execute_result"
    }
   ],
   "source": [
    "np.sqrt(-(cross_val_nmse))"
   ]
  },
  {
   "cell_type": "code",
   "execution_count": null,
   "id": "7e2313f0-75f4-4fc0-95ba-47f1b562030d",
   "metadata": {},
   "outputs": [],
   "source": []
  },
  {
   "cell_type": "code",
   "execution_count": null,
   "id": "90086979-1f84-4386-bfdd-6a569f774ff3",
   "metadata": {},
   "outputs": [],
   "source": []
  },
  {
   "cell_type": "code",
   "execution_count": 25,
   "id": "76366925-5ff6-4c0f-9f04-3b115eb1e8d9",
   "metadata": {},
   "outputs": [
    {
     "data": {
      "text/plain": [
       "array([-31082.98603694, -30180.08470481, -29102.94778922, -30525.59560872,\n",
       "       -29913.51692308])"
      ]
     },
     "execution_count": 25,
     "metadata": {},
     "output_type": "execute_result"
    }
   ],
   "source": [
    "cross_val_nmae = cross_val_score(model, X_train_tr, y_train, scoring='neg_mean_absolute_error', cv=5)\n",
    "cross_val_nmae"
   ]
  },
  {
   "cell_type": "code",
   "execution_count": null,
   "id": "b565e3fc-f574-4f42-b03c-462cd1c89d0f",
   "metadata": {},
   "outputs": [],
   "source": []
  },
  {
   "cell_type": "code",
   "execution_count": 26,
   "id": "066c9832-e102-4ca0-9b78-2526cc96a409",
   "metadata": {},
   "outputs": [
    {
     "data": {
      "text/plain": [
       "array([31082.98603694, 30180.08470481, 29102.94778922, 30525.59560872,\n",
       "       29913.51692308])"
      ]
     },
     "execution_count": 26,
     "metadata": {},
     "output_type": "execute_result"
    }
   ],
   "source": [
    "-(cross_val_nmae)"
   ]
  },
  {
   "cell_type": "code",
   "execution_count": 27,
   "id": "bddce03c-2d05-4262-a949-6716a76f3341",
   "metadata": {},
   "outputs": [
    {
     "data": {
      "text/plain": [
       "array([47872.40512429, 47366.02520614, 45189.79975117, 47614.69566448,\n",
       "       46757.29912408])"
      ]
     },
     "execution_count": 27,
     "metadata": {},
     "output_type": "execute_result"
    }
   ],
   "source": [
    "error = np.sqrt(-(cross_val_nmse))\n",
    "error"
   ]
  },
  {
   "cell_type": "code",
   "execution_count": 28,
   "id": "af9ae858-17d4-4426-9e6f-2d770e0c9176",
   "metadata": {},
   "outputs": [
    {
     "data": {
      "text/plain": [
       "46960.04497403097"
      ]
     },
     "execution_count": 28,
     "metadata": {},
     "output_type": "execute_result"
    }
   ],
   "source": [
    "error.mean()"
   ]
  },
  {
   "cell_type": "code",
   "execution_count": 29,
   "id": "409a12da-7d3b-4c03-87aa-b90b49b89545",
   "metadata": {},
   "outputs": [
    {
     "data": {
      "text/plain": [
       "959.235377567016"
      ]
     },
     "execution_count": 29,
     "metadata": {},
     "output_type": "execute_result"
    }
   ],
   "source": [
    "error.std()"
   ]
  },
  {
   "cell_type": "code",
   "execution_count": null,
   "id": "feba73ef-6f60-49b2-875b-39886cd64413",
   "metadata": {},
   "outputs": [],
   "source": []
  },
  {
   "cell_type": "code",
   "execution_count": null,
   "id": "8a34b231-ed4c-4403-b505-9abebc2d47f6",
   "metadata": {},
   "outputs": [],
   "source": []
  },
  {
   "cell_type": "code",
   "execution_count": null,
   "id": "6a2a7480-9e8a-4ea8-8d91-c0e957941abf",
   "metadata": {},
   "outputs": [],
   "source": []
  },
  {
   "cell_type": "code",
   "execution_count": null,
   "id": "f801d7e6-505a-406b-9e42-5a2deafb68e9",
   "metadata": {},
   "outputs": [],
   "source": []
  },
  {
   "cell_type": "code",
   "execution_count": null,
   "id": "9028d2b0-88b9-48ec-904b-2cf83467f8d6",
   "metadata": {},
   "outputs": [],
   "source": []
  }
 ],
 "metadata": {
  "kernelspec": {
   "display_name": "Python 3 (ipykernel)",
   "language": "python",
   "name": "python3"
  },
  "language_info": {
   "codemirror_mode": {
    "name": "ipython",
    "version": 3
   },
   "file_extension": ".py",
   "mimetype": "text/x-python",
   "name": "python",
   "nbconvert_exporter": "python",
   "pygments_lexer": "ipython3",
   "version": "3.11.7"
  }
 },
 "nbformat": 4,
 "nbformat_minor": 5
}
