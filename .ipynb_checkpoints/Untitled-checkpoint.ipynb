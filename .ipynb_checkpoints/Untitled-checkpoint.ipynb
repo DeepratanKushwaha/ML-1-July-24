{
 "cells": [
  {
   "cell_type": "code",
   "execution_count": 1,
   "id": "c62bcaf2-807b-4410-a99f-301ad7a3ecb9",
   "metadata": {},
   "outputs": [],
   "source": [
    "import numpy as np\n",
    "import pandas as pd\n",
    "import matplotlib.pyplot as plt\n",
    "import seaborn as sns"
   ]
  },
  {
   "cell_type": "code",
   "execution_count": null,
   "id": "8594b8ff-49dd-4ce7-84a5-c6713e917531",
   "metadata": {},
   "outputs": [],
   "source": []
  },
  {
   "cell_type": "code",
   "execution_count": null,
   "id": "b21fefd2-9ae9-443a-bf93-8e7a84be9599",
   "metadata": {},
   "outputs": [],
   "source": []
  },
  {
   "cell_type": "code",
   "execution_count": null,
   "id": "c8a7aca4-849a-4bb1-83bc-8f8b0a9fb84a",
   "metadata": {},
   "outputs": [],
   "source": []
  },
  {
   "cell_type": "code",
   "execution_count": null,
   "id": "7fc30d2f-7023-4743-86ad-2a297feebc80",
   "metadata": {},
   "outputs": [],
   "source": []
  },
  {
   "cell_type": "code",
   "execution_count": null,
   "id": "da7be752-4bc3-4804-a95e-79c5ede4843d",
   "metadata": {},
   "outputs": [],
   "source": []
  },
  {
   "cell_type": "code",
   "execution_count": 2,
   "id": "7fcd2218-a573-44c2-b65b-f24c1c4e011f",
   "metadata": {},
   "outputs": [
    {
     "data": {
      "text/html": [
       "<div>\n",
       "<style scoped>\n",
       "    .dataframe tbody tr th:only-of-type {\n",
       "        vertical-align: middle;\n",
       "    }\n",
       "\n",
       "    .dataframe tbody tr th {\n",
       "        vertical-align: top;\n",
       "    }\n",
       "\n",
       "    .dataframe thead th {\n",
       "        text-align: right;\n",
       "    }\n",
       "</style>\n",
       "<table border=\"1\" class=\"dataframe\">\n",
       "  <thead>\n",
       "    <tr style=\"text-align: right;\">\n",
       "      <th></th>\n",
       "      <th>longitude</th>\n",
       "      <th>latitude</th>\n",
       "      <th>housing_median_age</th>\n",
       "      <th>total_rooms</th>\n",
       "      <th>total_bedrooms</th>\n",
       "      <th>population</th>\n",
       "      <th>households</th>\n",
       "      <th>median_income</th>\n",
       "      <th>median_house_value</th>\n",
       "      <th>ocean_proximity</th>\n",
       "    </tr>\n",
       "  </thead>\n",
       "  <tbody>\n",
       "    <tr>\n",
       "      <th>0</th>\n",
       "      <td>-122.23</td>\n",
       "      <td>37.88</td>\n",
       "      <td>41.0</td>\n",
       "      <td>880.0</td>\n",
       "      <td>129.0</td>\n",
       "      <td>322.0</td>\n",
       "      <td>126.0</td>\n",
       "      <td>8.3252</td>\n",
       "      <td>452600.0</td>\n",
       "      <td>NEAR BAY</td>\n",
       "    </tr>\n",
       "    <tr>\n",
       "      <th>1</th>\n",
       "      <td>-122.22</td>\n",
       "      <td>37.86</td>\n",
       "      <td>21.0</td>\n",
       "      <td>7099.0</td>\n",
       "      <td>1106.0</td>\n",
       "      <td>2401.0</td>\n",
       "      <td>1138.0</td>\n",
       "      <td>8.3014</td>\n",
       "      <td>358500.0</td>\n",
       "      <td>NEAR BAY</td>\n",
       "    </tr>\n",
       "    <tr>\n",
       "      <th>2</th>\n",
       "      <td>-122.24</td>\n",
       "      <td>37.85</td>\n",
       "      <td>52.0</td>\n",
       "      <td>1467.0</td>\n",
       "      <td>190.0</td>\n",
       "      <td>496.0</td>\n",
       "      <td>177.0</td>\n",
       "      <td>7.2574</td>\n",
       "      <td>352100.0</td>\n",
       "      <td>NEAR BAY</td>\n",
       "    </tr>\n",
       "    <tr>\n",
       "      <th>3</th>\n",
       "      <td>-122.25</td>\n",
       "      <td>37.85</td>\n",
       "      <td>52.0</td>\n",
       "      <td>1274.0</td>\n",
       "      <td>235.0</td>\n",
       "      <td>558.0</td>\n",
       "      <td>219.0</td>\n",
       "      <td>5.6431</td>\n",
       "      <td>341300.0</td>\n",
       "      <td>NEAR BAY</td>\n",
       "    </tr>\n",
       "    <tr>\n",
       "      <th>4</th>\n",
       "      <td>-122.25</td>\n",
       "      <td>37.85</td>\n",
       "      <td>52.0</td>\n",
       "      <td>1627.0</td>\n",
       "      <td>280.0</td>\n",
       "      <td>565.0</td>\n",
       "      <td>259.0</td>\n",
       "      <td>3.8462</td>\n",
       "      <td>342200.0</td>\n",
       "      <td>NEAR BAY</td>\n",
       "    </tr>\n",
       "    <tr>\n",
       "      <th>...</th>\n",
       "      <td>...</td>\n",
       "      <td>...</td>\n",
       "      <td>...</td>\n",
       "      <td>...</td>\n",
       "      <td>...</td>\n",
       "      <td>...</td>\n",
       "      <td>...</td>\n",
       "      <td>...</td>\n",
       "      <td>...</td>\n",
       "      <td>...</td>\n",
       "    </tr>\n",
       "    <tr>\n",
       "      <th>20635</th>\n",
       "      <td>-121.09</td>\n",
       "      <td>39.48</td>\n",
       "      <td>25.0</td>\n",
       "      <td>1665.0</td>\n",
       "      <td>374.0</td>\n",
       "      <td>845.0</td>\n",
       "      <td>330.0</td>\n",
       "      <td>1.5603</td>\n",
       "      <td>78100.0</td>\n",
       "      <td>INLAND</td>\n",
       "    </tr>\n",
       "    <tr>\n",
       "      <th>20636</th>\n",
       "      <td>-121.21</td>\n",
       "      <td>39.49</td>\n",
       "      <td>18.0</td>\n",
       "      <td>697.0</td>\n",
       "      <td>150.0</td>\n",
       "      <td>356.0</td>\n",
       "      <td>114.0</td>\n",
       "      <td>2.5568</td>\n",
       "      <td>77100.0</td>\n",
       "      <td>INLAND</td>\n",
       "    </tr>\n",
       "    <tr>\n",
       "      <th>20637</th>\n",
       "      <td>-121.22</td>\n",
       "      <td>39.43</td>\n",
       "      <td>17.0</td>\n",
       "      <td>2254.0</td>\n",
       "      <td>485.0</td>\n",
       "      <td>1007.0</td>\n",
       "      <td>433.0</td>\n",
       "      <td>1.7000</td>\n",
       "      <td>92300.0</td>\n",
       "      <td>INLAND</td>\n",
       "    </tr>\n",
       "    <tr>\n",
       "      <th>20638</th>\n",
       "      <td>-121.32</td>\n",
       "      <td>39.43</td>\n",
       "      <td>18.0</td>\n",
       "      <td>1860.0</td>\n",
       "      <td>409.0</td>\n",
       "      <td>741.0</td>\n",
       "      <td>349.0</td>\n",
       "      <td>1.8672</td>\n",
       "      <td>84700.0</td>\n",
       "      <td>INLAND</td>\n",
       "    </tr>\n",
       "    <tr>\n",
       "      <th>20639</th>\n",
       "      <td>-121.24</td>\n",
       "      <td>39.37</td>\n",
       "      <td>16.0</td>\n",
       "      <td>2785.0</td>\n",
       "      <td>616.0</td>\n",
       "      <td>1387.0</td>\n",
       "      <td>530.0</td>\n",
       "      <td>2.3886</td>\n",
       "      <td>89400.0</td>\n",
       "      <td>INLAND</td>\n",
       "    </tr>\n",
       "  </tbody>\n",
       "</table>\n",
       "<p>20640 rows × 10 columns</p>\n",
       "</div>"
      ],
      "text/plain": [
       "       longitude  latitude  housing_median_age  total_rooms  total_bedrooms  \\\n",
       "0        -122.23     37.88                41.0        880.0           129.0   \n",
       "1        -122.22     37.86                21.0       7099.0          1106.0   \n",
       "2        -122.24     37.85                52.0       1467.0           190.0   \n",
       "3        -122.25     37.85                52.0       1274.0           235.0   \n",
       "4        -122.25     37.85                52.0       1627.0           280.0   \n",
       "...          ...       ...                 ...          ...             ...   \n",
       "20635    -121.09     39.48                25.0       1665.0           374.0   \n",
       "20636    -121.21     39.49                18.0        697.0           150.0   \n",
       "20637    -121.22     39.43                17.0       2254.0           485.0   \n",
       "20638    -121.32     39.43                18.0       1860.0           409.0   \n",
       "20639    -121.24     39.37                16.0       2785.0           616.0   \n",
       "\n",
       "       population  households  median_income  median_house_value  \\\n",
       "0           322.0       126.0         8.3252            452600.0   \n",
       "1          2401.0      1138.0         8.3014            358500.0   \n",
       "2           496.0       177.0         7.2574            352100.0   \n",
       "3           558.0       219.0         5.6431            341300.0   \n",
       "4           565.0       259.0         3.8462            342200.0   \n",
       "...           ...         ...            ...                 ...   \n",
       "20635       845.0       330.0         1.5603             78100.0   \n",
       "20636       356.0       114.0         2.5568             77100.0   \n",
       "20637      1007.0       433.0         1.7000             92300.0   \n",
       "20638       741.0       349.0         1.8672             84700.0   \n",
       "20639      1387.0       530.0         2.3886             89400.0   \n",
       "\n",
       "      ocean_proximity  \n",
       "0            NEAR BAY  \n",
       "1            NEAR BAY  \n",
       "2            NEAR BAY  \n",
       "3            NEAR BAY  \n",
       "4            NEAR BAY  \n",
       "...               ...  \n",
       "20635          INLAND  \n",
       "20636          INLAND  \n",
       "20637          INLAND  \n",
       "20638          INLAND  \n",
       "20639          INLAND  \n",
       "\n",
       "[20640 rows x 10 columns]"
      ]
     },
     "execution_count": 2,
     "metadata": {},
     "output_type": "execute_result"
    }
   ],
   "source": [
    "house = pd.read_csv('../housing.csv')\n",
    "house"
   ]
  },
  {
   "cell_type": "code",
   "execution_count": null,
   "id": "1c1d2481-b2e0-4ae9-ac3b-594256608e2b",
   "metadata": {},
   "outputs": [],
   "source": []
  },
  {
   "cell_type": "code",
   "execution_count": 3,
   "id": "bfcdb387-c3d2-46a7-81e3-8e689c3c4bfe",
   "metadata": {},
   "outputs": [
    {
     "data": {
      "text/plain": [
       "longitude               0\n",
       "latitude                0\n",
       "housing_median_age      0\n",
       "total_rooms             0\n",
       "total_bedrooms        207\n",
       "population              0\n",
       "households              0\n",
       "median_income           0\n",
       "median_house_value      0\n",
       "ocean_proximity         0\n",
       "dtype: int64"
      ]
     },
     "execution_count": 3,
     "metadata": {},
     "output_type": "execute_result"
    }
   ],
   "source": [
    "house.isna().sum()"
   ]
  },
  {
   "cell_type": "code",
   "execution_count": null,
   "id": "1ebb319f-22d0-4ffe-b3c3-3ac9b1fafc00",
   "metadata": {},
   "outputs": [],
   "source": []
  },
  {
   "cell_type": "code",
   "execution_count": null,
   "id": "5a38212b-30cd-4e22-bc36-a167caa5d0cf",
   "metadata": {},
   "outputs": [],
   "source": []
  },
  {
   "cell_type": "code",
   "execution_count": 4,
   "id": "31788e66-38c6-4744-9a5b-1f1db635ba74",
   "metadata": {},
   "outputs": [],
   "source": [
    "house.dropna(inplace=True)"
   ]
  },
  {
   "cell_type": "code",
   "execution_count": null,
   "id": "bae87610-30f9-4f84-907e-89040838a73f",
   "metadata": {},
   "outputs": [],
   "source": []
  },
  {
   "cell_type": "code",
   "execution_count": 5,
   "id": "9b6097b8-4361-4f2b-94f1-24ce911b2d96",
   "metadata": {},
   "outputs": [
    {
     "data": {
      "text/plain": [
       "longitude             0\n",
       "latitude              0\n",
       "housing_median_age    0\n",
       "total_rooms           0\n",
       "total_bedrooms        0\n",
       "population            0\n",
       "households            0\n",
       "median_income         0\n",
       "median_house_value    0\n",
       "ocean_proximity       0\n",
       "dtype: int64"
      ]
     },
     "execution_count": 5,
     "metadata": {},
     "output_type": "execute_result"
    }
   ],
   "source": [
    "house.isna().sum()\n"
   ]
  },
  {
   "cell_type": "code",
   "execution_count": null,
   "id": "6d224a5b-ce98-4489-ab98-af3c4179f74c",
   "metadata": {},
   "outputs": [],
   "source": []
  },
  {
   "cell_type": "code",
   "execution_count": 6,
   "id": "3213b788-a1c1-4d9c-9fee-58eba85526fb",
   "metadata": {},
   "outputs": [],
   "source": [
    "X = house.drop('median_house_value', axis=1)\n",
    "y = house.median_house_value"
   ]
  },
  {
   "cell_type": "code",
   "execution_count": null,
   "id": "a306c561-22b4-484e-a68d-98d47e3290f7",
   "metadata": {},
   "outputs": [],
   "source": []
  },
  {
   "cell_type": "code",
   "execution_count": 7,
   "id": "059eed7a-a776-4fb6-83af-8ae72def653a",
   "metadata": {},
   "outputs": [],
   "source": [
    "from sklearn.model_selection import StratifiedShuffleSplit"
   ]
  },
  {
   "cell_type": "code",
   "execution_count": 8,
   "id": "35467ff7-2c39-4d98-a63e-9562d1f2d460",
   "metadata": {},
   "outputs": [
    {
     "data": {
      "text/plain": [
       "StratifiedShuffleSplit(n_splits=1, random_state=123, test_size=0.2,\n",
       "            train_size=None)"
      ]
     },
     "execution_count": 8,
     "metadata": {},
     "output_type": "execute_result"
    }
   ],
   "source": [
    "split = StratifiedShuffleSplit(n_splits=1, test_size=0.2, random_state=123)\n",
    "split"
   ]
  },
  {
   "cell_type": "code",
   "execution_count": null,
   "id": "1e6d9963-d8e1-4357-9cd2-c2804d8429ec",
   "metadata": {},
   "outputs": [],
   "source": []
  },
  {
   "cell_type": "code",
   "execution_count": 10,
   "id": "90cd3812-92d6-446f-9543-ccefd2f62480",
   "metadata": {},
   "outputs": [],
   "source": [
    "(train_idx, test_idx), = split.split(X, X['ocean_proximity'])"
   ]
  },
  {
   "cell_type": "code",
   "execution_count": null,
   "id": "5e077170-115f-468a-bfe8-e2c129a48fd2",
   "metadata": {},
   "outputs": [],
   "source": []
  },
  {
   "cell_type": "code",
   "execution_count": 11,
   "id": "f6a7e63c-699c-4364-9bc2-eb21a756fe9c",
   "metadata": {},
   "outputs": [
    {
     "data": {
      "text/plain": [
       "array([10398,  5066,  9437, ...,  3567, 10068,  3442], dtype=int64)"
      ]
     },
     "execution_count": 11,
     "metadata": {},
     "output_type": "execute_result"
    }
   ],
   "source": [
    "train_idx"
   ]
  },
  {
   "cell_type": "code",
   "execution_count": 13,
   "id": "843227c1-0bde-4bf9-b194-f7ccbf69327c",
   "metadata": {},
   "outputs": [
    {
     "data": {
      "text/plain": [
       "array([20099,  7504,  8034, ..., 10468, 10180,   200], dtype=int64)"
      ]
     },
     "execution_count": 13,
     "metadata": {},
     "output_type": "execute_result"
    }
   ],
   "source": [
    "test_idx"
   ]
  },
  {
   "cell_type": "code",
   "execution_count": null,
   "id": "e5fcf3c4-2d0f-4cc4-84f6-490c2f990321",
   "metadata": {},
   "outputs": [],
   "source": []
  },
  {
   "cell_type": "code",
   "execution_count": 14,
   "id": "f1361c11-3031-445b-bad8-63be39c22f8d",
   "metadata": {},
   "outputs": [],
   "source": [
    "def stratified_sampling(X, y, col, test_size=0.2, random_state=123):\n",
    "    split = StratifiedShuffleSplit(n_splits=1, test_size=test_size, random_state=random_state)\n",
    "    for train_idx, test_idx in split.split(X, X[col]):\n",
    "        X_train = X.iloc[train_idx]\n",
    "        X_test = X.iloc[test_idx]\n",
    "        y_train = y.iloc[train_idx]\n",
    "        y_test = y.iloc[test_idx]\n",
    "    return X_train, X_test, y_train, y_test"
   ]
  },
  {
   "cell_type": "code",
   "execution_count": 16,
   "id": "57cb6fab-6033-4496-ab5b-f4352838537e",
   "metadata": {},
   "outputs": [],
   "source": [
    "X_train, X_test, y_train, y_test = stratified_sampling(X, y, 'ocean_proximity')"
   ]
  },
  {
   "cell_type": "code",
   "execution_count": 17,
   "id": "a20b0792-d356-4467-875d-d8d5cd8f21b6",
   "metadata": {},
   "outputs": [
    {
     "data": {
      "text/html": [
       "<div>\n",
       "<style scoped>\n",
       "    .dataframe tbody tr th:only-of-type {\n",
       "        vertical-align: middle;\n",
       "    }\n",
       "\n",
       "    .dataframe tbody tr th {\n",
       "        vertical-align: top;\n",
       "    }\n",
       "\n",
       "    .dataframe thead th {\n",
       "        text-align: right;\n",
       "    }\n",
       "</style>\n",
       "<table border=\"1\" class=\"dataframe\">\n",
       "  <thead>\n",
       "    <tr style=\"text-align: right;\">\n",
       "      <th></th>\n",
       "      <th>longitude</th>\n",
       "      <th>latitude</th>\n",
       "      <th>housing_median_age</th>\n",
       "      <th>total_rooms</th>\n",
       "      <th>total_bedrooms</th>\n",
       "      <th>population</th>\n",
       "      <th>households</th>\n",
       "      <th>median_income</th>\n",
       "      <th>ocean_proximity</th>\n",
       "    </tr>\n",
       "  </thead>\n",
       "  <tbody>\n",
       "    <tr>\n",
       "      <th>10505</th>\n",
       "      <td>-117.72</td>\n",
       "      <td>33.43</td>\n",
       "      <td>5.0</td>\n",
       "      <td>1889.0</td>\n",
       "      <td>359.0</td>\n",
       "      <td>616.0</td>\n",
       "      <td>246.0</td>\n",
       "      <td>3.8992</td>\n",
       "      <td>&lt;1H OCEAN</td>\n",
       "    </tr>\n",
       "    <tr>\n",
       "      <th>5120</th>\n",
       "      <td>-118.30</td>\n",
       "      <td>33.96</td>\n",
       "      <td>47.0</td>\n",
       "      <td>2112.0</td>\n",
       "      <td>417.0</td>\n",
       "      <td>1161.0</td>\n",
       "      <td>368.0</td>\n",
       "      <td>3.9722</td>\n",
       "      <td>&lt;1H OCEAN</td>\n",
       "    </tr>\n",
       "    <tr>\n",
       "      <th>9529</th>\n",
       "      <td>-123.15</td>\n",
       "      <td>38.94</td>\n",
       "      <td>22.0</td>\n",
       "      <td>2163.0</td>\n",
       "      <td>436.0</td>\n",
       "      <td>1048.0</td>\n",
       "      <td>358.0</td>\n",
       "      <td>2.7171</td>\n",
       "      <td>&lt;1H OCEAN</td>\n",
       "    </tr>\n",
       "    <tr>\n",
       "      <th>1545</th>\n",
       "      <td>-121.93</td>\n",
       "      <td>37.73</td>\n",
       "      <td>8.0</td>\n",
       "      <td>831.0</td>\n",
       "      <td>231.0</td>\n",
       "      <td>404.0</td>\n",
       "      <td>224.0</td>\n",
       "      <td>3.3750</td>\n",
       "      <td>&lt;1H OCEAN</td>\n",
       "    </tr>\n",
       "    <tr>\n",
       "      <th>3310</th>\n",
       "      <td>-122.63</td>\n",
       "      <td>38.94</td>\n",
       "      <td>18.0</td>\n",
       "      <td>3844.0</td>\n",
       "      <td>969.0</td>\n",
       "      <td>1832.0</td>\n",
       "      <td>845.0</td>\n",
       "      <td>1.1250</td>\n",
       "      <td>INLAND</td>\n",
       "    </tr>\n",
       "    <tr>\n",
       "      <th>...</th>\n",
       "      <td>...</td>\n",
       "      <td>...</td>\n",
       "      <td>...</td>\n",
       "      <td>...</td>\n",
       "      <td>...</td>\n",
       "      <td>...</td>\n",
       "      <td>...</td>\n",
       "      <td>...</td>\n",
       "      <td>...</td>\n",
       "    </tr>\n",
       "    <tr>\n",
       "      <th>5220</th>\n",
       "      <td>-118.24</td>\n",
       "      <td>33.95</td>\n",
       "      <td>36.0</td>\n",
       "      <td>2316.0</td>\n",
       "      <td>543.0</td>\n",
       "      <td>1938.0</td>\n",
       "      <td>507.0</td>\n",
       "      <td>1.2500</td>\n",
       "      <td>&lt;1H OCEAN</td>\n",
       "    </tr>\n",
       "    <tr>\n",
       "      <th>8675</th>\n",
       "      <td>-118.32</td>\n",
       "      <td>33.87</td>\n",
       "      <td>28.0</td>\n",
       "      <td>3763.0</td>\n",
       "      <td>762.0</td>\n",
       "      <td>1967.0</td>\n",
       "      <td>724.0</td>\n",
       "      <td>5.3244</td>\n",
       "      <td>&lt;1H OCEAN</td>\n",
       "    </tr>\n",
       "    <tr>\n",
       "      <th>3597</th>\n",
       "      <td>-118.50</td>\n",
       "      <td>34.25</td>\n",
       "      <td>32.0</td>\n",
       "      <td>2333.0</td>\n",
       "      <td>389.0</td>\n",
       "      <td>969.0</td>\n",
       "      <td>331.0</td>\n",
       "      <td>4.8164</td>\n",
       "      <td>&lt;1H OCEAN</td>\n",
       "    </tr>\n",
       "    <tr>\n",
       "      <th>10169</th>\n",
       "      <td>-117.94</td>\n",
       "      <td>33.90</td>\n",
       "      <td>27.0</td>\n",
       "      <td>2029.0</td>\n",
       "      <td>242.0</td>\n",
       "      <td>711.0</td>\n",
       "      <td>254.0</td>\n",
       "      <td>9.7956</td>\n",
       "      <td>&lt;1H OCEAN</td>\n",
       "    </tr>\n",
       "    <tr>\n",
       "      <th>3469</th>\n",
       "      <td>-118.47</td>\n",
       "      <td>34.30</td>\n",
       "      <td>16.0</td>\n",
       "      <td>2495.0</td>\n",
       "      <td>551.0</td>\n",
       "      <td>2314.0</td>\n",
       "      <td>567.0</td>\n",
       "      <td>3.6736</td>\n",
       "      <td>&lt;1H OCEAN</td>\n",
       "    </tr>\n",
       "  </tbody>\n",
       "</table>\n",
       "<p>16346 rows × 9 columns</p>\n",
       "</div>"
      ],
      "text/plain": [
       "       longitude  latitude  housing_median_age  total_rooms  total_bedrooms  \\\n",
       "10505    -117.72     33.43                 5.0       1889.0           359.0   \n",
       "5120     -118.30     33.96                47.0       2112.0           417.0   \n",
       "9529     -123.15     38.94                22.0       2163.0           436.0   \n",
       "1545     -121.93     37.73                 8.0        831.0           231.0   \n",
       "3310     -122.63     38.94                18.0       3844.0           969.0   \n",
       "...          ...       ...                 ...          ...             ...   \n",
       "5220     -118.24     33.95                36.0       2316.0           543.0   \n",
       "8675     -118.32     33.87                28.0       3763.0           762.0   \n",
       "3597     -118.50     34.25                32.0       2333.0           389.0   \n",
       "10169    -117.94     33.90                27.0       2029.0           242.0   \n",
       "3469     -118.47     34.30                16.0       2495.0           551.0   \n",
       "\n",
       "       population  households  median_income ocean_proximity  \n",
       "10505       616.0       246.0         3.8992       <1H OCEAN  \n",
       "5120       1161.0       368.0         3.9722       <1H OCEAN  \n",
       "9529       1048.0       358.0         2.7171       <1H OCEAN  \n",
       "1545        404.0       224.0         3.3750       <1H OCEAN  \n",
       "3310       1832.0       845.0         1.1250          INLAND  \n",
       "...           ...         ...            ...             ...  \n",
       "5220       1938.0       507.0         1.2500       <1H OCEAN  \n",
       "8675       1967.0       724.0         5.3244       <1H OCEAN  \n",
       "3597        969.0       331.0         4.8164       <1H OCEAN  \n",
       "10169       711.0       254.0         9.7956       <1H OCEAN  \n",
       "3469       2314.0       567.0         3.6736       <1H OCEAN  \n",
       "\n",
       "[16346 rows x 9 columns]"
      ]
     },
     "execution_count": 17,
     "metadata": {},
     "output_type": "execute_result"
    }
   ],
   "source": [
    "X_train"
   ]
  },
  {
   "cell_type": "code",
   "execution_count": 18,
   "id": "73fdd905-486a-4ed5-abd4-d9f146decc44",
   "metadata": {},
   "outputs": [
    {
     "data": {
      "text/plain": [
       "10505    500001.0\n",
       "5120     117400.0\n",
       "9529      95800.0\n",
       "1545     350000.0\n",
       "3310      81800.0\n",
       "           ...   \n",
       "5220      97400.0\n",
       "8675     271900.0\n",
       "3597     241100.0\n",
       "10169    500001.0\n",
       "3469     192200.0\n",
       "Name: median_house_value, Length: 16346, dtype: float64"
      ]
     },
     "execution_count": 18,
     "metadata": {},
     "output_type": "execute_result"
    }
   ],
   "source": [
    "y_train"
   ]
  },
  {
   "cell_type": "code",
   "execution_count": null,
   "id": "ab7fe9e9-e340-48f0-b822-085e19a42f3f",
   "metadata": {},
   "outputs": [],
   "source": []
  },
  {
   "cell_type": "code",
   "execution_count": 19,
   "id": "bad3e744-cce1-4d84-9cb5-c2626a3ffd15",
   "metadata": {},
   "outputs": [
    {
     "data": {
      "text/html": [
       "<div>\n",
       "<style scoped>\n",
       "    .dataframe tbody tr th:only-of-type {\n",
       "        vertical-align: middle;\n",
       "    }\n",
       "\n",
       "    .dataframe tbody tr th {\n",
       "        vertical-align: top;\n",
       "    }\n",
       "\n",
       "    .dataframe thead th {\n",
       "        text-align: right;\n",
       "    }\n",
       "</style>\n",
       "<table border=\"1\" class=\"dataframe\">\n",
       "  <thead>\n",
       "    <tr style=\"text-align: right;\">\n",
       "      <th></th>\n",
       "      <th>longitude</th>\n",
       "      <th>latitude</th>\n",
       "      <th>housing_median_age</th>\n",
       "      <th>total_rooms</th>\n",
       "      <th>total_bedrooms</th>\n",
       "      <th>population</th>\n",
       "      <th>households</th>\n",
       "      <th>median_income</th>\n",
       "      <th>ocean_proximity</th>\n",
       "    </tr>\n",
       "  </thead>\n",
       "  <tbody>\n",
       "    <tr>\n",
       "      <th>20303</th>\n",
       "      <td>-119.18</td>\n",
       "      <td>34.16</td>\n",
       "      <td>12.0</td>\n",
       "      <td>460.0</td>\n",
       "      <td>101.0</td>\n",
       "      <td>405.0</td>\n",
       "      <td>103.0</td>\n",
       "      <td>5.2783</td>\n",
       "      <td>NEAR OCEAN</td>\n",
       "    </tr>\n",
       "    <tr>\n",
       "      <th>7587</th>\n",
       "      <td>-118.23</td>\n",
       "      <td>33.90</td>\n",
       "      <td>34.0</td>\n",
       "      <td>2462.0</td>\n",
       "      <td>553.0</td>\n",
       "      <td>2334.0</td>\n",
       "      <td>502.0</td>\n",
       "      <td>1.6410</td>\n",
       "      <td>&lt;1H OCEAN</td>\n",
       "    </tr>\n",
       "    <tr>\n",
       "      <th>8121</th>\n",
       "      <td>-118.19</td>\n",
       "      <td>33.79</td>\n",
       "      <td>41.0</td>\n",
       "      <td>2114.0</td>\n",
       "      <td>612.0</td>\n",
       "      <td>2357.0</td>\n",
       "      <td>529.0</td>\n",
       "      <td>1.7938</td>\n",
       "      <td>NEAR OCEAN</td>\n",
       "    </tr>\n",
       "    <tr>\n",
       "      <th>8566</th>\n",
       "      <td>-118.42</td>\n",
       "      <td>33.93</td>\n",
       "      <td>39.0</td>\n",
       "      <td>2988.0</td>\n",
       "      <td>605.0</td>\n",
       "      <td>1466.0</td>\n",
       "      <td>610.0</td>\n",
       "      <td>4.9286</td>\n",
       "      <td>&lt;1H OCEAN</td>\n",
       "    </tr>\n",
       "    <tr>\n",
       "      <th>19322</th>\n",
       "      <td>-123.00</td>\n",
       "      <td>38.51</td>\n",
       "      <td>33.0</td>\n",
       "      <td>1565.0</td>\n",
       "      <td>390.0</td>\n",
       "      <td>759.0</td>\n",
       "      <td>311.0</td>\n",
       "      <td>2.6726</td>\n",
       "      <td>NEAR OCEAN</td>\n",
       "    </tr>\n",
       "    <tr>\n",
       "      <th>...</th>\n",
       "      <td>...</td>\n",
       "      <td>...</td>\n",
       "      <td>...</td>\n",
       "      <td>...</td>\n",
       "      <td>...</td>\n",
       "      <td>...</td>\n",
       "      <td>...</td>\n",
       "      <td>...</td>\n",
       "      <td>...</td>\n",
       "    </tr>\n",
       "    <tr>\n",
       "      <th>8205</th>\n",
       "      <td>-118.16</td>\n",
       "      <td>33.78</td>\n",
       "      <td>33.0</td>\n",
       "      <td>2048.0</td>\n",
       "      <td>585.0</td>\n",
       "      <td>2074.0</td>\n",
       "      <td>597.0</td>\n",
       "      <td>2.0156</td>\n",
       "      <td>NEAR OCEAN</td>\n",
       "    </tr>\n",
       "    <tr>\n",
       "      <th>9164</th>\n",
       "      <td>-118.47</td>\n",
       "      <td>34.42</td>\n",
       "      <td>25.0</td>\n",
       "      <td>3223.0</td>\n",
       "      <td>524.0</td>\n",
       "      <td>1763.0</td>\n",
       "      <td>508.0</td>\n",
       "      <td>5.2887</td>\n",
       "      <td>&lt;1H OCEAN</td>\n",
       "    </tr>\n",
       "    <tr>\n",
       "      <th>10575</th>\n",
       "      <td>-117.69</td>\n",
       "      <td>33.65</td>\n",
       "      <td>15.0</td>\n",
       "      <td>5394.0</td>\n",
       "      <td>748.0</td>\n",
       "      <td>2383.0</td>\n",
       "      <td>706.0</td>\n",
       "      <td>7.5619</td>\n",
       "      <td>&lt;1H OCEAN</td>\n",
       "    </tr>\n",
       "    <tr>\n",
       "      <th>10283</th>\n",
       "      <td>-117.76</td>\n",
       "      <td>33.87</td>\n",
       "      <td>16.0</td>\n",
       "      <td>3973.0</td>\n",
       "      <td>595.0</td>\n",
       "      <td>1971.0</td>\n",
       "      <td>575.0</td>\n",
       "      <td>6.4265</td>\n",
       "      <td>&lt;1H OCEAN</td>\n",
       "    </tr>\n",
       "    <tr>\n",
       "      <th>200</th>\n",
       "      <td>-122.23</td>\n",
       "      <td>37.78</td>\n",
       "      <td>52.0</td>\n",
       "      <td>862.0</td>\n",
       "      <td>215.0</td>\n",
       "      <td>994.0</td>\n",
       "      <td>213.0</td>\n",
       "      <td>3.0257</td>\n",
       "      <td>NEAR BAY</td>\n",
       "    </tr>\n",
       "  </tbody>\n",
       "</table>\n",
       "<p>4087 rows × 9 columns</p>\n",
       "</div>"
      ],
      "text/plain": [
       "       longitude  latitude  housing_median_age  total_rooms  total_bedrooms  \\\n",
       "20303    -119.18     34.16                12.0        460.0           101.0   \n",
       "7587     -118.23     33.90                34.0       2462.0           553.0   \n",
       "8121     -118.19     33.79                41.0       2114.0           612.0   \n",
       "8566     -118.42     33.93                39.0       2988.0           605.0   \n",
       "19322    -123.00     38.51                33.0       1565.0           390.0   \n",
       "...          ...       ...                 ...          ...             ...   \n",
       "8205     -118.16     33.78                33.0       2048.0           585.0   \n",
       "9164     -118.47     34.42                25.0       3223.0           524.0   \n",
       "10575    -117.69     33.65                15.0       5394.0           748.0   \n",
       "10283    -117.76     33.87                16.0       3973.0           595.0   \n",
       "200      -122.23     37.78                52.0        862.0           215.0   \n",
       "\n",
       "       population  households  median_income ocean_proximity  \n",
       "20303       405.0       103.0         5.2783      NEAR OCEAN  \n",
       "7587       2334.0       502.0         1.6410       <1H OCEAN  \n",
       "8121       2357.0       529.0         1.7938      NEAR OCEAN  \n",
       "8566       1466.0       610.0         4.9286       <1H OCEAN  \n",
       "19322       759.0       311.0         2.6726      NEAR OCEAN  \n",
       "...           ...         ...            ...             ...  \n",
       "8205       2074.0       597.0         2.0156      NEAR OCEAN  \n",
       "9164       1763.0       508.0         5.2887       <1H OCEAN  \n",
       "10575      2383.0       706.0         7.5619       <1H OCEAN  \n",
       "10283      1971.0       575.0         6.4265       <1H OCEAN  \n",
       "200         994.0       213.0         3.0257        NEAR BAY  \n",
       "\n",
       "[4087 rows x 9 columns]"
      ]
     },
     "execution_count": 19,
     "metadata": {},
     "output_type": "execute_result"
    }
   ],
   "source": [
    "X_test"
   ]
  },
  {
   "cell_type": "code",
   "execution_count": 20,
   "id": "4e0a7eb2-ade9-4e2d-80e9-8e8ae23b8a2a",
   "metadata": {},
   "outputs": [
    {
     "data": {
      "text/plain": [
       "20303    167400.0\n",
       "7587      96800.0\n",
       "8121     142600.0\n",
       "8566     341400.0\n",
       "19322    153100.0\n",
       "           ...   \n",
       "8205     152700.0\n",
       "9164     183000.0\n",
       "10575    302000.0\n",
       "10283    263700.0\n",
       "200       80800.0\n",
       "Name: median_house_value, Length: 4087, dtype: float64"
      ]
     },
     "execution_count": 20,
     "metadata": {},
     "output_type": "execute_result"
    }
   ],
   "source": [
    "y_test"
   ]
  },
  {
   "cell_type": "code",
   "execution_count": null,
   "id": "0ff0a8e6-223a-4165-acd7-7abe221333a2",
   "metadata": {},
   "outputs": [],
   "source": []
  },
  {
   "cell_type": "code",
   "execution_count": 28,
   "id": "1defdd74-ebac-492a-a05a-1c06d90a2bd1",
   "metadata": {},
   "outputs": [
    {
     "name": "stderr",
     "output_type": "stream",
     "text": [
      "C:\\Users\\hello\\AppData\\Local\\Temp\\ipykernel_29864\\3252897307.py:1: SettingWithCopyWarning: \n",
      "A value is trying to be set on a copy of a slice from a DataFrame\n",
      "\n",
      "See the caveats in the documentation: https://pandas.pydata.org/pandas-docs/stable/user_guide/indexing.html#returning-a-view-versus-a-copy\n",
      "  X_train.drop('ocean_proximity', axis=1, inplace=True)\n",
      "C:\\Users\\hello\\AppData\\Local\\Temp\\ipykernel_29864\\3252897307.py:2: SettingWithCopyWarning: \n",
      "A value is trying to be set on a copy of a slice from a DataFrame\n",
      "\n",
      "See the caveats in the documentation: https://pandas.pydata.org/pandas-docs/stable/user_guide/indexing.html#returning-a-view-versus-a-copy\n",
      "  X_test.drop('ocean_proximity', axis=1, inplace=True)\n"
     ]
    }
   ],
   "source": [
    "X_train.drop('ocean_proximity', axis=1, inplace=True)\n",
    "X_test.drop('ocean_proximity', axis=1, inplace=True)\n"
   ]
  },
  {
   "cell_type": "code",
   "execution_count": null,
   "id": "ad2bfd81-823b-4390-a118-5fded815fa69",
   "metadata": {},
   "outputs": [],
   "source": []
  },
  {
   "cell_type": "code",
   "execution_count": null,
   "id": "c47fefda-3cd2-47ef-87a4-c68c390b2c63",
   "metadata": {},
   "outputs": [],
   "source": []
  },
  {
   "cell_type": "code",
   "execution_count": 29,
   "id": "31a57ae3-71e7-4cfd-ab3d-75d6502654ef",
   "metadata": {},
   "outputs": [],
   "source": [
    "from sklearn.linear_model import LinearRegression, SGDRegressor\n",
    "from sklearn.ensemble import RandomForestRegressor\n",
    "from sklearn.neighbors import KNeighborsRegressor"
   ]
  },
  {
   "cell_type": "code",
   "execution_count": null,
   "id": "c2e3fa97-dcd6-4737-b796-b6610898e151",
   "metadata": {},
   "outputs": [],
   "source": []
  },
  {
   "cell_type": "code",
   "execution_count": 30,
   "id": "8b66f3ef-47b9-4946-a533-04f280829f44",
   "metadata": {},
   "outputs": [],
   "source": [
    "models = [\n",
    "    ('linear regression', LinearRegression()),\n",
    "    ('SGD', SGDRegressor()),\n",
    "    ('Tree', RandomForestRegressor()),\n",
    "    ('Knn_model', KNeighborsRegressor())\n",
    "]"
   ]
  },
  {
   "cell_type": "code",
   "execution_count": 31,
   "id": "7ef46f1d-5cef-49ba-949c-f81415ea5a76",
   "metadata": {},
   "outputs": [],
   "source": [
    "from sklearn.metrics import r2_score, mean_absolute_error"
   ]
  },
  {
   "cell_type": "code",
   "execution_count": 33,
   "id": "3893c747-1395-400a-8dc4-3bd28dcd0764",
   "metadata": {},
   "outputs": [
    {
     "name": "stdout",
     "output_type": "stream",
     "text": [
      "Model name: linear regression\n",
      "Training error for  linear regression: 50956.02\n",
      "Training accuracy for linear regression: 0.6350862075555035\n",
      "\n",
      "Testing error for  linear regression: 50622.31\n",
      "Testing accuracy for linear regression: 0.6438089301328178\n",
      "\n",
      "Model name: SGD\n",
      "Training error for  SGD: 469303816083847.62\n",
      "Training accuracy for SGD: -4.176384116868237e+19\n",
      "\n",
      "Testing error for  SGD: 478985526050662.81\n",
      "Testing accuracy for SGD: -4.496416017067022e+19\n",
      "\n",
      "Model name: Tree\n",
      "Training error for  Tree: 11787.58\n",
      "Training accuracy for Tree: 0.9749399094723286\n",
      "\n",
      "Testing error for  Tree: 31981.43\n",
      "Testing accuracy for Tree: 0.8113690948841954\n",
      "\n",
      "Model name: Knn_model\n",
      "Training error for  Knn_model: 61892.52\n",
      "Training accuracy for Knn_model: 0.5159350799148933\n",
      "\n",
      "Testing error for  Knn_model: 77929.21\n",
      "Testing accuracy for Knn_model: 0.2252236096221264\n",
      "\n"
     ]
    }
   ],
   "source": [
    "for name, model in models:\n",
    "    print(f\"Model name: {name}\")\n",
    "    model.fit(X_train, y_train)\n",
    "    y_hat = model.predict(X_train)\n",
    "    print(f\"Training error for  {name}: {mean_absolute_error(y_train, y_hat):.2f}\")\n",
    "    print(f\"Training accuracy for {name}: {r2_score(y_train, y_hat)}\")\n",
    "    print()\n",
    "\n",
    "    y_hat = model.predict(X_test)\n",
    "    print(f\"Testing error for  {name}: {mean_absolute_error(y_test, y_hat):.2f}\")\n",
    "    print(f\"Testing accuracy for {name}: {r2_score(y_test, y_hat)}\")\n",
    "    print()"
   ]
  },
  {
   "cell_type": "code",
   "execution_count": null,
   "id": "d42d5f72-f0dd-4253-8ad9-33b339464248",
   "metadata": {},
   "outputs": [],
   "source": []
  },
  {
   "cell_type": "code",
   "execution_count": null,
   "id": "e4bf3cbf-453e-4225-9165-e43cd83e0a4a",
   "metadata": {},
   "outputs": [],
   "source": []
  },
  {
   "cell_type": "code",
   "execution_count": null,
   "id": "3b2d6a50-b562-4bbc-8f46-6769b8f242ce",
   "metadata": {},
   "outputs": [],
   "source": [
    "def stratified_sampling(X, y, col, test_size=0.2, random_state=123):\n",
    "    split = StratifiedShuffleSplit(n_splits=1, test_size=test_size, random_state=random_state)\n",
    "    for train_idx, test_idx in split.split(X, X[col]):\n",
    "        X_train = X.iloc[train_idx]\n",
    "        X_test = X.iloc[test_idx]\n",
    "        y_train = y.iloc[train_idx]\n",
    "        y_test = y.iloc[test_idx]\n",
    "    return X_train, X_test, y_train, y_test"
   ]
  },
  {
   "cell_type": "code",
   "execution_count": null,
   "id": "fc891633-2ee6-4957-8a1c-a237ee8f66ff",
   "metadata": {},
   "outputs": [],
   "source": []
  },
  {
   "cell_type": "code",
   "execution_count": 37,
   "id": "bb6ea7b8-c06a-478a-8a48-4b1f56704249",
   "metadata": {},
   "outputs": [],
   "source": [
    "split = StratifiedShuffleSplit(n_splits=5, test_size=0.2, random_state=123)\n",
    "ls = []\n",
    "for i in split.split(X, X['ocean_proximity']):\n",
    "    ls.append(i)"
   ]
  },
  {
   "cell_type": "code",
   "execution_count": 38,
   "id": "c15ca26e-f34f-4491-89fa-80d4c0652b1e",
   "metadata": {},
   "outputs": [
    {
     "data": {
      "text/plain": [
       "[(array([10398,  5066,  9437, ...,  3567, 10068,  3442], dtype=int64),\n",
       "  array([20099,  7504,  8034, ..., 10468, 10180,   200], dtype=int64)),\n",
       " (array([ 2396,  7082,   713, ..., 15519, 13454, 16029], dtype=int64),\n",
       "  array([ 7516,  1676, 15309, ..., 15961,  9099,  5019], dtype=int64)),\n",
       " (array([10989, 14643, 12253, ...,  4733,  3634, 18102], dtype=int64),\n",
       "  array([17909,  1708,  5893, ...,  6140, 14554, 17492], dtype=int64)),\n",
       " (array([16814,  9286, 18852, ...,   111, 16531,  1872], dtype=int64),\n",
       "  array([  373,  8244, 13599, ...,  1440, 19983,  9466], dtype=int64)),\n",
       " (array([ 5774,  8003, 12791, ..., 18150, 13186,    17], dtype=int64),\n",
       "  array([ 4109, 15914, 11920, ...,  7851,  8413, 15330], dtype=int64))]"
      ]
     },
     "execution_count": 38,
     "metadata": {},
     "output_type": "execute_result"
    }
   ],
   "source": [
    "ls"
   ]
  },
  {
   "cell_type": "code",
   "execution_count": 39,
   "id": "b14f3cdc-017e-4e9a-a3da-33f8ce1db2c0",
   "metadata": {},
   "outputs": [
    {
     "data": {
      "text/plain": [
       "(array([10398,  5066,  9437, ...,  3567, 10068,  3442], dtype=int64),\n",
       " array([20099,  7504,  8034, ..., 10468, 10180,   200], dtype=int64))"
      ]
     },
     "execution_count": 39,
     "metadata": {},
     "output_type": "execute_result"
    }
   ],
   "source": [
    "ls[0]"
   ]
  },
  {
   "cell_type": "code",
   "execution_count": 40,
   "id": "65011b37-46c5-4aa7-bdff-6a759b051ed7",
   "metadata": {},
   "outputs": [
    {
     "name": "stdout",
     "output_type": "stream",
     "text": [
      "(array([10398,  5066,  9437, ...,  3567, 10068,  3442], dtype=int64), array([20099,  7504,  8034, ..., 10468, 10180,   200], dtype=int64))\n",
      "(array([ 2396,  7082,   713, ..., 15519, 13454, 16029], dtype=int64), array([ 7516,  1676, 15309, ..., 15961,  9099,  5019], dtype=int64))\n",
      "(array([10989, 14643, 12253, ...,  4733,  3634, 18102], dtype=int64), array([17909,  1708,  5893, ...,  6140, 14554, 17492], dtype=int64))\n",
      "(array([16814,  9286, 18852, ...,   111, 16531,  1872], dtype=int64), array([  373,  8244, 13599, ...,  1440, 19983,  9466], dtype=int64))\n",
      "(array([ 5774,  8003, 12791, ..., 18150, 13186,    17], dtype=int64), array([ 4109, 15914, 11920, ...,  7851,  8413, 15330], dtype=int64))\n"
     ]
    }
   ],
   "source": [
    "for i in ls:\n",
    "    print(i)"
   ]
  },
  {
   "cell_type": "code",
   "execution_count": 41,
   "id": "6fb27c96-5083-48a5-ba78-be3a7a9e9f15",
   "metadata": {},
   "outputs": [
    {
     "name": "stdout",
     "output_type": "stream",
     "text": [
      "[10398  5066  9437 ...  3567 10068  3442]\n",
      "[20099  7504  8034 ... 10468 10180   200]\n",
      "\n",
      "[ 2396  7082   713 ... 15519 13454 16029]\n",
      "[ 7516  1676 15309 ... 15961  9099  5019]\n",
      "\n",
      "[10989 14643 12253 ...  4733  3634 18102]\n",
      "[17909  1708  5893 ...  6140 14554 17492]\n",
      "\n",
      "[16814  9286 18852 ...   111 16531  1872]\n",
      "[  373  8244 13599 ...  1440 19983  9466]\n",
      "\n",
      "[ 5774  8003 12791 ... 18150 13186    17]\n",
      "[ 4109 15914 11920 ...  7851  8413 15330]\n",
      "\n"
     ]
    }
   ],
   "source": [
    "for train_idx, test_idx in ls:\n",
    "    print(train_idx)\n",
    "    print(test_idx)\n",
    "    print()"
   ]
  },
  {
   "cell_type": "code",
   "execution_count": null,
   "id": "113f9c64-42e2-4ce7-a4a2-642473379779",
   "metadata": {},
   "outputs": [],
   "source": []
  },
  {
   "cell_type": "code",
   "execution_count": null,
   "id": "da8db69c-578a-49ba-88cb-c813ea460575",
   "metadata": {},
   "outputs": [],
   "source": []
  },
  {
   "cell_type": "code",
   "execution_count": 42,
   "id": "5e896454-6ab6-4f4b-a53e-f4f1d53a0e96",
   "metadata": {},
   "outputs": [],
   "source": [
    "arr = np.random.normal(170, 20, 1000)\n"
   ]
  },
  {
   "cell_type": "code",
   "execution_count": 44,
   "id": "8f454040-e208-42c6-9124-0bd4d0414f7e",
   "metadata": {},
   "outputs": [
    {
     "name": "stderr",
     "output_type": "stream",
     "text": [
      "C:\\Users\\hello\\anaconda3\\Lib\\site-packages\\seaborn\\_oldcore.py:1119: FutureWarning: use_inf_as_na option is deprecated and will be removed in a future version. Convert inf values to NaN before operating instead.\n",
      "  with pd.option_context('mode.use_inf_as_na', True):\n"
     ]
    },
    {
     "data": {
      "text/plain": [
       "<Axes: ylabel='Count'>"
      ]
     },
     "execution_count": 44,
     "metadata": {},
     "output_type": "execute_result"
    },
    {
     "data": {
      "image/png": "[encoded data removed]",
      "text/plain": [
       "<Figure size 640x480 with 1 Axes>"
      ]
     },
     "metadata": {},
     "output_type": "display_data"
    }
   ],
   "source": [
    "sns.histplot(arr, kde=True)"
   ]
  },
  {
   "cell_type": "code",
   "execution_count": null,
   "id": "d09e01e9-0317-4d54-9ed5-6041aa1f6f8e",
   "metadata": {},
   "outputs": [],
   "source": []
  },
  {
   "cell_type": "code",
   "execution_count": 45,
   "id": "577cbc98-f396-4f42-b3e7-fdea6f3a9785",
   "metadata": {},
   "outputs": [
    {
     "data": {
      "text/plain": [
       "107.58383902306528"
      ]
     },
     "execution_count": 45,
     "metadata": {},
     "output_type": "execute_result"
    }
   ],
   "source": [
    "min(arr)"
   ]
  },
  {
   "cell_type": "code",
   "execution_count": 46,
   "id": "27e0d9ec-3cfe-4730-95e0-fe1c7fa7168f",
   "metadata": {},
   "outputs": [
    {
     "data": {
      "text/plain": [
       "237.38765118671208"
      ]
     },
     "execution_count": 46,
     "metadata": {},
     "output_type": "execute_result"
    }
   ],
   "source": [
    "max(arr)"
   ]
  },
  {
   "cell_type": "code",
   "execution_count": null,
   "id": "2a549701-c1c0-4d1b-aeae-9007bd27c27f",
   "metadata": {},
   "outputs": [],
   "source": []
  },
  {
   "cell_type": "code",
   "execution_count": 48,
   "id": "2a16269b-1c4d-47b1-9c5b-aa76ca5e0b00",
   "metadata": {},
   "outputs": [],
   "source": [
    "arr1 = np.random.randn(1000)"
   ]
  },
  {
   "cell_type": "code",
   "execution_count": 49,
   "id": "b42e4f81-4a6c-4b0f-beea-833021924643",
   "metadata": {},
   "outputs": [
    {
     "name": "stderr",
     "output_type": "stream",
     "text": [
      "C:\\Users\\hello\\anaconda3\\Lib\\site-packages\\seaborn\\_oldcore.py:1119: FutureWarning: use_inf_as_na option is deprecated and will be removed in a future version. Convert inf values to NaN before operating instead.\n",
      "  with pd.option_context('mode.use_inf_as_na', True):\n"
     ]
    },
    {
     "data": {
      "text/plain": [
       "<Axes: ylabel='Count'>"
      ]
     },
     "execution_count": 49,
     "metadata": {},
     "output_type": "execute_result"
    },
    {
     "data": {
      "image/png": "[encoded data removed]",
      "text/plain": [
       "<Figure size 640x480 with 1 Axes>"
      ]
     },
     "metadata": {},
     "output_type": "display_data"
    }
   ],
   "source": [
    "sns.histplot(arr1, kde=True)\n"
   ]
  },
  {
   "cell_type": "code",
   "execution_count": null,
   "id": "896d8f74-3fc7-4e27-a285-3f5002157f89",
   "metadata": {},
   "outputs": [],
   "source": []
  },
  {
   "cell_type": "code",
   "execution_count": null,
   "id": "c0a5e0a8-b831-4d24-a82e-ea5645d1f37a",
   "metadata": {},
   "outputs": [],
   "source": []
  }
 ],
 "metadata": {
  "kernelspec": {
   "display_name": "Python 3 (ipykernel)",
   "language": "python",
   "name": "python3"
  },
  "language_info": {
   "codemirror_mode": {
    "name": "ipython",
    "version": 3
   },
   "file_extension": ".py",
   "mimetype": "text/x-python",
   "name": "python",
   "nbconvert_exporter": "python",
   "pygments_lexer": "ipython3",
   "version": "3.11.7"
  }
 },
 "nbformat": 4,
 "nbformat_minor": 5
}
