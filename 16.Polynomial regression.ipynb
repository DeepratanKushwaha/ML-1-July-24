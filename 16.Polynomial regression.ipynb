{
 "cells": [
  {
   "cell_type": "code",
   "execution_count": null,
   "id": "3b2fc289-bd5d-4cbe-92f1-979ef986a3a4",
   "metadata": {},
   "outputs": [],
   "source": []
  },
  {
   "cell_type": "code",
   "execution_count": 1,
   "id": "54d02efe-eb35-43ab-977a-eb5680bc170f",
   "metadata": {},
   "outputs": [],
   "source": [
    "import numpy as np\n",
    "import pandas as pd\n",
    "import matplotlib.pyplot as plt\n",
    "import seaborn as sns"
   ]
  },
  {
   "cell_type": "code",
   "execution_count": null,
   "id": "ea872237-47f7-4299-8bf4-26bb61290028",
   "metadata": {},
   "outputs": [],
   "source": []
  },
  {
   "cell_type": "code",
   "execution_count": null,
   "id": "b69250e7-652f-4fd9-82f9-e2971ae4bea8",
   "metadata": {},
   "outputs": [],
   "source": []
  },
  {
   "cell_type": "code",
   "execution_count": 2,
   "id": "989776a1-c7e9-492c-9639-915db26ba469",
   "metadata": {},
   "outputs": [
    {
     "data": {
      "text/plain": [
       "array([ 1,  2,  3,  4,  5,  6,  7,  8,  9, 10])"
      ]
     },
     "execution_count": 2,
     "metadata": {},
     "output_type": "execute_result"
    }
   ],
   "source": [
    "arr = np.arange(1, 11)\n",
    "arr"
   ]
  },
  {
   "cell_type": "code",
   "execution_count": 8,
   "id": "5fc56b37-8f1a-41e3-b402-8e5ec0b51bb6",
   "metadata": {},
   "outputs": [],
   "source": [
    "arr1 = arr **5"
   ]
  },
  {
   "cell_type": "code",
   "execution_count": null,
   "id": "fced78d8-b708-43a3-8ae7-dede1ab84877",
   "metadata": {},
   "outputs": [],
   "source": []
  },
  {
   "cell_type": "code",
   "execution_count": 9,
   "id": "a58076d5-f352-4d57-959b-1043440756f4",
   "metadata": {},
   "outputs": [
    {
     "data": {
      "text/plain": [
       "[<matplotlib.lines.Line2D at 0x219e75e3c90>]"
      ]
     },
     "execution_count": 9,
     "metadata": {},
     "output_type": "execute_result"
    },
    {
     "data": {
      "image/png": "[encoded data removed]",
      "text/plain": [
       "<Figure size 640x480 with 1 Axes>"
      ]
     },
     "metadata": {},
     "output_type": "display_data"
    }
   ],
   "source": [
    "plt.plot(arr)\n",
    "plt.plot(arr1)"
   ]
  },
  {
   "cell_type": "code",
   "execution_count": null,
   "id": "e8f4ae12-ec11-4669-bd7f-ce518aa83425",
   "metadata": {},
   "outputs": [],
   "source": []
  },
  {
   "cell_type": "code",
   "execution_count": null,
   "id": "9a166402-6e14-476d-abaf-9465d050ab50",
   "metadata": {},
   "outputs": [],
   "source": []
  },
  {
   "cell_type": "code",
   "execution_count": null,
   "id": "3bdb4a1b-cc1e-4aaf-b19d-6067ab00602b",
   "metadata": {},
   "outputs": [],
   "source": []
  },
  {
   "cell_type": "code",
   "execution_count": 16,
   "id": "432f3004-bf1e-4574-a161-45513ffa7f50",
   "metadata": {},
   "outputs": [],
   "source": [
    "m = 100\n",
    "X = 6 * np.random.rand(m, 1) - 3\n",
    "y = 0.5 * X ** 2 + X + 2 + np.random.randn(m, 1)                      # y = ax^2 + bx + c"
   ]
  },
  {
   "cell_type": "code",
   "execution_count": 17,
   "id": "44c20a3c-8e56-4a2f-a7ca-586a1ebf204e",
   "metadata": {
    "scrolled": true
   },
   "outputs": [
    {
     "data": {
      "text/plain": [
       "array([[ 0.95431817],\n",
       "       [ 0.31949375],\n",
       "       [ 1.28590188],\n",
       "       [-2.49028457],\n",
       "       [-2.26261923],\n",
       "       [-0.97392939],\n",
       "       [ 1.81833995],\n",
       "       [-0.3625296 ],\n",
       "       [ 0.5300324 ],\n",
       "       [-1.27721693],\n",
       "       [ 2.96267185],\n",
       "       [-1.48566527],\n",
       "       [ 2.54852017],\n",
       "       [ 2.94729172],\n",
       "       [ 1.82412141],\n",
       "       [-2.40584421],\n",
       "       [ 1.972799  ],\n",
       "       [ 1.68728552],\n",
       "       [-2.11317081],\n",
       "       [-0.01028182],\n",
       "       [ 1.33000113],\n",
       "       [ 0.57229402],\n",
       "       [-1.41731056],\n",
       "       [ 0.22062713],\n",
       "       [ 1.26291778],\n",
       "       [-1.00949725],\n",
       "       [ 0.57524564],\n",
       "       [-1.61768844],\n",
       "       [-2.37556498],\n",
       "       [ 1.56423719],\n",
       "       [ 1.73463233],\n",
       "       [ 2.7538434 ],\n",
       "       [-1.75517649],\n",
       "       [-2.37241541],\n",
       "       [ 1.13064671],\n",
       "       [-2.01004644],\n",
       "       [ 1.21860022],\n",
       "       [-2.22871957],\n",
       "       [ 0.2515625 ],\n",
       "       [-2.01767256],\n",
       "       [-1.46670645],\n",
       "       [-1.18429705],\n",
       "       [-1.73566145],\n",
       "       [-1.88493358],\n",
       "       [ 2.24732394],\n",
       "       [-1.88451454],\n",
       "       [ 0.61090872],\n",
       "       [ 1.10177737],\n",
       "       [-0.07612496],\n",
       "       [ 2.66040427],\n",
       "       [-1.30818039],\n",
       "       [-2.23387243],\n",
       "       [-2.04189215],\n",
       "       [-0.57199124],\n",
       "       [ 2.95036127],\n",
       "       [-1.69111243],\n",
       "       [ 0.14936854],\n",
       "       [-1.8136288 ],\n",
       "       [-1.98359803],\n",
       "       [-0.21927318],\n",
       "       [-2.55628257],\n",
       "       [-1.95698592],\n",
       "       [-0.70350786],\n",
       "       [-0.28555927],\n",
       "       [ 1.5396086 ],\n",
       "       [ 0.11621958],\n",
       "       [-1.56982265],\n",
       "       [ 0.85913881],\n",
       "       [-1.48030904],\n",
       "       [ 0.73304163],\n",
       "       [ 0.91002041],\n",
       "       [-2.65756407],\n",
       "       [-1.26152424],\n",
       "       [ 2.93550257],\n",
       "       [-2.71022852],\n",
       "       [ 1.16545754],\n",
       "       [ 1.59450933],\n",
       "       [-2.924141  ],\n",
       "       [-0.24381135],\n",
       "       [-0.77571071],\n",
       "       [ 2.33910814],\n",
       "       [ 0.62818179],\n",
       "       [-0.52540885],\n",
       "       [-1.39012848],\n",
       "       [ 0.345557  ],\n",
       "       [ 0.90423664],\n",
       "       [ 1.07919621],\n",
       "       [ 2.20143126],\n",
       "       [ 1.71566532],\n",
       "       [ 0.50984647],\n",
       "       [ 2.97713433],\n",
       "       [ 2.40088305],\n",
       "       [-1.09360396],\n",
       "       [-1.24385483],\n",
       "       [ 1.9930927 ],\n",
       "       [ 1.26668381],\n",
       "       [ 1.96461885],\n",
       "       [-2.97357815],\n",
       "       [ 1.39167297],\n",
       "       [-2.74027367]])"
      ]
     },
     "execution_count": 17,
     "metadata": {},
     "output_type": "execute_result"
    }
   ],
   "source": [
    "X"
   ]
  },
  {
   "cell_type": "code",
   "execution_count": 18,
   "id": "7a63e976-5435-41d7-aa99-b8bbd00fa325",
   "metadata": {
    "scrolled": true
   },
   "outputs": [
    {
     "data": {
      "text/plain": [
       "array([[ 2.59337456],\n",
       "       [ 2.18137576],\n",
       "       [ 5.42893248],\n",
       "       [ 5.22034774],\n",
       "       [ 2.3806478 ],\n",
       "       [ 2.00130071],\n",
       "       [ 4.25699762],\n",
       "       [ 2.54077119],\n",
       "       [ 3.53507393],\n",
       "       [ 2.68632351],\n",
       "       [11.72375414],\n",
       "       [ 0.76718525],\n",
       "       [ 7.19881143],\n",
       "       [10.68799892],\n",
       "       [ 5.51203811],\n",
       "       [ 2.81509112],\n",
       "       [ 6.44797083],\n",
       "       [ 4.15779539],\n",
       "       [ 2.10079125],\n",
       "       [ 2.31699158],\n",
       "       [ 5.32937594],\n",
       "       [ 5.60206131],\n",
       "       [ 1.33417221],\n",
       "       [ 3.72524133],\n",
       "       [ 2.21747159],\n",
       "       [ 2.5046458 ],\n",
       "       [ 1.37790137],\n",
       "       [ 0.53930744],\n",
       "       [ 2.10328694],\n",
       "       [ 3.32087451],\n",
       "       [ 4.91141727],\n",
       "       [ 8.56394578],\n",
       "       [ 2.10984321],\n",
       "       [ 2.82141611],\n",
       "       [ 3.16722142],\n",
       "       [ 2.01270634],\n",
       "       [ 3.89640063],\n",
       "       [ 1.86110726],\n",
       "       [ 3.17653815],\n",
       "       [ 2.09020622],\n",
       "       [ 2.52565548],\n",
       "       [ 1.81374478],\n",
       "       [ 4.22481661],\n",
       "       [ 3.06419947],\n",
       "       [ 5.85019656],\n",
       "       [ 3.12353407],\n",
       "       [ 3.07981807],\n",
       "       [ 3.52071752],\n",
       "       [ 1.37538264],\n",
       "       [ 8.77515128],\n",
       "       [ 2.378701  ],\n",
       "       [ 1.15512171],\n",
       "       [ 1.81044461],\n",
       "       [ 3.21973279],\n",
       "       [ 9.55951969],\n",
       "       [ 2.25911063],\n",
       "       [ 2.42747877],\n",
       "       [ 0.7929699 ],\n",
       "       [ 1.559382  ],\n",
       "       [ 2.08184805],\n",
       "       [ 3.1393232 ],\n",
       "       [ 1.21961177],\n",
       "       [ 2.21711203],\n",
       "       [ 0.82334031],\n",
       "       [ 4.41762212],\n",
       "       [ 1.29645912],\n",
       "       [ 3.18567124],\n",
       "       [ 2.57268637],\n",
       "       [ 3.06601899],\n",
       "       [ 1.76218939],\n",
       "       [ 2.37571993],\n",
       "       [ 3.88750068],\n",
       "       [ 3.11490536],\n",
       "       [ 9.40877601],\n",
       "       [ 3.62488884],\n",
       "       [ 4.57427717],\n",
       "       [ 4.16197342],\n",
       "       [ 5.15162563],\n",
       "       [ 2.06190285],\n",
       "       [ 1.46124048],\n",
       "       [ 5.30165211],\n",
       "       [ 2.17800902],\n",
       "       [ 2.16307637],\n",
       "       [ 1.18443638],\n",
       "       [ 2.38881381],\n",
       "       [ 3.2389232 ],\n",
       "       [ 1.16732356],\n",
       "       [ 6.88183488],\n",
       "       [ 4.42304919],\n",
       "       [ 2.30627319],\n",
       "       [ 8.5896874 ],\n",
       "       [ 5.43714434],\n",
       "       [ 0.71118507],\n",
       "       [ 1.4658417 ],\n",
       "       [ 6.26626816],\n",
       "       [ 4.51888362],\n",
       "       [ 5.65671799],\n",
       "       [ 3.06638255],\n",
       "       [ 2.47608497],\n",
       "       [ 3.6716433 ]])"
      ]
     },
     "execution_count": 18,
     "metadata": {},
     "output_type": "execute_result"
    }
   ],
   "source": [
    "y"
   ]
  },
  {
   "cell_type": "code",
   "execution_count": null,
   "id": "b21f7bf2-d225-45d4-b881-7d97898cc03e",
   "metadata": {},
   "outputs": [],
   "source": []
  },
  {
   "cell_type": "code",
   "execution_count": null,
   "id": "fb83eba0-dd0e-4cd3-9338-4803aa73df4c",
   "metadata": {},
   "outputs": [],
   "source": []
  },
  {
   "cell_type": "code",
   "execution_count": 19,
   "id": "5ff19bde-38ee-4354-9a87-5dd9a4203fac",
   "metadata": {},
   "outputs": [
    {
     "data": {
      "image/png": "[encoded data removed]",
      "text/plain": [
       "<Figure size 768x576 with 1 Axes>"
      ]
     },
     "metadata": {},
     "output_type": "display_data"
    }
   ],
   "source": [
    "plt.figure(dpi=120)\n",
    "plt.scatter(X, y)\n",
    "plt.show()"
   ]
  },
  {
   "cell_type": "code",
   "execution_count": null,
   "id": "da72cc1f-5abd-4420-b923-e20a9e0ccb1e",
   "metadata": {},
   "outputs": [],
   "source": []
  },
  {
   "cell_type": "code",
   "execution_count": 20,
   "id": "36213070-adba-4887-afbb-b927ed638795",
   "metadata": {},
   "outputs": [],
   "source": [
    "from sklearn.linear_model import SGDRegressor"
   ]
  },
  {
   "cell_type": "code",
   "execution_count": null,
   "id": "355566a8-42c6-4626-b3aa-3a8a4f676f64",
   "metadata": {},
   "outputs": [],
   "source": []
  },
  {
   "cell_type": "code",
   "execution_count": 21,
   "id": "7fb9c3bc-36f9-4556-b655-23ccba5519c5",
   "metadata": {},
   "outputs": [],
   "source": [
    "model = SGDRegressor()"
   ]
  },
  {
   "cell_type": "code",
   "execution_count": 23,
   "id": "ee088f16-5977-4b6a-810b-31d721963f24",
   "metadata": {},
   "outputs": [
    {
     "data": {
      "text/html": [
       "<style>#sk-container-id-2 {color: black;background-color: white;}#sk-container-id-2 pre{padding: 0;}#sk-container-id-2 div.sk-toggleable {background-color: white;}#sk-container-id-2 label.sk-toggleable__label {cursor: pointer;display: block;width: 100%;margin-bottom: 0;padding: 0.3em;box-sizing: border-box;text-align: center;}#sk-container-id-2 label.sk-toggleable__label-arrow:before {content: \"▸\";float: left;margin-right: 0.25em;color: #696969;}#sk-container-id-2 label.sk-toggleable__label-arrow:hover:before {color: black;}#sk-container-id-2 div.sk-estimator:hover label.sk-toggleable__label-arrow:before {color: black;}#sk-container-id-2 div.sk-toggleable__content {max-height: 0;max-width: 0;overflow: hidden;text-align: left;background-color: #f0f8ff;}#sk-container-id-2 div.sk-toggleable__content pre {margin: 0.2em;color: black;border-radius: 0.25em;background-color: #f0f8ff;}#sk-container-id-2 input.sk-toggleable__control:checked~div.sk-toggleable__content {max-height: 200px;max-width: 100%;overflow: auto;}#sk-container-id-2 input.sk-toggleable__control:checked~label.sk-toggleable__label-arrow:before {content: \"▾\";}#sk-container-id-2 div.sk-estimator input.sk-toggleable__control:checked~label.sk-toggleable__label {background-color: #d4ebff;}#sk-container-id-2 div.sk-label input.sk-toggleable__control:checked~label.sk-toggleable__label {background-color: #d4ebff;}#sk-container-id-2 input.sk-hidden--visually {border: 0;clip: rect(1px 1px 1px 1px);clip: rect(1px, 1px, 1px, 1px);height: 1px;margin: -1px;overflow: hidden;padding: 0;position: absolute;width: 1px;}#sk-container-id-2 div.sk-estimator {font-family: monospace;background-color: #f0f8ff;border: 1px dotted black;border-radius: 0.25em;box-sizing: border-box;margin-bottom: 0.5em;}#sk-container-id-2 div.sk-estimator:hover {background-color: #d4ebff;}#sk-container-id-2 div.sk-parallel-item::after {content: \"\";width: 100%;border-bottom: 1px solid gray;flex-grow: 1;}#sk-container-id-2 div.sk-label:hover label.sk-toggleable__label {background-color: #d4ebff;}#sk-container-id-2 div.sk-serial::before {content: \"\";position: absolute;border-left: 1px solid gray;box-sizing: border-box;top: 0;bottom: 0;left: 50%;z-index: 0;}#sk-container-id-2 div.sk-serial {display: flex;flex-direction: column;align-items: center;background-color: white;padding-right: 0.2em;padding-left: 0.2em;position: relative;}#sk-container-id-2 div.sk-item {position: relative;z-index: 1;}#sk-container-id-2 div.sk-parallel {display: flex;align-items: stretch;justify-content: center;background-color: white;position: relative;}#sk-container-id-2 div.sk-item::before, #sk-container-id-2 div.sk-parallel-item::before {content: \"\";position: absolute;border-left: 1px solid gray;box-sizing: border-box;top: 0;bottom: 0;left: 50%;z-index: -1;}#sk-container-id-2 div.sk-parallel-item {display: flex;flex-direction: column;z-index: 1;position: relative;background-color: white;}#sk-container-id-2 div.sk-parallel-item:first-child::after {align-self: flex-end;width: 50%;}#sk-container-id-2 div.sk-parallel-item:last-child::after {align-self: flex-start;width: 50%;}#sk-container-id-2 div.sk-parallel-item:only-child::after {width: 0;}#sk-container-id-2 div.sk-dashed-wrapped {border: 1px dashed gray;margin: 0 0.4em 0.5em 0.4em;box-sizing: border-box;padding-bottom: 0.4em;background-color: white;}#sk-container-id-2 div.sk-label label {font-family: monospace;font-weight: bold;display: inline-block;line-height: 1.2em;}#sk-container-id-2 div.sk-label-container {text-align: center;}#sk-container-id-2 div.sk-container {/* jupyter's `normalize.less` sets `[hidden] { display: none; }` but bootstrap.min.css set `[hidden] { display: none !important; }` so we also need the `!important` here to be able to override the default hidden behavior on the sphinx rendered scikit-learn.org. See: https://github.com/scikit-learn/scikit-learn/issues/21755 */display: inline-block !important;position: relative;}#sk-container-id-2 div.sk-text-repr-fallback {display: none;}</style><div id=\"sk-container-id-2\" class=\"sk-top-container\"><div class=\"sk-text-repr-fallback\"><pre>SGDRegressor()</pre><b>In a Jupyter environment, please rerun this cell to show the HTML representation or trust the notebook. <br />On GitHub, the HTML representation is unable to render, please try loading this page with nbviewer.org.</b></div><div class=\"sk-container\" hidden><div class=\"sk-item\"><div class=\"sk-estimator sk-toggleable\"><input class=\"sk-toggleable__control sk-hidden--visually\" id=\"sk-estimator-id-2\" type=\"checkbox\" checked><label for=\"sk-estimator-id-2\" class=\"sk-toggleable__label sk-toggleable__label-arrow\">SGDRegressor</label><div class=\"sk-toggleable__content\"><pre>SGDRegressor()</pre></div></div></div></div></div>"
      ],
      "text/plain": [
       "SGDRegressor()"
      ]
     },
     "execution_count": 23,
     "metadata": {},
     "output_type": "execute_result"
    }
   ],
   "source": [
    "model.fit(X, y.ravel())"
   ]
  },
  {
   "cell_type": "code",
   "execution_count": 24,
   "id": "3ff9461d-16a4-49a6-bc32-4378b53ce6cd",
   "metadata": {},
   "outputs": [
    {
     "data": {
      "text/plain": [
       "array([4.3358647 , 3.79530576, 4.61821133, 1.40275321, 1.59661238,\n",
       "       2.69394385, 5.07158734, 3.21455649, 3.97458139, 2.43569166,\n",
       "       6.04599667, 2.25819596, 5.69334263, 6.03290034, 5.0765103 ,\n",
       "       1.47465497, 5.20311066, 4.95999326, 1.72386911, 3.51449878,\n",
       "       4.65576226, 4.01056756, 2.31640063, 3.71111991, 4.59864015,\n",
       "       2.66365748, 4.01308089, 2.14577699, 1.50043802, 4.85521645,\n",
       "       5.00030952, 5.86817729, 2.02870462, 1.50311991, 4.4860101 ,\n",
       "       1.81168047, 4.56090334, 1.62547826, 3.73746167, 1.80518676,\n",
       "       2.27433957, 2.51481382, 2.04532187, 1.91821525, 5.43687122,\n",
       "       1.91857206, 4.04344834, 4.46142759, 3.45843273, 5.78861299,\n",
       "       2.40932599, 1.62109055, 1.78456356, 3.03619794, 6.03551409,\n",
       "       2.08325577, 3.65044256, 1.97893194, 1.83420154, 3.33654068,\n",
       "       1.3465553 , 1.856862  , 2.92421031, 3.28009745, 4.83424498,\n",
       "       3.62221591, 2.18653516, 4.25481858, 2.26275684, 4.14744566,\n",
       "       4.29814475, 1.26031315, 2.44905414, 6.02286177, 1.21546888,\n",
       "       4.51565185, 4.88099347, 1.0333204 , 3.3156462 , 2.86272891,\n",
       "       5.51502632, 4.05815652, 3.07586329, 2.33954642, 3.81749886,\n",
       "       4.29321981, 4.44219952, 5.39779317, 4.98415892, 3.95739288,\n",
       "       6.0583116 , 5.56762824, 2.59203983, 2.46409981, 5.22039094,\n",
       "       4.60184697, 5.19614519, 0.99122421, 4.70827641, 1.18988515])"
      ]
     },
     "execution_count": 24,
     "metadata": {},
     "output_type": "execute_result"
    }
   ],
   "source": [
    "y_pred = model.predict(X)\n",
    "y_pred"
   ]
  },
  {
   "cell_type": "code",
   "execution_count": null,
   "id": "9eb9ae1f-f004-45d1-b62c-aaca537f5cae",
   "metadata": {},
   "outputs": [],
   "source": []
  },
  {
   "cell_type": "code",
   "execution_count": null,
   "id": "830b61ba-d4d9-471c-bfa4-496cd27ea08e",
   "metadata": {},
   "outputs": [],
   "source": []
  },
  {
   "cell_type": "code",
   "execution_count": 25,
   "id": "7ce1cf57-9ec6-4f40-a6f0-5becd779cafa",
   "metadata": {},
   "outputs": [
    {
     "data": {
      "image/png": "[encoded data removed]",
      "text/plain": [
       "<Figure size 768x576 with 1 Axes>"
      ]
     },
     "metadata": {},
     "output_type": "display_data"
    }
   ],
   "source": [
    "plt.figure(dpi=120)\n",
    "plt.scatter(X, y, label='actual')\n",
    "plt.plot(X, y_pred, label='prediction')\n",
    "plt.legend()\n",
    "plt.show()"
   ]
  },
  {
   "cell_type": "code",
   "execution_count": 26,
   "id": "b037d9e6-fa03-4902-ab18-88883a5d2c9d",
   "metadata": {},
   "outputs": [],
   "source": [
    "from sklearn.metrics import r2_score"
   ]
  },
  {
   "cell_type": "code",
   "execution_count": 27,
   "id": "f97ae30b-ae92-4f7d-b516-36123678a2c3",
   "metadata": {},
   "outputs": [
    {
     "data": {
      "text/plain": [
       "0.4265163656412051"
      ]
     },
     "execution_count": 27,
     "metadata": {},
     "output_type": "execute_result"
    }
   ],
   "source": [
    "r2_score(y, y_pred)"
   ]
  },
  {
   "cell_type": "markdown",
   "id": "0e72a2b7-064e-43ac-95e7-0374d6bd4acc",
   "metadata": {},
   "source": [
    "    lets take 2 degree polynomial of feature  --> X"
   ]
  },
  {
   "cell_type": "code",
   "execution_count": null,
   "id": "f6f6970a-89f4-4124-930d-b568cf36b843",
   "metadata": {},
   "outputs": [],
   "source": []
  },
  {
   "cell_type": "code",
   "execution_count": 28,
   "id": "3a09c2e9-8f21-4140-80f3-aaf0ec5db83a",
   "metadata": {
    "scrolled": true
   },
   "outputs": [
    {
     "data": {
      "text/plain": [
       "array([[ 0.95431817],\n",
       "       [ 0.31949375],\n",
       "       [ 1.28590188],\n",
       "       [-2.49028457],\n",
       "       [-2.26261923],\n",
       "       [-0.97392939],\n",
       "       [ 1.81833995],\n",
       "       [-0.3625296 ],\n",
       "       [ 0.5300324 ],\n",
       "       [-1.27721693],\n",
       "       [ 2.96267185],\n",
       "       [-1.48566527],\n",
       "       [ 2.54852017],\n",
       "       [ 2.94729172],\n",
       "       [ 1.82412141],\n",
       "       [-2.40584421],\n",
       "       [ 1.972799  ],\n",
       "       [ 1.68728552],\n",
       "       [-2.11317081],\n",
       "       [-0.01028182],\n",
       "       [ 1.33000113],\n",
       "       [ 0.57229402],\n",
       "       [-1.41731056],\n",
       "       [ 0.22062713],\n",
       "       [ 1.26291778],\n",
       "       [-1.00949725],\n",
       "       [ 0.57524564],\n",
       "       [-1.61768844],\n",
       "       [-2.37556498],\n",
       "       [ 1.56423719],\n",
       "       [ 1.73463233],\n",
       "       [ 2.7538434 ],\n",
       "       [-1.75517649],\n",
       "       [-2.37241541],\n",
       "       [ 1.13064671],\n",
       "       [-2.01004644],\n",
       "       [ 1.21860022],\n",
       "       [-2.22871957],\n",
       "       [ 0.2515625 ],\n",
       "       [-2.01767256],\n",
       "       [-1.46670645],\n",
       "       [-1.18429705],\n",
       "       [-1.73566145],\n",
       "       [-1.88493358],\n",
       "       [ 2.24732394],\n",
       "       [-1.88451454],\n",
       "       [ 0.61090872],\n",
       "       [ 1.10177737],\n",
       "       [-0.07612496],\n",
       "       [ 2.66040427],\n",
       "       [-1.30818039],\n",
       "       [-2.23387243],\n",
       "       [-2.04189215],\n",
       "       [-0.57199124],\n",
       "       [ 2.95036127],\n",
       "       [-1.69111243],\n",
       "       [ 0.14936854],\n",
       "       [-1.8136288 ],\n",
       "       [-1.98359803],\n",
       "       [-0.21927318],\n",
       "       [-2.55628257],\n",
       "       [-1.95698592],\n",
       "       [-0.70350786],\n",
       "       [-0.28555927],\n",
       "       [ 1.5396086 ],\n",
       "       [ 0.11621958],\n",
       "       [-1.56982265],\n",
       "       [ 0.85913881],\n",
       "       [-1.48030904],\n",
       "       [ 0.73304163],\n",
       "       [ 0.91002041],\n",
       "       [-2.65756407],\n",
       "       [-1.26152424],\n",
       "       [ 2.93550257],\n",
       "       [-2.71022852],\n",
       "       [ 1.16545754],\n",
       "       [ 1.59450933],\n",
       "       [-2.924141  ],\n",
       "       [-0.24381135],\n",
       "       [-0.77571071],\n",
       "       [ 2.33910814],\n",
       "       [ 0.62818179],\n",
       "       [-0.52540885],\n",
       "       [-1.39012848],\n",
       "       [ 0.345557  ],\n",
       "       [ 0.90423664],\n",
       "       [ 1.07919621],\n",
       "       [ 2.20143126],\n",
       "       [ 1.71566532],\n",
       "       [ 0.50984647],\n",
       "       [ 2.97713433],\n",
       "       [ 2.40088305],\n",
       "       [-1.09360396],\n",
       "       [-1.24385483],\n",
       "       [ 1.9930927 ],\n",
       "       [ 1.26668381],\n",
       "       [ 1.96461885],\n",
       "       [-2.97357815],\n",
       "       [ 1.39167297],\n",
       "       [-2.74027367]])"
      ]
     },
     "execution_count": 28,
     "metadata": {},
     "output_type": "execute_result"
    }
   ],
   "source": [
    "X"
   ]
  },
  {
   "cell_type": "code",
   "execution_count": null,
   "id": "a9fed7e9-c5d0-4eec-af56-dafe9c58caaf",
   "metadata": {},
   "outputs": [],
   "source": []
  },
  {
   "cell_type": "code",
   "execution_count": 30,
   "id": "0fff1727-5e29-4120-886e-2d72a18e9be8",
   "metadata": {
    "scrolled": true
   },
   "outputs": [
    {
     "data": {
      "text/plain": [
       "array([[ 0.95,  0.91],\n",
       "       [ 0.32,  0.1 ],\n",
       "       [ 1.29,  1.65],\n",
       "       [-2.49,  6.2 ],\n",
       "       [-2.26,  5.12],\n",
       "       [-0.97,  0.95],\n",
       "       [ 1.82,  3.31],\n",
       "       [-0.36,  0.13],\n",
       "       [ 0.53,  0.28],\n",
       "       [-1.28,  1.63],\n",
       "       [ 2.96,  8.78],\n",
       "       [-1.49,  2.21],\n",
       "       [ 2.55,  6.49],\n",
       "       [ 2.95,  8.69],\n",
       "       [ 1.82,  3.33],\n",
       "       [-2.41,  5.79],\n",
       "       [ 1.97,  3.89],\n",
       "       [ 1.69,  2.85],\n",
       "       [-2.11,  4.47],\n",
       "       [-0.01,  0.  ],\n",
       "       [ 1.33,  1.77],\n",
       "       [ 0.57,  0.33],\n",
       "       [-1.42,  2.01],\n",
       "       [ 0.22,  0.05],\n",
       "       [ 1.26,  1.59],\n",
       "       [-1.01,  1.02],\n",
       "       [ 0.58,  0.33],\n",
       "       [-1.62,  2.62],\n",
       "       [-2.38,  5.64],\n",
       "       [ 1.56,  2.45],\n",
       "       [ 1.73,  3.01],\n",
       "       [ 2.75,  7.58],\n",
       "       [-1.76,  3.08],\n",
       "       [-2.37,  5.63],\n",
       "       [ 1.13,  1.28],\n",
       "       [-2.01,  4.04],\n",
       "       [ 1.22,  1.48],\n",
       "       [-2.23,  4.97],\n",
       "       [ 0.25,  0.06],\n",
       "       [-2.02,  4.07],\n",
       "       [-1.47,  2.15],\n",
       "       [-1.18,  1.4 ],\n",
       "       [-1.74,  3.01],\n",
       "       [-1.88,  3.55],\n",
       "       [ 2.25,  5.05],\n",
       "       [-1.88,  3.55],\n",
       "       [ 0.61,  0.37],\n",
       "       [ 1.1 ,  1.21],\n",
       "       [-0.08,  0.01],\n",
       "       [ 2.66,  7.08],\n",
       "       [-1.31,  1.71],\n",
       "       [-2.23,  4.99],\n",
       "       [-2.04,  4.17],\n",
       "       [-0.57,  0.33],\n",
       "       [ 2.95,  8.7 ],\n",
       "       [-1.69,  2.86],\n",
       "       [ 0.15,  0.02],\n",
       "       [-1.81,  3.29],\n",
       "       [-1.98,  3.93],\n",
       "       [-0.22,  0.05],\n",
       "       [-2.56,  6.53],\n",
       "       [-1.96,  3.83],\n",
       "       [-0.7 ,  0.49],\n",
       "       [-0.29,  0.08],\n",
       "       [ 1.54,  2.37],\n",
       "       [ 0.12,  0.01],\n",
       "       [-1.57,  2.46],\n",
       "       [ 0.86,  0.74],\n",
       "       [-1.48,  2.19],\n",
       "       [ 0.73,  0.54],\n",
       "       [ 0.91,  0.83],\n",
       "       [-2.66,  7.06],\n",
       "       [-1.26,  1.59],\n",
       "       [ 2.94,  8.62],\n",
       "       [-2.71,  7.35],\n",
       "       [ 1.17,  1.36],\n",
       "       [ 1.59,  2.54],\n",
       "       [-2.92,  8.55],\n",
       "       [-0.24,  0.06],\n",
       "       [-0.78,  0.6 ],\n",
       "       [ 2.34,  5.47],\n",
       "       [ 0.63,  0.39],\n",
       "       [-0.53,  0.28],\n",
       "       [-1.39,  1.93],\n",
       "       [ 0.35,  0.12],\n",
       "       [ 0.9 ,  0.82],\n",
       "       [ 1.08,  1.16],\n",
       "       [ 2.2 ,  4.85],\n",
       "       [ 1.72,  2.94],\n",
       "       [ 0.51,  0.26],\n",
       "       [ 2.98,  8.86],\n",
       "       [ 2.4 ,  5.76],\n",
       "       [-1.09,  1.2 ],\n",
       "       [-1.24,  1.55],\n",
       "       [ 1.99,  3.97],\n",
       "       [ 1.27,  1.6 ],\n",
       "       [ 1.96,  3.86],\n",
       "       [-2.97,  8.84],\n",
       "       [ 1.39,  1.94],\n",
       "       [-2.74,  7.51]])"
      ]
     },
     "execution_count": 30,
     "metadata": {},
     "output_type": "execute_result"
    }
   ],
   "source": [
    "X_new = np.round(np.c_[X, X**2], 2)\n",
    "X_new"
   ]
  },
  {
   "cell_type": "code",
   "execution_count": null,
   "id": "ba70d42d-fd87-40df-8792-4ef99e682912",
   "metadata": {},
   "outputs": [],
   "source": []
  },
  {
   "cell_type": "code",
   "execution_count": null,
   "id": "9f9996f5-5ace-45de-84a2-23d608e97f51",
   "metadata": {},
   "outputs": [],
   "source": []
  },
  {
   "cell_type": "code",
   "execution_count": 32,
   "id": "ee97c2cd-29bd-44bd-82f1-2f6e6640dc6b",
   "metadata": {},
   "outputs": [
    {
     "data": {
      "text/html": [
       "<style>#sk-container-id-4 {color: black;background-color: white;}#sk-container-id-4 pre{padding: 0;}#sk-container-id-4 div.sk-toggleable {background-color: white;}#sk-container-id-4 label.sk-toggleable__label {cursor: pointer;display: block;width: 100%;margin-bottom: 0;padding: 0.3em;box-sizing: border-box;text-align: center;}#sk-container-id-4 label.sk-toggleable__label-arrow:before {content: \"▸\";float: left;margin-right: 0.25em;color: #696969;}#sk-container-id-4 label.sk-toggleable__label-arrow:hover:before {color: black;}#sk-container-id-4 div.sk-estimator:hover label.sk-toggleable__label-arrow:before {color: black;}#sk-container-id-4 div.sk-toggleable__content {max-height: 0;max-width: 0;overflow: hidden;text-align: left;background-color: #f0f8ff;}#sk-container-id-4 div.sk-toggleable__content pre {margin: 0.2em;color: black;border-radius: 0.25em;background-color: #f0f8ff;}#sk-container-id-4 input.sk-toggleable__control:checked~div.sk-toggleable__content {max-height: 200px;max-width: 100%;overflow: auto;}#sk-container-id-4 input.sk-toggleable__control:checked~label.sk-toggleable__label-arrow:before {content: \"▾\";}#sk-container-id-4 div.sk-estimator input.sk-toggleable__control:checked~label.sk-toggleable__label {background-color: #d4ebff;}#sk-container-id-4 div.sk-label input.sk-toggleable__control:checked~label.sk-toggleable__label {background-color: #d4ebff;}#sk-container-id-4 input.sk-hidden--visually {border: 0;clip: rect(1px 1px 1px 1px);clip: rect(1px, 1px, 1px, 1px);height: 1px;margin: -1px;overflow: hidden;padding: 0;position: absolute;width: 1px;}#sk-container-id-4 div.sk-estimator {font-family: monospace;background-color: #f0f8ff;border: 1px dotted black;border-radius: 0.25em;box-sizing: border-box;margin-bottom: 0.5em;}#sk-container-id-4 div.sk-estimator:hover {background-color: #d4ebff;}#sk-container-id-4 div.sk-parallel-item::after {content: \"\";width: 100%;border-bottom: 1px solid gray;flex-grow: 1;}#sk-container-id-4 div.sk-label:hover label.sk-toggleable__label {background-color: #d4ebff;}#sk-container-id-4 div.sk-serial::before {content: \"\";position: absolute;border-left: 1px solid gray;box-sizing: border-box;top: 0;bottom: 0;left: 50%;z-index: 0;}#sk-container-id-4 div.sk-serial {display: flex;flex-direction: column;align-items: center;background-color: white;padding-right: 0.2em;padding-left: 0.2em;position: relative;}#sk-container-id-4 div.sk-item {position: relative;z-index: 1;}#sk-container-id-4 div.sk-parallel {display: flex;align-items: stretch;justify-content: center;background-color: white;position: relative;}#sk-container-id-4 div.sk-item::before, #sk-container-id-4 div.sk-parallel-item::before {content: \"\";position: absolute;border-left: 1px solid gray;box-sizing: border-box;top: 0;bottom: 0;left: 50%;z-index: -1;}#sk-container-id-4 div.sk-parallel-item {display: flex;flex-direction: column;z-index: 1;position: relative;background-color: white;}#sk-container-id-4 div.sk-parallel-item:first-child::after {align-self: flex-end;width: 50%;}#sk-container-id-4 div.sk-parallel-item:last-child::after {align-self: flex-start;width: 50%;}#sk-container-id-4 div.sk-parallel-item:only-child::after {width: 0;}#sk-container-id-4 div.sk-dashed-wrapped {border: 1px dashed gray;margin: 0 0.4em 0.5em 0.4em;box-sizing: border-box;padding-bottom: 0.4em;background-color: white;}#sk-container-id-4 div.sk-label label {font-family: monospace;font-weight: bold;display: inline-block;line-height: 1.2em;}#sk-container-id-4 div.sk-label-container {text-align: center;}#sk-container-id-4 div.sk-container {/* jupyter's `normalize.less` sets `[hidden] { display: none; }` but bootstrap.min.css set `[hidden] { display: none !important; }` so we also need the `!important` here to be able to override the default hidden behavior on the sphinx rendered scikit-learn.org. See: https://github.com/scikit-learn/scikit-learn/issues/21755 */display: inline-block !important;position: relative;}#sk-container-id-4 div.sk-text-repr-fallback {display: none;}</style><div id=\"sk-container-id-4\" class=\"sk-top-container\"><div class=\"sk-text-repr-fallback\"><pre>SGDRegressor()</pre><b>In a Jupyter environment, please rerun this cell to show the HTML representation or trust the notebook. <br />On GitHub, the HTML representation is unable to render, please try loading this page with nbviewer.org.</b></div><div class=\"sk-container\" hidden><div class=\"sk-item\"><div class=\"sk-estimator sk-toggleable\"><input class=\"sk-toggleable__control sk-hidden--visually\" id=\"sk-estimator-id-4\" type=\"checkbox\" checked><label for=\"sk-estimator-id-4\" class=\"sk-toggleable__label sk-toggleable__label-arrow\">SGDRegressor</label><div class=\"sk-toggleable__content\"><pre>SGDRegressor()</pre></div></div></div></div></div>"
      ],
      "text/plain": [
       "SGDRegressor()"
      ]
     },
     "execution_count": 32,
     "metadata": {},
     "output_type": "execute_result"
    }
   ],
   "source": [
    "model.fit(X_new, y.ravel())"
   ]
  },
  {
   "cell_type": "code",
   "execution_count": 33,
   "id": "f83ec153-202a-466d-8e77-bb48227322cf",
   "metadata": {},
   "outputs": [
    {
     "data": {
      "text/plain": [
       "array([3.15377593, 2.17084088, 3.8522462 , 3.17444135, 2.77017047,\n",
       "       1.54968983, 5.22198155, 1.61150994, 2.44856215, 1.66431594,\n",
       "       9.2218366 , 1.80817301, 7.60427715, 9.16344267, 5.23307572,\n",
       "       3.01477236, 5.67076507, 4.85670338, 2.53666274, 1.83585413,\n",
       "       3.95269192, 2.51017828, 1.7565226 , 2.05840367, 3.79355316,\n",
       "       1.5546387 , 2.51864846, 1.9254911 , 2.95697665, 4.52470771,\n",
       "       4.97933743, 8.37831283, 2.06207443, 2.95989975, 3.51148125,\n",
       "       2.38283995, 3.69865453, 2.71237475, 2.08936129, 2.39101102,\n",
       "       1.79183087, 1.62143482, 2.0401852 , 2.22114519, 6.55139177,\n",
       "       2.22114519, 2.56624733, 3.44724113, 1.78210996, 8.02472705,\n",
       "       1.68328207, 2.72346892, 2.42954149, 1.54457784, 9.16898976,\n",
       "       1.99932985, 1.98247117, 2.13621228, 2.34723257, 1.68571578,\n",
       "       3.29820384, 2.30870209, 1.52321884, 1.64306578, 4.46339069,\n",
       "       1.95151354, 1.87908866, 2.9832439 , 1.80554903, 2.7621899 ,\n",
       "       3.07551855, 3.50749747, 1.65906797, 9.11614291, 3.62601199,\n",
       "       3.58973863, 4.600042  , 4.11378823, 1.67432251, 1.51647532,\n",
       "       6.86060088, 2.59428186, 1.55072314, 1.73755647, 2.20734559,\n",
       "       3.06150129, 3.40256535, 6.3980992 , 4.93203767, 2.42052762,\n",
       "       9.28315363, 7.07228738, 1.58672477, 1.65381999, 5.7320821 ,\n",
       "       3.80757043, 5.64565365, 4.23230275, 4.09781341, 3.68935479])"
      ]
     },
     "execution_count": 33,
     "metadata": {},
     "output_type": "execute_result"
    }
   ],
   "source": [
    "y_pred = model.predict(X_new)\n",
    "y_pred"
   ]
  },
  {
   "cell_type": "code",
   "execution_count": null,
   "id": "4275acc6-1e27-4905-8ebf-5995bd6c41bb",
   "metadata": {},
   "outputs": [],
   "source": []
  },
  {
   "cell_type": "code",
   "execution_count": null,
   "id": "fbf99b5a-8b44-4abe-9705-e1173bc1e174",
   "metadata": {},
   "outputs": [],
   "source": []
  },
  {
   "cell_type": "code",
   "execution_count": 35,
   "id": "8f3e4701-9b9d-4e16-8bd8-5e757d57295f",
   "metadata": {},
   "outputs": [
    {
     "data": {
      "image/png": "[encoded data removed]",
      "text/plain": [
       "<Figure size 768x576 with 1 Axes>"
      ]
     },
     "metadata": {},
     "output_type": "display_data"
    }
   ],
   "source": [
    "plt.figure(dpi=120)\n",
    "plt.scatter(X, y, label='actual')\n",
    "plt.scatter(X, y_pred, label='prediction')\n",
    "plt.legend()\n",
    "plt.show()"
   ]
  },
  {
   "cell_type": "code",
   "execution_count": null,
   "id": "a7cff159-e14b-44f3-821a-dcba06bc41c4",
   "metadata": {},
   "outputs": [],
   "source": []
  },
  {
   "cell_type": "code",
   "execution_count": 36,
   "id": "9fd91f20-e6f9-4090-b8e0-ba63a1878573",
   "metadata": {},
   "outputs": [
    {
     "data": {
      "text/plain": [
       "0.8098976413242763"
      ]
     },
     "execution_count": 36,
     "metadata": {},
     "output_type": "execute_result"
    }
   ],
   "source": [
    "r2_score(y, y_pred)"
   ]
  },
  {
   "cell_type": "code",
   "execution_count": null,
   "id": "6fa57de2-688a-4698-aa3f-bef79db5dd2b",
   "metadata": {},
   "outputs": [],
   "source": []
  },
  {
   "cell_type": "code",
   "execution_count": null,
   "id": "721b5f52-7c05-4579-a777-30506bba4ab8",
   "metadata": {},
   "outputs": [],
   "source": []
  },
  {
   "cell_type": "code",
   "execution_count": null,
   "id": "3fe7f2a9-8d19-4956-97b4-87c5bf72e733",
   "metadata": {
    "scrolled": true
   },
   "outputs": [],
   "source": []
  },
  {
   "cell_type": "code",
   "execution_count": null,
   "id": "475ad683-7cc5-40a4-88b6-3d820781684c",
   "metadata": {},
   "outputs": [],
   "source": []
  },
  {
   "cell_type": "code",
   "execution_count": 42,
   "id": "82fb896b-e384-4040-9d6f-37ffbef27b65",
   "metadata": {
    "scrolled": true
   },
   "outputs": [
    {
     "data": {
      "text/plain": [
       "array([[ 0.95431817],\n",
       "       [ 0.31949375],\n",
       "       [ 1.28590188],\n",
       "       [-2.49028457],\n",
       "       [-2.26261923],\n",
       "       [-0.97392939],\n",
       "       [ 1.81833995],\n",
       "       [-0.3625296 ],\n",
       "       [ 0.5300324 ],\n",
       "       [-1.27721693],\n",
       "       [ 2.96267185],\n",
       "       [-1.48566527],\n",
       "       [ 2.54852017],\n",
       "       [ 2.94729172],\n",
       "       [ 1.82412141],\n",
       "       [-2.40584421],\n",
       "       [ 1.972799  ],\n",
       "       [ 1.68728552],\n",
       "       [-2.11317081],\n",
       "       [-0.01028182],\n",
       "       [ 1.33000113],\n",
       "       [ 0.57229402],\n",
       "       [-1.41731056],\n",
       "       [ 0.22062713],\n",
       "       [ 1.26291778],\n",
       "       [-1.00949725],\n",
       "       [ 0.57524564],\n",
       "       [-1.61768844],\n",
       "       [-2.37556498],\n",
       "       [ 1.56423719],\n",
       "       [ 1.73463233],\n",
       "       [ 2.7538434 ],\n",
       "       [-1.75517649],\n",
       "       [-2.37241541],\n",
       "       [ 1.13064671],\n",
       "       [-2.01004644],\n",
       "       [ 1.21860022],\n",
       "       [-2.22871957],\n",
       "       [ 0.2515625 ],\n",
       "       [-2.01767256],\n",
       "       [-1.46670645],\n",
       "       [-1.18429705],\n",
       "       [-1.73566145],\n",
       "       [-1.88493358],\n",
       "       [ 2.24732394],\n",
       "       [-1.88451454],\n",
       "       [ 0.61090872],\n",
       "       [ 1.10177737],\n",
       "       [-0.07612496],\n",
       "       [ 2.66040427],\n",
       "       [-1.30818039],\n",
       "       [-2.23387243],\n",
       "       [-2.04189215],\n",
       "       [-0.57199124],\n",
       "       [ 2.95036127],\n",
       "       [-1.69111243],\n",
       "       [ 0.14936854],\n",
       "       [-1.8136288 ],\n",
       "       [-1.98359803],\n",
       "       [-0.21927318],\n",
       "       [-2.55628257],\n",
       "       [-1.95698592],\n",
       "       [-0.70350786],\n",
       "       [-0.28555927],\n",
       "       [ 1.5396086 ],\n",
       "       [ 0.11621958],\n",
       "       [-1.56982265],\n",
       "       [ 0.85913881],\n",
       "       [-1.48030904],\n",
       "       [ 0.73304163],\n",
       "       [ 0.91002041],\n",
       "       [-2.65756407],\n",
       "       [-1.26152424],\n",
       "       [ 2.93550257],\n",
       "       [-2.71022852],\n",
       "       [ 1.16545754],\n",
       "       [ 1.59450933],\n",
       "       [-2.924141  ],\n",
       "       [-0.24381135],\n",
       "       [-0.77571071],\n",
       "       [ 2.33910814],\n",
       "       [ 0.62818179],\n",
       "       [-0.52540885],\n",
       "       [-1.39012848],\n",
       "       [ 0.345557  ],\n",
       "       [ 0.90423664],\n",
       "       [ 1.07919621],\n",
       "       [ 2.20143126],\n",
       "       [ 1.71566532],\n",
       "       [ 0.50984647],\n",
       "       [ 2.97713433],\n",
       "       [ 2.40088305],\n",
       "       [-1.09360396],\n",
       "       [-1.24385483],\n",
       "       [ 1.9930927 ],\n",
       "       [ 1.26668381],\n",
       "       [ 1.96461885],\n",
       "       [-2.97357815],\n",
       "       [ 1.39167297],\n",
       "       [-2.74027367]])"
      ]
     },
     "execution_count": 42,
     "metadata": {},
     "output_type": "execute_result"
    }
   ],
   "source": [
    "X"
   ]
  },
  {
   "cell_type": "code",
   "execution_count": null,
   "id": "8e356e5a-7ed4-47a7-9de4-843777dee6a9",
   "metadata": {},
   "outputs": [],
   "source": []
  },
  {
   "cell_type": "code",
   "execution_count": 39,
   "id": "1bb677bb-e054-417c-8f72-36873c197c64",
   "metadata": {},
   "outputs": [],
   "source": [
    "from sklearn.preprocessing import PolynomialFeatures"
   ]
  },
  {
   "cell_type": "code",
   "execution_count": 40,
   "id": "29e53ec1-11fc-43fb-a701-fd44e363bffa",
   "metadata": {},
   "outputs": [],
   "source": [
    "poly = PolynomialFeatures(degree=2)"
   ]
  },
  {
   "cell_type": "code",
   "execution_count": 41,
   "id": "b3237a11-0176-42ca-bd78-9912ab4b79c5",
   "metadata": {},
   "outputs": [
    {
     "data": {
      "text/html": [
       "<style>#sk-container-id-5 {color: black;background-color: white;}#sk-container-id-5 pre{padding: 0;}#sk-container-id-5 div.sk-toggleable {background-color: white;}#sk-container-id-5 label.sk-toggleable__label {cursor: pointer;display: block;width: 100%;margin-bottom: 0;padding: 0.3em;box-sizing: border-box;text-align: center;}#sk-container-id-5 label.sk-toggleable__label-arrow:before {content: \"▸\";float: left;margin-right: 0.25em;color: #696969;}#sk-container-id-5 label.sk-toggleable__label-arrow:hover:before {color: black;}#sk-container-id-5 div.sk-estimator:hover label.sk-toggleable__label-arrow:before {color: black;}#sk-container-id-5 div.sk-toggleable__content {max-height: 0;max-width: 0;overflow: hidden;text-align: left;background-color: #f0f8ff;}#sk-container-id-5 div.sk-toggleable__content pre {margin: 0.2em;color: black;border-radius: 0.25em;background-color: #f0f8ff;}#sk-container-id-5 input.sk-toggleable__control:checked~div.sk-toggleable__content {max-height: 200px;max-width: 100%;overflow: auto;}#sk-container-id-5 input.sk-toggleable__control:checked~label.sk-toggleable__label-arrow:before {content: \"▾\";}#sk-container-id-5 div.sk-estimator input.sk-toggleable__control:checked~label.sk-toggleable__label {background-color: #d4ebff;}#sk-container-id-5 div.sk-label input.sk-toggleable__control:checked~label.sk-toggleable__label {background-color: #d4ebff;}#sk-container-id-5 input.sk-hidden--visually {border: 0;clip: rect(1px 1px 1px 1px);clip: rect(1px, 1px, 1px, 1px);height: 1px;margin: -1px;overflow: hidden;padding: 0;position: absolute;width: 1px;}#sk-container-id-5 div.sk-estimator {font-family: monospace;background-color: #f0f8ff;border: 1px dotted black;border-radius: 0.25em;box-sizing: border-box;margin-bottom: 0.5em;}#sk-container-id-5 div.sk-estimator:hover {background-color: #d4ebff;}#sk-container-id-5 div.sk-parallel-item::after {content: \"\";width: 100%;border-bottom: 1px solid gray;flex-grow: 1;}#sk-container-id-5 div.sk-label:hover label.sk-toggleable__label {background-color: #d4ebff;}#sk-container-id-5 div.sk-serial::before {content: \"\";position: absolute;border-left: 1px solid gray;box-sizing: border-box;top: 0;bottom: 0;left: 50%;z-index: 0;}#sk-container-id-5 div.sk-serial {display: flex;flex-direction: column;align-items: center;background-color: white;padding-right: 0.2em;padding-left: 0.2em;position: relative;}#sk-container-id-5 div.sk-item {position: relative;z-index: 1;}#sk-container-id-5 div.sk-parallel {display: flex;align-items: stretch;justify-content: center;background-color: white;position: relative;}#sk-container-id-5 div.sk-item::before, #sk-container-id-5 div.sk-parallel-item::before {content: \"\";position: absolute;border-left: 1px solid gray;box-sizing: border-box;top: 0;bottom: 0;left: 50%;z-index: -1;}#sk-container-id-5 div.sk-parallel-item {display: flex;flex-direction: column;z-index: 1;position: relative;background-color: white;}#sk-container-id-5 div.sk-parallel-item:first-child::after {align-self: flex-end;width: 50%;}#sk-container-id-5 div.sk-parallel-item:last-child::after {align-self: flex-start;width: 50%;}#sk-container-id-5 div.sk-parallel-item:only-child::after {width: 0;}#sk-container-id-5 div.sk-dashed-wrapped {border: 1px dashed gray;margin: 0 0.4em 0.5em 0.4em;box-sizing: border-box;padding-bottom: 0.4em;background-color: white;}#sk-container-id-5 div.sk-label label {font-family: monospace;font-weight: bold;display: inline-block;line-height: 1.2em;}#sk-container-id-5 div.sk-label-container {text-align: center;}#sk-container-id-5 div.sk-container {/* jupyter's `normalize.less` sets `[hidden] { display: none; }` but bootstrap.min.css set `[hidden] { display: none !important; }` so we also need the `!important` here to be able to override the default hidden behavior on the sphinx rendered scikit-learn.org. See: https://github.com/scikit-learn/scikit-learn/issues/21755 */display: inline-block !important;position: relative;}#sk-container-id-5 div.sk-text-repr-fallback {display: none;}</style><div id=\"sk-container-id-5\" class=\"sk-top-container\"><div class=\"sk-text-repr-fallback\"><pre>PolynomialFeatures()</pre><b>In a Jupyter environment, please rerun this cell to show the HTML representation or trust the notebook. <br />On GitHub, the HTML representation is unable to render, please try loading this page with nbviewer.org.</b></div><div class=\"sk-container\" hidden><div class=\"sk-item\"><div class=\"sk-estimator sk-toggleable\"><input class=\"sk-toggleable__control sk-hidden--visually\" id=\"sk-estimator-id-5\" type=\"checkbox\" checked><label for=\"sk-estimator-id-5\" class=\"sk-toggleable__label sk-toggleable__label-arrow\">PolynomialFeatures</label><div class=\"sk-toggleable__content\"><pre>PolynomialFeatures()</pre></div></div></div></div></div>"
      ],
      "text/plain": [
       "PolynomialFeatures()"
      ]
     },
     "execution_count": 41,
     "metadata": {},
     "output_type": "execute_result"
    }
   ],
   "source": [
    "poly"
   ]
  },
  {
   "cell_type": "code",
   "execution_count": 43,
   "id": "139d3357-d3fb-42a9-a3e4-33764627d494",
   "metadata": {
    "scrolled": true
   },
   "outputs": [
    {
     "data": {
      "text/plain": [
       "array([[ 1.00000000e+00,  9.54318167e-01,  9.10723164e-01],\n",
       "       [ 1.00000000e+00,  3.19493753e-01,  1.02076258e-01],\n",
       "       [ 1.00000000e+00,  1.28590188e+00,  1.65354364e+00],\n",
       "       [ 1.00000000e+00, -2.49028457e+00,  6.20151723e+00],\n",
       "       [ 1.00000000e+00, -2.26261923e+00,  5.11944577e+00],\n",
       "       [ 1.00000000e+00, -9.73929387e-01,  9.48538451e-01],\n",
       "       [ 1.00000000e+00,  1.81833995e+00,  3.30636018e+00],\n",
       "       [ 1.00000000e+00, -3.62529599e-01,  1.31427710e-01],\n",
       "       [ 1.00000000e+00,  5.30032400e-01,  2.80934345e-01],\n",
       "       [ 1.00000000e+00, -1.27721693e+00,  1.63128310e+00],\n",
       "       [ 1.00000000e+00,  2.96267185e+00,  8.77742452e+00],\n",
       "       [ 1.00000000e+00, -1.48566527e+00,  2.20720128e+00],\n",
       "       [ 1.00000000e+00,  2.54852017e+00,  6.49495507e+00],\n",
       "       [ 1.00000000e+00,  2.94729172e+00,  8.68652849e+00],\n",
       "       [ 1.00000000e+00,  1.82412141e+00,  3.32741892e+00],\n",
       "       [ 1.00000000e+00, -2.40584421e+00,  5.78808638e+00],\n",
       "       [ 1.00000000e+00,  1.97279900e+00,  3.89193588e+00],\n",
       "       [ 1.00000000e+00,  1.68728552e+00,  2.84693243e+00],\n",
       "       [ 1.00000000e+00, -2.11317081e+00,  4.46549085e+00],\n",
       "       [ 1.00000000e+00, -1.02818208e-02,  1.05715839e-04],\n",
       "       [ 1.00000000e+00,  1.33000113e+00,  1.76890302e+00],\n",
       "       [ 1.00000000e+00,  5.72294019e-01,  3.27520444e-01],\n",
       "       [ 1.00000000e+00, -1.41731056e+00,  2.00876922e+00],\n",
       "       [ 1.00000000e+00,  2.20627130e-01,  4.86763306e-02],\n",
       "       [ 1.00000000e+00,  1.26291778e+00,  1.59496131e+00],\n",
       "       [ 1.00000000e+00, -1.00949725e+00,  1.01908469e+00],\n",
       "       [ 1.00000000e+00,  5.75245638e-01,  3.30907545e-01],\n",
       "       [ 1.00000000e+00, -1.61768844e+00,  2.61691589e+00],\n",
       "       [ 1.00000000e+00, -2.37556498e+00,  5.64330897e+00],\n",
       "       [ 1.00000000e+00,  1.56423719e+00,  2.44683797e+00],\n",
       "       [ 1.00000000e+00,  1.73463233e+00,  3.00894934e+00],\n",
       "       [ 1.00000000e+00,  2.75384340e+00,  7.58365349e+00],\n",
       "       [ 1.00000000e+00, -1.75517649e+00,  3.08064453e+00],\n",
       "       [ 1.00000000e+00, -2.37241541e+00,  5.62835487e+00],\n",
       "       [ 1.00000000e+00,  1.13064671e+00,  1.27836198e+00],\n",
       "       [ 1.00000000e+00, -2.01004644e+00,  4.04028670e+00],\n",
       "       [ 1.00000000e+00,  1.21860022e+00,  1.48498650e+00],\n",
       "       [ 1.00000000e+00, -2.22871957e+00,  4.96719090e+00],\n",
       "       [ 1.00000000e+00,  2.51562505e-01,  6.32836937e-02],\n",
       "       [ 1.00000000e+00, -2.01767256e+00,  4.07100257e+00],\n",
       "       [ 1.00000000e+00, -1.46670645e+00,  2.15122780e+00],\n",
       "       [ 1.00000000e+00, -1.18429705e+00,  1.40255950e+00],\n",
       "       [ 1.00000000e+00, -1.73566145e+00,  3.01252066e+00],\n",
       "       [ 1.00000000e+00, -1.88493358e+00,  3.55297458e+00],\n",
       "       [ 1.00000000e+00,  2.24732394e+00,  5.05046490e+00],\n",
       "       [ 1.00000000e+00, -1.88451454e+00,  3.55139506e+00],\n",
       "       [ 1.00000000e+00,  6.10908719e-01,  3.73209463e-01],\n",
       "       [ 1.00000000e+00,  1.10177737e+00,  1.21391337e+00],\n",
       "       [ 1.00000000e+00, -7.61249572e-02,  5.79500911e-03],\n",
       "       [ 1.00000000e+00,  2.66040427e+00,  7.07775090e+00],\n",
       "       [ 1.00000000e+00, -1.30818039e+00,  1.71133592e+00],\n",
       "       [ 1.00000000e+00, -2.23387243e+00,  4.99018602e+00],\n",
       "       [ 1.00000000e+00, -2.04189215e+00,  4.16932354e+00],\n",
       "       [ 1.00000000e+00, -5.71991245e-01,  3.27173984e-01],\n",
       "       [ 1.00000000e+00,  2.95036127e+00,  8.70463165e+00],\n",
       "       [ 1.00000000e+00, -1.69111243e+00,  2.85986125e+00],\n",
       "       [ 1.00000000e+00,  1.49368543e-01,  2.23109617e-02],\n",
       "       [ 1.00000000e+00, -1.81362880e+00,  3.28924943e+00],\n",
       "       [ 1.00000000e+00, -1.98359803e+00,  3.93466115e+00],\n",
       "       [ 1.00000000e+00, -2.19273179e-01,  4.80807268e-02],\n",
       "       [ 1.00000000e+00, -2.55628257e+00,  6.53458058e+00],\n",
       "       [ 1.00000000e+00, -1.95698592e+00,  3.82979391e+00],\n",
       "       [ 1.00000000e+00, -7.03507858e-01,  4.94923307e-01],\n",
       "       [ 1.00000000e+00, -2.85559273e-01,  8.15440986e-02],\n",
       "       [ 1.00000000e+00,  1.53960860e+00,  2.37039463e+00],\n",
       "       [ 1.00000000e+00,  1.16219583e-01,  1.35069915e-02],\n",
       "       [ 1.00000000e+00, -1.56982265e+00,  2.46434315e+00],\n",
       "       [ 1.00000000e+00,  8.59138811e-01,  7.38119496e-01],\n",
       "       [ 1.00000000e+00, -1.48030904e+00,  2.19131484e+00],\n",
       "       [ 1.00000000e+00,  7.33041634e-01,  5.37350038e-01],\n",
       "       [ 1.00000000e+00,  9.10020414e-01,  8.28137155e-01],\n",
       "       [ 1.00000000e+00, -2.65756407e+00,  7.06264681e+00],\n",
       "       [ 1.00000000e+00, -1.26152424e+00,  1.59144341e+00],\n",
       "       [ 1.00000000e+00,  2.93550257e+00,  8.61717536e+00],\n",
       "       [ 1.00000000e+00, -2.71022852e+00,  7.34533864e+00],\n",
       "       [ 1.00000000e+00,  1.16545754e+00,  1.35829128e+00],\n",
       "       [ 1.00000000e+00,  1.59450933e+00,  2.54246001e+00],\n",
       "       [ 1.00000000e+00, -2.92414100e+00,  8.55060057e+00],\n",
       "       [ 1.00000000e+00, -2.43811346e-01,  5.94439723e-02],\n",
       "       [ 1.00000000e+00, -7.75710710e-01,  6.01727106e-01],\n",
       "       [ 1.00000000e+00,  2.33910814e+00,  5.47142687e+00],\n",
       "       [ 1.00000000e+00,  6.28181792e-01,  3.94612363e-01],\n",
       "       [ 1.00000000e+00, -5.25408848e-01,  2.76054457e-01],\n",
       "       [ 1.00000000e+00, -1.39012848e+00,  1.93245720e+00],\n",
       "       [ 1.00000000e+00,  3.45556996e-01,  1.19409638e-01],\n",
       "       [ 1.00000000e+00,  9.04236642e-01,  8.17643904e-01],\n",
       "       [ 1.00000000e+00,  1.07919621e+00,  1.16466446e+00],\n",
       "       [ 1.00000000e+00,  2.20143126e+00,  4.84629957e+00],\n",
       "       [ 1.00000000e+00,  1.71566532e+00,  2.94350748e+00],\n",
       "       [ 1.00000000e+00,  5.09846470e-01,  2.59943423e-01],\n",
       "       [ 1.00000000e+00,  2.97713433e+00,  8.86332883e+00],\n",
       "       [ 1.00000000e+00,  2.40088305e+00,  5.76423943e+00],\n",
       "       [ 1.00000000e+00, -1.09360396e+00,  1.19596962e+00],\n",
       "       [ 1.00000000e+00, -1.24385483e+00,  1.54717483e+00],\n",
       "       [ 1.00000000e+00,  1.99309270e+00,  3.97241851e+00],\n",
       "       [ 1.00000000e+00,  1.26668381e+00,  1.60448787e+00],\n",
       "       [ 1.00000000e+00,  1.96461885e+00,  3.85972721e+00],\n",
       "       [ 1.00000000e+00, -2.97357815e+00,  8.84216700e+00],\n",
       "       [ 1.00000000e+00,  1.39167297e+00,  1.93675366e+00],\n",
       "       [ 1.00000000e+00, -2.74027367e+00,  7.50909981e+00]])"
      ]
     },
     "execution_count": 43,
     "metadata": {},
     "output_type": "execute_result"
    }
   ],
   "source": [
    "poly.fit_transform(X)               #   c + bx + ax^2"
   ]
  },
  {
   "cell_type": "code",
   "execution_count": null,
   "id": "0fbe747c-b03a-408d-99e1-76296df00059",
   "metadata": {},
   "outputs": [],
   "source": []
  },
  {
   "cell_type": "code",
   "execution_count": null,
   "id": "93281c26-2afb-47a5-8e98-80931dea2dac",
   "metadata": {},
   "outputs": [],
   "source": []
  },
  {
   "cell_type": "code",
   "execution_count": 44,
   "id": "3a988110-d092-4f89-baff-568220992b8b",
   "metadata": {
    "scrolled": true
   },
   "outputs": [
    {
     "data": {
      "text/plain": [
       "array([[ 9.54318167e-01,  9.10723164e-01],\n",
       "       [ 3.19493753e-01,  1.02076258e-01],\n",
       "       [ 1.28590188e+00,  1.65354364e+00],\n",
       "       [-2.49028457e+00,  6.20151723e+00],\n",
       "       [-2.26261923e+00,  5.11944577e+00],\n",
       "       [-9.73929387e-01,  9.48538451e-01],\n",
       "       [ 1.81833995e+00,  3.30636018e+00],\n",
       "       [-3.62529599e-01,  1.31427710e-01],\n",
       "       [ 5.30032400e-01,  2.80934345e-01],\n",
       "       [-1.27721693e+00,  1.63128310e+00],\n",
       "       [ 2.96267185e+00,  8.77742452e+00],\n",
       "       [-1.48566527e+00,  2.20720128e+00],\n",
       "       [ 2.54852017e+00,  6.49495507e+00],\n",
       "       [ 2.94729172e+00,  8.68652849e+00],\n",
       "       [ 1.82412141e+00,  3.32741892e+00],\n",
       "       [-2.40584421e+00,  5.78808638e+00],\n",
       "       [ 1.97279900e+00,  3.89193588e+00],\n",
       "       [ 1.68728552e+00,  2.84693243e+00],\n",
       "       [-2.11317081e+00,  4.46549085e+00],\n",
       "       [-1.02818208e-02,  1.05715839e-04],\n",
       "       [ 1.33000113e+00,  1.76890302e+00],\n",
       "       [ 5.72294019e-01,  3.27520444e-01],\n",
       "       [-1.41731056e+00,  2.00876922e+00],\n",
       "       [ 2.20627130e-01,  4.86763306e-02],\n",
       "       [ 1.26291778e+00,  1.59496131e+00],\n",
       "       [-1.00949725e+00,  1.01908469e+00],\n",
       "       [ 5.75245638e-01,  3.30907545e-01],\n",
       "       [-1.61768844e+00,  2.61691589e+00],\n",
       "       [-2.37556498e+00,  5.64330897e+00],\n",
       "       [ 1.56423719e+00,  2.44683797e+00],\n",
       "       [ 1.73463233e+00,  3.00894934e+00],\n",
       "       [ 2.75384340e+00,  7.58365349e+00],\n",
       "       [-1.75517649e+00,  3.08064453e+00],\n",
       "       [-2.37241541e+00,  5.62835487e+00],\n",
       "       [ 1.13064671e+00,  1.27836198e+00],\n",
       "       [-2.01004644e+00,  4.04028670e+00],\n",
       "       [ 1.21860022e+00,  1.48498650e+00],\n",
       "       [-2.22871957e+00,  4.96719090e+00],\n",
       "       [ 2.51562505e-01,  6.32836937e-02],\n",
       "       [-2.01767256e+00,  4.07100257e+00],\n",
       "       [-1.46670645e+00,  2.15122780e+00],\n",
       "       [-1.18429705e+00,  1.40255950e+00],\n",
       "       [-1.73566145e+00,  3.01252066e+00],\n",
       "       [-1.88493358e+00,  3.55297458e+00],\n",
       "       [ 2.24732394e+00,  5.05046490e+00],\n",
       "       [-1.88451454e+00,  3.55139506e+00],\n",
       "       [ 6.10908719e-01,  3.73209463e-01],\n",
       "       [ 1.10177737e+00,  1.21391337e+00],\n",
       "       [-7.61249572e-02,  5.79500911e-03],\n",
       "       [ 2.66040427e+00,  7.07775090e+00],\n",
       "       [-1.30818039e+00,  1.71133592e+00],\n",
       "       [-2.23387243e+00,  4.99018602e+00],\n",
       "       [-2.04189215e+00,  4.16932354e+00],\n",
       "       [-5.71991245e-01,  3.27173984e-01],\n",
       "       [ 2.95036127e+00,  8.70463165e+00],\n",
       "       [-1.69111243e+00,  2.85986125e+00],\n",
       "       [ 1.49368543e-01,  2.23109617e-02],\n",
       "       [-1.81362880e+00,  3.28924943e+00],\n",
       "       [-1.98359803e+00,  3.93466115e+00],\n",
       "       [-2.19273179e-01,  4.80807268e-02],\n",
       "       [-2.55628257e+00,  6.53458058e+00],\n",
       "       [-1.95698592e+00,  3.82979391e+00],\n",
       "       [-7.03507858e-01,  4.94923307e-01],\n",
       "       [-2.85559273e-01,  8.15440986e-02],\n",
       "       [ 1.53960860e+00,  2.37039463e+00],\n",
       "       [ 1.16219583e-01,  1.35069915e-02],\n",
       "       [-1.56982265e+00,  2.46434315e+00],\n",
       "       [ 8.59138811e-01,  7.38119496e-01],\n",
       "       [-1.48030904e+00,  2.19131484e+00],\n",
       "       [ 7.33041634e-01,  5.37350038e-01],\n",
       "       [ 9.10020414e-01,  8.28137155e-01],\n",
       "       [-2.65756407e+00,  7.06264681e+00],\n",
       "       [-1.26152424e+00,  1.59144341e+00],\n",
       "       [ 2.93550257e+00,  8.61717536e+00],\n",
       "       [-2.71022852e+00,  7.34533864e+00],\n",
       "       [ 1.16545754e+00,  1.35829128e+00],\n",
       "       [ 1.59450933e+00,  2.54246001e+00],\n",
       "       [-2.92414100e+00,  8.55060057e+00],\n",
       "       [-2.43811346e-01,  5.94439723e-02],\n",
       "       [-7.75710710e-01,  6.01727106e-01],\n",
       "       [ 2.33910814e+00,  5.47142687e+00],\n",
       "       [ 6.28181792e-01,  3.94612363e-01],\n",
       "       [-5.25408848e-01,  2.76054457e-01],\n",
       "       [-1.39012848e+00,  1.93245720e+00],\n",
       "       [ 3.45556996e-01,  1.19409638e-01],\n",
       "       [ 9.04236642e-01,  8.17643904e-01],\n",
       "       [ 1.07919621e+00,  1.16466446e+00],\n",
       "       [ 2.20143126e+00,  4.84629957e+00],\n",
       "       [ 1.71566532e+00,  2.94350748e+00],\n",
       "       [ 5.09846470e-01,  2.59943423e-01],\n",
       "       [ 2.97713433e+00,  8.86332883e+00],\n",
       "       [ 2.40088305e+00,  5.76423943e+00],\n",
       "       [-1.09360396e+00,  1.19596962e+00],\n",
       "       [-1.24385483e+00,  1.54717483e+00],\n",
       "       [ 1.99309270e+00,  3.97241851e+00],\n",
       "       [ 1.26668381e+00,  1.60448787e+00],\n",
       "       [ 1.96461885e+00,  3.85972721e+00],\n",
       "       [-2.97357815e+00,  8.84216700e+00],\n",
       "       [ 1.39167297e+00,  1.93675366e+00],\n",
       "       [-2.74027367e+00,  7.50909981e+00]])"
      ]
     },
     "execution_count": 44,
     "metadata": {},
     "output_type": "execute_result"
    }
   ],
   "source": [
    "poly = PolynomialFeatures(degree=2, include_bias=False)\n",
    "poly_feature = poly.fit_transform(X)\n",
    "poly_feature\n"
   ]
  },
  {
   "cell_type": "code",
   "execution_count": null,
   "id": "3be3c561-b441-4cb6-83ba-88d20365d53b",
   "metadata": {},
   "outputs": [],
   "source": []
  },
  {
   "cell_type": "code",
   "execution_count": null,
   "id": "24cd97cb-2168-4ba1-a781-1aec61edeb7b",
   "metadata": {},
   "outputs": [],
   "source": []
  },
  {
   "cell_type": "code",
   "execution_count": null,
   "id": "b22a2434-5449-4f5f-8449-271ad08c2360",
   "metadata": {},
   "outputs": [],
   "source": []
  },
  {
   "cell_type": "code",
   "execution_count": 45,
   "id": "3e85e5ec-7088-41be-8b0b-d555c0949619",
   "metadata": {
    "scrolled": true
   },
   "outputs": [
    {
     "data": {
      "text/plain": [
       "array([[0.54406246, 0.20837378, 0.53929172, 0.97870457, 0.84835573],\n",
       "       [0.86694583, 0.74759074, 0.71991451, 0.95151232, 0.51849711],\n",
       "       [0.37839598, 0.92164189, 0.52219237, 0.76737117, 0.79712027],\n",
       "       [0.03769633, 0.61104222, 0.60065627, 0.5162284 , 0.53952918],\n",
       "       [0.90859282, 0.51519609, 0.81731392, 0.20587151, 0.95089673],\n",
       "       [0.58722194, 0.04562703, 0.38659604, 0.23752713, 0.37079514],\n",
       "       [0.88705481, 0.48891848, 0.49888379, 0.10115578, 0.89856935],\n",
       "       [0.10501443, 0.66828785, 0.70086683, 0.26457925, 0.54656584],\n",
       "       [0.30077474, 0.50606896, 0.48713267, 0.59000261, 0.60836284],\n",
       "       [0.43941363, 0.25241897, 0.02987593, 0.41657082, 0.64588446],\n",
       "       [0.84959254, 0.46790004, 0.34722299, 0.90680774, 0.32711808],\n",
       "       [0.91383396, 0.76324093, 0.02374992, 0.77850056, 0.56302226],\n",
       "       [0.32134245, 0.589847  , 0.99609792, 0.68887266, 0.92096669],\n",
       "       [0.82823507, 0.34272721, 0.48718   , 0.51926662, 0.88692639],\n",
       "       [0.42585137, 0.12951058, 0.76653831, 0.3419294 , 0.47037622],\n",
       "       [0.28010046, 0.10493561, 0.00665633, 0.07004327, 0.22972654],\n",
       "       [0.18354898, 0.8627539 , 0.14201007, 0.99686441, 0.30700503],\n",
       "       [0.73518876, 0.29751712, 0.13437948, 0.90837052, 0.92818813],\n",
       "       [0.87441214, 0.72670318, 0.28054628, 0.73468493, 0.91174772],\n",
       "       [0.64583186, 0.1282877 , 0.0251271 , 0.91141502, 0.44140824],\n",
       "       [0.96118922, 0.42297389, 0.62785304, 0.57917439, 0.40217395],\n",
       "       [0.32658286, 0.48001537, 0.96823621, 0.6835325 , 0.17723016],\n",
       "       [0.795479  , 0.88797512, 0.94891894, 0.17215203, 0.33857746],\n",
       "       [0.89136137, 0.37012438, 0.10449361, 0.49694629, 0.3069337 ],\n",
       "       [0.69199604, 0.23761131, 0.33688497, 0.06816651, 0.22655912],\n",
       "       [0.79190397, 0.48642951, 0.41715056, 0.20794514, 0.28335881],\n",
       "       [0.63298242, 0.27677835, 0.79838492, 0.5480712 , 0.76135055],\n",
       "       [0.81913181, 0.20820358, 0.07277685, 0.40240773, 0.40557015],\n",
       "       [0.4808666 , 0.72439341, 0.88769948, 0.06936096, 0.09219114],\n",
       "       [0.89888327, 0.54099221, 0.99613182, 0.42325642, 0.85915977],\n",
       "       [0.97624006, 0.07724976, 0.42831224, 0.2134547 , 0.4368281 ],\n",
       "       [0.73850028, 0.18979977, 0.03434118, 0.89688304, 0.94647208],\n",
       "       [0.89125988, 0.00419422, 0.2378445 , 0.93853529, 0.94540287],\n",
       "       [0.62402216, 0.80999209, 0.94709949, 0.04362194, 0.11102166],\n",
       "       [0.36904695, 0.97576448, 0.38400714, 0.09871896, 0.74718591],\n",
       "       [0.76042818, 0.18853583, 0.76047284, 0.20857289, 0.65962548],\n",
       "       [0.56054705, 0.17888885, 0.07831582, 0.99254314, 0.01142726],\n",
       "       [0.94704078, 0.30378104, 0.03178678, 0.12891812, 0.03360069],\n",
       "       [0.36194256, 0.64371963, 0.20343758, 0.13943327, 0.38235077],\n",
       "       [0.2872971 , 0.16856601, 0.01695927, 0.24527877, 0.304782  ],\n",
       "       [0.44385324, 0.44666091, 0.86495434, 0.90031195, 0.44779898],\n",
       "       [0.31439432, 0.61293382, 0.47200841, 0.30313576, 0.83597409],\n",
       "       [0.64669296, 0.65782404, 0.37752754, 0.70272386, 0.43470228],\n",
       "       [0.3958691 , 0.08108213, 0.63970432, 0.61565989, 0.30844311],\n",
       "       [0.98724365, 0.12160703, 0.18951323, 0.4316174 , 0.00536724],\n",
       "       [0.01757137, 0.58794215, 0.3651324 , 0.71698844, 0.4231153 ],\n",
       "       [0.50808575, 0.8199121 , 0.36103638, 0.11934517, 0.29996999],\n",
       "       [0.06326261, 0.14704313, 0.29370167, 0.28432077, 0.02912072],\n",
       "       [0.81750428, 0.03569224, 0.72423351, 0.03234741, 0.79734364],\n",
       "       [0.36376131, 0.86715489, 0.89886205, 0.91742934, 0.59177864],\n",
       "       [0.80133906, 0.49970848, 0.55391399, 0.41399403, 0.99439852],\n",
       "       [0.07230426, 0.01865573, 0.50466656, 0.00421995, 0.71075017],\n",
       "       [0.55497568, 0.9613338 , 0.76478585, 0.18379168, 0.0119248 ],\n",
       "       [0.35371616, 0.93484212, 0.43040005, 0.2570742 , 0.67051185],\n",
       "       [0.98827172, 0.03812478, 0.92750596, 0.97308545, 0.35598058],\n",
       "       [0.89187533, 0.08935128, 0.83699053, 0.43538976, 0.63367074],\n",
       "       [0.31835656, 0.81684654, 0.64167628, 0.49602929, 0.70598587],\n",
       "       [0.908706  , 0.39431026, 0.3651961 , 0.77489918, 0.20962114],\n",
       "       [0.61845475, 0.69792413, 0.69059875, 0.95955133, 0.84468645],\n",
       "       [0.05520371, 0.81525675, 0.59505437, 0.91397309, 0.41361134],\n",
       "       [0.28846129, 0.06745245, 0.81400552, 0.81113836, 0.67923627],\n",
       "       [0.3741447 , 0.75977856, 0.07116044, 0.73586754, 0.03676792],\n",
       "       [0.58659163, 0.22888447, 0.74716153, 0.43527301, 0.02304115],\n",
       "       [0.75112234, 0.25979482, 0.96522923, 0.78801052, 0.89924929],\n",
       "       [0.30650989, 0.34973774, 0.52806522, 0.88049457, 0.98237193],\n",
       "       [0.25174259, 0.43459411, 0.89201786, 0.7009714 , 0.13887656],\n",
       "       [0.94809254, 0.27458542, 0.84045423, 0.4867033 , 0.19292761],\n",
       "       [0.92766413, 0.5987876 , 0.89804559, 0.56716963, 0.01957341],\n",
       "       [0.43256724, 0.6597509 , 0.92942995, 0.55130894, 0.92591807],\n",
       "       [0.08419968, 0.89380761, 0.90337273, 0.25094585, 0.31996373],\n",
       "       [0.90348303, 0.22674917, 0.84915726, 0.24216715, 0.47684859],\n",
       "       [0.70083595, 0.38557331, 0.22753728, 0.35588272, 0.48074963],\n",
       "       [0.56046572, 0.2047515 , 0.87586455, 0.54233058, 0.50725546],\n",
       "       [0.15978071, 0.09953558, 0.33879593, 0.16568698, 0.24461282],\n",
       "       [0.33565112, 0.77679203, 0.89475514, 0.39929295, 0.06999619],\n",
       "       [0.29473339, 0.32921613, 0.87333945, 0.85422557, 0.95912989],\n",
       "       [0.55549264, 0.01862119, 0.27489001, 0.89209169, 0.95805783],\n",
       "       [0.89435369, 0.66677861, 0.84860796, 0.83460105, 0.78628695],\n",
       "       [0.28601256, 0.79557066, 0.82041181, 0.94174697, 0.79411365],\n",
       "       [0.75567744, 0.32161175, 0.0804083 , 0.92141404, 0.81339789],\n",
       "       [0.64908846, 0.55316237, 0.61551098, 0.88004293, 0.74630668],\n",
       "       [0.88910147, 0.23986662, 0.37673103, 0.45573534, 0.77425431],\n",
       "       [0.72190311, 0.57633349, 0.55924973, 0.84545141, 0.64331687],\n",
       "       [0.79198539, 0.1110956 , 0.59431962, 0.80216258, 0.06093618],\n",
       "       [0.020276  , 0.73300397, 0.77365909, 0.38574797, 0.142245  ],\n",
       "       [0.13085521, 0.30402524, 0.78343219, 0.54342989, 0.25783772],\n",
       "       [0.94425775, 0.05370256, 0.43818167, 0.20773335, 0.19265439],\n",
       "       [0.07472775, 0.33645519, 0.11841374, 0.45420812, 0.06557392],\n",
       "       [0.37780136, 0.43225832, 0.37377861, 0.34604168, 0.09473378],\n",
       "       [0.68606398, 0.96049842, 0.4091075 , 0.39168189, 0.89122614],\n",
       "       [0.96216865, 0.97260531, 0.04073787, 0.21233691, 0.44315569],\n",
       "       [0.26647942, 0.7977969 , 0.99107104, 0.41152625, 0.72323092],\n",
       "       [0.38134465, 0.40344262, 0.14346115, 0.85663329, 0.23248691],\n",
       "       [0.11284999, 0.01225677, 0.4624572 , 0.44348696, 0.30122983],\n",
       "       [0.71558282, 0.16132308, 0.61514979, 0.69668258, 0.74651275],\n",
       "       [0.3996006 , 0.97313479, 0.85878589, 0.99504511, 0.78604435],\n",
       "       [0.97025261, 0.61814374, 0.09812985, 0.15427783, 0.61605809],\n",
       "       [0.69168197, 0.70625201, 0.45949821, 0.96222262, 0.54309492],\n",
       "       [0.6902172 , 0.12255574, 0.15815015, 0.34632738, 0.48759518],\n",
       "       [0.60822892, 0.13123491, 0.38542155, 0.22512473, 0.48469027]])"
      ]
     },
     "execution_count": 45,
     "metadata": {},
     "output_type": "execute_result"
    }
   ],
   "source": [
    "data = np.random.rand(100, 5)\n",
    "data"
   ]
  },
  {
   "cell_type": "code",
   "execution_count": null,
   "id": "7fc09c3f-6bb4-4581-86ef-f2516dd1ba5d",
   "metadata": {},
   "outputs": [],
   "source": []
  },
  {
   "cell_type": "code",
   "execution_count": 46,
   "id": "721a29b2-531f-4200-a9a1-f44fbfdde368",
   "metadata": {},
   "outputs": [
    {
     "data": {
      "text/plain": [
       "array([[0.54406246, 0.20837378, 0.53929172, ..., 0.95786264, 0.83028964,\n",
       "        0.71970745],\n",
       "       [0.86694583, 0.74759074, 0.71991451, ..., 0.90537569, 0.49335639,\n",
       "        0.26883925],\n",
       "       [0.37839598, 0.92164189, 0.52219237, ..., 0.58885851, 0.61168711,\n",
       "        0.63540073],\n",
       "       ...,\n",
       "       [0.69168197, 0.70625201, 0.45949821, ..., 0.92587237, 0.52257822,\n",
       "        0.29495209],\n",
       "       [0.6902172 , 0.12255574, 0.15815015, ..., 0.11994266, 0.16886756,\n",
       "        0.23774906],\n",
       "       [0.60822892, 0.13123491, 0.38542155, ..., 0.05068115, 0.10911577,\n",
       "        0.23492466]])"
      ]
     },
     "execution_count": 46,
     "metadata": {},
     "output_type": "execute_result"
    }
   ],
   "source": [
    "poly = PolynomialFeatures(degree=2, include_bias=False)\n",
    "poly_feature = poly.fit_transform(data)\n",
    "poly_feature\n"
   ]
  },
  {
   "cell_type": "code",
   "execution_count": null,
   "id": "29471dea-e951-41a5-8088-e4634411e83a",
   "metadata": {},
   "outputs": [],
   "source": []
  },
  {
   "cell_type": "code",
   "execution_count": 47,
   "id": "022972b9-85bd-44d7-8547-1f87357113d4",
   "metadata": {},
   "outputs": [
    {
     "data": {
      "text/plain": [
       "(100, 20)"
      ]
     },
     "execution_count": 47,
     "metadata": {},
     "output_type": "execute_result"
    }
   ],
   "source": [
    "poly_feature.shape"
   ]
  },
  {
   "cell_type": "code",
   "execution_count": null,
   "id": "f75af732-7e92-4e1d-84b5-bead221a1b8b",
   "metadata": {},
   "outputs": [],
   "source": []
  },
  {
   "cell_type": "code",
   "execution_count": 48,
   "id": "01ca1940-aaac-40f7-ac6f-12de71a2598a",
   "metadata": {},
   "outputs": [
    {
     "data": {
      "text/plain": [
       "array([[0.54406246, 0.20837378, 0.53929172, ..., 0.58484022, 0.50694824,\n",
       "        0.4394303 ],\n",
       "       [0.86694583, 0.74759074, 0.71991451, ..., 0.12620247, 0.06877012,\n",
       "        0.03747414],\n",
       "       [0.37839598, 0.92164189, 0.52219237, ..., 0.29825142, 0.30981389,\n",
       "        0.32182462],\n",
       "       ...,\n",
       "       [0.69168197, 0.70625201, 0.45949821, ..., 0.1483127 , 0.08371023,\n",
       "        0.04724749],\n",
       "       [0.6902172 , 0.12255574, 0.15815015, ..., 0.01390439, 0.01957602,\n",
       "        0.02756113],\n",
       "       [0.60822892, 0.13123491, 0.38542155, ..., 0.00577084, 0.01242454,\n",
       "        0.02674986]])"
      ]
     },
     "execution_count": 48,
     "metadata": {},
     "output_type": "execute_result"
    }
   ],
   "source": [
    "poly = PolynomialFeatures(degree=5, include_bias=False)\n",
    "poly_feature = poly.fit_transform(data)\n",
    "poly_feature\n"
   ]
  },
  {
   "cell_type": "code",
   "execution_count": null,
   "id": "8342c079-085d-4dba-8252-63306059b348",
   "metadata": {},
   "outputs": [],
   "source": []
  },
  {
   "cell_type": "code",
   "execution_count": 49,
   "id": "c3ca01ae-a87e-4f58-b742-b2fc394fe6de",
   "metadata": {},
   "outputs": [
    {
     "data": {
      "text/plain": [
       "(100, 251)"
      ]
     },
     "execution_count": 49,
     "metadata": {},
     "output_type": "execute_result"
    }
   ],
   "source": [
    "poly_feature.shape"
   ]
  },
  {
   "cell_type": "code",
   "execution_count": null,
   "id": "11fbf647-f309-49e2-b489-a2ea93f34076",
   "metadata": {},
   "outputs": [],
   "source": []
  },
  {
   "cell_type": "code",
   "execution_count": null,
   "id": "0d2a7e8d-34e3-4b90-bf2f-51d4c2a47a47",
   "metadata": {},
   "outputs": [],
   "source": []
  },
  {
   "cell_type": "code",
   "execution_count": null,
   "id": "f3e68238-6e8c-4e8b-8d3c-16efaeb07115",
   "metadata": {},
   "outputs": [],
   "source": []
  },
  {
   "cell_type": "code",
   "execution_count": 50,
   "id": "5389f5a6-1157-4903-9d50-746612e3faab",
   "metadata": {},
   "outputs": [],
   "source": [
    "from sklearn.preprocessing import PolynomialFeatures, StandardScaler\n",
    "from sklearn.linear_model import SGDRegressor\n",
    "from sklearn.pipeline import Pipeline\n",
    "from sklearn.metrics import r2_score"
   ]
  },
  {
   "cell_type": "code",
   "execution_count": null,
   "id": "e42d5b38-c945-4e86-9a53-d6e61c9a28a3",
   "metadata": {},
   "outputs": [],
   "source": []
  },
  {
   "cell_type": "code",
   "execution_count": 62,
   "id": "1a704478-34c5-4d07-b34e-8be99d5115f8",
   "metadata": {},
   "outputs": [
    {
     "data": {
      "image/png": "[encoded data removed]",
      "text/plain": [
       "<Figure size 640x480 with 1 Axes>"
      ]
     },
     "metadata": {},
     "output_type": "display_data"
    }
   ],
   "source": [
    "model = Pipeline([\n",
    "    ('poly', PolynomialFeatures(degree=2, include_bias=False)),\n",
    "    ('scale', StandardScaler()),\n",
    "    ('SGD', SGDRegressor())\n",
    "])\n",
    "\n",
    "model.fit(X, y.ravel())\n",
    "y_pred = model.predict(X)\n",
    "plt.scatter(X, y, label='Actual')\n",
    "plt.scatter(X, y_pred, label=f'Accuracy = {r2_score(y, y_pred):.2f}')\n",
    "plt.legend()\n",
    "plt.show()"
   ]
  },
  {
   "cell_type": "code",
   "execution_count": null,
   "id": "35655ce1-777b-49a6-bb7d-1e36eb236eb3",
   "metadata": {},
   "outputs": [],
   "source": []
  },
  {
   "cell_type": "code",
   "execution_count": null,
   "id": "e0a2fc79-cb2a-4139-9fe4-be0818a23260",
   "metadata": {},
   "outputs": [],
   "source": []
  },
  {
   "cell_type": "code",
   "execution_count": 63,
   "id": "68418810-b4c8-4cd0-8887-92244a7e9fbf",
   "metadata": {},
   "outputs": [
    {
     "data": {
      "image/png": "[encoded data removed]",
      "text/plain": [
       "<Figure size 640x480 with 1 Axes>"
      ]
     },
     "metadata": {},
     "output_type": "display_data"
    }
   ],
   "source": [
    "model = Pipeline([\n",
    "    ('poly', PolynomialFeatures(degree=5, include_bias=False)),\n",
    "    ('scale', StandardScaler()),\n",
    "    ('SGD', SGDRegressor())\n",
    "])\n",
    "\n",
    "model.fit(X, y.ravel())\n",
    "y_pred = model.predict(X)\n",
    "plt.scatter(X, y, label='Actual')\n",
    "plt.scatter(X, y_pred, label=f'Accuracy = {r2_score(y, y_pred):.2f}')\n",
    "plt.legend()\n",
    "plt.show()"
   ]
  },
  {
   "cell_type": "code",
   "execution_count": null,
   "id": "44304e03-4864-4311-8c5f-a5b0fd9edae1",
   "metadata": {},
   "outputs": [],
   "source": []
  },
  {
   "cell_type": "code",
   "execution_count": 64,
   "id": "6043c32f-d7df-44e6-b506-d7519b3b025e",
   "metadata": {},
   "outputs": [
    {
     "data": {
      "image/png": "[encoded data removed]",
      "text/plain": [
       "<Figure size 640x480 with 1 Axes>"
      ]
     },
     "metadata": {},
     "output_type": "display_data"
    }
   ],
   "source": [
    "model = Pipeline([\n",
    "    ('poly', PolynomialFeatures(degree=10, include_bias=False)),\n",
    "    ('scale', StandardScaler()),\n",
    "    ('SGD', SGDRegressor())\n",
    "])\n",
    "\n",
    "model.fit(X, y.ravel())\n",
    "y_pred = model.predict(X)\n",
    "plt.scatter(X, y, label='Actual')\n",
    "plt.scatter(X, y_pred, label=f'Accuracy = {r2_score(y, y_pred):.2f}')\n",
    "plt.legend()\n",
    "plt.show()"
   ]
  },
  {
   "cell_type": "code",
   "execution_count": null,
   "id": "204e6f4b-6857-432c-876c-b188a1bf35d4",
   "metadata": {},
   "outputs": [],
   "source": []
  },
  {
   "cell_type": "code",
   "execution_count": 66,
   "id": "3aa332a2-3f60-4c78-9e54-e72751b30c9a",
   "metadata": {},
   "outputs": [
    {
     "data": {
      "image/png": "[encoded data removed]",
      "text/plain": [
       "<Figure size 640x480 with 1 Axes>"
      ]
     },
     "metadata": {},
     "output_type": "display_data"
    }
   ],
   "source": [
    "model = Pipeline([\n",
    "    ('poly', PolynomialFeatures(degree=50, include_bias=False)),\n",
    "    ('scale', StandardScaler()),\n",
    "    ('SGD', SGDRegressor())\n",
    "])\n",
    "\n",
    "model.fit(X, y.ravel())\n",
    "y_pred = model.predict(X)\n",
    "plt.scatter(X, y, label='Actual')\n",
    "plt.scatter(X, y_pred, label=f'Accuracy = {r2_score(y, y_pred):.2f}')\n",
    "plt.legend()\n",
    "plt.show()"
   ]
  },
  {
   "cell_type": "code",
   "execution_count": 68,
   "id": "ef3f014c-b37c-456e-b40f-899696e52044",
   "metadata": {},
   "outputs": [
    {
     "data": {
      "image/png": "[encoded data removed]",
      "text/plain": [
       "<Figure size 640x480 with 1 Axes>"
      ]
     },
     "metadata": {},
     "output_type": "display_data"
    }
   ],
   "source": [
    "model = Pipeline([\n",
    "    ('poly', PolynomialFeatures(degree=70, include_bias=False)),\n",
    "    ('scale', StandardScaler()),\n",
    "    ('SGD', SGDRegressor())\n",
    "])\n",
    "\n",
    "model.fit(X, y.ravel())\n",
    "y_pred = model.predict(X)\n",
    "plt.scatter(X, y, label='Actual')\n",
    "plt.scatter(X, y_pred, label=f'Accuracy = {r2_score(y, y_pred):.2f}')\n",
    "plt.legend()\n",
    "plt.show()"
   ]
  },
  {
   "cell_type": "code",
   "execution_count": null,
   "id": "fb36f3ea-cee6-4144-a769-174b5f39e3bc",
   "metadata": {},
   "outputs": [],
   "source": []
  }
 ],
 "metadata": {
  "kernelspec": {
   "display_name": "Python 3 (ipykernel)",
   "language": "python",
   "name": "python3"
  },
  "language_info": {
   "codemirror_mode": {
    "name": "ipython",
    "version": 3
   },
   "file_extension": ".py",
   "mimetype": "text/x-python",
   "name": "python",
   "nbconvert_exporter": "python",
   "pygments_lexer": "ipython3",
   "version": "3.11.7"
  }
 },
 "nbformat": 4,
 "nbformat_minor": 5
}
