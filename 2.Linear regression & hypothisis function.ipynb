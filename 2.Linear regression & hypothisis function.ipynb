<<<<<<< HEAD
<<<<<<< HEAD
{
 "cells": [
  {
   "cell_type": "code",
   "execution_count": null,
   "id": "726fcde8-b670-4830-9631-374d7b43abba",
   "metadata": {},
   "outputs": [],
   "source": []
  },
  {
   "cell_type": "code",
   "execution_count": 1,
   "id": "837214b0-955d-4232-b594-0067506b2c4e",
   "metadata": {},
   "outputs": [],
   "source": [
    "import numpy as np\n",
    "import pandas as pd\n",
    "import matplotlib.pyplot as plt"
   ]
  },
  {
   "cell_type": "code",
   "execution_count": null,
   "id": "fba14142-44d1-4225-bf3c-5db72f4e2c07",
   "metadata": {},
   "outputs": [],
   "source": []
  },
  {
   "cell_type": "code",
   "execution_count": 2,
   "id": "aabd36fb-bb66-4de2-8e00-3e848ea3fc06",
   "metadata": {},
   "outputs": [],
   "source": [
    "def predict(m, X, c):\n",
    "    y_hat = m * X + c\n",
    "    return y_hat"
   ]
  },
  {
   "cell_type": "code",
   "execution_count": 3,
   "id": "6e0a7ca6-b150-4d3d-bae7-2432bdf79f64",
   "metadata": {},
   "outputs": [],
   "source": [
    "def MAE(y, y_hat):\n",
    "    error = np.abs(y - y_hat).sum() / len(y)\n",
    "    return error"
   ]
  },
  {
   "cell_type": "code",
   "execution_count": 9,
   "id": "741dbb47-1f21-4644-b79b-96a2df50a93c",
   "metadata": {},
   "outputs": [],
   "source": [
    "def corr_plot(X, y):\n",
    "    r = np.corrcoef(X, y)[0,1]\n",
    "    plt.figure()\n",
    "    plt.scatter(X, y, label=f\"r ={r:.2f}\")\n",
    "    plt.legend()\n",
    "    plt.grid()\n",
    "    return plt.gca()"
   ]
  },
  {
   "cell_type": "code",
   "execution_count": null,
   "id": "23db0a53-27da-4de9-9ad8-83d1817f17d2",
   "metadata": {},
   "outputs": [],
   "source": []
  },
  {
   "cell_type": "code",
   "execution_count": 5,
   "id": "d6702e46-e896-4c4e-9729-d1dbb548ce7c",
   "metadata": {},
   "outputs": [
    {
     "data": {
      "text/html": [
       "<div>\n",
       "<style scoped>\n",
       "    .dataframe tbody tr th:only-of-type {\n",
       "        vertical-align: middle;\n",
       "    }\n",
       "\n",
       "    .dataframe tbody tr th {\n",
       "        vertical-align: top;\n",
       "    }\n",
       "\n",
       "    .dataframe thead th {\n",
       "        text-align: right;\n",
       "    }\n",
       "</style>\n",
       "<table border=\"1\" class=\"dataframe\">\n",
       "  <thead>\n",
       "    <tr style=\"text-align: right;\">\n",
       "      <th></th>\n",
       "      <th>longitude</th>\n",
       "      <th>latitude</th>\n",
       "      <th>housing_median_age</th>\n",
       "      <th>total_rooms</th>\n",
       "      <th>total_bedrooms</th>\n",
       "      <th>population</th>\n",
       "      <th>households</th>\n",
       "      <th>median_income</th>\n",
       "      <th>median_house_value</th>\n",
       "      <th>ocean_proximity</th>\n",
       "    </tr>\n",
       "  </thead>\n",
       "  <tbody>\n",
       "    <tr>\n",
       "      <th>0</th>\n",
       "      <td>-122.23</td>\n",
       "      <td>37.88</td>\n",
       "      <td>41.0</td>\n",
       "      <td>880.0</td>\n",
       "      <td>129.0</td>\n",
       "      <td>322.0</td>\n",
       "      <td>126.0</td>\n",
       "      <td>8.3252</td>\n",
       "      <td>452600.0</td>\n",
       "      <td>NEAR BAY</td>\n",
       "    </tr>\n",
       "    <tr>\n",
       "      <th>1</th>\n",
       "      <td>-122.22</td>\n",
       "      <td>37.86</td>\n",
       "      <td>21.0</td>\n",
       "      <td>7099.0</td>\n",
       "      <td>1106.0</td>\n",
       "      <td>2401.0</td>\n",
       "      <td>1138.0</td>\n",
       "      <td>8.3014</td>\n",
       "      <td>358500.0</td>\n",
       "      <td>NEAR BAY</td>\n",
       "    </tr>\n",
       "    <tr>\n",
       "      <th>2</th>\n",
       "      <td>-122.24</td>\n",
       "      <td>37.85</td>\n",
       "      <td>52.0</td>\n",
       "      <td>1467.0</td>\n",
       "      <td>190.0</td>\n",
       "      <td>496.0</td>\n",
       "      <td>177.0</td>\n",
       "      <td>7.2574</td>\n",
       "      <td>352100.0</td>\n",
       "      <td>NEAR BAY</td>\n",
       "    </tr>\n",
       "    <tr>\n",
       "      <th>3</th>\n",
       "      <td>-122.25</td>\n",
       "      <td>37.85</td>\n",
       "      <td>52.0</td>\n",
       "      <td>1274.0</td>\n",
       "      <td>235.0</td>\n",
       "      <td>558.0</td>\n",
       "      <td>219.0</td>\n",
       "      <td>5.6431</td>\n",
       "      <td>341300.0</td>\n",
       "      <td>NEAR BAY</td>\n",
       "    </tr>\n",
       "    <tr>\n",
       "      <th>4</th>\n",
       "      <td>-122.25</td>\n",
       "      <td>37.85</td>\n",
       "      <td>52.0</td>\n",
       "      <td>1627.0</td>\n",
       "      <td>280.0</td>\n",
       "      <td>565.0</td>\n",
       "      <td>259.0</td>\n",
       "      <td>3.8462</td>\n",
       "      <td>342200.0</td>\n",
       "      <td>NEAR BAY</td>\n",
       "    </tr>\n",
       "    <tr>\n",
       "      <th>...</th>\n",
       "      <td>...</td>\n",
       "      <td>...</td>\n",
       "      <td>...</td>\n",
       "      <td>...</td>\n",
       "      <td>...</td>\n",
       "      <td>...</td>\n",
       "      <td>...</td>\n",
       "      <td>...</td>\n",
       "      <td>...</td>\n",
       "      <td>...</td>\n",
       "    </tr>\n",
       "    <tr>\n",
       "      <th>20635</th>\n",
       "      <td>-121.09</td>\n",
       "      <td>39.48</td>\n",
       "      <td>25.0</td>\n",
       "      <td>1665.0</td>\n",
       "      <td>374.0</td>\n",
       "      <td>845.0</td>\n",
       "      <td>330.0</td>\n",
       "      <td>1.5603</td>\n",
       "      <td>78100.0</td>\n",
       "      <td>INLAND</td>\n",
       "    </tr>\n",
       "    <tr>\n",
       "      <th>20636</th>\n",
       "      <td>-121.21</td>\n",
       "      <td>39.49</td>\n",
       "      <td>18.0</td>\n",
       "      <td>697.0</td>\n",
       "      <td>150.0</td>\n",
       "      <td>356.0</td>\n",
       "      <td>114.0</td>\n",
       "      <td>2.5568</td>\n",
       "      <td>77100.0</td>\n",
       "      <td>INLAND</td>\n",
       "    </tr>\n",
       "    <tr>\n",
       "      <th>20637</th>\n",
       "      <td>-121.22</td>\n",
       "      <td>39.43</td>\n",
       "      <td>17.0</td>\n",
       "      <td>2254.0</td>\n",
       "      <td>485.0</td>\n",
       "      <td>1007.0</td>\n",
       "      <td>433.0</td>\n",
       "      <td>1.7000</td>\n",
       "      <td>92300.0</td>\n",
       "      <td>INLAND</td>\n",
       "    </tr>\n",
       "    <tr>\n",
       "      <th>20638</th>\n",
       "      <td>-121.32</td>\n",
       "      <td>39.43</td>\n",
       "      <td>18.0</td>\n",
       "      <td>1860.0</td>\n",
       "      <td>409.0</td>\n",
       "      <td>741.0</td>\n",
       "      <td>349.0</td>\n",
       "      <td>1.8672</td>\n",
       "      <td>84700.0</td>\n",
       "      <td>INLAND</td>\n",
       "    </tr>\n",
       "    <tr>\n",
       "      <th>20639</th>\n",
       "      <td>-121.24</td>\n",
       "      <td>39.37</td>\n",
       "      <td>16.0</td>\n",
       "      <td>2785.0</td>\n",
       "      <td>616.0</td>\n",
       "      <td>1387.0</td>\n",
       "      <td>530.0</td>\n",
       "      <td>2.3886</td>\n",
       "      <td>89400.0</td>\n",
       "      <td>INLAND</td>\n",
       "    </tr>\n",
       "  </tbody>\n",
       "</table>\n",
       "<p>20640 rows × 10 columns</p>\n",
       "</div>"
      ],
      "text/plain": [
       "       longitude  latitude  housing_median_age  total_rooms  total_bedrooms  \\\n",
       "0        -122.23     37.88                41.0        880.0           129.0   \n",
       "1        -122.22     37.86                21.0       7099.0          1106.0   \n",
       "2        -122.24     37.85                52.0       1467.0           190.0   \n",
       "3        -122.25     37.85                52.0       1274.0           235.0   \n",
       "4        -122.25     37.85                52.0       1627.0           280.0   \n",
       "...          ...       ...                 ...          ...             ...   \n",
       "20635    -121.09     39.48                25.0       1665.0           374.0   \n",
       "20636    -121.21     39.49                18.0        697.0           150.0   \n",
       "20637    -121.22     39.43                17.0       2254.0           485.0   \n",
       "20638    -121.32     39.43                18.0       1860.0           409.0   \n",
       "20639    -121.24     39.37                16.0       2785.0           616.0   \n",
       "\n",
       "       population  households  median_income  median_house_value  \\\n",
       "0           322.0       126.0         8.3252            452600.0   \n",
       "1          2401.0      1138.0         8.3014            358500.0   \n",
       "2           496.0       177.0         7.2574            352100.0   \n",
       "3           558.0       219.0         5.6431            341300.0   \n",
       "4           565.0       259.0         3.8462            342200.0   \n",
       "...           ...         ...            ...                 ...   \n",
       "20635       845.0       330.0         1.5603             78100.0   \n",
       "20636       356.0       114.0         2.5568             77100.0   \n",
       "20637      1007.0       433.0         1.7000             92300.0   \n",
       "20638       741.0       349.0         1.8672             84700.0   \n",
       "20639      1387.0       530.0         2.3886             89400.0   \n",
       "\n",
       "      ocean_proximity  \n",
       "0            NEAR BAY  \n",
       "1            NEAR BAY  \n",
       "2            NEAR BAY  \n",
       "3            NEAR BAY  \n",
       "4            NEAR BAY  \n",
       "...               ...  \n",
       "20635          INLAND  \n",
       "20636          INLAND  \n",
       "20637          INLAND  \n",
       "20638          INLAND  \n",
       "20639          INLAND  \n",
       "\n",
       "[20640 rows x 10 columns]"
      ]
     },
     "execution_count": 5,
     "metadata": {},
     "output_type": "execute_result"
    }
   ],
   "source": [
    "house = pd.read_csv('../housing.csv')\n",
    "house"
   ]
  },
  {
   "cell_type": "code",
   "execution_count": null,
   "id": "8bf767e0-b340-42df-88bf-8cb66676416c",
   "metadata": {},
   "outputs": [],
   "source": []
  },
  {
   "cell_type": "code",
   "execution_count": 6,
   "id": "0b03d6ed-7f77-4103-9574-7b43077511c0",
   "metadata": {},
   "outputs": [
    {
     "data": {
      "text/plain": [
       "longitude               0\n",
       "latitude                0\n",
       "housing_median_age      0\n",
       "total_rooms             0\n",
       "total_bedrooms        207\n",
       "population              0\n",
       "households              0\n",
       "median_income           0\n",
       "median_house_value      0\n",
       "ocean_proximity         0\n",
       "dtype: int64"
      ]
     },
     "execution_count": 6,
     "metadata": {},
     "output_type": "execute_result"
    }
   ],
   "source": [
    "house.isna().sum()"
   ]
  },
  {
   "cell_type": "code",
   "execution_count": null,
   "id": "68baf001-fd3e-4ef2-9e95-b288a224de44",
   "metadata": {},
   "outputs": [],
   "source": []
  },
  {
   "cell_type": "code",
   "execution_count": null,
   "id": "dd32c185-bab3-4a58-8431-76258f5a35c1",
   "metadata": {},
   "outputs": [],
   "source": []
  },
  {
   "cell_type": "code",
   "execution_count": 7,
   "id": "2ec1f496-3280-4bc4-a415-f90248483ee2",
   "metadata": {},
   "outputs": [],
   "source": [
    "X = house['median_income']\n",
    "y = house['median_house_value']"
   ]
  },
  {
   "cell_type": "code",
   "execution_count": null,
   "id": "7e8708f9-d935-4929-8c42-c287730e2404",
   "metadata": {},
   "outputs": [],
   "source": []
  },
  {
   "cell_type": "code",
   "execution_count": 19,
   "id": "e69f2067-d30c-4c66-9596-3b2f6a4266f4",
   "metadata": {},
   "outputs": [
    {
     "data": {
      "image/png": "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",
      "text/plain": [
       "<Figure size 640x480 with 1 Axes>"
      ]
     },
     "metadata": {},
     "output_type": "display_data"
    }
   ],
   "source": [
    "ax = corr_plot(X,y)\n",
    "\n",
    "m = 20000\n",
    "c = 400\n",
    "y_hat = predict(m, X, c)\n",
    "error = MAE(y, y_hat)\n",
    "plt.plot(X, y_hat, label=f\"error = {error:.2f}\")\n",
    "\n",
    "m = 40000\n",
    "c = 600\n",
    "y_hat = predict(m, X, c)\n",
    "error = MAE(y, y_hat)\n",
    "plt.plot(X, y_hat, label=f\"error = {error:.2f}\")\n",
    "\n",
    "# m = 60000\n",
    "# c = 800\n",
    "# y_hat = predict(m, X, c)\n",
    "# error = MAE(y, y_hat)\n",
    "# plt.plot(X, y_hat, label=f\"error = {error:.2f}\")\n",
    "\n",
    "\n",
    "plt.legend()\n",
    "plt.show()\n"
   ]
  },
  {
   "cell_type": "code",
   "execution_count": null,
   "id": "80bd11ed-6ff2-4ffc-94e7-62af25008d39",
   "metadata": {},
   "outputs": [],
   "source": []
  },
  {
   "cell_type": "code",
   "execution_count": null,
   "id": "3da0852d-feb0-4a09-b440-3f372ab05574",
   "metadata": {},
   "outputs": [],
   "source": []
  },
  {
   "cell_type": "code",
   "execution_count": 21,
   "id": "1652952c-4029-4950-9469-b339d795ea4d",
   "metadata": {},
   "outputs": [
    {
     "data": {
      "image/png": "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",
      "text/plain": [
       "<Figure size 640x480 with 1 Axes>"
      ]
     },
     "metadata": {},
     "output_type": "display_data"
    }
   ],
   "source": [
    "ax = corr_plot(X,y)\n",
    "\n",
    "m = 20000\n",
    "c = 400\n",
    "y_hat = predict(m, X, c)\n",
    "error = MAE(y, y_hat)\n",
    "plt.plot(X, y_hat, label=f\"error = {error:.2f}\")\n",
    "\n",
    "m = 40000\n",
    "c = 600\n",
    "y_hat = predict(m, X, c)\n",
    "error = MAE(y, y_hat)\n",
    "plt.plot(X, y_hat, label=f\"error = {error:.2f}\")\n",
    "\n",
    "m = 50000\n",
    "c = 800\n",
    "y_hat = predict(m, X, c)\n",
    "error = MAE(y, y_hat)\n",
    "plt.plot(X, y_hat, label=f\"error = {error:.2f}\")\n",
    "\n",
    "\n",
    "plt.legend()\n",
    "plt.show()\n"
   ]
  },
  {
   "cell_type": "code",
   "execution_count": null,
   "id": "d47beb74-db56-4866-8250-c66e23a3bc8c",
   "metadata": {},
   "outputs": [],
   "source": []
  },
  {
   "cell_type": "code",
   "execution_count": null,
   "id": "97266e42-a8a9-4eb4-a260-758df67bf24f",
   "metadata": {},
   "outputs": [],
   "source": []
  },
  {
   "cell_type": "code",
   "execution_count": 1,
   "id": "4a37cb7b-9ad4-4ddd-9831-73968cc91170",
   "metadata": {},
   "outputs": [],
   "source": [
    "import numpy as np"
   ]
  },
  {
   "cell_type": "code",
   "execution_count": 5,
   "id": "0ed58cfa-97bb-4e3d-a867-c17976bd93d7",
   "metadata": {},
   "outputs": [],
   "source": [
    "height = np.random.normal(150, 20, 100)\n",
    "\n",
    "bias = np.random.random(100) * 10\n",
    "\n",
    "weight = 0.6 * height + bias"
   ]
  },
  {
   "cell_type": "code",
   "execution_count": 6,
   "id": "7da0cd49-bf93-4b1a-97aa-aa3c12734c18",
   "metadata": {},
   "outputs": [
    {
     "data": {
      "text/plain": [
       "array([159.23369991, 147.24890466, 175.64138751, 150.46542565,\n",
       "       154.79331291, 122.88433881, 111.67505012, 138.05674699,\n",
       "       163.28930733, 119.38804318, 150.34296304, 145.95291532,\n",
       "       169.1071753 , 131.15370926, 147.64615307, 185.95980137,\n",
       "       166.0230803 , 162.81595543, 162.74695652, 148.04277184,\n",
       "       122.84016663, 180.15118796, 122.40063923, 126.07472173,\n",
       "       123.08728783, 123.42255691, 125.36753755, 150.4936322 ,\n",
       "       155.26165875, 130.66106394, 162.89268921, 165.73070097,\n",
       "       100.1185558 , 158.81930637, 141.01364191, 173.84741906,\n",
       "       177.79336311, 165.21767263, 168.95173635, 123.85070451,\n",
       "       163.85811072, 166.25570792, 158.64614665, 153.21324065,\n",
       "       158.94373005, 140.41662672, 194.5415948 , 123.9395468 ,\n",
       "       151.74569626, 164.27568034, 158.83949831, 147.75528985,\n",
       "       189.07239002, 147.53035943, 134.2102157 , 139.88495794,\n",
       "       123.87129743, 164.70686368, 151.95570743, 164.10162976,\n",
       "       165.26781804, 165.23895023, 155.04427021, 119.46340349,\n",
       "       170.88655334, 161.0555075 , 158.45576914, 137.57377328,\n",
       "       180.07212446, 157.292441  , 141.2876823 , 151.92057297,\n",
       "       135.77052895, 168.95634042, 158.46174566, 149.86754338,\n",
       "       115.06563336, 158.63509925, 140.11641743, 191.8281387 ,\n",
       "       166.0090866 , 152.2408943 , 157.20816128, 175.74357093,\n",
       "       150.71719546, 130.73336901, 142.30107746, 140.78669912,\n",
       "       158.90211409, 191.24786365, 121.67220413, 157.85781553,\n",
       "       174.04657324, 138.78069651, 121.05935556, 145.44387621,\n",
       "       144.57728017, 122.52935762, 159.11706619, 162.49811868])"
      ]
     },
     "execution_count": 6,
     "metadata": {},
     "output_type": "execute_result"
    }
   ],
   "source": [
    "height"
   ]
  },
  {
   "cell_type": "code",
   "execution_count": 7,
   "id": "5b65b204-cfd0-4267-88ad-f08ad63ee8ee",
   "metadata": {},
   "outputs": [
    {
     "data": {
      "text/plain": [
       "array([ 95.96619389,  93.69166059, 111.98999163,  95.67779018,\n",
       "        99.21876415,  80.61105248,  67.55524996,  86.54603953,\n",
       "       101.13311484,  76.05340319, 100.14785254,  90.14557408,\n",
       "       102.60508083,  79.70301921,  89.47885312, 119.23518067,\n",
       "       107.0680748 , 107.21076125, 104.6092261 ,  94.38451501,\n",
       "        73.98366459, 109.18273473,  74.68631372,  79.15375963,\n",
       "        77.44449073,  78.08823954,  76.09149253,  97.06982434,\n",
       "        99.59639347,  86.39692244, 105.97922049, 108.63772834,\n",
       "        64.09195862,  97.9495863 ,  86.22023363, 114.21770415,\n",
       "       112.22397684, 104.08740656, 107.90428741,  82.49580604,\n",
       "        99.89944374, 102.16368736,  97.59676036,  96.12812366,\n",
       "        98.77097014,  92.07399207, 125.17200802,  78.43765612,\n",
       "        99.26407672, 105.31513575,  97.16618271,  96.01177193,\n",
       "       120.6972948 ,  89.92861386,  82.78539182,  90.45288526,\n",
       "        78.87129709, 103.0215527 ,  95.83164177,  98.94790186,\n",
       "       108.47877042, 108.45376337,  94.2464097 ,  75.47943621,\n",
       "       111.4624316 , 102.31102356, 104.63212675,  87.55599586,\n",
       "       116.40219585, 101.09835144,  84.80193418,  99.05295455,\n",
       "        88.51055701, 101.66486942, 104.72477649,  93.5900218 ,\n",
       "        69.45264721,  98.73843625,  92.44473516, 123.17214966,\n",
       "       101.67225781, 100.35185967,  97.76556569, 109.62139174,\n",
       "        95.49298431,  88.40039029,  94.9006713 ,  89.92647704,\n",
       "       100.6820439 , 120.71524034,  76.23143634, 102.50289398,\n",
       "       105.86926951,  90.25182264,  75.51337972,  87.44096828,\n",
       "        91.96128351,  82.1040897 , 104.97031854, 104.82881648])"
      ]
     },
     "execution_count": 7,
     "metadata": {},
     "output_type": "execute_result"
    }
   ],
   "source": [
    "weight"
   ]
  },
  {
   "cell_type": "code",
   "execution_count": null,
   "id": "58d5fe04-5888-4482-a042-4ef2441e6308",
   "metadata": {},
   "outputs": [],
   "source": []
  },
  {
   "cell_type": "code",
   "execution_count": 14,
   "id": "15155c78-82bf-4356-83e2-e79e277e044f",
   "metadata": {},
   "outputs": [],
   "source": [
    "class LinearRegression:\n",
    "\n",
    "    def __init__(self):\n",
    "        self.theta_0 = None\n",
    "        self.theta_1 = None\n",
    "\n",
    "    def fit(self, X, y):\n",
    "        xbar = X.mean()\n",
    "        ybar = y.mean()\n",
    "\n",
    "        self.theta_1 = ((ybar - y) * (xbar - X)).sum() / ((xbar - X) **2).sum()\n",
    "        self.theta_0 = ybar - self.theta_1 * xbar\n",
    "\n",
    "    def predict(self, X):\n",
    "        y_hat = self.theta_1 * X + self.theta_0\n",
    "        return y_hat"
   ]
  },
  {
   "cell_type": "code",
   "execution_count": null,
   "id": "aa46f132-c7ee-4205-b266-1fc76aaa49de",
   "metadata": {},
   "outputs": [],
   "source": []
  },
  {
   "cell_type": "code",
   "execution_count": 15,
   "id": "66c24691-90fc-4a78-8818-02ba6e7c06fa",
   "metadata": {},
   "outputs": [],
   "source": [
    "LR = LinearRegression()"
   ]
  },
  {
   "cell_type": "code",
   "execution_count": 16,
   "id": "fbe8a21d-c9dd-441e-a136-fb63c1321baa",
   "metadata": {},
   "outputs": [
    {
     "data": {
      "text/plain": [
       "{'theta_0': None, 'theta_1': None}"
      ]
     },
     "execution_count": 16,
     "metadata": {},
     "output_type": "execute_result"
    }
   ],
   "source": [
    "LR.__dict__"
   ]
  },
  {
   "cell_type": "code",
   "execution_count": null,
   "id": "44855521-6097-4373-8510-b703a6e77c8d",
   "metadata": {},
   "outputs": [],
   "source": []
  },
  {
   "cell_type": "code",
   "execution_count": 17,
   "id": "5b03652b-8048-4fff-9937-360162029d75",
   "metadata": {},
   "outputs": [],
   "source": [
    "LR.fit(height, weight)"
   ]
  },
  {
   "cell_type": "code",
   "execution_count": 18,
   "id": "bad49cfd-7c38-49c6-9db6-0257b1c4f697",
   "metadata": {},
   "outputs": [
    {
     "data": {
      "text/plain": [
       "{'theta_0': -0.44216717139893547, 'theta_1': 0.6368371213975236}"
      ]
     },
     "execution_count": 18,
     "metadata": {},
     "output_type": "execute_result"
    }
   ],
   "source": [
    "LR.__dict__"
   ]
  },
  {
   "cell_type": "code",
   "execution_count": null,
   "id": "d3ed52c5-dc44-473f-947d-54a4fd59a797",
   "metadata": {},
   "outputs": [],
   "source": []
  },
  {
   "cell_type": "code",
   "execution_count": 19,
   "id": "458e1ba8-0af1-4a73-8670-1ea59c0f2486",
   "metadata": {},
   "outputs": [
    {
     "data": {
      "text/plain": [
       "array([100.96376391,  93.3314014 , 111.41278845,  95.37980137,\n",
       "        98.13596064,  77.81514142,  70.67665028,  87.47749417,\n",
       "       103.54652527,  75.58857058,  95.30181263,  92.50606728,\n",
       "       107.25155956,  83.08138349,  93.58438393, 117.98393743,\n",
       "       105.28749337, 103.2450772 , 103.20113613,  93.83696549,\n",
       "        77.78701094, 114.28479679,  77.50710357,  79.8468957 ,\n",
       "        77.94438689,  78.15789869,  79.39653456,  95.39776435,\n",
       "        98.43422065,  82.76764866, 103.29394412, 105.10129536,\n",
       "        63.3170457 , 100.69986272,  89.36055462, 110.27032275,\n",
       "       112.7832464 , 104.77457987, 107.15257026,  78.43055897,\n",
       "       103.90876038, 105.43563928, 100.58958818,  97.12971197,\n",
       "       100.77910033,  88.98035318, 123.44914205,  78.48713704,\n",
       "        96.19512522, 104.17468421, 100.71272169,  93.65388629,\n",
       "       119.96614943,  93.51064225,  85.02788026,  88.64176677,\n",
       "        78.44367331, 104.44927777,  96.32886813, 104.06384234,\n",
       "       104.80651433, 104.78813024,  98.29577956,  75.63656282,\n",
       "       108.38473354, 102.12395861, 100.46834872,  87.16991859,\n",
       "       114.23444622,  99.72749817,  89.53507371,  96.3064932 ,\n",
       "        86.02154566, 107.1555023 , 100.47215479,  94.99904774,\n",
       "        72.83589955, 100.58255279,  88.78916876, 121.72111248,\n",
       "       105.27858166,  96.51048571,  99.67382572, 111.47786264,\n",
       "        95.54013773,  82.81369522,  90.18044137,  89.21602903,\n",
       "       100.75259775, 121.35157179,  77.04320906, 100.08754966,\n",
       "       110.39715152,  87.9385321 ,  76.65292434,  92.18189228,\n",
       "        91.63001175,  77.58907622, 100.88948723, 103.04266696])"
      ]
     },
     "execution_count": 19,
     "metadata": {},
     "output_type": "execute_result"
    }
   ],
   "source": [
    "y_hat = LR.predict(height)\n",
    "y_hat"
   ]
  },
  {
   "cell_type": "code",
   "execution_count": null,
   "id": "be05de33-da9e-485f-bab7-4d4f83d5d653",
   "metadata": {},
   "outputs": [],
   "source": []
  },
  {
   "cell_type": "code",
   "execution_count": 21,
   "id": "075bd17c-a0bc-42d7-9285-78184dd50e50",
   "metadata": {},
   "outputs": [
    {
     "data": {
      "text/plain": [
       "array([ 95.96619389,  93.69166059, 111.98999163,  95.67779018,\n",
       "        99.21876415])"
      ]
     },
     "execution_count": 21,
     "metadata": {},
     "output_type": "execute_result"
    }
   ],
   "source": [
    "weight[:5]"
   ]
  },
  {
   "cell_type": "code",
   "execution_count": 22,
   "id": "fc341278-6097-452e-8f40-9e2072580532",
   "metadata": {},
   "outputs": [
    {
     "data": {
      "text/plain": [
       "array([100.96376391,  93.3314014 , 111.41278845,  95.37980137,\n",
       "        98.13596064])"
      ]
     },
     "execution_count": 22,
     "metadata": {},
     "output_type": "execute_result"
    }
   ],
   "source": [
    "y_hat[:5]"
   ]
  },
  {
   "cell_type": "code",
   "execution_count": null,
   "id": "457f1a56-0b53-4478-8d85-8c9af8e4e0b2",
   "metadata": {},
   "outputs": [],
   "source": []
  },
  {
   "cell_type": "code",
   "execution_count": null,
   "id": "ce1b1476-635b-4018-99e7-7ff408cd9642",
   "metadata": {},
   "outputs": [],
   "source": []
  },
  {
   "cell_type": "code",
   "execution_count": 23,
   "id": "a29f0f3c-7b6b-4474-811a-90a8a6f6b125",
   "metadata": {},
   "outputs": [
    {
     "data": {
      "text/plain": [
       "98.26758664521722"
      ]
     },
     "execution_count": 23,
     "metadata": {},
     "output_type": "execute_result"
    }
   ],
   "source": [
    "LR.predict(155)"
   ]
  },
  {
   "cell_type": "code",
   "execution_count": 24,
   "id": "294b6df4-4d42-491c-a2a8-298850358dad",
   "metadata": {},
   "outputs": [
    {
     "data": {
      "text/plain": [
       "array([ 91.89921543, 104.63595786, 112.27800332, 125.65158287])"
      ]
     },
     "execution_count": 24,
     "metadata": {},
     "output_type": "execute_result"
    }
   ],
   "source": [
    "LR.predict(np.array([145, 165, 177, 198]))"
   ]
  },
  {
   "cell_type": "code",
   "execution_count": null,
   "id": "1fb23fdc-8be9-4a59-b086-6384922dc52b",
   "metadata": {},
   "outputs": [],
   "source": []
  },
  {
   "cell_type": "code",
   "execution_count": null,
   "id": "070b4e84-211b-4491-9c38-3829f5ede929",
   "metadata": {},
   "outputs": [],
   "source": []
  },
  {
   "cell_type": "code",
   "execution_count": 26,
   "id": "ecc22239-cbac-4ffe-9cef-f96a71e4df82",
   "metadata": {},
   "outputs": [],
   "source": [
    "from sklearn.linear_model import LinearRegression as LR"
   ]
  },
  {
   "cell_type": "code",
   "execution_count": null,
   "id": "0e8a1141-787a-4eda-a735-35b5c3075f60",
   "metadata": {},
   "outputs": [],
   "source": []
  },
  {
   "cell_type": "code",
   "execution_count": 28,
   "id": "5bbe29b1-8ac0-4f73-9600-30367cf7e37b",
   "metadata": {},
   "outputs": [],
   "source": [
    "model = LR()"
   ]
  },
  {
   "cell_type": "code",
   "execution_count": 29,
   "id": "7bd89d53-651a-44fb-9afb-2a31db4f8ee6",
   "metadata": {
    "scrolled": true
   },
   "outputs": [
    {
     "ename": "ValueError",
     "evalue": "Expected 2D array, got 1D array instead:\narray=[159.23369991 147.24890466 175.64138751 150.46542565 154.79331291\n 122.88433881 111.67505012 138.05674699 163.28930733 119.38804318\n 150.34296304 145.95291532 169.1071753  131.15370926 147.64615307\n 185.95980137 166.0230803  162.81595543 162.74695652 148.04277184\n 122.84016663 180.15118796 122.40063923 126.07472173 123.08728783\n 123.42255691 125.36753755 150.4936322  155.26165875 130.66106394\n 162.89268921 165.73070097 100.1185558  158.81930637 141.01364191\n 173.84741906 177.79336311 165.21767263 168.95173635 123.85070451\n 163.85811072 166.25570792 158.64614665 153.21324065 158.94373005\n 140.41662672 194.5415948  123.9395468  151.74569626 164.27568034\n 158.83949831 147.75528985 189.07239002 147.53035943 134.2102157\n 139.88495794 123.87129743 164.70686368 151.95570743 164.10162976\n 165.26781804 165.23895023 155.04427021 119.46340349 170.88655334\n 161.0555075  158.45576914 137.57377328 180.07212446 157.292441\n 141.2876823  151.92057297 135.77052895 168.95634042 158.46174566\n 149.86754338 115.06563336 158.63509925 140.11641743 191.8281387\n 166.0090866  152.2408943  157.20816128 175.74357093 150.71719546\n 130.73336901 142.30107746 140.78669912 158.90211409 191.24786365\n 121.67220413 157.85781553 174.04657324 138.78069651 121.05935556\n 145.44387621 144.57728017 122.52935762 159.11706619 162.49811868].\nReshape your data either using array.reshape(-1, 1) if your data has a single feature or array.reshape(1, -1) if it contains a single sample.",
     "output_type": "error",
     "traceback": [
      "\u001b[1;31m---------------------------------------------------------------------------\u001b[0m",
      "\u001b[1;31mValueError\u001b[0m                                Traceback (most recent call last)",
      "Cell \u001b[1;32mIn[29], line 1\u001b[0m\n\u001b[1;32m----> 1\u001b[0m model\u001b[38;5;241m.\u001b[39mfit(height, weight)\n",
      "File \u001b[1;32m~\\anaconda3\\Lib\\site-packages\\sklearn\\linear_model\\_base.py:648\u001b[0m, in \u001b[0;36mLinearRegression.fit\u001b[1;34m(self, X, y, sample_weight)\u001b[0m\n\u001b[0;32m    644\u001b[0m n_jobs_ \u001b[38;5;241m=\u001b[39m \u001b[38;5;28mself\u001b[39m\u001b[38;5;241m.\u001b[39mn_jobs\n\u001b[0;32m    646\u001b[0m accept_sparse \u001b[38;5;241m=\u001b[39m \u001b[38;5;28;01mFalse\u001b[39;00m \u001b[38;5;28;01mif\u001b[39;00m \u001b[38;5;28mself\u001b[39m\u001b[38;5;241m.\u001b[39mpositive \u001b[38;5;28;01melse\u001b[39;00m [\u001b[38;5;124m\"\u001b[39m\u001b[38;5;124mcsr\u001b[39m\u001b[38;5;124m\"\u001b[39m, \u001b[38;5;124m\"\u001b[39m\u001b[38;5;124mcsc\u001b[39m\u001b[38;5;124m\"\u001b[39m, \u001b[38;5;124m\"\u001b[39m\u001b[38;5;124mcoo\u001b[39m\u001b[38;5;124m\"\u001b[39m]\n\u001b[1;32m--> 648\u001b[0m X, y \u001b[38;5;241m=\u001b[39m \u001b[38;5;28mself\u001b[39m\u001b[38;5;241m.\u001b[39m_validate_data(\n\u001b[0;32m    649\u001b[0m     X, y, accept_sparse\u001b[38;5;241m=\u001b[39maccept_sparse, y_numeric\u001b[38;5;241m=\u001b[39m\u001b[38;5;28;01mTrue\u001b[39;00m, multi_output\u001b[38;5;241m=\u001b[39m\u001b[38;5;28;01mTrue\u001b[39;00m\n\u001b[0;32m    650\u001b[0m )\n\u001b[0;32m    652\u001b[0m sample_weight \u001b[38;5;241m=\u001b[39m _check_sample_weight(\n\u001b[0;32m    653\u001b[0m     sample_weight, X, dtype\u001b[38;5;241m=\u001b[39mX\u001b[38;5;241m.\u001b[39mdtype, only_non_negative\u001b[38;5;241m=\u001b[39m\u001b[38;5;28;01mTrue\u001b[39;00m\n\u001b[0;32m    654\u001b[0m )\n\u001b[0;32m    656\u001b[0m X, y, X_offset, y_offset, X_scale \u001b[38;5;241m=\u001b[39m _preprocess_data(\n\u001b[0;32m    657\u001b[0m     X,\n\u001b[0;32m    658\u001b[0m     y,\n\u001b[1;32m   (...)\u001b[0m\n\u001b[0;32m    661\u001b[0m     sample_weight\u001b[38;5;241m=\u001b[39msample_weight,\n\u001b[0;32m    662\u001b[0m )\n",
      "File \u001b[1;32m~\\anaconda3\\Lib\\site-packages\\sklearn\\base.py:584\u001b[0m, in \u001b[0;36mBaseEstimator._validate_data\u001b[1;34m(self, X, y, reset, validate_separately, **check_params)\u001b[0m\n\u001b[0;32m    582\u001b[0m         y \u001b[38;5;241m=\u001b[39m check_array(y, input_name\u001b[38;5;241m=\u001b[39m\u001b[38;5;124m\"\u001b[39m\u001b[38;5;124my\u001b[39m\u001b[38;5;124m\"\u001b[39m, \u001b[38;5;241m*\u001b[39m\u001b[38;5;241m*\u001b[39mcheck_y_params)\n\u001b[0;32m    583\u001b[0m     \u001b[38;5;28;01melse\u001b[39;00m:\n\u001b[1;32m--> 584\u001b[0m         X, y \u001b[38;5;241m=\u001b[39m check_X_y(X, y, \u001b[38;5;241m*\u001b[39m\u001b[38;5;241m*\u001b[39mcheck_params)\n\u001b[0;32m    585\u001b[0m     out \u001b[38;5;241m=\u001b[39m X, y\n\u001b[0;32m    587\u001b[0m \u001b[38;5;28;01mif\u001b[39;00m \u001b[38;5;129;01mnot\u001b[39;00m no_val_X \u001b[38;5;129;01mand\u001b[39;00m check_params\u001b[38;5;241m.\u001b[39mget(\u001b[38;5;124m\"\u001b[39m\u001b[38;5;124mensure_2d\u001b[39m\u001b[38;5;124m\"\u001b[39m, \u001b[38;5;28;01mTrue\u001b[39;00m):\n",
      "File \u001b[1;32m~\\anaconda3\\Lib\\site-packages\\sklearn\\utils\\validation.py:1106\u001b[0m, in \u001b[0;36mcheck_X_y\u001b[1;34m(X, y, accept_sparse, accept_large_sparse, dtype, order, copy, force_all_finite, ensure_2d, allow_nd, multi_output, ensure_min_samples, ensure_min_features, y_numeric, estimator)\u001b[0m\n\u001b[0;32m   1101\u001b[0m         estimator_name \u001b[38;5;241m=\u001b[39m _check_estimator_name(estimator)\n\u001b[0;32m   1102\u001b[0m     \u001b[38;5;28;01mraise\u001b[39;00m \u001b[38;5;167;01mValueError\u001b[39;00m(\n\u001b[0;32m   1103\u001b[0m         \u001b[38;5;124mf\u001b[39m\u001b[38;5;124m\"\u001b[39m\u001b[38;5;132;01m{\u001b[39;00mestimator_name\u001b[38;5;132;01m}\u001b[39;00m\u001b[38;5;124m requires y to be passed, but the target y is None\u001b[39m\u001b[38;5;124m\"\u001b[39m\n\u001b[0;32m   1104\u001b[0m     )\n\u001b[1;32m-> 1106\u001b[0m X \u001b[38;5;241m=\u001b[39m check_array(\n\u001b[0;32m   1107\u001b[0m     X,\n\u001b[0;32m   1108\u001b[0m     accept_sparse\u001b[38;5;241m=\u001b[39maccept_sparse,\n\u001b[0;32m   1109\u001b[0m     accept_large_sparse\u001b[38;5;241m=\u001b[39maccept_large_sparse,\n\u001b[0;32m   1110\u001b[0m     dtype\u001b[38;5;241m=\u001b[39mdtype,\n\u001b[0;32m   1111\u001b[0m     order\u001b[38;5;241m=\u001b[39morder,\n\u001b[0;32m   1112\u001b[0m     copy\u001b[38;5;241m=\u001b[39mcopy,\n\u001b[0;32m   1113\u001b[0m     force_all_finite\u001b[38;5;241m=\u001b[39mforce_all_finite,\n\u001b[0;32m   1114\u001b[0m     ensure_2d\u001b[38;5;241m=\u001b[39mensure_2d,\n\u001b[0;32m   1115\u001b[0m     allow_nd\u001b[38;5;241m=\u001b[39mallow_nd,\n\u001b[0;32m   1116\u001b[0m     ensure_min_samples\u001b[38;5;241m=\u001b[39mensure_min_samples,\n\u001b[0;32m   1117\u001b[0m     ensure_min_features\u001b[38;5;241m=\u001b[39mensure_min_features,\n\u001b[0;32m   1118\u001b[0m     estimator\u001b[38;5;241m=\u001b[39mestimator,\n\u001b[0;32m   1119\u001b[0m     input_name\u001b[38;5;241m=\u001b[39m\u001b[38;5;124m\"\u001b[39m\u001b[38;5;124mX\u001b[39m\u001b[38;5;124m\"\u001b[39m,\n\u001b[0;32m   1120\u001b[0m )\n\u001b[0;32m   1122\u001b[0m y \u001b[38;5;241m=\u001b[39m _check_y(y, multi_output\u001b[38;5;241m=\u001b[39mmulti_output, y_numeric\u001b[38;5;241m=\u001b[39my_numeric, estimator\u001b[38;5;241m=\u001b[39mestimator)\n\u001b[0;32m   1124\u001b[0m check_consistent_length(X, y)\n",
      "File \u001b[1;32m~\\anaconda3\\Lib\\site-packages\\sklearn\\utils\\validation.py:902\u001b[0m, in \u001b[0;36mcheck_array\u001b[1;34m(array, accept_sparse, accept_large_sparse, dtype, order, copy, force_all_finite, ensure_2d, allow_nd, ensure_min_samples, ensure_min_features, estimator, input_name)\u001b[0m\n\u001b[0;32m    900\u001b[0m     \u001b[38;5;66;03m# If input is 1D raise error\u001b[39;00m\n\u001b[0;32m    901\u001b[0m     \u001b[38;5;28;01mif\u001b[39;00m array\u001b[38;5;241m.\u001b[39mndim \u001b[38;5;241m==\u001b[39m \u001b[38;5;241m1\u001b[39m:\n\u001b[1;32m--> 902\u001b[0m         \u001b[38;5;28;01mraise\u001b[39;00m \u001b[38;5;167;01mValueError\u001b[39;00m(\n\u001b[0;32m    903\u001b[0m             \u001b[38;5;124m\"\u001b[39m\u001b[38;5;124mExpected 2D array, got 1D array instead:\u001b[39m\u001b[38;5;130;01m\\n\u001b[39;00m\u001b[38;5;124marray=\u001b[39m\u001b[38;5;132;01m{}\u001b[39;00m\u001b[38;5;124m.\u001b[39m\u001b[38;5;130;01m\\n\u001b[39;00m\u001b[38;5;124m\"\u001b[39m\n\u001b[0;32m    904\u001b[0m             \u001b[38;5;124m\"\u001b[39m\u001b[38;5;124mReshape your data either using array.reshape(-1, 1) if \u001b[39m\u001b[38;5;124m\"\u001b[39m\n\u001b[0;32m    905\u001b[0m             \u001b[38;5;124m\"\u001b[39m\u001b[38;5;124myour data has a single feature or array.reshape(1, -1) \u001b[39m\u001b[38;5;124m\"\u001b[39m\n\u001b[0;32m    906\u001b[0m             \u001b[38;5;124m\"\u001b[39m\u001b[38;5;124mif it contains a single sample.\u001b[39m\u001b[38;5;124m\"\u001b[39m\u001b[38;5;241m.\u001b[39mformat(array)\n\u001b[0;32m    907\u001b[0m         )\n\u001b[0;32m    909\u001b[0m \u001b[38;5;28;01mif\u001b[39;00m dtype_numeric \u001b[38;5;129;01mand\u001b[39;00m array\u001b[38;5;241m.\u001b[39mdtype\u001b[38;5;241m.\u001b[39mkind \u001b[38;5;129;01min\u001b[39;00m \u001b[38;5;124m\"\u001b[39m\u001b[38;5;124mUSV\u001b[39m\u001b[38;5;124m\"\u001b[39m:\n\u001b[0;32m    910\u001b[0m     \u001b[38;5;28;01mraise\u001b[39;00m \u001b[38;5;167;01mValueError\u001b[39;00m(\n\u001b[0;32m    911\u001b[0m         \u001b[38;5;124m\"\u001b[39m\u001b[38;5;124mdtype=\u001b[39m\u001b[38;5;124m'\u001b[39m\u001b[38;5;124mnumeric\u001b[39m\u001b[38;5;124m'\u001b[39m\u001b[38;5;124m is not compatible with arrays of bytes/strings.\u001b[39m\u001b[38;5;124m\"\u001b[39m\n\u001b[0;32m    912\u001b[0m         \u001b[38;5;124m\"\u001b[39m\u001b[38;5;124mConvert your data to numeric values explicitly instead.\u001b[39m\u001b[38;5;124m\"\u001b[39m\n\u001b[0;32m    913\u001b[0m     )\n",
      "\u001b[1;31mValueError\u001b[0m: Expected 2D array, got 1D array instead:\narray=[159.23369991 147.24890466 175.64138751 150.46542565 154.79331291\n 122.88433881 111.67505012 138.05674699 163.28930733 119.38804318\n 150.34296304 145.95291532 169.1071753  131.15370926 147.64615307\n 185.95980137 166.0230803  162.81595543 162.74695652 148.04277184\n 122.84016663 180.15118796 122.40063923 126.07472173 123.08728783\n 123.42255691 125.36753755 150.4936322  155.26165875 130.66106394\n 162.89268921 165.73070097 100.1185558  158.81930637 141.01364191\n 173.84741906 177.79336311 165.21767263 168.95173635 123.85070451\n 163.85811072 166.25570792 158.64614665 153.21324065 158.94373005\n 140.41662672 194.5415948  123.9395468  151.74569626 164.27568034\n 158.83949831 147.75528985 189.07239002 147.53035943 134.2102157\n 139.88495794 123.87129743 164.70686368 151.95570743 164.10162976\n 165.26781804 165.23895023 155.04427021 119.46340349 170.88655334\n 161.0555075  158.45576914 137.57377328 180.07212446 157.292441\n 141.2876823  151.92057297 135.77052895 168.95634042 158.46174566\n 149.86754338 115.06563336 158.63509925 140.11641743 191.8281387\n 166.0090866  152.2408943  157.20816128 175.74357093 150.71719546\n 130.73336901 142.30107746 140.78669912 158.90211409 191.24786365\n 121.67220413 157.85781553 174.04657324 138.78069651 121.05935556\n 145.44387621 144.57728017 122.52935762 159.11706619 162.49811868].\nReshape your data either using array.reshape(-1, 1) if your data has a single feature or array.reshape(1, -1) if it contains a single sample."
     ]
    }
   ],
   "source": [
    "model.fit(height, weight)"
   ]
  },
  {
   "cell_type": "code",
   "execution_count": 31,
   "id": "d1d334d6-1a6c-43ff-ae81-676a46c095ff",
   "metadata": {},
   "outputs": [
    {
     "data": {
      "text/plain": [
       "array([159.23369991, 147.24890466, 175.64138751, 150.46542565,\n",
       "       154.79331291, 122.88433881, 111.67505012, 138.05674699,\n",
       "       163.28930733, 119.38804318, 150.34296304, 145.95291532,\n",
       "       169.1071753 , 131.15370926, 147.64615307, 185.95980137,\n",
       "       166.0230803 , 162.81595543, 162.74695652, 148.04277184,\n",
       "       122.84016663, 180.15118796, 122.40063923, 126.07472173,\n",
       "       123.08728783, 123.42255691, 125.36753755, 150.4936322 ,\n",
       "       155.26165875, 130.66106394, 162.89268921, 165.73070097,\n",
       "       100.1185558 , 158.81930637, 141.01364191, 173.84741906,\n",
       "       177.79336311, 165.21767263, 168.95173635, 123.85070451,\n",
       "       163.85811072, 166.25570792, 158.64614665, 153.21324065,\n",
       "       158.94373005, 140.41662672, 194.5415948 , 123.9395468 ,\n",
       "       151.74569626, 164.27568034, 158.83949831, 147.75528985,\n",
       "       189.07239002, 147.53035943, 134.2102157 , 139.88495794,\n",
       "       123.87129743, 164.70686368, 151.95570743, 164.10162976,\n",
       "       165.26781804, 165.23895023, 155.04427021, 119.46340349,\n",
       "       170.88655334, 161.0555075 , 158.45576914, 137.57377328,\n",
       "       180.07212446, 157.292441  , 141.2876823 , 151.92057297,\n",
       "       135.77052895, 168.95634042, 158.46174566, 149.86754338,\n",
       "       115.06563336, 158.63509925, 140.11641743, 191.8281387 ,\n",
       "       166.0090866 , 152.2408943 , 157.20816128, 175.74357093,\n",
       "       150.71719546, 130.73336901, 142.30107746, 140.78669912,\n",
       "       158.90211409, 191.24786365, 121.67220413, 157.85781553,\n",
       "       174.04657324, 138.78069651, 121.05935556, 145.44387621,\n",
       "       144.57728017, 122.52935762, 159.11706619, 162.49811868])"
      ]
     },
     "execution_count": 31,
     "metadata": {},
     "output_type": "execute_result"
    }
   ],
   "source": [
    "height"
   ]
  },
  {
   "cell_type": "code",
   "execution_count": 32,
   "id": "e961ba63-deef-4aa7-adef-dcd6d0c5e692",
   "metadata": {
    "scrolled": true
   },
   "outputs": [
    {
     "data": {
      "text/plain": [
       "array([[159.23369991],\n",
       "       [147.24890466],\n",
       "       [175.64138751],\n",
       "       [150.46542565],\n",
       "       [154.79331291],\n",
       "       [122.88433881],\n",
       "       [111.67505012],\n",
       "       [138.05674699],\n",
       "       [163.28930733],\n",
       "       [119.38804318],\n",
       "       [150.34296304],\n",
       "       [145.95291532],\n",
       "       [169.1071753 ],\n",
       "       [131.15370926],\n",
       "       [147.64615307],\n",
       "       [185.95980137],\n",
       "       [166.0230803 ],\n",
       "       [162.81595543],\n",
       "       [162.74695652],\n",
       "       [148.04277184],\n",
       "       [122.84016663],\n",
       "       [180.15118796],\n",
       "       [122.40063923],\n",
       "       [126.07472173],\n",
       "       [123.08728783],\n",
       "       [123.42255691],\n",
       "       [125.36753755],\n",
       "       [150.4936322 ],\n",
       "       [155.26165875],\n",
       "       [130.66106394],\n",
       "       [162.89268921],\n",
       "       [165.73070097],\n",
       "       [100.1185558 ],\n",
       "       [158.81930637],\n",
       "       [141.01364191],\n",
       "       [173.84741906],\n",
       "       [177.79336311],\n",
       "       [165.21767263],\n",
       "       [168.95173635],\n",
       "       [123.85070451],\n",
       "       [163.85811072],\n",
       "       [166.25570792],\n",
       "       [158.64614665],\n",
       "       [153.21324065],\n",
       "       [158.94373005],\n",
       "       [140.41662672],\n",
       "       [194.5415948 ],\n",
       "       [123.9395468 ],\n",
       "       [151.74569626],\n",
       "       [164.27568034],\n",
       "       [158.83949831],\n",
       "       [147.75528985],\n",
       "       [189.07239002],\n",
       "       [147.53035943],\n",
       "       [134.2102157 ],\n",
       "       [139.88495794],\n",
       "       [123.87129743],\n",
       "       [164.70686368],\n",
       "       [151.95570743],\n",
       "       [164.10162976],\n",
       "       [165.26781804],\n",
       "       [165.23895023],\n",
       "       [155.04427021],\n",
       "       [119.46340349],\n",
       "       [170.88655334],\n",
       "       [161.0555075 ],\n",
       "       [158.45576914],\n",
       "       [137.57377328],\n",
       "       [180.07212446],\n",
       "       [157.292441  ],\n",
       "       [141.2876823 ],\n",
       "       [151.92057297],\n",
       "       [135.77052895],\n",
       "       [168.95634042],\n",
       "       [158.46174566],\n",
       "       [149.86754338],\n",
       "       [115.06563336],\n",
       "       [158.63509925],\n",
       "       [140.11641743],\n",
       "       [191.8281387 ],\n",
       "       [166.0090866 ],\n",
       "       [152.2408943 ],\n",
       "       [157.20816128],\n",
       "       [175.74357093],\n",
       "       [150.71719546],\n",
       "       [130.73336901],\n",
       "       [142.30107746],\n",
       "       [140.78669912],\n",
       "       [158.90211409],\n",
       "       [191.24786365],\n",
       "       [121.67220413],\n",
       "       [157.85781553],\n",
       "       [174.04657324],\n",
       "       [138.78069651],\n",
       "       [121.05935556],\n",
       "       [145.44387621],\n",
       "       [144.57728017],\n",
       "       [122.52935762],\n",
       "       [159.11706619],\n",
       "       [162.49811868]])"
      ]
     },
     "execution_count": 32,
     "metadata": {},
     "output_type": "execute_result"
    }
   ],
   "source": [
    "height.reshape((-1, 1))"
   ]
  },
  {
   "cell_type": "code",
   "execution_count": null,
   "id": "af71daea-375d-4ef3-a023-76dbe9675892",
   "metadata": {},
   "outputs": [],
   "source": []
  },
  {
   "cell_type": "code",
   "execution_count": 33,
   "id": "75cc7179-26c1-40b2-913a-f5a2dc504298",
   "metadata": {},
   "outputs": [
    {
     "data": {
      "text/html": [
       "<style>#sk-container-id-1 {color: black;background-color: white;}#sk-container-id-1 pre{padding: 0;}#sk-container-id-1 div.sk-toggleable {background-color: white;}#sk-container-id-1 label.sk-toggleable__label {cursor: pointer;display: block;width: 100%;margin-bottom: 0;padding: 0.3em;box-sizing: border-box;text-align: center;}#sk-container-id-1 label.sk-toggleable__label-arrow:before {content: \"▸\";float: left;margin-right: 0.25em;color: #696969;}#sk-container-id-1 label.sk-toggleable__label-arrow:hover:before {color: black;}#sk-container-id-1 div.sk-estimator:hover label.sk-toggleable__label-arrow:before {color: black;}#sk-container-id-1 div.sk-toggleable__content {max-height: 0;max-width: 0;overflow: hidden;text-align: left;background-color: #f0f8ff;}#sk-container-id-1 div.sk-toggleable__content pre {margin: 0.2em;color: black;border-radius: 0.25em;background-color: #f0f8ff;}#sk-container-id-1 input.sk-toggleable__control:checked~div.sk-toggleable__content {max-height: 200px;max-width: 100%;overflow: auto;}#sk-container-id-1 input.sk-toggleable__control:checked~label.sk-toggleable__label-arrow:before {content: \"▾\";}#sk-container-id-1 div.sk-estimator input.sk-toggleable__control:checked~label.sk-toggleable__label {background-color: #d4ebff;}#sk-container-id-1 div.sk-label input.sk-toggleable__control:checked~label.sk-toggleable__label {background-color: #d4ebff;}#sk-container-id-1 input.sk-hidden--visually {border: 0;clip: rect(1px 1px 1px 1px);clip: rect(1px, 1px, 1px, 1px);height: 1px;margin: -1px;overflow: hidden;padding: 0;position: absolute;width: 1px;}#sk-container-id-1 div.sk-estimator {font-family: monospace;background-color: #f0f8ff;border: 1px dotted black;border-radius: 0.25em;box-sizing: border-box;margin-bottom: 0.5em;}#sk-container-id-1 div.sk-estimator:hover {background-color: #d4ebff;}#sk-container-id-1 div.sk-parallel-item::after {content: \"\";width: 100%;border-bottom: 1px solid gray;flex-grow: 1;}#sk-container-id-1 div.sk-label:hover label.sk-toggleable__label {background-color: #d4ebff;}#sk-container-id-1 div.sk-serial::before {content: \"\";position: absolute;border-left: 1px solid gray;box-sizing: border-box;top: 0;bottom: 0;left: 50%;z-index: 0;}#sk-container-id-1 div.sk-serial {display: flex;flex-direction: column;align-items: center;background-color: white;padding-right: 0.2em;padding-left: 0.2em;position: relative;}#sk-container-id-1 div.sk-item {position: relative;z-index: 1;}#sk-container-id-1 div.sk-parallel {display: flex;align-items: stretch;justify-content: center;background-color: white;position: relative;}#sk-container-id-1 div.sk-item::before, #sk-container-id-1 div.sk-parallel-item::before {content: \"\";position: absolute;border-left: 1px solid gray;box-sizing: border-box;top: 0;bottom: 0;left: 50%;z-index: -1;}#sk-container-id-1 div.sk-parallel-item {display: flex;flex-direction: column;z-index: 1;position: relative;background-color: white;}#sk-container-id-1 div.sk-parallel-item:first-child::after {align-self: flex-end;width: 50%;}#sk-container-id-1 div.sk-parallel-item:last-child::after {align-self: flex-start;width: 50%;}#sk-container-id-1 div.sk-parallel-item:only-child::after {width: 0;}#sk-container-id-1 div.sk-dashed-wrapped {border: 1px dashed gray;margin: 0 0.4em 0.5em 0.4em;box-sizing: border-box;padding-bottom: 0.4em;background-color: white;}#sk-container-id-1 div.sk-label label {font-family: monospace;font-weight: bold;display: inline-block;line-height: 1.2em;}#sk-container-id-1 div.sk-label-container {text-align: center;}#sk-container-id-1 div.sk-container {/* jupyter's `normalize.less` sets `[hidden] { display: none; }` but bootstrap.min.css set `[hidden] { display: none !important; }` so we also need the `!important` here to be able to override the default hidden behavior on the sphinx rendered scikit-learn.org. See: https://github.com/scikit-learn/scikit-learn/issues/21755 */display: inline-block !important;position: relative;}#sk-container-id-1 div.sk-text-repr-fallback {display: none;}</style><div id=\"sk-container-id-1\" class=\"sk-top-container\"><div class=\"sk-text-repr-fallback\"><pre>LinearRegression()</pre><b>In a Jupyter environment, please rerun this cell to show the HTML representation or trust the notebook. <br />On GitHub, the HTML representation is unable to render, please try loading this page with nbviewer.org.</b></div><div class=\"sk-container\" hidden><div class=\"sk-item\"><div class=\"sk-estimator sk-toggleable\"><input class=\"sk-toggleable__control sk-hidden--visually\" id=\"sk-estimator-id-1\" type=\"checkbox\" checked><label for=\"sk-estimator-id-1\" class=\"sk-toggleable__label sk-toggleable__label-arrow\">LinearRegression</label><div class=\"sk-toggleable__content\"><pre>LinearRegression()</pre></div></div></div></div></div>"
      ],
      "text/plain": [
       "LinearRegression()"
      ]
     },
     "execution_count": 33,
     "metadata": {},
     "output_type": "execute_result"
    }
   ],
   "source": [
    "model.fit(height.reshape(-1,1), weight)"
   ]
  },
  {
   "cell_type": "code",
   "execution_count": 36,
   "id": "4a0b6064-ec38-4de2-b425-8dde83b07b83",
   "metadata": {},
   "outputs": [
    {
     "data": {
      "text/plain": [
       "array([ 95.96619389,  93.69166059, 111.98999163,  95.67779018,\n",
       "        99.21876415,  80.61105248,  67.55524996,  86.54603953,\n",
       "       101.13311484,  76.05340319, 100.14785254,  90.14557408,\n",
       "       102.60508083,  79.70301921,  89.47885312, 119.23518067,\n",
       "       107.0680748 , 107.21076125, 104.6092261 ,  94.38451501,\n",
       "        73.98366459, 109.18273473,  74.68631372,  79.15375963,\n",
       "        77.44449073,  78.08823954,  76.09149253,  97.06982434,\n",
       "        99.59639347,  86.39692244, 105.97922049, 108.63772834,\n",
       "        64.09195862,  97.9495863 ,  86.22023363, 114.21770415,\n",
       "       112.22397684, 104.08740656, 107.90428741,  82.49580604,\n",
       "        99.89944374, 102.16368736,  97.59676036,  96.12812366,\n",
       "        98.77097014,  92.07399207, 125.17200802,  78.43765612,\n",
       "        99.26407672, 105.31513575,  97.16618271,  96.01177193,\n",
       "       120.6972948 ,  89.92861386,  82.78539182,  90.45288526,\n",
       "        78.87129709, 103.0215527 ,  95.83164177,  98.94790186,\n",
       "       108.47877042, 108.45376337,  94.2464097 ,  75.47943621,\n",
       "       111.4624316 , 102.31102356, 104.63212675,  87.55599586,\n",
       "       116.40219585, 101.09835144,  84.80193418,  99.05295455,\n",
       "        88.51055701, 101.66486942, 104.72477649,  93.5900218 ,\n",
       "        69.45264721,  98.73843625,  92.44473516, 123.17214966,\n",
       "       101.67225781, 100.35185967,  97.76556569, 109.62139174,\n",
       "        95.49298431,  88.40039029,  94.9006713 ,  89.92647704,\n",
       "       100.6820439 , 120.71524034,  76.23143634, 102.50289398,\n",
       "       105.86926951,  90.25182264,  75.51337972,  87.44096828,\n",
       "        91.96128351,  82.1040897 , 104.97031854, 104.82881648])"
      ]
     },
     "execution_count": 36,
     "metadata": {},
     "output_type": "execute_result"
    }
   ],
   "source": [
    "weight"
   ]
  },
  {
   "cell_type": "code",
   "execution_count": 41,
   "id": "41f92825-513a-447a-b09a-85f9504f16e2",
   "metadata": {},
   "outputs": [
    {
     "data": {
      "text/plain": [
       "array([100.96376391,  93.3314014 , 111.41278845,  95.37980137,\n",
       "        98.13596064,  77.81514142,  70.67665028,  87.47749417,\n",
       "       103.54652527,  75.58857058,  95.30181263,  92.50606728,\n",
       "       107.25155956,  83.08138349,  93.58438393, 117.98393743,\n",
       "       105.28749337, 103.2450772 , 103.20113613,  93.83696549,\n",
       "        77.78701094, 114.28479679,  77.50710357,  79.8468957 ,\n",
       "        77.94438689,  78.15789869,  79.39653456,  95.39776435,\n",
       "        98.43422065,  82.76764866, 103.29394412, 105.10129536,\n",
       "        63.3170457 , 100.69986272,  89.36055462, 110.27032275,\n",
       "       112.7832464 , 104.77457987, 107.15257026,  78.43055897,\n",
       "       103.90876038, 105.43563928, 100.58958818,  97.12971197,\n",
       "       100.77910033,  88.98035318, 123.44914205,  78.48713704,\n",
       "        96.19512522, 104.17468421, 100.71272169,  93.65388629,\n",
       "       119.96614943,  93.51064225,  85.02788026,  88.64176677,\n",
       "        78.44367331, 104.44927777,  96.32886813, 104.06384234,\n",
       "       104.80651433, 104.78813024,  98.29577956,  75.63656282,\n",
       "       108.38473354, 102.12395861, 100.46834872,  87.16991859,\n",
       "       114.23444622,  99.72749817,  89.53507371,  96.3064932 ,\n",
       "        86.02154566, 107.1555023 , 100.47215479,  94.99904774,\n",
       "        72.83589955, 100.58255279,  88.78916876, 121.72111248,\n",
       "       105.27858166,  96.51048571,  99.67382572, 111.47786264,\n",
       "        95.54013773,  82.81369522,  90.18044137,  89.21602903,\n",
       "       100.75259775, 121.35157179,  77.04320906, 100.08754966,\n",
       "       110.39715152,  87.9385321 ,  76.65292434,  92.18189228,\n",
       "        91.63001175,  77.58907622, 100.88948723, 103.04266696])"
      ]
     },
     "execution_count": 41,
     "metadata": {},
     "output_type": "execute_result"
    }
   ],
   "source": [
    "y_hat = model.predict(height.reshape(-1,1))\n",
    "y_hat"
   ]
  },
  {
   "cell_type": "code",
   "execution_count": 42,
   "id": "3e62ad9a-6767-4204-b4cb-d4f2bc762d4b",
   "metadata": {},
   "outputs": [
    {
     "data": {
      "text/plain": [
       "array([ 95.96619389,  93.69166059, 111.98999163,  95.67779018,\n",
       "        99.21876415,  80.61105248,  67.55524996,  86.54603953,\n",
       "       101.13311484,  76.05340319, 100.14785254,  90.14557408,\n",
       "       102.60508083,  79.70301921,  89.47885312, 119.23518067,\n",
       "       107.0680748 , 107.21076125, 104.6092261 ,  94.38451501,\n",
       "        73.98366459, 109.18273473,  74.68631372,  79.15375963,\n",
       "        77.44449073,  78.08823954,  76.09149253,  97.06982434,\n",
       "        99.59639347,  86.39692244, 105.97922049, 108.63772834,\n",
       "        64.09195862,  97.9495863 ,  86.22023363, 114.21770415,\n",
       "       112.22397684, 104.08740656, 107.90428741,  82.49580604,\n",
       "        99.89944374, 102.16368736,  97.59676036,  96.12812366,\n",
       "        98.77097014,  92.07399207, 125.17200802,  78.43765612,\n",
       "        99.26407672, 105.31513575,  97.16618271,  96.01177193,\n",
       "       120.6972948 ,  89.92861386,  82.78539182,  90.45288526,\n",
       "        78.87129709, 103.0215527 ,  95.83164177,  98.94790186,\n",
       "       108.47877042, 108.45376337,  94.2464097 ,  75.47943621,\n",
       "       111.4624316 , 102.31102356, 104.63212675,  87.55599586,\n",
       "       116.40219585, 101.09835144,  84.80193418,  99.05295455,\n",
       "        88.51055701, 101.66486942, 104.72477649,  93.5900218 ,\n",
       "        69.45264721,  98.73843625,  92.44473516, 123.17214966,\n",
       "       101.67225781, 100.35185967,  97.76556569, 109.62139174,\n",
       "        95.49298431,  88.40039029,  94.9006713 ,  89.92647704,\n",
       "       100.6820439 , 120.71524034,  76.23143634, 102.50289398,\n",
       "       105.86926951,  90.25182264,  75.51337972,  87.44096828,\n",
       "        91.96128351,  82.1040897 , 104.97031854, 104.82881648])"
      ]
     },
     "execution_count": 42,
     "metadata": {},
     "output_type": "execute_result"
    }
   ],
   "source": [
    "weight"
   ]
  },
  {
   "cell_type": "code",
   "execution_count": null,
   "id": "1fa60acd-0f6c-493d-8ecf-20acb6872a21",
   "metadata": {},
   "outputs": [],
   "source": []
  },
  {
   "cell_type": "code",
   "execution_count": 43,
   "id": "0b563f43-e15e-44f3-a51d-4b810af4e645",
   "metadata": {},
   "outputs": [
    {
     "data": {
      "text/plain": [
       "array([0.63683712])"
      ]
     },
     "execution_count": 43,
     "metadata": {},
     "output_type": "execute_result"
    }
   ],
   "source": [
    "model.coef_"
   ]
  },
  {
   "cell_type": "code",
   "execution_count": 44,
   "id": "763b3ca4-56ab-4fb1-87ee-4fc1af731335",
   "metadata": {},
   "outputs": [
    {
     "data": {
      "text/plain": [
       "-0.44216717139893547"
      ]
     },
     "execution_count": 44,
     "metadata": {},
     "output_type": "execute_result"
    }
   ],
   "source": [
    "model.intercept_"
   ]
  },
  {
   "cell_type": "code",
   "execution_count": null,
   "id": "d7cecd25-45da-4ea7-a0ee-0a3f9afd1e31",
   "metadata": {},
   "outputs": [],
   "source": []
  },
  {
   "cell_type": "code",
   "execution_count": null,
   "id": "9f09b3c6-17d6-4f8a-8d3f-6f1ecc760ca8",
   "metadata": {},
   "outputs": [],
   "source": []
  },
  {
   "cell_type": "code",
   "execution_count": 45,
   "id": "41048d6f-9b35-4088-be59-d721ec2be00e",
   "metadata": {},
   "outputs": [],
   "source": [
    "import matplotlib.pyplot as plt"
   ]
  },
  {
   "cell_type": "code",
   "execution_count": 50,
   "id": "5f6edf52-ee6d-463e-a27a-2ed50ef4856c",
   "metadata": {},
   "outputs": [
    {
     "data": {
      "image/png": "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",
      "text/plain": [
       "<Figure size 640x480 with 1 Axes>"
      ]
     },
     "metadata": {},
     "output_type": "display_data"
    }
   ],
   "source": [
    "plt.figure(dpi=100)\n",
    "plt.scatter(height, weight, label='data')\n",
    "plt.plot(height, y_hat, 'r', label='prediction')\n",
    "plt.legend()\n",
    "plt.show()"
   ]
  },
  {
   "cell_type": "code",
   "execution_count": null,
   "id": "97b59fb8-e38b-46dd-a418-92c5c865a33c",
   "metadata": {},
   "outputs": [],
   "source": []
  },
  {
   "cell_type": "code",
   "execution_count": null,
   "id": "0e204389-0359-450a-96bb-48faaad00c0e",
   "metadata": {},
   "outputs": [],
   "source": []
  },
  {
   "cell_type": "code",
   "execution_count": null,
   "id": "eee0a524-ebeb-416e-8a6c-27f5cb84e86f",
   "metadata": {},
   "outputs": [],
   "source": []
  },
  {
   "cell_type": "code",
   "execution_count": null,
   "id": "3e4f1a01-99be-4d3f-9204-38e79e788287",
   "metadata": {},
   "outputs": [],
   "source": []
  },
  {
   "cell_type": "code",
   "execution_count": null,
   "id": "15474608-c01e-4b03-adf9-e5c310a67572",
   "metadata": {},
   "outputs": [],
   "source": []
  }
 ],
 "metadata": {
  "kernelspec": {
   "display_name": "Python 3 (ipykernel)",
   "language": "python",
   "name": "python3"
  },
  "language_info": {
   "codemirror_mode": {
    "name": "ipython",
    "version": 3
   },
   "file_extension": ".py",
   "mimetype": "text/x-python",
   "name": "python",
   "nbconvert_exporter": "python",
   "pygments_lexer": "ipython3",
   "version": "3.11.7"
  }
 },
 "nbformat": 4,
 "nbformat_minor": 5
}
=======
{
 "cells": [
  {
   "cell_type": "code",
   "execution_count": null,
   "id": "726fcde8-b670-4830-9631-374d7b43abba",
   "metadata": {},
   "outputs": [],
   "source": []
  },
  {
   "cell_type": "code",
   "execution_count": 1,
   "id": "837214b0-955d-4232-b594-0067506b2c4e",
   "metadata": {},
   "outputs": [],
   "source": [
    "import numpy as np\n",
    "import pandas as pd\n",
    "import matplotlib.pyplot as plt"
   ]
  },
  {
   "cell_type": "code",
   "execution_count": null,
   "id": "fba14142-44d1-4225-bf3c-5db72f4e2c07",
   "metadata": {},
   "outputs": [],
   "source": []
  },
  {
   "cell_type": "code",
   "execution_count": 2,
   "id": "aabd36fb-bb66-4de2-8e00-3e848ea3fc06",
   "metadata": {},
   "outputs": [],
   "source": [
    "def predict(m, X, c):\n",
    "    y_hat = m * X + c\n",
    "    return y_hat"
   ]
  },
  {
   "cell_type": "code",
   "execution_count": 3,
   "id": "6e0a7ca6-b150-4d3d-bae7-2432bdf79f64",
   "metadata": {},
   "outputs": [],
   "source": [
    "def MAE(y, y_hat):\n",
    "    error = np.abs(y - y_hat).sum() / len(y)\n",
    "    return error"
   ]
  },
  {
   "cell_type": "code",
   "execution_count": 9,
   "id": "741dbb47-1f21-4644-b79b-96a2df50a93c",
   "metadata": {},
   "outputs": [],
   "source": [
    "def corr_plot(X, y):\n",
    "    r = np.corrcoef(X, y)[0,1]\n",
    "    plt.figure()\n",
    "    plt.scatter(X, y, label=f\"r ={r:.2f}\")\n",
    "    plt.legend()\n",
    "    plt.grid()\n",
    "    return plt.gca()"
   ]
  },
  {
   "cell_type": "code",
   "execution_count": null,
   "id": "23db0a53-27da-4de9-9ad8-83d1817f17d2",
   "metadata": {},
   "outputs": [],
   "source": []
  },
  {
   "cell_type": "code",
   "execution_count": 5,
   "id": "d6702e46-e896-4c4e-9729-d1dbb548ce7c",
   "metadata": {},
   "outputs": [
    {
     "data": {
      "text/html": [
       "<div>\n",
       "<style scoped>\n",
       "    .dataframe tbody tr th:only-of-type {\n",
       "        vertical-align: middle;\n",
       "    }\n",
       "\n",
       "    .dataframe tbody tr th {\n",
       "        vertical-align: top;\n",
       "    }\n",
       "\n",
       "    .dataframe thead th {\n",
       "        text-align: right;\n",
       "    }\n",
       "</style>\n",
       "<table border=\"1\" class=\"dataframe\">\n",
       "  <thead>\n",
       "    <tr style=\"text-align: right;\">\n",
       "      <th></th>\n",
       "      <th>longitude</th>\n",
       "      <th>latitude</th>\n",
       "      <th>housing_median_age</th>\n",
       "      <th>total_rooms</th>\n",
       "      <th>total_bedrooms</th>\n",
       "      <th>population</th>\n",
       "      <th>households</th>\n",
       "      <th>median_income</th>\n",
       "      <th>median_house_value</th>\n",
       "      <th>ocean_proximity</th>\n",
       "    </tr>\n",
       "  </thead>\n",
       "  <tbody>\n",
       "    <tr>\n",
       "      <th>0</th>\n",
       "      <td>-122.23</td>\n",
       "      <td>37.88</td>\n",
       "      <td>41.0</td>\n",
       "      <td>880.0</td>\n",
       "      <td>129.0</td>\n",
       "      <td>322.0</td>\n",
       "      <td>126.0</td>\n",
       "      <td>8.3252</td>\n",
       "      <td>452600.0</td>\n",
       "      <td>NEAR BAY</td>\n",
       "    </tr>\n",
       "    <tr>\n",
       "      <th>1</th>\n",
       "      <td>-122.22</td>\n",
       "      <td>37.86</td>\n",
       "      <td>21.0</td>\n",
       "      <td>7099.0</td>\n",
       "      <td>1106.0</td>\n",
       "      <td>2401.0</td>\n",
       "      <td>1138.0</td>\n",
       "      <td>8.3014</td>\n",
       "      <td>358500.0</td>\n",
       "      <td>NEAR BAY</td>\n",
       "    </tr>\n",
       "    <tr>\n",
       "      <th>2</th>\n",
       "      <td>-122.24</td>\n",
       "      <td>37.85</td>\n",
       "      <td>52.0</td>\n",
       "      <td>1467.0</td>\n",
       "      <td>190.0</td>\n",
       "      <td>496.0</td>\n",
       "      <td>177.0</td>\n",
       "      <td>7.2574</td>\n",
       "      <td>352100.0</td>\n",
       "      <td>NEAR BAY</td>\n",
       "    </tr>\n",
       "    <tr>\n",
       "      <th>3</th>\n",
       "      <td>-122.25</td>\n",
       "      <td>37.85</td>\n",
       "      <td>52.0</td>\n",
       "      <td>1274.0</td>\n",
       "      <td>235.0</td>\n",
       "      <td>558.0</td>\n",
       "      <td>219.0</td>\n",
       "      <td>5.6431</td>\n",
       "      <td>341300.0</td>\n",
       "      <td>NEAR BAY</td>\n",
       "    </tr>\n",
       "    <tr>\n",
       "      <th>4</th>\n",
       "      <td>-122.25</td>\n",
       "      <td>37.85</td>\n",
       "      <td>52.0</td>\n",
       "      <td>1627.0</td>\n",
       "      <td>280.0</td>\n",
       "      <td>565.0</td>\n",
       "      <td>259.0</td>\n",
       "      <td>3.8462</td>\n",
       "      <td>342200.0</td>\n",
       "      <td>NEAR BAY</td>\n",
       "    </tr>\n",
       "    <tr>\n",
       "      <th>...</th>\n",
       "      <td>...</td>\n",
       "      <td>...</td>\n",
       "      <td>...</td>\n",
       "      <td>...</td>\n",
       "      <td>...</td>\n",
       "      <td>...</td>\n",
       "      <td>...</td>\n",
       "      <td>...</td>\n",
       "      <td>...</td>\n",
       "      <td>...</td>\n",
       "    </tr>\n",
       "    <tr>\n",
       "      <th>20635</th>\n",
       "      <td>-121.09</td>\n",
       "      <td>39.48</td>\n",
       "      <td>25.0</td>\n",
       "      <td>1665.0</td>\n",
       "      <td>374.0</td>\n",
       "      <td>845.0</td>\n",
       "      <td>330.0</td>\n",
       "      <td>1.5603</td>\n",
       "      <td>78100.0</td>\n",
       "      <td>INLAND</td>\n",
       "    </tr>\n",
       "    <tr>\n",
       "      <th>20636</th>\n",
       "      <td>-121.21</td>\n",
       "      <td>39.49</td>\n",
       "      <td>18.0</td>\n",
       "      <td>697.0</td>\n",
       "      <td>150.0</td>\n",
       "      <td>356.0</td>\n",
       "      <td>114.0</td>\n",
       "      <td>2.5568</td>\n",
       "      <td>77100.0</td>\n",
       "      <td>INLAND</td>\n",
       "    </tr>\n",
       "    <tr>\n",
       "      <th>20637</th>\n",
       "      <td>-121.22</td>\n",
       "      <td>39.43</td>\n",
       "      <td>17.0</td>\n",
       "      <td>2254.0</td>\n",
       "      <td>485.0</td>\n",
       "      <td>1007.0</td>\n",
       "      <td>433.0</td>\n",
       "      <td>1.7000</td>\n",
       "      <td>92300.0</td>\n",
       "      <td>INLAND</td>\n",
       "    </tr>\n",
       "    <tr>\n",
       "      <th>20638</th>\n",
       "      <td>-121.32</td>\n",
       "      <td>39.43</td>\n",
       "      <td>18.0</td>\n",
       "      <td>1860.0</td>\n",
       "      <td>409.0</td>\n",
       "      <td>741.0</td>\n",
       "      <td>349.0</td>\n",
       "      <td>1.8672</td>\n",
       "      <td>84700.0</td>\n",
       "      <td>INLAND</td>\n",
       "    </tr>\n",
       "    <tr>\n",
       "      <th>20639</th>\n",
       "      <td>-121.24</td>\n",
       "      <td>39.37</td>\n",
       "      <td>16.0</td>\n",
       "      <td>2785.0</td>\n",
       "      <td>616.0</td>\n",
       "      <td>1387.0</td>\n",
       "      <td>530.0</td>\n",
       "      <td>2.3886</td>\n",
       "      <td>89400.0</td>\n",
       "      <td>INLAND</td>\n",
       "    </tr>\n",
       "  </tbody>\n",
       "</table>\n",
       "<p>20640 rows × 10 columns</p>\n",
       "</div>"
      ],
      "text/plain": [
       "       longitude  latitude  housing_median_age  total_rooms  total_bedrooms  \\\n",
       "0        -122.23     37.88                41.0        880.0           129.0   \n",
       "1        -122.22     37.86                21.0       7099.0          1106.0   \n",
       "2        -122.24     37.85                52.0       1467.0           190.0   \n",
       "3        -122.25     37.85                52.0       1274.0           235.0   \n",
       "4        -122.25     37.85                52.0       1627.0           280.0   \n",
       "...          ...       ...                 ...          ...             ...   \n",
       "20635    -121.09     39.48                25.0       1665.0           374.0   \n",
       "20636    -121.21     39.49                18.0        697.0           150.0   \n",
       "20637    -121.22     39.43                17.0       2254.0           485.0   \n",
       "20638    -121.32     39.43                18.0       1860.0           409.0   \n",
       "20639    -121.24     39.37                16.0       2785.0           616.0   \n",
       "\n",
       "       population  households  median_income  median_house_value  \\\n",
       "0           322.0       126.0         8.3252            452600.0   \n",
       "1          2401.0      1138.0         8.3014            358500.0   \n",
       "2           496.0       177.0         7.2574            352100.0   \n",
       "3           558.0       219.0         5.6431            341300.0   \n",
       "4           565.0       259.0         3.8462            342200.0   \n",
       "...           ...         ...            ...                 ...   \n",
       "20635       845.0       330.0         1.5603             78100.0   \n",
       "20636       356.0       114.0         2.5568             77100.0   \n",
       "20637      1007.0       433.0         1.7000             92300.0   \n",
       "20638       741.0       349.0         1.8672             84700.0   \n",
       "20639      1387.0       530.0         2.3886             89400.0   \n",
       "\n",
       "      ocean_proximity  \n",
       "0            NEAR BAY  \n",
       "1            NEAR BAY  \n",
       "2            NEAR BAY  \n",
       "3            NEAR BAY  \n",
       "4            NEAR BAY  \n",
       "...               ...  \n",
       "20635          INLAND  \n",
       "20636          INLAND  \n",
       "20637          INLAND  \n",
       "20638          INLAND  \n",
       "20639          INLAND  \n",
       "\n",
       "[20640 rows x 10 columns]"
      ]
     },
     "execution_count": 5,
     "metadata": {},
     "output_type": "execute_result"
    }
   ],
   "source": [
    "house = pd.read_csv('../housing.csv')\n",
    "house"
   ]
  },
  {
   "cell_type": "code",
   "execution_count": null,
   "id": "8bf767e0-b340-42df-88bf-8cb66676416c",
   "metadata": {},
   "outputs": [],
   "source": []
  },
  {
   "cell_type": "code",
   "execution_count": 6,
   "id": "0b03d6ed-7f77-4103-9574-7b43077511c0",
   "metadata": {},
   "outputs": [
    {
     "data": {
      "text/plain": [
       "longitude               0\n",
       "latitude                0\n",
       "housing_median_age      0\n",
       "total_rooms             0\n",
       "total_bedrooms        207\n",
       "population              0\n",
       "households              0\n",
       "median_income           0\n",
       "median_house_value      0\n",
       "ocean_proximity         0\n",
       "dtype: int64"
      ]
     },
     "execution_count": 6,
     "metadata": {},
     "output_type": "execute_result"
    }
   ],
   "source": [
    "house.isna().sum()"
   ]
  },
  {
   "cell_type": "code",
   "execution_count": null,
   "id": "68baf001-fd3e-4ef2-9e95-b288a224de44",
   "metadata": {},
   "outputs": [],
   "source": []
  },
  {
   "cell_type": "code",
   "execution_count": null,
   "id": "dd32c185-bab3-4a58-8431-76258f5a35c1",
   "metadata": {},
   "outputs": [],
   "source": []
  },
  {
   "cell_type": "code",
   "execution_count": 7,
   "id": "2ec1f496-3280-4bc4-a415-f90248483ee2",
   "metadata": {},
   "outputs": [],
   "source": [
    "X = house['median_income']\n",
    "y = house['median_house_value']"
   ]
  },
  {
   "cell_type": "code",
   "execution_count": null,
   "id": "7e8708f9-d935-4929-8c42-c287730e2404",
   "metadata": {},
   "outputs": [],
   "source": []
  },
  {
   "cell_type": "code",
   "execution_count": 19,
   "id": "e69f2067-d30c-4c66-9596-3b2f6a4266f4",
   "metadata": {},
   "outputs": [
    {
     "data": {
      "image/png": "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",
      "text/plain": [
       "<Figure size 640x480 with 1 Axes>"
      ]
     },
     "metadata": {},
     "output_type": "display_data"
    }
   ],
   "source": [
    "ax = corr_plot(X,y)\n",
    "\n",
    "m = 20000\n",
    "c = 400\n",
    "y_hat = predict(m, X, c)\n",
    "error = MAE(y, y_hat)\n",
    "plt.plot(X, y_hat, label=f\"error = {error:.2f}\")\n",
    "\n",
    "m = 40000\n",
    "c = 600\n",
    "y_hat = predict(m, X, c)\n",
    "error = MAE(y, y_hat)\n",
    "plt.plot(X, y_hat, label=f\"error = {error:.2f}\")\n",
    "\n",
    "# m = 60000\n",
    "# c = 800\n",
    "# y_hat = predict(m, X, c)\n",
    "# error = MAE(y, y_hat)\n",
    "# plt.plot(X, y_hat, label=f\"error = {error:.2f}\")\n",
    "\n",
    "\n",
    "plt.legend()\n",
    "plt.show()\n"
   ]
  },
  {
   "cell_type": "code",
   "execution_count": null,
   "id": "80bd11ed-6ff2-4ffc-94e7-62af25008d39",
   "metadata": {},
   "outputs": [],
   "source": []
  },
  {
   "cell_type": "code",
   "execution_count": null,
   "id": "3da0852d-feb0-4a09-b440-3f372ab05574",
   "metadata": {},
   "outputs": [],
   "source": []
  },
  {
   "cell_type": "code",
   "execution_count": 21,
   "id": "1652952c-4029-4950-9469-b339d795ea4d",
   "metadata": {},
   "outputs": [
    {
     "data": {
      "image/png": "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",
      "text/plain": [
       "<Figure size 640x480 with 1 Axes>"
      ]
     },
     "metadata": {},
     "output_type": "display_data"
    }
   ],
   "source": [
    "ax = corr_plot(X,y)\n",
    "\n",
    "m = 20000\n",
    "c = 400\n",
    "y_hat = predict(m, X, c)\n",
    "error = MAE(y, y_hat)\n",
    "plt.plot(X, y_hat, label=f\"error = {error:.2f}\")\n",
    "\n",
    "m = 40000\n",
    "c = 600\n",
    "y_hat = predict(m, X, c)\n",
    "error = MAE(y, y_hat)\n",
    "plt.plot(X, y_hat, label=f\"error = {error:.2f}\")\n",
    "\n",
    "m = 50000\n",
    "c = 800\n",
    "y_hat = predict(m, X, c)\n",
    "error = MAE(y, y_hat)\n",
    "plt.plot(X, y_hat, label=f\"error = {error:.2f}\")\n",
    "\n",
    "\n",
    "plt.legend()\n",
    "plt.show()\n"
   ]
  },
  {
   "cell_type": "code",
   "execution_count": null,
   "id": "d47beb74-db56-4866-8250-c66e23a3bc8c",
   "metadata": {},
   "outputs": [],
   "source": []
  },
  {
   "cell_type": "code",
   "execution_count": null,
   "id": "97266e42-a8a9-4eb4-a260-758df67bf24f",
   "metadata": {},
   "outputs": [],
   "source": []
  },
  {
   "cell_type": "code",
   "execution_count": 1,
   "id": "4a37cb7b-9ad4-4ddd-9831-73968cc91170",
   "metadata": {},
   "outputs": [],
   "source": [
    "import numpy as np"
   ]
  },
  {
   "cell_type": "code",
   "execution_count": 5,
   "id": "0ed58cfa-97bb-4e3d-a867-c17976bd93d7",
   "metadata": {},
   "outputs": [],
   "source": [
    "height = np.random.normal(150, 20, 100)\n",
    "\n",
    "bias = np.random.random(100) * 10\n",
    "\n",
    "weight = 0.6 * height + bias"
   ]
  },
  {
   "cell_type": "code",
   "execution_count": 6,
   "id": "7da0cd49-bf93-4b1a-97aa-aa3c12734c18",
   "metadata": {},
   "outputs": [
    {
     "data": {
      "text/plain": [
       "array([159.23369991, 147.24890466, 175.64138751, 150.46542565,\n",
       "       154.79331291, 122.88433881, 111.67505012, 138.05674699,\n",
       "       163.28930733, 119.38804318, 150.34296304, 145.95291532,\n",
       "       169.1071753 , 131.15370926, 147.64615307, 185.95980137,\n",
       "       166.0230803 , 162.81595543, 162.74695652, 148.04277184,\n",
       "       122.84016663, 180.15118796, 122.40063923, 126.07472173,\n",
       "       123.08728783, 123.42255691, 125.36753755, 150.4936322 ,\n",
       "       155.26165875, 130.66106394, 162.89268921, 165.73070097,\n",
       "       100.1185558 , 158.81930637, 141.01364191, 173.84741906,\n",
       "       177.79336311, 165.21767263, 168.95173635, 123.85070451,\n",
       "       163.85811072, 166.25570792, 158.64614665, 153.21324065,\n",
       "       158.94373005, 140.41662672, 194.5415948 , 123.9395468 ,\n",
       "       151.74569626, 164.27568034, 158.83949831, 147.75528985,\n",
       "       189.07239002, 147.53035943, 134.2102157 , 139.88495794,\n",
       "       123.87129743, 164.70686368, 151.95570743, 164.10162976,\n",
       "       165.26781804, 165.23895023, 155.04427021, 119.46340349,\n",
       "       170.88655334, 161.0555075 , 158.45576914, 137.57377328,\n",
       "       180.07212446, 157.292441  , 141.2876823 , 151.92057297,\n",
       "       135.77052895, 168.95634042, 158.46174566, 149.86754338,\n",
       "       115.06563336, 158.63509925, 140.11641743, 191.8281387 ,\n",
       "       166.0090866 , 152.2408943 , 157.20816128, 175.74357093,\n",
       "       150.71719546, 130.73336901, 142.30107746, 140.78669912,\n",
       "       158.90211409, 191.24786365, 121.67220413, 157.85781553,\n",
       "       174.04657324, 138.78069651, 121.05935556, 145.44387621,\n",
       "       144.57728017, 122.52935762, 159.11706619, 162.49811868])"
      ]
     },
     "execution_count": 6,
     "metadata": {},
     "output_type": "execute_result"
    }
   ],
   "source": [
    "height"
   ]
  },
  {
   "cell_type": "code",
   "execution_count": 7,
   "id": "5b65b204-cfd0-4267-88ad-f08ad63ee8ee",
   "metadata": {},
   "outputs": [
    {
     "data": {
      "text/plain": [
       "array([ 95.96619389,  93.69166059, 111.98999163,  95.67779018,\n",
       "        99.21876415,  80.61105248,  67.55524996,  86.54603953,\n",
       "       101.13311484,  76.05340319, 100.14785254,  90.14557408,\n",
       "       102.60508083,  79.70301921,  89.47885312, 119.23518067,\n",
       "       107.0680748 , 107.21076125, 104.6092261 ,  94.38451501,\n",
       "        73.98366459, 109.18273473,  74.68631372,  79.15375963,\n",
       "        77.44449073,  78.08823954,  76.09149253,  97.06982434,\n",
       "        99.59639347,  86.39692244, 105.97922049, 108.63772834,\n",
       "        64.09195862,  97.9495863 ,  86.22023363, 114.21770415,\n",
       "       112.22397684, 104.08740656, 107.90428741,  82.49580604,\n",
       "        99.89944374, 102.16368736,  97.59676036,  96.12812366,\n",
       "        98.77097014,  92.07399207, 125.17200802,  78.43765612,\n",
       "        99.26407672, 105.31513575,  97.16618271,  96.01177193,\n",
       "       120.6972948 ,  89.92861386,  82.78539182,  90.45288526,\n",
       "        78.87129709, 103.0215527 ,  95.83164177,  98.94790186,\n",
       "       108.47877042, 108.45376337,  94.2464097 ,  75.47943621,\n",
       "       111.4624316 , 102.31102356, 104.63212675,  87.55599586,\n",
       "       116.40219585, 101.09835144,  84.80193418,  99.05295455,\n",
       "        88.51055701, 101.66486942, 104.72477649,  93.5900218 ,\n",
       "        69.45264721,  98.73843625,  92.44473516, 123.17214966,\n",
       "       101.67225781, 100.35185967,  97.76556569, 109.62139174,\n",
       "        95.49298431,  88.40039029,  94.9006713 ,  89.92647704,\n",
       "       100.6820439 , 120.71524034,  76.23143634, 102.50289398,\n",
       "       105.86926951,  90.25182264,  75.51337972,  87.44096828,\n",
       "        91.96128351,  82.1040897 , 104.97031854, 104.82881648])"
      ]
     },
     "execution_count": 7,
     "metadata": {},
     "output_type": "execute_result"
    }
   ],
   "source": [
    "weight"
   ]
  },
  {
   "cell_type": "code",
   "execution_count": null,
   "id": "58d5fe04-5888-4482-a042-4ef2441e6308",
   "metadata": {},
   "outputs": [],
   "source": []
  },
  {
   "cell_type": "code",
   "execution_count": 14,
   "id": "15155c78-82bf-4356-83e2-e79e277e044f",
   "metadata": {},
   "outputs": [],
   "source": [
    "class LinearRegression:\n",
    "\n",
    "    def __init__(self):\n",
    "        self.theta_0 = None\n",
    "        self.theta_1 = None\n",
    "\n",
    "    def fit(self, X, y):\n",
    "        xbar = X.mean()\n",
    "        ybar = y.mean()\n",
    "\n",
    "        self.theta_1 = ((ybar - y) * (xbar - X)).sum() / ((xbar - X) **2).sum()\n",
    "        self.theta_0 = ybar - self.theta_1 * xbar\n",
    "\n",
    "    def predict(self, X):\n",
    "        y_hat = self.theta_1 * X + self.theta_0\n",
    "        return y_hat"
   ]
  },
  {
   "cell_type": "code",
   "execution_count": null,
   "id": "aa46f132-c7ee-4205-b266-1fc76aaa49de",
   "metadata": {},
   "outputs": [],
   "source": []
  },
  {
   "cell_type": "code",
   "execution_count": 15,
   "id": "66c24691-90fc-4a78-8818-02ba6e7c06fa",
   "metadata": {},
   "outputs": [],
   "source": [
    "LR = LinearRegression()"
   ]
  },
  {
   "cell_type": "code",
   "execution_count": 16,
   "id": "fbe8a21d-c9dd-441e-a136-fb63c1321baa",
   "metadata": {},
   "outputs": [
    {
     "data": {
      "text/plain": [
       "{'theta_0': None, 'theta_1': None}"
      ]
     },
     "execution_count": 16,
     "metadata": {},
     "output_type": "execute_result"
    }
   ],
   "source": [
    "LR.__dict__"
   ]
  },
  {
   "cell_type": "code",
   "execution_count": null,
   "id": "44855521-6097-4373-8510-b703a6e77c8d",
   "metadata": {},
   "outputs": [],
   "source": []
  },
  {
   "cell_type": "code",
   "execution_count": 17,
   "id": "5b03652b-8048-4fff-9937-360162029d75",
   "metadata": {},
   "outputs": [],
   "source": [
    "LR.fit(height, weight)"
   ]
  },
  {
   "cell_type": "code",
   "execution_count": 18,
   "id": "bad49cfd-7c38-49c6-9db6-0257b1c4f697",
   "metadata": {},
   "outputs": [
    {
     "data": {
      "text/plain": [
       "{'theta_0': -0.44216717139893547, 'theta_1': 0.6368371213975236}"
      ]
     },
     "execution_count": 18,
     "metadata": {},
     "output_type": "execute_result"
    }
   ],
   "source": [
    "LR.__dict__"
   ]
  },
  {
   "cell_type": "code",
   "execution_count": null,
   "id": "d3ed52c5-dc44-473f-947d-54a4fd59a797",
   "metadata": {},
   "outputs": [],
   "source": []
  },
  {
   "cell_type": "code",
   "execution_count": 19,
   "id": "458e1ba8-0af1-4a73-8670-1ea59c0f2486",
   "metadata": {},
   "outputs": [
    {
     "data": {
      "text/plain": [
       "array([100.96376391,  93.3314014 , 111.41278845,  95.37980137,\n",
       "        98.13596064,  77.81514142,  70.67665028,  87.47749417,\n",
       "       103.54652527,  75.58857058,  95.30181263,  92.50606728,\n",
       "       107.25155956,  83.08138349,  93.58438393, 117.98393743,\n",
       "       105.28749337, 103.2450772 , 103.20113613,  93.83696549,\n",
       "        77.78701094, 114.28479679,  77.50710357,  79.8468957 ,\n",
       "        77.94438689,  78.15789869,  79.39653456,  95.39776435,\n",
       "        98.43422065,  82.76764866, 103.29394412, 105.10129536,\n",
       "        63.3170457 , 100.69986272,  89.36055462, 110.27032275,\n",
       "       112.7832464 , 104.77457987, 107.15257026,  78.43055897,\n",
       "       103.90876038, 105.43563928, 100.58958818,  97.12971197,\n",
       "       100.77910033,  88.98035318, 123.44914205,  78.48713704,\n",
       "        96.19512522, 104.17468421, 100.71272169,  93.65388629,\n",
       "       119.96614943,  93.51064225,  85.02788026,  88.64176677,\n",
       "        78.44367331, 104.44927777,  96.32886813, 104.06384234,\n",
       "       104.80651433, 104.78813024,  98.29577956,  75.63656282,\n",
       "       108.38473354, 102.12395861, 100.46834872,  87.16991859,\n",
       "       114.23444622,  99.72749817,  89.53507371,  96.3064932 ,\n",
       "        86.02154566, 107.1555023 , 100.47215479,  94.99904774,\n",
       "        72.83589955, 100.58255279,  88.78916876, 121.72111248,\n",
       "       105.27858166,  96.51048571,  99.67382572, 111.47786264,\n",
       "        95.54013773,  82.81369522,  90.18044137,  89.21602903,\n",
       "       100.75259775, 121.35157179,  77.04320906, 100.08754966,\n",
       "       110.39715152,  87.9385321 ,  76.65292434,  92.18189228,\n",
       "        91.63001175,  77.58907622, 100.88948723, 103.04266696])"
      ]
     },
     "execution_count": 19,
     "metadata": {},
     "output_type": "execute_result"
    }
   ],
   "source": [
    "y_hat = LR.predict(height)\n",
    "y_hat"
   ]
  },
  {
   "cell_type": "code",
   "execution_count": null,
   "id": "be05de33-da9e-485f-bab7-4d4f83d5d653",
   "metadata": {},
   "outputs": [],
   "source": []
  },
  {
   "cell_type": "code",
   "execution_count": 21,
   "id": "075bd17c-a0bc-42d7-9285-78184dd50e50",
   "metadata": {},
   "outputs": [
    {
     "data": {
      "text/plain": [
       "array([ 95.96619389,  93.69166059, 111.98999163,  95.67779018,\n",
       "        99.21876415])"
      ]
     },
     "execution_count": 21,
     "metadata": {},
     "output_type": "execute_result"
    }
   ],
   "source": [
    "weight[:5]"
   ]
  },
  {
   "cell_type": "code",
   "execution_count": 22,
   "id": "fc341278-6097-452e-8f40-9e2072580532",
   "metadata": {},
   "outputs": [
    {
     "data": {
      "text/plain": [
       "array([100.96376391,  93.3314014 , 111.41278845,  95.37980137,\n",
       "        98.13596064])"
      ]
     },
     "execution_count": 22,
     "metadata": {},
     "output_type": "execute_result"
    }
   ],
   "source": [
    "y_hat[:5]"
   ]
  },
  {
   "cell_type": "code",
   "execution_count": null,
   "id": "457f1a56-0b53-4478-8d85-8c9af8e4e0b2",
   "metadata": {},
   "outputs": [],
   "source": []
  },
  {
   "cell_type": "code",
   "execution_count": null,
   "id": "ce1b1476-635b-4018-99e7-7ff408cd9642",
   "metadata": {},
   "outputs": [],
   "source": []
  },
  {
   "cell_type": "code",
   "execution_count": 23,
   "id": "a29f0f3c-7b6b-4474-811a-90a8a6f6b125",
   "metadata": {},
   "outputs": [
    {
     "data": {
      "text/plain": [
       "98.26758664521722"
      ]
     },
     "execution_count": 23,
     "metadata": {},
     "output_type": "execute_result"
    }
   ],
   "source": [
    "LR.predict(155)"
   ]
  },
  {
   "cell_type": "code",
   "execution_count": 24,
   "id": "294b6df4-4d42-491c-a2a8-298850358dad",
   "metadata": {},
   "outputs": [
    {
     "data": {
      "text/plain": [
       "array([ 91.89921543, 104.63595786, 112.27800332, 125.65158287])"
      ]
     },
     "execution_count": 24,
     "metadata": {},
     "output_type": "execute_result"
    }
   ],
   "source": [
    "LR.predict(np.array([145, 165, 177, 198]))"
   ]
  },
  {
   "cell_type": "code",
   "execution_count": null,
   "id": "1fb23fdc-8be9-4a59-b086-6384922dc52b",
   "metadata": {},
   "outputs": [],
   "source": []
  },
  {
   "cell_type": "code",
   "execution_count": null,
   "id": "070b4e84-211b-4491-9c38-3829f5ede929",
   "metadata": {},
   "outputs": [],
   "source": []
  },
  {
   "cell_type": "code",
   "execution_count": 26,
   "id": "ecc22239-cbac-4ffe-9cef-f96a71e4df82",
   "metadata": {},
   "outputs": [],
   "source": [
    "from sklearn.linear_model import LinearRegression as LR"
   ]
  },
  {
   "cell_type": "code",
   "execution_count": null,
   "id": "0e8a1141-787a-4eda-a735-35b5c3075f60",
   "metadata": {},
   "outputs": [],
   "source": []
  },
  {
   "cell_type": "code",
   "execution_count": 28,
   "id": "5bbe29b1-8ac0-4f73-9600-30367cf7e37b",
   "metadata": {},
   "outputs": [],
   "source": [
    "model = LR()"
   ]
  },
  {
   "cell_type": "code",
   "execution_count": 29,
   "id": "7bd89d53-651a-44fb-9afb-2a31db4f8ee6",
   "metadata": {
    "scrolled": true
   },
   "outputs": [
    {
     "ename": "ValueError",
     "evalue": "Expected 2D array, got 1D array instead:\narray=[159.23369991 147.24890466 175.64138751 150.46542565 154.79331291\n 122.88433881 111.67505012 138.05674699 163.28930733 119.38804318\n 150.34296304 145.95291532 169.1071753  131.15370926 147.64615307\n 185.95980137 166.0230803  162.81595543 162.74695652 148.04277184\n 122.84016663 180.15118796 122.40063923 126.07472173 123.08728783\n 123.42255691 125.36753755 150.4936322  155.26165875 130.66106394\n 162.89268921 165.73070097 100.1185558  158.81930637 141.01364191\n 173.84741906 177.79336311 165.21767263 168.95173635 123.85070451\n 163.85811072 166.25570792 158.64614665 153.21324065 158.94373005\n 140.41662672 194.5415948  123.9395468  151.74569626 164.27568034\n 158.83949831 147.75528985 189.07239002 147.53035943 134.2102157\n 139.88495794 123.87129743 164.70686368 151.95570743 164.10162976\n 165.26781804 165.23895023 155.04427021 119.46340349 170.88655334\n 161.0555075  158.45576914 137.57377328 180.07212446 157.292441\n 141.2876823  151.92057297 135.77052895 168.95634042 158.46174566\n 149.86754338 115.06563336 158.63509925 140.11641743 191.8281387\n 166.0090866  152.2408943  157.20816128 175.74357093 150.71719546\n 130.73336901 142.30107746 140.78669912 158.90211409 191.24786365\n 121.67220413 157.85781553 174.04657324 138.78069651 121.05935556\n 145.44387621 144.57728017 122.52935762 159.11706619 162.49811868].\nReshape your data either using array.reshape(-1, 1) if your data has a single feature or array.reshape(1, -1) if it contains a single sample.",
     "output_type": "error",
     "traceback": [
      "\u001b[1;31m---------------------------------------------------------------------------\u001b[0m",
      "\u001b[1;31mValueError\u001b[0m                                Traceback (most recent call last)",
      "Cell \u001b[1;32mIn[29], line 1\u001b[0m\n\u001b[1;32m----> 1\u001b[0m model\u001b[38;5;241m.\u001b[39mfit(height, weight)\n",
      "File \u001b[1;32m~\\anaconda3\\Lib\\site-packages\\sklearn\\linear_model\\_base.py:648\u001b[0m, in \u001b[0;36mLinearRegression.fit\u001b[1;34m(self, X, y, sample_weight)\u001b[0m\n\u001b[0;32m    644\u001b[0m n_jobs_ \u001b[38;5;241m=\u001b[39m \u001b[38;5;28mself\u001b[39m\u001b[38;5;241m.\u001b[39mn_jobs\n\u001b[0;32m    646\u001b[0m accept_sparse \u001b[38;5;241m=\u001b[39m \u001b[38;5;28;01mFalse\u001b[39;00m \u001b[38;5;28;01mif\u001b[39;00m \u001b[38;5;28mself\u001b[39m\u001b[38;5;241m.\u001b[39mpositive \u001b[38;5;28;01melse\u001b[39;00m [\u001b[38;5;124m\"\u001b[39m\u001b[38;5;124mcsr\u001b[39m\u001b[38;5;124m\"\u001b[39m, \u001b[38;5;124m\"\u001b[39m\u001b[38;5;124mcsc\u001b[39m\u001b[38;5;124m\"\u001b[39m, \u001b[38;5;124m\"\u001b[39m\u001b[38;5;124mcoo\u001b[39m\u001b[38;5;124m\"\u001b[39m]\n\u001b[1;32m--> 648\u001b[0m X, y \u001b[38;5;241m=\u001b[39m \u001b[38;5;28mself\u001b[39m\u001b[38;5;241m.\u001b[39m_validate_data(\n\u001b[0;32m    649\u001b[0m     X, y, accept_sparse\u001b[38;5;241m=\u001b[39maccept_sparse, y_numeric\u001b[38;5;241m=\u001b[39m\u001b[38;5;28;01mTrue\u001b[39;00m, multi_output\u001b[38;5;241m=\u001b[39m\u001b[38;5;28;01mTrue\u001b[39;00m\n\u001b[0;32m    650\u001b[0m )\n\u001b[0;32m    652\u001b[0m sample_weight \u001b[38;5;241m=\u001b[39m _check_sample_weight(\n\u001b[0;32m    653\u001b[0m     sample_weight, X, dtype\u001b[38;5;241m=\u001b[39mX\u001b[38;5;241m.\u001b[39mdtype, only_non_negative\u001b[38;5;241m=\u001b[39m\u001b[38;5;28;01mTrue\u001b[39;00m\n\u001b[0;32m    654\u001b[0m )\n\u001b[0;32m    656\u001b[0m X, y, X_offset, y_offset, X_scale \u001b[38;5;241m=\u001b[39m _preprocess_data(\n\u001b[0;32m    657\u001b[0m     X,\n\u001b[0;32m    658\u001b[0m     y,\n\u001b[1;32m   (...)\u001b[0m\n\u001b[0;32m    661\u001b[0m     sample_weight\u001b[38;5;241m=\u001b[39msample_weight,\n\u001b[0;32m    662\u001b[0m )\n",
      "File \u001b[1;32m~\\anaconda3\\Lib\\site-packages\\sklearn\\base.py:584\u001b[0m, in \u001b[0;36mBaseEstimator._validate_data\u001b[1;34m(self, X, y, reset, validate_separately, **check_params)\u001b[0m\n\u001b[0;32m    582\u001b[0m         y \u001b[38;5;241m=\u001b[39m check_array(y, input_name\u001b[38;5;241m=\u001b[39m\u001b[38;5;124m\"\u001b[39m\u001b[38;5;124my\u001b[39m\u001b[38;5;124m\"\u001b[39m, \u001b[38;5;241m*\u001b[39m\u001b[38;5;241m*\u001b[39mcheck_y_params)\n\u001b[0;32m    583\u001b[0m     \u001b[38;5;28;01melse\u001b[39;00m:\n\u001b[1;32m--> 584\u001b[0m         X, y \u001b[38;5;241m=\u001b[39m check_X_y(X, y, \u001b[38;5;241m*\u001b[39m\u001b[38;5;241m*\u001b[39mcheck_params)\n\u001b[0;32m    585\u001b[0m     out \u001b[38;5;241m=\u001b[39m X, y\n\u001b[0;32m    587\u001b[0m \u001b[38;5;28;01mif\u001b[39;00m \u001b[38;5;129;01mnot\u001b[39;00m no_val_X \u001b[38;5;129;01mand\u001b[39;00m check_params\u001b[38;5;241m.\u001b[39mget(\u001b[38;5;124m\"\u001b[39m\u001b[38;5;124mensure_2d\u001b[39m\u001b[38;5;124m\"\u001b[39m, \u001b[38;5;28;01mTrue\u001b[39;00m):\n",
      "File \u001b[1;32m~\\anaconda3\\Lib\\site-packages\\sklearn\\utils\\validation.py:1106\u001b[0m, in \u001b[0;36mcheck_X_y\u001b[1;34m(X, y, accept_sparse, accept_large_sparse, dtype, order, copy, force_all_finite, ensure_2d, allow_nd, multi_output, ensure_min_samples, ensure_min_features, y_numeric, estimator)\u001b[0m\n\u001b[0;32m   1101\u001b[0m         estimator_name \u001b[38;5;241m=\u001b[39m _check_estimator_name(estimator)\n\u001b[0;32m   1102\u001b[0m     \u001b[38;5;28;01mraise\u001b[39;00m \u001b[38;5;167;01mValueError\u001b[39;00m(\n\u001b[0;32m   1103\u001b[0m         \u001b[38;5;124mf\u001b[39m\u001b[38;5;124m\"\u001b[39m\u001b[38;5;132;01m{\u001b[39;00mestimator_name\u001b[38;5;132;01m}\u001b[39;00m\u001b[38;5;124m requires y to be passed, but the target y is None\u001b[39m\u001b[38;5;124m\"\u001b[39m\n\u001b[0;32m   1104\u001b[0m     )\n\u001b[1;32m-> 1106\u001b[0m X \u001b[38;5;241m=\u001b[39m check_array(\n\u001b[0;32m   1107\u001b[0m     X,\n\u001b[0;32m   1108\u001b[0m     accept_sparse\u001b[38;5;241m=\u001b[39maccept_sparse,\n\u001b[0;32m   1109\u001b[0m     accept_large_sparse\u001b[38;5;241m=\u001b[39maccept_large_sparse,\n\u001b[0;32m   1110\u001b[0m     dtype\u001b[38;5;241m=\u001b[39mdtype,\n\u001b[0;32m   1111\u001b[0m     order\u001b[38;5;241m=\u001b[39morder,\n\u001b[0;32m   1112\u001b[0m     copy\u001b[38;5;241m=\u001b[39mcopy,\n\u001b[0;32m   1113\u001b[0m     force_all_finite\u001b[38;5;241m=\u001b[39mforce_all_finite,\n\u001b[0;32m   1114\u001b[0m     ensure_2d\u001b[38;5;241m=\u001b[39mensure_2d,\n\u001b[0;32m   1115\u001b[0m     allow_nd\u001b[38;5;241m=\u001b[39mallow_nd,\n\u001b[0;32m   1116\u001b[0m     ensure_min_samples\u001b[38;5;241m=\u001b[39mensure_min_samples,\n\u001b[0;32m   1117\u001b[0m     ensure_min_features\u001b[38;5;241m=\u001b[39mensure_min_features,\n\u001b[0;32m   1118\u001b[0m     estimator\u001b[38;5;241m=\u001b[39mestimator,\n\u001b[0;32m   1119\u001b[0m     input_name\u001b[38;5;241m=\u001b[39m\u001b[38;5;124m\"\u001b[39m\u001b[38;5;124mX\u001b[39m\u001b[38;5;124m\"\u001b[39m,\n\u001b[0;32m   1120\u001b[0m )\n\u001b[0;32m   1122\u001b[0m y \u001b[38;5;241m=\u001b[39m _check_y(y, multi_output\u001b[38;5;241m=\u001b[39mmulti_output, y_numeric\u001b[38;5;241m=\u001b[39my_numeric, estimator\u001b[38;5;241m=\u001b[39mestimator)\n\u001b[0;32m   1124\u001b[0m check_consistent_length(X, y)\n",
      "File \u001b[1;32m~\\anaconda3\\Lib\\site-packages\\sklearn\\utils\\validation.py:902\u001b[0m, in \u001b[0;36mcheck_array\u001b[1;34m(array, accept_sparse, accept_large_sparse, dtype, order, copy, force_all_finite, ensure_2d, allow_nd, ensure_min_samples, ensure_min_features, estimator, input_name)\u001b[0m\n\u001b[0;32m    900\u001b[0m     \u001b[38;5;66;03m# If input is 1D raise error\u001b[39;00m\n\u001b[0;32m    901\u001b[0m     \u001b[38;5;28;01mif\u001b[39;00m array\u001b[38;5;241m.\u001b[39mndim \u001b[38;5;241m==\u001b[39m \u001b[38;5;241m1\u001b[39m:\n\u001b[1;32m--> 902\u001b[0m         \u001b[38;5;28;01mraise\u001b[39;00m \u001b[38;5;167;01mValueError\u001b[39;00m(\n\u001b[0;32m    903\u001b[0m             \u001b[38;5;124m\"\u001b[39m\u001b[38;5;124mExpected 2D array, got 1D array instead:\u001b[39m\u001b[38;5;130;01m\\n\u001b[39;00m\u001b[38;5;124marray=\u001b[39m\u001b[38;5;132;01m{}\u001b[39;00m\u001b[38;5;124m.\u001b[39m\u001b[38;5;130;01m\\n\u001b[39;00m\u001b[38;5;124m\"\u001b[39m\n\u001b[0;32m    904\u001b[0m             \u001b[38;5;124m\"\u001b[39m\u001b[38;5;124mReshape your data either using array.reshape(-1, 1) if \u001b[39m\u001b[38;5;124m\"\u001b[39m\n\u001b[0;32m    905\u001b[0m             \u001b[38;5;124m\"\u001b[39m\u001b[38;5;124myour data has a single feature or array.reshape(1, -1) \u001b[39m\u001b[38;5;124m\"\u001b[39m\n\u001b[0;32m    906\u001b[0m             \u001b[38;5;124m\"\u001b[39m\u001b[38;5;124mif it contains a single sample.\u001b[39m\u001b[38;5;124m\"\u001b[39m\u001b[38;5;241m.\u001b[39mformat(array)\n\u001b[0;32m    907\u001b[0m         )\n\u001b[0;32m    909\u001b[0m \u001b[38;5;28;01mif\u001b[39;00m dtype_numeric \u001b[38;5;129;01mand\u001b[39;00m array\u001b[38;5;241m.\u001b[39mdtype\u001b[38;5;241m.\u001b[39mkind \u001b[38;5;129;01min\u001b[39;00m \u001b[38;5;124m\"\u001b[39m\u001b[38;5;124mUSV\u001b[39m\u001b[38;5;124m\"\u001b[39m:\n\u001b[0;32m    910\u001b[0m     \u001b[38;5;28;01mraise\u001b[39;00m \u001b[38;5;167;01mValueError\u001b[39;00m(\n\u001b[0;32m    911\u001b[0m         \u001b[38;5;124m\"\u001b[39m\u001b[38;5;124mdtype=\u001b[39m\u001b[38;5;124m'\u001b[39m\u001b[38;5;124mnumeric\u001b[39m\u001b[38;5;124m'\u001b[39m\u001b[38;5;124m is not compatible with arrays of bytes/strings.\u001b[39m\u001b[38;5;124m\"\u001b[39m\n\u001b[0;32m    912\u001b[0m         \u001b[38;5;124m\"\u001b[39m\u001b[38;5;124mConvert your data to numeric values explicitly instead.\u001b[39m\u001b[38;5;124m\"\u001b[39m\n\u001b[0;32m    913\u001b[0m     )\n",
      "\u001b[1;31mValueError\u001b[0m: Expected 2D array, got 1D array instead:\narray=[159.23369991 147.24890466 175.64138751 150.46542565 154.79331291\n 122.88433881 111.67505012 138.05674699 163.28930733 119.38804318\n 150.34296304 145.95291532 169.1071753  131.15370926 147.64615307\n 185.95980137 166.0230803  162.81595543 162.74695652 148.04277184\n 122.84016663 180.15118796 122.40063923 126.07472173 123.08728783\n 123.42255691 125.36753755 150.4936322  155.26165875 130.66106394\n 162.89268921 165.73070097 100.1185558  158.81930637 141.01364191\n 173.84741906 177.79336311 165.21767263 168.95173635 123.85070451\n 163.85811072 166.25570792 158.64614665 153.21324065 158.94373005\n 140.41662672 194.5415948  123.9395468  151.74569626 164.27568034\n 158.83949831 147.75528985 189.07239002 147.53035943 134.2102157\n 139.88495794 123.87129743 164.70686368 151.95570743 164.10162976\n 165.26781804 165.23895023 155.04427021 119.46340349 170.88655334\n 161.0555075  158.45576914 137.57377328 180.07212446 157.292441\n 141.2876823  151.92057297 135.77052895 168.95634042 158.46174566\n 149.86754338 115.06563336 158.63509925 140.11641743 191.8281387\n 166.0090866  152.2408943  157.20816128 175.74357093 150.71719546\n 130.73336901 142.30107746 140.78669912 158.90211409 191.24786365\n 121.67220413 157.85781553 174.04657324 138.78069651 121.05935556\n 145.44387621 144.57728017 122.52935762 159.11706619 162.49811868].\nReshape your data either using array.reshape(-1, 1) if your data has a single feature or array.reshape(1, -1) if it contains a single sample."
     ]
    }
   ],
   "source": [
    "model.fit(height, weight)"
   ]
  },
  {
   "cell_type": "code",
   "execution_count": 31,
   "id": "d1d334d6-1a6c-43ff-ae81-676a46c095ff",
   "metadata": {},
   "outputs": [
    {
     "data": {
      "text/plain": [
       "array([159.23369991, 147.24890466, 175.64138751, 150.46542565,\n",
       "       154.79331291, 122.88433881, 111.67505012, 138.05674699,\n",
       "       163.28930733, 119.38804318, 150.34296304, 145.95291532,\n",
       "       169.1071753 , 131.15370926, 147.64615307, 185.95980137,\n",
       "       166.0230803 , 162.81595543, 162.74695652, 148.04277184,\n",
       "       122.84016663, 180.15118796, 122.40063923, 126.07472173,\n",
       "       123.08728783, 123.42255691, 125.36753755, 150.4936322 ,\n",
       "       155.26165875, 130.66106394, 162.89268921, 165.73070097,\n",
       "       100.1185558 , 158.81930637, 141.01364191, 173.84741906,\n",
       "       177.79336311, 165.21767263, 168.95173635, 123.85070451,\n",
       "       163.85811072, 166.25570792, 158.64614665, 153.21324065,\n",
       "       158.94373005, 140.41662672, 194.5415948 , 123.9395468 ,\n",
       "       151.74569626, 164.27568034, 158.83949831, 147.75528985,\n",
       "       189.07239002, 147.53035943, 134.2102157 , 139.88495794,\n",
       "       123.87129743, 164.70686368, 151.95570743, 164.10162976,\n",
       "       165.26781804, 165.23895023, 155.04427021, 119.46340349,\n",
       "       170.88655334, 161.0555075 , 158.45576914, 137.57377328,\n",
       "       180.07212446, 157.292441  , 141.2876823 , 151.92057297,\n",
       "       135.77052895, 168.95634042, 158.46174566, 149.86754338,\n",
       "       115.06563336, 158.63509925, 140.11641743, 191.8281387 ,\n",
       "       166.0090866 , 152.2408943 , 157.20816128, 175.74357093,\n",
       "       150.71719546, 130.73336901, 142.30107746, 140.78669912,\n",
       "       158.90211409, 191.24786365, 121.67220413, 157.85781553,\n",
       "       174.04657324, 138.78069651, 121.05935556, 145.44387621,\n",
       "       144.57728017, 122.52935762, 159.11706619, 162.49811868])"
      ]
     },
     "execution_count": 31,
     "metadata": {},
     "output_type": "execute_result"
    }
   ],
   "source": [
    "height"
   ]
  },
  {
   "cell_type": "code",
   "execution_count": 32,
   "id": "e961ba63-deef-4aa7-adef-dcd6d0c5e692",
   "metadata": {
    "scrolled": true
   },
   "outputs": [
    {
     "data": {
      "text/plain": [
       "array([[159.23369991],\n",
       "       [147.24890466],\n",
       "       [175.64138751],\n",
       "       [150.46542565],\n",
       "       [154.79331291],\n",
       "       [122.88433881],\n",
       "       [111.67505012],\n",
       "       [138.05674699],\n",
       "       [163.28930733],\n",
       "       [119.38804318],\n",
       "       [150.34296304],\n",
       "       [145.95291532],\n",
       "       [169.1071753 ],\n",
       "       [131.15370926],\n",
       "       [147.64615307],\n",
       "       [185.95980137],\n",
       "       [166.0230803 ],\n",
       "       [162.81595543],\n",
       "       [162.74695652],\n",
       "       [148.04277184],\n",
       "       [122.84016663],\n",
       "       [180.15118796],\n",
       "       [122.40063923],\n",
       "       [126.07472173],\n",
       "       [123.08728783],\n",
       "       [123.42255691],\n",
       "       [125.36753755],\n",
       "       [150.4936322 ],\n",
       "       [155.26165875],\n",
       "       [130.66106394],\n",
       "       [162.89268921],\n",
       "       [165.73070097],\n",
       "       [100.1185558 ],\n",
       "       [158.81930637],\n",
       "       [141.01364191],\n",
       "       [173.84741906],\n",
       "       [177.79336311],\n",
       "       [165.21767263],\n",
       "       [168.95173635],\n",
       "       [123.85070451],\n",
       "       [163.85811072],\n",
       "       [166.25570792],\n",
       "       [158.64614665],\n",
       "       [153.21324065],\n",
       "       [158.94373005],\n",
       "       [140.41662672],\n",
       "       [194.5415948 ],\n",
       "       [123.9395468 ],\n",
       "       [151.74569626],\n",
       "       [164.27568034],\n",
       "       [158.83949831],\n",
       "       [147.75528985],\n",
       "       [189.07239002],\n",
       "       [147.53035943],\n",
       "       [134.2102157 ],\n",
       "       [139.88495794],\n",
       "       [123.87129743],\n",
       "       [164.70686368],\n",
       "       [151.95570743],\n",
       "       [164.10162976],\n",
       "       [165.26781804],\n",
       "       [165.23895023],\n",
       "       [155.04427021],\n",
       "       [119.46340349],\n",
       "       [170.88655334],\n",
       "       [161.0555075 ],\n",
       "       [158.45576914],\n",
       "       [137.57377328],\n",
       "       [180.07212446],\n",
       "       [157.292441  ],\n",
       "       [141.2876823 ],\n",
       "       [151.92057297],\n",
       "       [135.77052895],\n",
       "       [168.95634042],\n",
       "       [158.46174566],\n",
       "       [149.86754338],\n",
       "       [115.06563336],\n",
       "       [158.63509925],\n",
       "       [140.11641743],\n",
       "       [191.8281387 ],\n",
       "       [166.0090866 ],\n",
       "       [152.2408943 ],\n",
       "       [157.20816128],\n",
       "       [175.74357093],\n",
       "       [150.71719546],\n",
       "       [130.73336901],\n",
       "       [142.30107746],\n",
       "       [140.78669912],\n",
       "       [158.90211409],\n",
       "       [191.24786365],\n",
       "       [121.67220413],\n",
       "       [157.85781553],\n",
       "       [174.04657324],\n",
       "       [138.78069651],\n",
       "       [121.05935556],\n",
       "       [145.44387621],\n",
       "       [144.57728017],\n",
       "       [122.52935762],\n",
       "       [159.11706619],\n",
       "       [162.49811868]])"
      ]
     },
     "execution_count": 32,
     "metadata": {},
     "output_type": "execute_result"
    }
   ],
   "source": [
    "height.reshape((-1, 1))"
   ]
  },
  {
   "cell_type": "code",
   "execution_count": null,
   "id": "af71daea-375d-4ef3-a023-76dbe9675892",
   "metadata": {},
   "outputs": [],
   "source": []
  },
  {
   "cell_type": "code",
   "execution_count": 33,
   "id": "75cc7179-26c1-40b2-913a-f5a2dc504298",
   "metadata": {},
   "outputs": [
    {
     "data": {
      "text/html": [
       "<style>#sk-container-id-1 {color: black;background-color: white;}#sk-container-id-1 pre{padding: 0;}#sk-container-id-1 div.sk-toggleable {background-color: white;}#sk-container-id-1 label.sk-toggleable__label {cursor: pointer;display: block;width: 100%;margin-bottom: 0;padding: 0.3em;box-sizing: border-box;text-align: center;}#sk-container-id-1 label.sk-toggleable__label-arrow:before {content: \"▸\";float: left;margin-right: 0.25em;color: #696969;}#sk-container-id-1 label.sk-toggleable__label-arrow:hover:before {color: black;}#sk-container-id-1 div.sk-estimator:hover label.sk-toggleable__label-arrow:before {color: black;}#sk-container-id-1 div.sk-toggleable__content {max-height: 0;max-width: 0;overflow: hidden;text-align: left;background-color: #f0f8ff;}#sk-container-id-1 div.sk-toggleable__content pre {margin: 0.2em;color: black;border-radius: 0.25em;background-color: #f0f8ff;}#sk-container-id-1 input.sk-toggleable__control:checked~div.sk-toggleable__content {max-height: 200px;max-width: 100%;overflow: auto;}#sk-container-id-1 input.sk-toggleable__control:checked~label.sk-toggleable__label-arrow:before {content: \"▾\";}#sk-container-id-1 div.sk-estimator input.sk-toggleable__control:checked~label.sk-toggleable__label {background-color: #d4ebff;}#sk-container-id-1 div.sk-label input.sk-toggleable__control:checked~label.sk-toggleable__label {background-color: #d4ebff;}#sk-container-id-1 input.sk-hidden--visually {border: 0;clip: rect(1px 1px 1px 1px);clip: rect(1px, 1px, 1px, 1px);height: 1px;margin: -1px;overflow: hidden;padding: 0;position: absolute;width: 1px;}#sk-container-id-1 div.sk-estimator {font-family: monospace;background-color: #f0f8ff;border: 1px dotted black;border-radius: 0.25em;box-sizing: border-box;margin-bottom: 0.5em;}#sk-container-id-1 div.sk-estimator:hover {background-color: #d4ebff;}#sk-container-id-1 div.sk-parallel-item::after {content: \"\";width: 100%;border-bottom: 1px solid gray;flex-grow: 1;}#sk-container-id-1 div.sk-label:hover label.sk-toggleable__label {background-color: #d4ebff;}#sk-container-id-1 div.sk-serial::before {content: \"\";position: absolute;border-left: 1px solid gray;box-sizing: border-box;top: 0;bottom: 0;left: 50%;z-index: 0;}#sk-container-id-1 div.sk-serial {display: flex;flex-direction: column;align-items: center;background-color: white;padding-right: 0.2em;padding-left: 0.2em;position: relative;}#sk-container-id-1 div.sk-item {position: relative;z-index: 1;}#sk-container-id-1 div.sk-parallel {display: flex;align-items: stretch;justify-content: center;background-color: white;position: relative;}#sk-container-id-1 div.sk-item::before, #sk-container-id-1 div.sk-parallel-item::before {content: \"\";position: absolute;border-left: 1px solid gray;box-sizing: border-box;top: 0;bottom: 0;left: 50%;z-index: -1;}#sk-container-id-1 div.sk-parallel-item {display: flex;flex-direction: column;z-index: 1;position: relative;background-color: white;}#sk-container-id-1 div.sk-parallel-item:first-child::after {align-self: flex-end;width: 50%;}#sk-container-id-1 div.sk-parallel-item:last-child::after {align-self: flex-start;width: 50%;}#sk-container-id-1 div.sk-parallel-item:only-child::after {width: 0;}#sk-container-id-1 div.sk-dashed-wrapped {border: 1px dashed gray;margin: 0 0.4em 0.5em 0.4em;box-sizing: border-box;padding-bottom: 0.4em;background-color: white;}#sk-container-id-1 div.sk-label label {font-family: monospace;font-weight: bold;display: inline-block;line-height: 1.2em;}#sk-container-id-1 div.sk-label-container {text-align: center;}#sk-container-id-1 div.sk-container {/* jupyter's `normalize.less` sets `[hidden] { display: none; }` but bootstrap.min.css set `[hidden] { display: none !important; }` so we also need the `!important` here to be able to override the default hidden behavior on the sphinx rendered scikit-learn.org. See: https://github.com/scikit-learn/scikit-learn/issues/21755 */display: inline-block !important;position: relative;}#sk-container-id-1 div.sk-text-repr-fallback {display: none;}</style><div id=\"sk-container-id-1\" class=\"sk-top-container\"><div class=\"sk-text-repr-fallback\"><pre>LinearRegression()</pre><b>In a Jupyter environment, please rerun this cell to show the HTML representation or trust the notebook. <br />On GitHub, the HTML representation is unable to render, please try loading this page with nbviewer.org.</b></div><div class=\"sk-container\" hidden><div class=\"sk-item\"><div class=\"sk-estimator sk-toggleable\"><input class=\"sk-toggleable__control sk-hidden--visually\" id=\"sk-estimator-id-1\" type=\"checkbox\" checked><label for=\"sk-estimator-id-1\" class=\"sk-toggleable__label sk-toggleable__label-arrow\">LinearRegression</label><div class=\"sk-toggleable__content\"><pre>LinearRegression()</pre></div></div></div></div></div>"
      ],
      "text/plain": [
       "LinearRegression()"
      ]
     },
     "execution_count": 33,
     "metadata": {},
     "output_type": "execute_result"
    }
   ],
   "source": [
    "model.fit(height.reshape(-1,1), weight)"
   ]
  },
  {
   "cell_type": "code",
   "execution_count": 36,
   "id": "4a0b6064-ec38-4de2-b425-8dde83b07b83",
   "metadata": {},
   "outputs": [
    {
     "data": {
      "text/plain": [
       "array([ 95.96619389,  93.69166059, 111.98999163,  95.67779018,\n",
       "        99.21876415,  80.61105248,  67.55524996,  86.54603953,\n",
       "       101.13311484,  76.05340319, 100.14785254,  90.14557408,\n",
       "       102.60508083,  79.70301921,  89.47885312, 119.23518067,\n",
       "       107.0680748 , 107.21076125, 104.6092261 ,  94.38451501,\n",
       "        73.98366459, 109.18273473,  74.68631372,  79.15375963,\n",
       "        77.44449073,  78.08823954,  76.09149253,  97.06982434,\n",
       "        99.59639347,  86.39692244, 105.97922049, 108.63772834,\n",
       "        64.09195862,  97.9495863 ,  86.22023363, 114.21770415,\n",
       "       112.22397684, 104.08740656, 107.90428741,  82.49580604,\n",
       "        99.89944374, 102.16368736,  97.59676036,  96.12812366,\n",
       "        98.77097014,  92.07399207, 125.17200802,  78.43765612,\n",
       "        99.26407672, 105.31513575,  97.16618271,  96.01177193,\n",
       "       120.6972948 ,  89.92861386,  82.78539182,  90.45288526,\n",
       "        78.87129709, 103.0215527 ,  95.83164177,  98.94790186,\n",
       "       108.47877042, 108.45376337,  94.2464097 ,  75.47943621,\n",
       "       111.4624316 , 102.31102356, 104.63212675,  87.55599586,\n",
       "       116.40219585, 101.09835144,  84.80193418,  99.05295455,\n",
       "        88.51055701, 101.66486942, 104.72477649,  93.5900218 ,\n",
       "        69.45264721,  98.73843625,  92.44473516, 123.17214966,\n",
       "       101.67225781, 100.35185967,  97.76556569, 109.62139174,\n",
       "        95.49298431,  88.40039029,  94.9006713 ,  89.92647704,\n",
       "       100.6820439 , 120.71524034,  76.23143634, 102.50289398,\n",
       "       105.86926951,  90.25182264,  75.51337972,  87.44096828,\n",
       "        91.96128351,  82.1040897 , 104.97031854, 104.82881648])"
      ]
     },
     "execution_count": 36,
     "metadata": {},
     "output_type": "execute_result"
    }
   ],
   "source": [
    "weight"
   ]
  },
  {
   "cell_type": "code",
   "execution_count": 41,
   "id": "41f92825-513a-447a-b09a-85f9504f16e2",
   "metadata": {},
   "outputs": [
    {
     "data": {
      "text/plain": [
       "array([100.96376391,  93.3314014 , 111.41278845,  95.37980137,\n",
       "        98.13596064,  77.81514142,  70.67665028,  87.47749417,\n",
       "       103.54652527,  75.58857058,  95.30181263,  92.50606728,\n",
       "       107.25155956,  83.08138349,  93.58438393, 117.98393743,\n",
       "       105.28749337, 103.2450772 , 103.20113613,  93.83696549,\n",
       "        77.78701094, 114.28479679,  77.50710357,  79.8468957 ,\n",
       "        77.94438689,  78.15789869,  79.39653456,  95.39776435,\n",
       "        98.43422065,  82.76764866, 103.29394412, 105.10129536,\n",
       "        63.3170457 , 100.69986272,  89.36055462, 110.27032275,\n",
       "       112.7832464 , 104.77457987, 107.15257026,  78.43055897,\n",
       "       103.90876038, 105.43563928, 100.58958818,  97.12971197,\n",
       "       100.77910033,  88.98035318, 123.44914205,  78.48713704,\n",
       "        96.19512522, 104.17468421, 100.71272169,  93.65388629,\n",
       "       119.96614943,  93.51064225,  85.02788026,  88.64176677,\n",
       "        78.44367331, 104.44927777,  96.32886813, 104.06384234,\n",
       "       104.80651433, 104.78813024,  98.29577956,  75.63656282,\n",
       "       108.38473354, 102.12395861, 100.46834872,  87.16991859,\n",
       "       114.23444622,  99.72749817,  89.53507371,  96.3064932 ,\n",
       "        86.02154566, 107.1555023 , 100.47215479,  94.99904774,\n",
       "        72.83589955, 100.58255279,  88.78916876, 121.72111248,\n",
       "       105.27858166,  96.51048571,  99.67382572, 111.47786264,\n",
       "        95.54013773,  82.81369522,  90.18044137,  89.21602903,\n",
       "       100.75259775, 121.35157179,  77.04320906, 100.08754966,\n",
       "       110.39715152,  87.9385321 ,  76.65292434,  92.18189228,\n",
       "        91.63001175,  77.58907622, 100.88948723, 103.04266696])"
      ]
     },
     "execution_count": 41,
     "metadata": {},
     "output_type": "execute_result"
    }
   ],
   "source": [
    "y_hat = model.predict(height.reshape(-1,1))\n",
    "y_hat"
   ]
  },
  {
   "cell_type": "code",
   "execution_count": 42,
   "id": "3e62ad9a-6767-4204-b4cb-d4f2bc762d4b",
   "metadata": {},
   "outputs": [
    {
     "data": {
      "text/plain": [
       "array([ 95.96619389,  93.69166059, 111.98999163,  95.67779018,\n",
       "        99.21876415,  80.61105248,  67.55524996,  86.54603953,\n",
       "       101.13311484,  76.05340319, 100.14785254,  90.14557408,\n",
       "       102.60508083,  79.70301921,  89.47885312, 119.23518067,\n",
       "       107.0680748 , 107.21076125, 104.6092261 ,  94.38451501,\n",
       "        73.98366459, 109.18273473,  74.68631372,  79.15375963,\n",
       "        77.44449073,  78.08823954,  76.09149253,  97.06982434,\n",
       "        99.59639347,  86.39692244, 105.97922049, 108.63772834,\n",
       "        64.09195862,  97.9495863 ,  86.22023363, 114.21770415,\n",
       "       112.22397684, 104.08740656, 107.90428741,  82.49580604,\n",
       "        99.89944374, 102.16368736,  97.59676036,  96.12812366,\n",
       "        98.77097014,  92.07399207, 125.17200802,  78.43765612,\n",
       "        99.26407672, 105.31513575,  97.16618271,  96.01177193,\n",
       "       120.6972948 ,  89.92861386,  82.78539182,  90.45288526,\n",
       "        78.87129709, 103.0215527 ,  95.83164177,  98.94790186,\n",
       "       108.47877042, 108.45376337,  94.2464097 ,  75.47943621,\n",
       "       111.4624316 , 102.31102356, 104.63212675,  87.55599586,\n",
       "       116.40219585, 101.09835144,  84.80193418,  99.05295455,\n",
       "        88.51055701, 101.66486942, 104.72477649,  93.5900218 ,\n",
       "        69.45264721,  98.73843625,  92.44473516, 123.17214966,\n",
       "       101.67225781, 100.35185967,  97.76556569, 109.62139174,\n",
       "        95.49298431,  88.40039029,  94.9006713 ,  89.92647704,\n",
       "       100.6820439 , 120.71524034,  76.23143634, 102.50289398,\n",
       "       105.86926951,  90.25182264,  75.51337972,  87.44096828,\n",
       "        91.96128351,  82.1040897 , 104.97031854, 104.82881648])"
      ]
     },
     "execution_count": 42,
     "metadata": {},
     "output_type": "execute_result"
    }
   ],
   "source": [
    "weight"
   ]
  },
  {
   "cell_type": "code",
   "execution_count": null,
   "id": "1fa60acd-0f6c-493d-8ecf-20acb6872a21",
   "metadata": {},
   "outputs": [],
   "source": []
  },
  {
   "cell_type": "code",
   "execution_count": 43,
   "id": "0b563f43-e15e-44f3-a51d-4b810af4e645",
   "metadata": {},
   "outputs": [
    {
     "data": {
      "text/plain": [
       "array([0.63683712])"
      ]
     },
     "execution_count": 43,
     "metadata": {},
     "output_type": "execute_result"
    }
   ],
   "source": [
    "model.coef_"
   ]
  },
  {
   "cell_type": "code",
   "execution_count": 44,
   "id": "763b3ca4-56ab-4fb1-87ee-4fc1af731335",
   "metadata": {},
   "outputs": [
    {
     "data": {
      "text/plain": [
       "-0.44216717139893547"
      ]
     },
     "execution_count": 44,
     "metadata": {},
     "output_type": "execute_result"
    }
   ],
   "source": [
    "model.intercept_"
   ]
  },
  {
   "cell_type": "code",
   "execution_count": null,
   "id": "d7cecd25-45da-4ea7-a0ee-0a3f9afd1e31",
   "metadata": {},
   "outputs": [],
   "source": []
  },
  {
   "cell_type": "code",
   "execution_count": null,
   "id": "9f09b3c6-17d6-4f8a-8d3f-6f1ecc760ca8",
   "metadata": {},
   "outputs": [],
   "source": []
  },
  {
   "cell_type": "code",
   "execution_count": 45,
   "id": "41048d6f-9b35-4088-be59-d721ec2be00e",
   "metadata": {},
   "outputs": [],
   "source": [
    "import matplotlib.pyplot as plt"
   ]
  },
  {
   "cell_type": "code",
   "execution_count": 50,
   "id": "5f6edf52-ee6d-463e-a27a-2ed50ef4856c",
   "metadata": {},
   "outputs": [
    {
     "data": {
      "image/png": "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",
      "text/plain": [
       "<Figure size 640x480 with 1 Axes>"
      ]
     },
     "metadata": {},
     "output_type": "display_data"
    }
   ],
   "source": [
    "plt.figure(dpi=100)\n",
    "plt.scatter(height, weight, label='data')\n",
    "plt.plot(height, y_hat, 'r', label='prediction')\n",
    "plt.legend()\n",
    "plt.show()"
   ]
  },
  {
   "cell_type": "code",
   "execution_count": null,
   "id": "97b59fb8-e38b-46dd-a418-92c5c865a33c",
   "metadata": {},
   "outputs": [],
   "source": []
  },
  {
   "cell_type": "code",
   "execution_count": null,
   "id": "0e204389-0359-450a-96bb-48faaad00c0e",
   "metadata": {},
   "outputs": [],
   "source": []
  },
  {
   "cell_type": "code",
   "execution_count": null,
   "id": "eee0a524-ebeb-416e-8a6c-27f5cb84e86f",
   "metadata": {},
   "outputs": [],
   "source": []
  },
  {
   "cell_type": "code",
   "execution_count": null,
   "id": "3e4f1a01-99be-4d3f-9204-38e79e788287",
   "metadata": {},
   "outputs": [],
   "source": []
  },
  {
   "cell_type": "code",
   "execution_count": null,
   "id": "15474608-c01e-4b03-adf9-e5c310a67572",
   "metadata": {},
   "outputs": [],
   "source": []
  }
 ],
 "metadata": {
  "kernelspec": {
   "display_name": "Python 3 (ipykernel)",
   "language": "python",
   "name": "python3"
  },
  "language_info": {
   "codemirror_mode": {
    "name": "ipython",
    "version": 3
   },
   "file_extension": ".py",
   "mimetype": "text/x-python",
   "name": "python",
   "nbconvert_exporter": "python",
   "pygments_lexer": "ipython3",
   "version": "3.11.7"
  }
 },
 "nbformat": 4,
 "nbformat_minor": 5
}
>>>>>>> d7b84eea2019ea8b7ded338e1ca442369cc9d744
=======
{
 "cells": [
  {
   "cell_type": "code",
   "execution_count": null,
   "id": "726fcde8-b670-4830-9631-374d7b43abba",
   "metadata": {},
   "outputs": [],
   "source": []
  },
  {
   "cell_type": "code",
   "execution_count": 1,
   "id": "837214b0-955d-4232-b594-0067506b2c4e",
   "metadata": {},
   "outputs": [],
   "source": [
    "import numpy as np\n",
    "import pandas as pd\n",
    "import matplotlib.pyplot as plt"
   ]
  },
  {
   "cell_type": "code",
   "execution_count": null,
   "id": "fba14142-44d1-4225-bf3c-5db72f4e2c07",
   "metadata": {},
   "outputs": [],
   "source": []
  },
  {
   "cell_type": "code",
   "execution_count": 2,
   "id": "aabd36fb-bb66-4de2-8e00-3e848ea3fc06",
   "metadata": {},
   "outputs": [],
   "source": [
    "def predict(m, X, c):\n",
    "    y_hat = m * X + c\n",
    "    return y_hat"
   ]
  },
  {
   "cell_type": "code",
   "execution_count": 3,
   "id": "6e0a7ca6-b150-4d3d-bae7-2432bdf79f64",
   "metadata": {},
   "outputs": [],
   "source": [
    "def MAE(y, y_hat):\n",
    "    error = np.abs(y - y_hat).sum() / len(y)\n",
    "    return error"
   ]
  },
  {
   "cell_type": "code",
   "execution_count": 9,
   "id": "741dbb47-1f21-4644-b79b-96a2df50a93c",
   "metadata": {},
   "outputs": [],
   "source": [
    "def corr_plot(X, y):\n",
    "    r = np.corrcoef(X, y)[0,1]\n",
    "    plt.figure()\n",
    "    plt.scatter(X, y, label=f\"r ={r:.2f}\")\n",
    "    plt.legend()\n",
    "    plt.grid()\n",
    "    return plt.gca()"
   ]
  },
  {
   "cell_type": "code",
   "execution_count": null,
   "id": "23db0a53-27da-4de9-9ad8-83d1817f17d2",
   "metadata": {},
   "outputs": [],
   "source": []
  },
  {
   "cell_type": "code",
   "execution_count": 5,
   "id": "d6702e46-e896-4c4e-9729-d1dbb548ce7c",
   "metadata": {},
   "outputs": [
    {
     "data": {
      "text/html": [
       "<div>\n",
       "<style scoped>\n",
       "    .dataframe tbody tr th:only-of-type {\n",
       "        vertical-align: middle;\n",
       "    }\n",
       "\n",
       "    .dataframe tbody tr th {\n",
       "        vertical-align: top;\n",
       "    }\n",
       "\n",
       "    .dataframe thead th {\n",
       "        text-align: right;\n",
       "    }\n",
       "</style>\n",
       "<table border=\"1\" class=\"dataframe\">\n",
       "  <thead>\n",
       "    <tr style=\"text-align: right;\">\n",
       "      <th></th>\n",
       "      <th>longitude</th>\n",
       "      <th>latitude</th>\n",
       "      <th>housing_median_age</th>\n",
       "      <th>total_rooms</th>\n",
       "      <th>total_bedrooms</th>\n",
       "      <th>population</th>\n",
       "      <th>households</th>\n",
       "      <th>median_income</th>\n",
       "      <th>median_house_value</th>\n",
       "      <th>ocean_proximity</th>\n",
       "    </tr>\n",
       "  </thead>\n",
       "  <tbody>\n",
       "    <tr>\n",
       "      <th>0</th>\n",
       "      <td>-122.23</td>\n",
       "      <td>37.88</td>\n",
       "      <td>41.0</td>\n",
       "      <td>880.0</td>\n",
       "      <td>129.0</td>\n",
       "      <td>322.0</td>\n",
       "      <td>126.0</td>\n",
       "      <td>8.3252</td>\n",
       "      <td>452600.0</td>\n",
       "      <td>NEAR BAY</td>\n",
       "    </tr>\n",
       "    <tr>\n",
       "      <th>1</th>\n",
       "      <td>-122.22</td>\n",
       "      <td>37.86</td>\n",
       "      <td>21.0</td>\n",
       "      <td>7099.0</td>\n",
       "      <td>1106.0</td>\n",
       "      <td>2401.0</td>\n",
       "      <td>1138.0</td>\n",
       "      <td>8.3014</td>\n",
       "      <td>358500.0</td>\n",
       "      <td>NEAR BAY</td>\n",
       "    </tr>\n",
       "    <tr>\n",
       "      <th>2</th>\n",
       "      <td>-122.24</td>\n",
       "      <td>37.85</td>\n",
       "      <td>52.0</td>\n",
       "      <td>1467.0</td>\n",
       "      <td>190.0</td>\n",
       "      <td>496.0</td>\n",
       "      <td>177.0</td>\n",
       "      <td>7.2574</td>\n",
       "      <td>352100.0</td>\n",
       "      <td>NEAR BAY</td>\n",
       "    </tr>\n",
       "    <tr>\n",
       "      <th>3</th>\n",
       "      <td>-122.25</td>\n",
       "      <td>37.85</td>\n",
       "      <td>52.0</td>\n",
       "      <td>1274.0</td>\n",
       "      <td>235.0</td>\n",
       "      <td>558.0</td>\n",
       "      <td>219.0</td>\n",
       "      <td>5.6431</td>\n",
       "      <td>341300.0</td>\n",
       "      <td>NEAR BAY</td>\n",
       "    </tr>\n",
       "    <tr>\n",
       "      <th>4</th>\n",
       "      <td>-122.25</td>\n",
       "      <td>37.85</td>\n",
       "      <td>52.0</td>\n",
       "      <td>1627.0</td>\n",
       "      <td>280.0</td>\n",
       "      <td>565.0</td>\n",
       "      <td>259.0</td>\n",
       "      <td>3.8462</td>\n",
       "      <td>342200.0</td>\n",
       "      <td>NEAR BAY</td>\n",
       "    </tr>\n",
       "    <tr>\n",
       "      <th>...</th>\n",
       "      <td>...</td>\n",
       "      <td>...</td>\n",
       "      <td>...</td>\n",
       "      <td>...</td>\n",
       "      <td>...</td>\n",
       "      <td>...</td>\n",
       "      <td>...</td>\n",
       "      <td>...</td>\n",
       "      <td>...</td>\n",
       "      <td>...</td>\n",
       "    </tr>\n",
       "    <tr>\n",
       "      <th>20635</th>\n",
       "      <td>-121.09</td>\n",
       "      <td>39.48</td>\n",
       "      <td>25.0</td>\n",
       "      <td>1665.0</td>\n",
       "      <td>374.0</td>\n",
       "      <td>845.0</td>\n",
       "      <td>330.0</td>\n",
       "      <td>1.5603</td>\n",
       "      <td>78100.0</td>\n",
       "      <td>INLAND</td>\n",
       "    </tr>\n",
       "    <tr>\n",
       "      <th>20636</th>\n",
       "      <td>-121.21</td>\n",
       "      <td>39.49</td>\n",
       "      <td>18.0</td>\n",
       "      <td>697.0</td>\n",
       "      <td>150.0</td>\n",
       "      <td>356.0</td>\n",
       "      <td>114.0</td>\n",
       "      <td>2.5568</td>\n",
       "      <td>77100.0</td>\n",
       "      <td>INLAND</td>\n",
       "    </tr>\n",
       "    <tr>\n",
       "      <th>20637</th>\n",
       "      <td>-121.22</td>\n",
       "      <td>39.43</td>\n",
       "      <td>17.0</td>\n",
       "      <td>2254.0</td>\n",
       "      <td>485.0</td>\n",
       "      <td>1007.0</td>\n",
       "      <td>433.0</td>\n",
       "      <td>1.7000</td>\n",
       "      <td>92300.0</td>\n",
       "      <td>INLAND</td>\n",
       "    </tr>\n",
       "    <tr>\n",
       "      <th>20638</th>\n",
       "      <td>-121.32</td>\n",
       "      <td>39.43</td>\n",
       "      <td>18.0</td>\n",
       "      <td>1860.0</td>\n",
       "      <td>409.0</td>\n",
       "      <td>741.0</td>\n",
       "      <td>349.0</td>\n",
       "      <td>1.8672</td>\n",
       "      <td>84700.0</td>\n",
       "      <td>INLAND</td>\n",
       "    </tr>\n",
       "    <tr>\n",
       "      <th>20639</th>\n",
       "      <td>-121.24</td>\n",
       "      <td>39.37</td>\n",
       "      <td>16.0</td>\n",
       "      <td>2785.0</td>\n",
       "      <td>616.0</td>\n",
       "      <td>1387.0</td>\n",
       "      <td>530.0</td>\n",
       "      <td>2.3886</td>\n",
       "      <td>89400.0</td>\n",
       "      <td>INLAND</td>\n",
       "    </tr>\n",
       "  </tbody>\n",
       "</table>\n",
       "<p>20640 rows × 10 columns</p>\n",
       "</div>"
      ],
      "text/plain": [
       "       longitude  latitude  housing_median_age  total_rooms  total_bedrooms  \\\n",
       "0        -122.23     37.88                41.0        880.0           129.0   \n",
       "1        -122.22     37.86                21.0       7099.0          1106.0   \n",
       "2        -122.24     37.85                52.0       1467.0           190.0   \n",
       "3        -122.25     37.85                52.0       1274.0           235.0   \n",
       "4        -122.25     37.85                52.0       1627.0           280.0   \n",
       "...          ...       ...                 ...          ...             ...   \n",
       "20635    -121.09     39.48                25.0       1665.0           374.0   \n",
       "20636    -121.21     39.49                18.0        697.0           150.0   \n",
       "20637    -121.22     39.43                17.0       2254.0           485.0   \n",
       "20638    -121.32     39.43                18.0       1860.0           409.0   \n",
       "20639    -121.24     39.37                16.0       2785.0           616.0   \n",
       "\n",
       "       population  households  median_income  median_house_value  \\\n",
       "0           322.0       126.0         8.3252            452600.0   \n",
       "1          2401.0      1138.0         8.3014            358500.0   \n",
       "2           496.0       177.0         7.2574            352100.0   \n",
       "3           558.0       219.0         5.6431            341300.0   \n",
       "4           565.0       259.0         3.8462            342200.0   \n",
       "...           ...         ...            ...                 ...   \n",
       "20635       845.0       330.0         1.5603             78100.0   \n",
       "20636       356.0       114.0         2.5568             77100.0   \n",
       "20637      1007.0       433.0         1.7000             92300.0   \n",
       "20638       741.0       349.0         1.8672             84700.0   \n",
       "20639      1387.0       530.0         2.3886             89400.0   \n",
       "\n",
       "      ocean_proximity  \n",
       "0            NEAR BAY  \n",
       "1            NEAR BAY  \n",
       "2            NEAR BAY  \n",
       "3            NEAR BAY  \n",
       "4            NEAR BAY  \n",
       "...               ...  \n",
       "20635          INLAND  \n",
       "20636          INLAND  \n",
       "20637          INLAND  \n",
       "20638          INLAND  \n",
       "20639          INLAND  \n",
       "\n",
       "[20640 rows x 10 columns]"
      ]
     },
     "execution_count": 5,
     "metadata": {},
     "output_type": "execute_result"
    }
   ],
   "source": [
    "house = pd.read_csv('../housing.csv')\n",
    "house"
   ]
  },
  {
   "cell_type": "code",
   "execution_count": null,
   "id": "8bf767e0-b340-42df-88bf-8cb66676416c",
   "metadata": {},
   "outputs": [],
   "source": []
  },
  {
   "cell_type": "code",
   "execution_count": 6,
   "id": "0b03d6ed-7f77-4103-9574-7b43077511c0",
   "metadata": {},
   "outputs": [
    {
     "data": {
      "text/plain": [
       "longitude               0\n",
       "latitude                0\n",
       "housing_median_age      0\n",
       "total_rooms             0\n",
       "total_bedrooms        207\n",
       "population              0\n",
       "households              0\n",
       "median_income           0\n",
       "median_house_value      0\n",
       "ocean_proximity         0\n",
       "dtype: int64"
      ]
     },
     "execution_count": 6,
     "metadata": {},
     "output_type": "execute_result"
    }
   ],
   "source": [
    "house.isna().sum()"
   ]
  },
  {
   "cell_type": "code",
   "execution_count": null,
   "id": "68baf001-fd3e-4ef2-9e95-b288a224de44",
   "metadata": {},
   "outputs": [],
   "source": []
  },
  {
   "cell_type": "code",
   "execution_count": null,
   "id": "dd32c185-bab3-4a58-8431-76258f5a35c1",
   "metadata": {},
   "outputs": [],
   "source": []
  },
  {
   "cell_type": "code",
   "execution_count": 7,
   "id": "2ec1f496-3280-4bc4-a415-f90248483ee2",
   "metadata": {},
   "outputs": [],
   "source": [
    "X = house['median_income']\n",
    "y = house['median_house_value']"
   ]
  },
  {
   "cell_type": "code",
   "execution_count": null,
   "id": "7e8708f9-d935-4929-8c42-c287730e2404",
   "metadata": {},
   "outputs": [],
   "source": []
  },
  {
   "cell_type": "code",
   "execution_count": 19,
   "id": "e69f2067-d30c-4c66-9596-3b2f6a4266f4",
   "metadata": {},
   "outputs": [
    {
     "data": {
      "image/png": "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",
      "text/plain": [
       "<Figure size 640x480 with 1 Axes>"
      ]
     },
     "metadata": {},
     "output_type": "display_data"
    }
   ],
   "source": [
    "ax = corr_plot(X,y)\n",
    "\n",
    "m = 20000\n",
    "c = 400\n",
    "y_hat = predict(m, X, c)\n",
    "error = MAE(y, y_hat)\n",
    "plt.plot(X, y_hat, label=f\"error = {error:.2f}\")\n",
    "\n",
    "m = 40000\n",
    "c = 600\n",
    "y_hat = predict(m, X, c)\n",
    "error = MAE(y, y_hat)\n",
    "plt.plot(X, y_hat, label=f\"error = {error:.2f}\")\n",
    "\n",
    "# m = 60000\n",
    "# c = 800\n",
    "# y_hat = predict(m, X, c)\n",
    "# error = MAE(y, y_hat)\n",
    "# plt.plot(X, y_hat, label=f\"error = {error:.2f}\")\n",
    "\n",
    "\n",
    "plt.legend()\n",
    "plt.show()\n"
   ]
  },
  {
   "cell_type": "code",
   "execution_count": null,
   "id": "80bd11ed-6ff2-4ffc-94e7-62af25008d39",
   "metadata": {},
   "outputs": [],
   "source": []
  },
  {
   "cell_type": "code",
   "execution_count": null,
   "id": "3da0852d-feb0-4a09-b440-3f372ab05574",
   "metadata": {},
   "outputs": [],
   "source": []
  },
  {
   "cell_type": "code",
   "execution_count": 21,
   "id": "1652952c-4029-4950-9469-b339d795ea4d",
   "metadata": {},
   "outputs": [
    {
     "data": {
      "image/png": "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",
      "text/plain": [
       "<Figure size 640x480 with 1 Axes>"
      ]
     },
     "metadata": {},
     "output_type": "display_data"
    }
   ],
   "source": [
    "ax = corr_plot(X,y)\n",
    "\n",
    "m = 20000\n",
    "c = 400\n",
    "y_hat = predict(m, X, c)\n",
    "error = MAE(y, y_hat)\n",
    "plt.plot(X, y_hat, label=f\"error = {error:.2f}\")\n",
    "\n",
    "m = 40000\n",
    "c = 600\n",
    "y_hat = predict(m, X, c)\n",
    "error = MAE(y, y_hat)\n",
    "plt.plot(X, y_hat, label=f\"error = {error:.2f}\")\n",
    "\n",
    "m = 50000\n",
    "c = 800\n",
    "y_hat = predict(m, X, c)\n",
    "error = MAE(y, y_hat)\n",
    "plt.plot(X, y_hat, label=f\"error = {error:.2f}\")\n",
    "\n",
    "\n",
    "plt.legend()\n",
    "plt.show()\n"
   ]
  },
  {
   "cell_type": "code",
   "execution_count": null,
   "id": "d47beb74-db56-4866-8250-c66e23a3bc8c",
   "metadata": {},
   "outputs": [],
   "source": []
  },
  {
   "cell_type": "code",
   "execution_count": null,
   "id": "97266e42-a8a9-4eb4-a260-758df67bf24f",
   "metadata": {},
   "outputs": [],
   "source": []
  },
  {
   "cell_type": "code",
   "execution_count": 1,
   "id": "4a37cb7b-9ad4-4ddd-9831-73968cc91170",
   "metadata": {},
   "outputs": [],
   "source": [
    "import numpy as np"
   ]
  },
  {
   "cell_type": "code",
   "execution_count": 5,
   "id": "0ed58cfa-97bb-4e3d-a867-c17976bd93d7",
   "metadata": {},
   "outputs": [],
   "source": [
    "height = np.random.normal(150, 20, 100)\n",
    "\n",
    "bias = np.random.random(100) * 10\n",
    "\n",
    "weight = 0.6 * height + bias"
   ]
  },
  {
   "cell_type": "code",
   "execution_count": 6,
   "id": "7da0cd49-bf93-4b1a-97aa-aa3c12734c18",
   "metadata": {},
   "outputs": [
    {
     "data": {
      "text/plain": [
       "array([159.23369991, 147.24890466, 175.64138751, 150.46542565,\n",
       "       154.79331291, 122.88433881, 111.67505012, 138.05674699,\n",
       "       163.28930733, 119.38804318, 150.34296304, 145.95291532,\n",
       "       169.1071753 , 131.15370926, 147.64615307, 185.95980137,\n",
       "       166.0230803 , 162.81595543, 162.74695652, 148.04277184,\n",
       "       122.84016663, 180.15118796, 122.40063923, 126.07472173,\n",
       "       123.08728783, 123.42255691, 125.36753755, 150.4936322 ,\n",
       "       155.26165875, 130.66106394, 162.89268921, 165.73070097,\n",
       "       100.1185558 , 158.81930637, 141.01364191, 173.84741906,\n",
       "       177.79336311, 165.21767263, 168.95173635, 123.85070451,\n",
       "       163.85811072, 166.25570792, 158.64614665, 153.21324065,\n",
       "       158.94373005, 140.41662672, 194.5415948 , 123.9395468 ,\n",
       "       151.74569626, 164.27568034, 158.83949831, 147.75528985,\n",
       "       189.07239002, 147.53035943, 134.2102157 , 139.88495794,\n",
       "       123.87129743, 164.70686368, 151.95570743, 164.10162976,\n",
       "       165.26781804, 165.23895023, 155.04427021, 119.46340349,\n",
       "       170.88655334, 161.0555075 , 158.45576914, 137.57377328,\n",
       "       180.07212446, 157.292441  , 141.2876823 , 151.92057297,\n",
       "       135.77052895, 168.95634042, 158.46174566, 149.86754338,\n",
       "       115.06563336, 158.63509925, 140.11641743, 191.8281387 ,\n",
       "       166.0090866 , 152.2408943 , 157.20816128, 175.74357093,\n",
       "       150.71719546, 130.73336901, 142.30107746, 140.78669912,\n",
       "       158.90211409, 191.24786365, 121.67220413, 157.85781553,\n",
       "       174.04657324, 138.78069651, 121.05935556, 145.44387621,\n",
       "       144.57728017, 122.52935762, 159.11706619, 162.49811868])"
      ]
     },
     "execution_count": 6,
     "metadata": {},
     "output_type": "execute_result"
    }
   ],
   "source": [
    "height"
   ]
  },
  {
   "cell_type": "code",
   "execution_count": 7,
   "id": "5b65b204-cfd0-4267-88ad-f08ad63ee8ee",
   "metadata": {},
   "outputs": [
    {
     "data": {
      "text/plain": [
       "array([ 95.96619389,  93.69166059, 111.98999163,  95.67779018,\n",
       "        99.21876415,  80.61105248,  67.55524996,  86.54603953,\n",
       "       101.13311484,  76.05340319, 100.14785254,  90.14557408,\n",
       "       102.60508083,  79.70301921,  89.47885312, 119.23518067,\n",
       "       107.0680748 , 107.21076125, 104.6092261 ,  94.38451501,\n",
       "        73.98366459, 109.18273473,  74.68631372,  79.15375963,\n",
       "        77.44449073,  78.08823954,  76.09149253,  97.06982434,\n",
       "        99.59639347,  86.39692244, 105.97922049, 108.63772834,\n",
       "        64.09195862,  97.9495863 ,  86.22023363, 114.21770415,\n",
       "       112.22397684, 104.08740656, 107.90428741,  82.49580604,\n",
       "        99.89944374, 102.16368736,  97.59676036,  96.12812366,\n",
       "        98.77097014,  92.07399207, 125.17200802,  78.43765612,\n",
       "        99.26407672, 105.31513575,  97.16618271,  96.01177193,\n",
       "       120.6972948 ,  89.92861386,  82.78539182,  90.45288526,\n",
       "        78.87129709, 103.0215527 ,  95.83164177,  98.94790186,\n",
       "       108.47877042, 108.45376337,  94.2464097 ,  75.47943621,\n",
       "       111.4624316 , 102.31102356, 104.63212675,  87.55599586,\n",
       "       116.40219585, 101.09835144,  84.80193418,  99.05295455,\n",
       "        88.51055701, 101.66486942, 104.72477649,  93.5900218 ,\n",
       "        69.45264721,  98.73843625,  92.44473516, 123.17214966,\n",
       "       101.67225781, 100.35185967,  97.76556569, 109.62139174,\n",
       "        95.49298431,  88.40039029,  94.9006713 ,  89.92647704,\n",
       "       100.6820439 , 120.71524034,  76.23143634, 102.50289398,\n",
       "       105.86926951,  90.25182264,  75.51337972,  87.44096828,\n",
       "        91.96128351,  82.1040897 , 104.97031854, 104.82881648])"
      ]
     },
     "execution_count": 7,
     "metadata": {},
     "output_type": "execute_result"
    }
   ],
   "source": [
    "weight"
   ]
  },
  {
   "cell_type": "code",
   "execution_count": null,
   "id": "58d5fe04-5888-4482-a042-4ef2441e6308",
   "metadata": {},
   "outputs": [],
   "source": []
  },
  {
   "cell_type": "code",
   "execution_count": 14,
   "id": "15155c78-82bf-4356-83e2-e79e277e044f",
   "metadata": {},
   "outputs": [],
   "source": [
    "class LinearRegression:\n",
    "\n",
    "    def __init__(self):\n",
    "        self.theta_0 = None\n",
    "        self.theta_1 = None\n",
    "\n",
    "    def fit(self, X, y):\n",
    "        xbar = X.mean()\n",
    "        ybar = y.mean()\n",
    "\n",
    "        self.theta_1 = ((ybar - y) * (xbar - X)).sum() / ((xbar - X) **2).sum()\n",
    "        self.theta_0 = ybar - self.theta_1 * xbar\n",
    "\n",
    "    def predict(self, X):\n",
    "        y_hat = self.theta_1 * X + self.theta_0\n",
    "        return y_hat"
   ]
  },
  {
   "cell_type": "code",
   "execution_count": null,
   "id": "aa46f132-c7ee-4205-b266-1fc76aaa49de",
   "metadata": {},
   "outputs": [],
   "source": []
  },
  {
   "cell_type": "code",
   "execution_count": 15,
   "id": "66c24691-90fc-4a78-8818-02ba6e7c06fa",
   "metadata": {},
   "outputs": [],
   "source": [
    "LR = LinearRegression()"
   ]
  },
  {
   "cell_type": "code",
   "execution_count": 16,
   "id": "fbe8a21d-c9dd-441e-a136-fb63c1321baa",
   "metadata": {},
   "outputs": [
    {
     "data": {
      "text/plain": [
       "{'theta_0': None, 'theta_1': None}"
      ]
     },
     "execution_count": 16,
     "metadata": {},
     "output_type": "execute_result"
    }
   ],
   "source": [
    "LR.__dict__"
   ]
  },
  {
   "cell_type": "code",
   "execution_count": null,
   "id": "44855521-6097-4373-8510-b703a6e77c8d",
   "metadata": {},
   "outputs": [],
   "source": []
  },
  {
   "cell_type": "code",
   "execution_count": 17,
   "id": "5b03652b-8048-4fff-9937-360162029d75",
   "metadata": {},
   "outputs": [],
   "source": [
    "LR.fit(height, weight)"
   ]
  },
  {
   "cell_type": "code",
   "execution_count": 18,
   "id": "bad49cfd-7c38-49c6-9db6-0257b1c4f697",
   "metadata": {},
   "outputs": [
    {
     "data": {
      "text/plain": [
       "{'theta_0': -0.44216717139893547, 'theta_1': 0.6368371213975236}"
      ]
     },
     "execution_count": 18,
     "metadata": {},
     "output_type": "execute_result"
    }
   ],
   "source": [
    "LR.__dict__"
   ]
  },
  {
   "cell_type": "code",
   "execution_count": null,
   "id": "d3ed52c5-dc44-473f-947d-54a4fd59a797",
   "metadata": {},
   "outputs": [],
   "source": []
  },
  {
   "cell_type": "code",
   "execution_count": 19,
   "id": "458e1ba8-0af1-4a73-8670-1ea59c0f2486",
   "metadata": {},
   "outputs": [
    {
     "data": {
      "text/plain": [
       "array([100.96376391,  93.3314014 , 111.41278845,  95.37980137,\n",
       "        98.13596064,  77.81514142,  70.67665028,  87.47749417,\n",
       "       103.54652527,  75.58857058,  95.30181263,  92.50606728,\n",
       "       107.25155956,  83.08138349,  93.58438393, 117.98393743,\n",
       "       105.28749337, 103.2450772 , 103.20113613,  93.83696549,\n",
       "        77.78701094, 114.28479679,  77.50710357,  79.8468957 ,\n",
       "        77.94438689,  78.15789869,  79.39653456,  95.39776435,\n",
       "        98.43422065,  82.76764866, 103.29394412, 105.10129536,\n",
       "        63.3170457 , 100.69986272,  89.36055462, 110.27032275,\n",
       "       112.7832464 , 104.77457987, 107.15257026,  78.43055897,\n",
       "       103.90876038, 105.43563928, 100.58958818,  97.12971197,\n",
       "       100.77910033,  88.98035318, 123.44914205,  78.48713704,\n",
       "        96.19512522, 104.17468421, 100.71272169,  93.65388629,\n",
       "       119.96614943,  93.51064225,  85.02788026,  88.64176677,\n",
       "        78.44367331, 104.44927777,  96.32886813, 104.06384234,\n",
       "       104.80651433, 104.78813024,  98.29577956,  75.63656282,\n",
       "       108.38473354, 102.12395861, 100.46834872,  87.16991859,\n",
       "       114.23444622,  99.72749817,  89.53507371,  96.3064932 ,\n",
       "        86.02154566, 107.1555023 , 100.47215479,  94.99904774,\n",
       "        72.83589955, 100.58255279,  88.78916876, 121.72111248,\n",
       "       105.27858166,  96.51048571,  99.67382572, 111.47786264,\n",
       "        95.54013773,  82.81369522,  90.18044137,  89.21602903,\n",
       "       100.75259775, 121.35157179,  77.04320906, 100.08754966,\n",
       "       110.39715152,  87.9385321 ,  76.65292434,  92.18189228,\n",
       "        91.63001175,  77.58907622, 100.88948723, 103.04266696])"
      ]
     },
     "execution_count": 19,
     "metadata": {},
     "output_type": "execute_result"
    }
   ],
   "source": [
    "y_hat = LR.predict(height)\n",
    "y_hat"
   ]
  },
  {
   "cell_type": "code",
   "execution_count": null,
   "id": "be05de33-da9e-485f-bab7-4d4f83d5d653",
   "metadata": {},
   "outputs": [],
   "source": []
  },
  {
   "cell_type": "code",
   "execution_count": 21,
   "id": "075bd17c-a0bc-42d7-9285-78184dd50e50",
   "metadata": {},
   "outputs": [
    {
     "data": {
      "text/plain": [
       "array([ 95.96619389,  93.69166059, 111.98999163,  95.67779018,\n",
       "        99.21876415])"
      ]
     },
     "execution_count": 21,
     "metadata": {},
     "output_type": "execute_result"
    }
   ],
   "source": [
    "weight[:5]"
   ]
  },
  {
   "cell_type": "code",
   "execution_count": 22,
   "id": "fc341278-6097-452e-8f40-9e2072580532",
   "metadata": {},
   "outputs": [
    {
     "data": {
      "text/plain": [
       "array([100.96376391,  93.3314014 , 111.41278845,  95.37980137,\n",
       "        98.13596064])"
      ]
     },
     "execution_count": 22,
     "metadata": {},
     "output_type": "execute_result"
    }
   ],
   "source": [
    "y_hat[:5]"
   ]
  },
  {
   "cell_type": "code",
   "execution_count": null,
   "id": "457f1a56-0b53-4478-8d85-8c9af8e4e0b2",
   "metadata": {},
   "outputs": [],
   "source": []
  },
  {
   "cell_type": "code",
   "execution_count": null,
   "id": "ce1b1476-635b-4018-99e7-7ff408cd9642",
   "metadata": {},
   "outputs": [],
   "source": []
  },
  {
   "cell_type": "code",
   "execution_count": 23,
   "id": "a29f0f3c-7b6b-4474-811a-90a8a6f6b125",
   "metadata": {},
   "outputs": [
    {
     "data": {
      "text/plain": [
       "98.26758664521722"
      ]
     },
     "execution_count": 23,
     "metadata": {},
     "output_type": "execute_result"
    }
   ],
   "source": [
    "LR.predict(155)"
   ]
  },
  {
   "cell_type": "code",
   "execution_count": 24,
   "id": "294b6df4-4d42-491c-a2a8-298850358dad",
   "metadata": {},
   "outputs": [
    {
     "data": {
      "text/plain": [
       "array([ 91.89921543, 104.63595786, 112.27800332, 125.65158287])"
      ]
     },
     "execution_count": 24,
     "metadata": {},
     "output_type": "execute_result"
    }
   ],
   "source": [
    "LR.predict(np.array([145, 165, 177, 198]))"
   ]
  },
  {
   "cell_type": "code",
   "execution_count": null,
   "id": "1fb23fdc-8be9-4a59-b086-6384922dc52b",
   "metadata": {},
   "outputs": [],
   "source": []
  },
  {
   "cell_type": "code",
   "execution_count": null,
   "id": "070b4e84-211b-4491-9c38-3829f5ede929",
   "metadata": {},
   "outputs": [],
   "source": []
  },
  {
   "cell_type": "code",
   "execution_count": 26,
   "id": "ecc22239-cbac-4ffe-9cef-f96a71e4df82",
   "metadata": {},
   "outputs": [],
   "source": [
    "from sklearn.linear_model import LinearRegression as LR"
   ]
  },
  {
   "cell_type": "code",
   "execution_count": null,
   "id": "0e8a1141-787a-4eda-a735-35b5c3075f60",
   "metadata": {},
   "outputs": [],
   "source": []
  },
  {
   "cell_type": "code",
   "execution_count": 28,
   "id": "5bbe29b1-8ac0-4f73-9600-30367cf7e37b",
   "metadata": {},
   "outputs": [],
   "source": [
    "model = LR()"
   ]
  },
  {
   "cell_type": "code",
   "execution_count": 29,
   "id": "7bd89d53-651a-44fb-9afb-2a31db4f8ee6",
   "metadata": {
    "scrolled": true
   },
   "outputs": [
    {
     "ename": "ValueError",
     "evalue": "Expected 2D array, got 1D array instead:\narray=[159.23369991 147.24890466 175.64138751 150.46542565 154.79331291\n 122.88433881 111.67505012 138.05674699 163.28930733 119.38804318\n 150.34296304 145.95291532 169.1071753  131.15370926 147.64615307\n 185.95980137 166.0230803  162.81595543 162.74695652 148.04277184\n 122.84016663 180.15118796 122.40063923 126.07472173 123.08728783\n 123.42255691 125.36753755 150.4936322  155.26165875 130.66106394\n 162.89268921 165.73070097 100.1185558  158.81930637 141.01364191\n 173.84741906 177.79336311 165.21767263 168.95173635 123.85070451\n 163.85811072 166.25570792 158.64614665 153.21324065 158.94373005\n 140.41662672 194.5415948  123.9395468  151.74569626 164.27568034\n 158.83949831 147.75528985 189.07239002 147.53035943 134.2102157\n 139.88495794 123.87129743 164.70686368 151.95570743 164.10162976\n 165.26781804 165.23895023 155.04427021 119.46340349 170.88655334\n 161.0555075  158.45576914 137.57377328 180.07212446 157.292441\n 141.2876823  151.92057297 135.77052895 168.95634042 158.46174566\n 149.86754338 115.06563336 158.63509925 140.11641743 191.8281387\n 166.0090866  152.2408943  157.20816128 175.74357093 150.71719546\n 130.73336901 142.30107746 140.78669912 158.90211409 191.24786365\n 121.67220413 157.85781553 174.04657324 138.78069651 121.05935556\n 145.44387621 144.57728017 122.52935762 159.11706619 162.49811868].\nReshape your data either using array.reshape(-1, 1) if your data has a single feature or array.reshape(1, -1) if it contains a single sample.",
     "output_type": "error",
     "traceback": [
      "\u001b[1;31m---------------------------------------------------------------------------\u001b[0m",
      "\u001b[1;31mValueError\u001b[0m                                Traceback (most recent call last)",
      "Cell \u001b[1;32mIn[29], line 1\u001b[0m\n\u001b[1;32m----> 1\u001b[0m model\u001b[38;5;241m.\u001b[39mfit(height, weight)\n",
      "File \u001b[1;32m~\\anaconda3\\Lib\\site-packages\\sklearn\\linear_model\\_base.py:648\u001b[0m, in \u001b[0;36mLinearRegression.fit\u001b[1;34m(self, X, y, sample_weight)\u001b[0m\n\u001b[0;32m    644\u001b[0m n_jobs_ \u001b[38;5;241m=\u001b[39m \u001b[38;5;28mself\u001b[39m\u001b[38;5;241m.\u001b[39mn_jobs\n\u001b[0;32m    646\u001b[0m accept_sparse \u001b[38;5;241m=\u001b[39m \u001b[38;5;28;01mFalse\u001b[39;00m \u001b[38;5;28;01mif\u001b[39;00m \u001b[38;5;28mself\u001b[39m\u001b[38;5;241m.\u001b[39mpositive \u001b[38;5;28;01melse\u001b[39;00m [\u001b[38;5;124m\"\u001b[39m\u001b[38;5;124mcsr\u001b[39m\u001b[38;5;124m\"\u001b[39m, \u001b[38;5;124m\"\u001b[39m\u001b[38;5;124mcsc\u001b[39m\u001b[38;5;124m\"\u001b[39m, \u001b[38;5;124m\"\u001b[39m\u001b[38;5;124mcoo\u001b[39m\u001b[38;5;124m\"\u001b[39m]\n\u001b[1;32m--> 648\u001b[0m X, y \u001b[38;5;241m=\u001b[39m \u001b[38;5;28mself\u001b[39m\u001b[38;5;241m.\u001b[39m_validate_data(\n\u001b[0;32m    649\u001b[0m     X, y, accept_sparse\u001b[38;5;241m=\u001b[39maccept_sparse, y_numeric\u001b[38;5;241m=\u001b[39m\u001b[38;5;28;01mTrue\u001b[39;00m, multi_output\u001b[38;5;241m=\u001b[39m\u001b[38;5;28;01mTrue\u001b[39;00m\n\u001b[0;32m    650\u001b[0m )\n\u001b[0;32m    652\u001b[0m sample_weight \u001b[38;5;241m=\u001b[39m _check_sample_weight(\n\u001b[0;32m    653\u001b[0m     sample_weight, X, dtype\u001b[38;5;241m=\u001b[39mX\u001b[38;5;241m.\u001b[39mdtype, only_non_negative\u001b[38;5;241m=\u001b[39m\u001b[38;5;28;01mTrue\u001b[39;00m\n\u001b[0;32m    654\u001b[0m )\n\u001b[0;32m    656\u001b[0m X, y, X_offset, y_offset, X_scale \u001b[38;5;241m=\u001b[39m _preprocess_data(\n\u001b[0;32m    657\u001b[0m     X,\n\u001b[0;32m    658\u001b[0m     y,\n\u001b[1;32m   (...)\u001b[0m\n\u001b[0;32m    661\u001b[0m     sample_weight\u001b[38;5;241m=\u001b[39msample_weight,\n\u001b[0;32m    662\u001b[0m )\n",
      "File \u001b[1;32m~\\anaconda3\\Lib\\site-packages\\sklearn\\base.py:584\u001b[0m, in \u001b[0;36mBaseEstimator._validate_data\u001b[1;34m(self, X, y, reset, validate_separately, **check_params)\u001b[0m\n\u001b[0;32m    582\u001b[0m         y \u001b[38;5;241m=\u001b[39m check_array(y, input_name\u001b[38;5;241m=\u001b[39m\u001b[38;5;124m\"\u001b[39m\u001b[38;5;124my\u001b[39m\u001b[38;5;124m\"\u001b[39m, \u001b[38;5;241m*\u001b[39m\u001b[38;5;241m*\u001b[39mcheck_y_params)\n\u001b[0;32m    583\u001b[0m     \u001b[38;5;28;01melse\u001b[39;00m:\n\u001b[1;32m--> 584\u001b[0m         X, y \u001b[38;5;241m=\u001b[39m check_X_y(X, y, \u001b[38;5;241m*\u001b[39m\u001b[38;5;241m*\u001b[39mcheck_params)\n\u001b[0;32m    585\u001b[0m     out \u001b[38;5;241m=\u001b[39m X, y\n\u001b[0;32m    587\u001b[0m \u001b[38;5;28;01mif\u001b[39;00m \u001b[38;5;129;01mnot\u001b[39;00m no_val_X \u001b[38;5;129;01mand\u001b[39;00m check_params\u001b[38;5;241m.\u001b[39mget(\u001b[38;5;124m\"\u001b[39m\u001b[38;5;124mensure_2d\u001b[39m\u001b[38;5;124m\"\u001b[39m, \u001b[38;5;28;01mTrue\u001b[39;00m):\n",
      "File \u001b[1;32m~\\anaconda3\\Lib\\site-packages\\sklearn\\utils\\validation.py:1106\u001b[0m, in \u001b[0;36mcheck_X_y\u001b[1;34m(X, y, accept_sparse, accept_large_sparse, dtype, order, copy, force_all_finite, ensure_2d, allow_nd, multi_output, ensure_min_samples, ensure_min_features, y_numeric, estimator)\u001b[0m\n\u001b[0;32m   1101\u001b[0m         estimator_name \u001b[38;5;241m=\u001b[39m _check_estimator_name(estimator)\n\u001b[0;32m   1102\u001b[0m     \u001b[38;5;28;01mraise\u001b[39;00m \u001b[38;5;167;01mValueError\u001b[39;00m(\n\u001b[0;32m   1103\u001b[0m         \u001b[38;5;124mf\u001b[39m\u001b[38;5;124m\"\u001b[39m\u001b[38;5;132;01m{\u001b[39;00mestimator_name\u001b[38;5;132;01m}\u001b[39;00m\u001b[38;5;124m requires y to be passed, but the target y is None\u001b[39m\u001b[38;5;124m\"\u001b[39m\n\u001b[0;32m   1104\u001b[0m     )\n\u001b[1;32m-> 1106\u001b[0m X \u001b[38;5;241m=\u001b[39m check_array(\n\u001b[0;32m   1107\u001b[0m     X,\n\u001b[0;32m   1108\u001b[0m     accept_sparse\u001b[38;5;241m=\u001b[39maccept_sparse,\n\u001b[0;32m   1109\u001b[0m     accept_large_sparse\u001b[38;5;241m=\u001b[39maccept_large_sparse,\n\u001b[0;32m   1110\u001b[0m     dtype\u001b[38;5;241m=\u001b[39mdtype,\n\u001b[0;32m   1111\u001b[0m     order\u001b[38;5;241m=\u001b[39morder,\n\u001b[0;32m   1112\u001b[0m     copy\u001b[38;5;241m=\u001b[39mcopy,\n\u001b[0;32m   1113\u001b[0m     force_all_finite\u001b[38;5;241m=\u001b[39mforce_all_finite,\n\u001b[0;32m   1114\u001b[0m     ensure_2d\u001b[38;5;241m=\u001b[39mensure_2d,\n\u001b[0;32m   1115\u001b[0m     allow_nd\u001b[38;5;241m=\u001b[39mallow_nd,\n\u001b[0;32m   1116\u001b[0m     ensure_min_samples\u001b[38;5;241m=\u001b[39mensure_min_samples,\n\u001b[0;32m   1117\u001b[0m     ensure_min_features\u001b[38;5;241m=\u001b[39mensure_min_features,\n\u001b[0;32m   1118\u001b[0m     estimator\u001b[38;5;241m=\u001b[39mestimator,\n\u001b[0;32m   1119\u001b[0m     input_name\u001b[38;5;241m=\u001b[39m\u001b[38;5;124m\"\u001b[39m\u001b[38;5;124mX\u001b[39m\u001b[38;5;124m\"\u001b[39m,\n\u001b[0;32m   1120\u001b[0m )\n\u001b[0;32m   1122\u001b[0m y \u001b[38;5;241m=\u001b[39m _check_y(y, multi_output\u001b[38;5;241m=\u001b[39mmulti_output, y_numeric\u001b[38;5;241m=\u001b[39my_numeric, estimator\u001b[38;5;241m=\u001b[39mestimator)\n\u001b[0;32m   1124\u001b[0m check_consistent_length(X, y)\n",
      "File \u001b[1;32m~\\anaconda3\\Lib\\site-packages\\sklearn\\utils\\validation.py:902\u001b[0m, in \u001b[0;36mcheck_array\u001b[1;34m(array, accept_sparse, accept_large_sparse, dtype, order, copy, force_all_finite, ensure_2d, allow_nd, ensure_min_samples, ensure_min_features, estimator, input_name)\u001b[0m\n\u001b[0;32m    900\u001b[0m     \u001b[38;5;66;03m# If input is 1D raise error\u001b[39;00m\n\u001b[0;32m    901\u001b[0m     \u001b[38;5;28;01mif\u001b[39;00m array\u001b[38;5;241m.\u001b[39mndim \u001b[38;5;241m==\u001b[39m \u001b[38;5;241m1\u001b[39m:\n\u001b[1;32m--> 902\u001b[0m         \u001b[38;5;28;01mraise\u001b[39;00m \u001b[38;5;167;01mValueError\u001b[39;00m(\n\u001b[0;32m    903\u001b[0m             \u001b[38;5;124m\"\u001b[39m\u001b[38;5;124mExpected 2D array, got 1D array instead:\u001b[39m\u001b[38;5;130;01m\\n\u001b[39;00m\u001b[38;5;124marray=\u001b[39m\u001b[38;5;132;01m{}\u001b[39;00m\u001b[38;5;124m.\u001b[39m\u001b[38;5;130;01m\\n\u001b[39;00m\u001b[38;5;124m\"\u001b[39m\n\u001b[0;32m    904\u001b[0m             \u001b[38;5;124m\"\u001b[39m\u001b[38;5;124mReshape your data either using array.reshape(-1, 1) if \u001b[39m\u001b[38;5;124m\"\u001b[39m\n\u001b[0;32m    905\u001b[0m             \u001b[38;5;124m\"\u001b[39m\u001b[38;5;124myour data has a single feature or array.reshape(1, -1) \u001b[39m\u001b[38;5;124m\"\u001b[39m\n\u001b[0;32m    906\u001b[0m             \u001b[38;5;124m\"\u001b[39m\u001b[38;5;124mif it contains a single sample.\u001b[39m\u001b[38;5;124m\"\u001b[39m\u001b[38;5;241m.\u001b[39mformat(array)\n\u001b[0;32m    907\u001b[0m         )\n\u001b[0;32m    909\u001b[0m \u001b[38;5;28;01mif\u001b[39;00m dtype_numeric \u001b[38;5;129;01mand\u001b[39;00m array\u001b[38;5;241m.\u001b[39mdtype\u001b[38;5;241m.\u001b[39mkind \u001b[38;5;129;01min\u001b[39;00m \u001b[38;5;124m\"\u001b[39m\u001b[38;5;124mUSV\u001b[39m\u001b[38;5;124m\"\u001b[39m:\n\u001b[0;32m    910\u001b[0m     \u001b[38;5;28;01mraise\u001b[39;00m \u001b[38;5;167;01mValueError\u001b[39;00m(\n\u001b[0;32m    911\u001b[0m         \u001b[38;5;124m\"\u001b[39m\u001b[38;5;124mdtype=\u001b[39m\u001b[38;5;124m'\u001b[39m\u001b[38;5;124mnumeric\u001b[39m\u001b[38;5;124m'\u001b[39m\u001b[38;5;124m is not compatible with arrays of bytes/strings.\u001b[39m\u001b[38;5;124m\"\u001b[39m\n\u001b[0;32m    912\u001b[0m         \u001b[38;5;124m\"\u001b[39m\u001b[38;5;124mConvert your data to numeric values explicitly instead.\u001b[39m\u001b[38;5;124m\"\u001b[39m\n\u001b[0;32m    913\u001b[0m     )\n",
      "\u001b[1;31mValueError\u001b[0m: Expected 2D array, got 1D array instead:\narray=[159.23369991 147.24890466 175.64138751 150.46542565 154.79331291\n 122.88433881 111.67505012 138.05674699 163.28930733 119.38804318\n 150.34296304 145.95291532 169.1071753  131.15370926 147.64615307\n 185.95980137 166.0230803  162.81595543 162.74695652 148.04277184\n 122.84016663 180.15118796 122.40063923 126.07472173 123.08728783\n 123.42255691 125.36753755 150.4936322  155.26165875 130.66106394\n 162.89268921 165.73070097 100.1185558  158.81930637 141.01364191\n 173.84741906 177.79336311 165.21767263 168.95173635 123.85070451\n 163.85811072 166.25570792 158.64614665 153.21324065 158.94373005\n 140.41662672 194.5415948  123.9395468  151.74569626 164.27568034\n 158.83949831 147.75528985 189.07239002 147.53035943 134.2102157\n 139.88495794 123.87129743 164.70686368 151.95570743 164.10162976\n 165.26781804 165.23895023 155.04427021 119.46340349 170.88655334\n 161.0555075  158.45576914 137.57377328 180.07212446 157.292441\n 141.2876823  151.92057297 135.77052895 168.95634042 158.46174566\n 149.86754338 115.06563336 158.63509925 140.11641743 191.8281387\n 166.0090866  152.2408943  157.20816128 175.74357093 150.71719546\n 130.73336901 142.30107746 140.78669912 158.90211409 191.24786365\n 121.67220413 157.85781553 174.04657324 138.78069651 121.05935556\n 145.44387621 144.57728017 122.52935762 159.11706619 162.49811868].\nReshape your data either using array.reshape(-1, 1) if your data has a single feature or array.reshape(1, -1) if it contains a single sample."
     ]
    }
   ],
   "source": [
    "model.fit(height, weight)"
   ]
  },
  {
   "cell_type": "code",
   "execution_count": 31,
   "id": "d1d334d6-1a6c-43ff-ae81-676a46c095ff",
   "metadata": {},
   "outputs": [
    {
     "data": {
      "text/plain": [
       "array([159.23369991, 147.24890466, 175.64138751, 150.46542565,\n",
       "       154.79331291, 122.88433881, 111.67505012, 138.05674699,\n",
       "       163.28930733, 119.38804318, 150.34296304, 145.95291532,\n",
       "       169.1071753 , 131.15370926, 147.64615307, 185.95980137,\n",
       "       166.0230803 , 162.81595543, 162.74695652, 148.04277184,\n",
       "       122.84016663, 180.15118796, 122.40063923, 126.07472173,\n",
       "       123.08728783, 123.42255691, 125.36753755, 150.4936322 ,\n",
       "       155.26165875, 130.66106394, 162.89268921, 165.73070097,\n",
       "       100.1185558 , 158.81930637, 141.01364191, 173.84741906,\n",
       "       177.79336311, 165.21767263, 168.95173635, 123.85070451,\n",
       "       163.85811072, 166.25570792, 158.64614665, 153.21324065,\n",
       "       158.94373005, 140.41662672, 194.5415948 , 123.9395468 ,\n",
       "       151.74569626, 164.27568034, 158.83949831, 147.75528985,\n",
       "       189.07239002, 147.53035943, 134.2102157 , 139.88495794,\n",
       "       123.87129743, 164.70686368, 151.95570743, 164.10162976,\n",
       "       165.26781804, 165.23895023, 155.04427021, 119.46340349,\n",
       "       170.88655334, 161.0555075 , 158.45576914, 137.57377328,\n",
       "       180.07212446, 157.292441  , 141.2876823 , 151.92057297,\n",
       "       135.77052895, 168.95634042, 158.46174566, 149.86754338,\n",
       "       115.06563336, 158.63509925, 140.11641743, 191.8281387 ,\n",
       "       166.0090866 , 152.2408943 , 157.20816128, 175.74357093,\n",
       "       150.71719546, 130.73336901, 142.30107746, 140.78669912,\n",
       "       158.90211409, 191.24786365, 121.67220413, 157.85781553,\n",
       "       174.04657324, 138.78069651, 121.05935556, 145.44387621,\n",
       "       144.57728017, 122.52935762, 159.11706619, 162.49811868])"
      ]
     },
     "execution_count": 31,
     "metadata": {},
     "output_type": "execute_result"
    }
   ],
   "source": [
    "height"
   ]
  },
  {
   "cell_type": "code",
   "execution_count": 32,
   "id": "e961ba63-deef-4aa7-adef-dcd6d0c5e692",
   "metadata": {
    "scrolled": true
   },
   "outputs": [
    {
     "data": {
      "text/plain": [
       "array([[159.23369991],\n",
       "       [147.24890466],\n",
       "       [175.64138751],\n",
       "       [150.46542565],\n",
       "       [154.79331291],\n",
       "       [122.88433881],\n",
       "       [111.67505012],\n",
       "       [138.05674699],\n",
       "       [163.28930733],\n",
       "       [119.38804318],\n",
       "       [150.34296304],\n",
       "       [145.95291532],\n",
       "       [169.1071753 ],\n",
       "       [131.15370926],\n",
       "       [147.64615307],\n",
       "       [185.95980137],\n",
       "       [166.0230803 ],\n",
       "       [162.81595543],\n",
       "       [162.74695652],\n",
       "       [148.04277184],\n",
       "       [122.84016663],\n",
       "       [180.15118796],\n",
       "       [122.40063923],\n",
       "       [126.07472173],\n",
       "       [123.08728783],\n",
       "       [123.42255691],\n",
       "       [125.36753755],\n",
       "       [150.4936322 ],\n",
       "       [155.26165875],\n",
       "       [130.66106394],\n",
       "       [162.89268921],\n",
       "       [165.73070097],\n",
       "       [100.1185558 ],\n",
       "       [158.81930637],\n",
       "       [141.01364191],\n",
       "       [173.84741906],\n",
       "       [177.79336311],\n",
       "       [165.21767263],\n",
       "       [168.95173635],\n",
       "       [123.85070451],\n",
       "       [163.85811072],\n",
       "       [166.25570792],\n",
       "       [158.64614665],\n",
       "       [153.21324065],\n",
       "       [158.94373005],\n",
       "       [140.41662672],\n",
       "       [194.5415948 ],\n",
       "       [123.9395468 ],\n",
       "       [151.74569626],\n",
       "       [164.27568034],\n",
       "       [158.83949831],\n",
       "       [147.75528985],\n",
       "       [189.07239002],\n",
       "       [147.53035943],\n",
       "       [134.2102157 ],\n",
       "       [139.88495794],\n",
       "       [123.87129743],\n",
       "       [164.70686368],\n",
       "       [151.95570743],\n",
       "       [164.10162976],\n",
       "       [165.26781804],\n",
       "       [165.23895023],\n",
       "       [155.04427021],\n",
       "       [119.46340349],\n",
       "       [170.88655334],\n",
       "       [161.0555075 ],\n",
       "       [158.45576914],\n",
       "       [137.57377328],\n",
       "       [180.07212446],\n",
       "       [157.292441  ],\n",
       "       [141.2876823 ],\n",
       "       [151.92057297],\n",
       "       [135.77052895],\n",
       "       [168.95634042],\n",
       "       [158.46174566],\n",
       "       [149.86754338],\n",
       "       [115.06563336],\n",
       "       [158.63509925],\n",
       "       [140.11641743],\n",
       "       [191.8281387 ],\n",
       "       [166.0090866 ],\n",
       "       [152.2408943 ],\n",
       "       [157.20816128],\n",
       "       [175.74357093],\n",
       "       [150.71719546],\n",
       "       [130.73336901],\n",
       "       [142.30107746],\n",
       "       [140.78669912],\n",
       "       [158.90211409],\n",
       "       [191.24786365],\n",
       "       [121.67220413],\n",
       "       [157.85781553],\n",
       "       [174.04657324],\n",
       "       [138.78069651],\n",
       "       [121.05935556],\n",
       "       [145.44387621],\n",
       "       [144.57728017],\n",
       "       [122.52935762],\n",
       "       [159.11706619],\n",
       "       [162.49811868]])"
      ]
     },
     "execution_count": 32,
     "metadata": {},
     "output_type": "execute_result"
    }
   ],
   "source": [
    "height.reshape((-1, 1))"
   ]
  },
  {
   "cell_type": "code",
   "execution_count": null,
   "id": "af71daea-375d-4ef3-a023-76dbe9675892",
   "metadata": {},
   "outputs": [],
   "source": []
  },
  {
   "cell_type": "code",
   "execution_count": 33,
   "id": "75cc7179-26c1-40b2-913a-f5a2dc504298",
   "metadata": {},
   "outputs": [
    {
     "data": {
      "text/html": [
       "<style>#sk-container-id-1 {color: black;background-color: white;}#sk-container-id-1 pre{padding: 0;}#sk-container-id-1 div.sk-toggleable {background-color: white;}#sk-container-id-1 label.sk-toggleable__label {cursor: pointer;display: block;width: 100%;margin-bottom: 0;padding: 0.3em;box-sizing: border-box;text-align: center;}#sk-container-id-1 label.sk-toggleable__label-arrow:before {content: \"▸\";float: left;margin-right: 0.25em;color: #696969;}#sk-container-id-1 label.sk-toggleable__label-arrow:hover:before {color: black;}#sk-container-id-1 div.sk-estimator:hover label.sk-toggleable__label-arrow:before {color: black;}#sk-container-id-1 div.sk-toggleable__content {max-height: 0;max-width: 0;overflow: hidden;text-align: left;background-color: #f0f8ff;}#sk-container-id-1 div.sk-toggleable__content pre {margin: 0.2em;color: black;border-radius: 0.25em;background-color: #f0f8ff;}#sk-container-id-1 input.sk-toggleable__control:checked~div.sk-toggleable__content {max-height: 200px;max-width: 100%;overflow: auto;}#sk-container-id-1 input.sk-toggleable__control:checked~label.sk-toggleable__label-arrow:before {content: \"▾\";}#sk-container-id-1 div.sk-estimator input.sk-toggleable__control:checked~label.sk-toggleable__label {background-color: #d4ebff;}#sk-container-id-1 div.sk-label input.sk-toggleable__control:checked~label.sk-toggleable__label {background-color: #d4ebff;}#sk-container-id-1 input.sk-hidden--visually {border: 0;clip: rect(1px 1px 1px 1px);clip: rect(1px, 1px, 1px, 1px);height: 1px;margin: -1px;overflow: hidden;padding: 0;position: absolute;width: 1px;}#sk-container-id-1 div.sk-estimator {font-family: monospace;background-color: #f0f8ff;border: 1px dotted black;border-radius: 0.25em;box-sizing: border-box;margin-bottom: 0.5em;}#sk-container-id-1 div.sk-estimator:hover {background-color: #d4ebff;}#sk-container-id-1 div.sk-parallel-item::after {content: \"\";width: 100%;border-bottom: 1px solid gray;flex-grow: 1;}#sk-container-id-1 div.sk-label:hover label.sk-toggleable__label {background-color: #d4ebff;}#sk-container-id-1 div.sk-serial::before {content: \"\";position: absolute;border-left: 1px solid gray;box-sizing: border-box;top: 0;bottom: 0;left: 50%;z-index: 0;}#sk-container-id-1 div.sk-serial {display: flex;flex-direction: column;align-items: center;background-color: white;padding-right: 0.2em;padding-left: 0.2em;position: relative;}#sk-container-id-1 div.sk-item {position: relative;z-index: 1;}#sk-container-id-1 div.sk-parallel {display: flex;align-items: stretch;justify-content: center;background-color: white;position: relative;}#sk-container-id-1 div.sk-item::before, #sk-container-id-1 div.sk-parallel-item::before {content: \"\";position: absolute;border-left: 1px solid gray;box-sizing: border-box;top: 0;bottom: 0;left: 50%;z-index: -1;}#sk-container-id-1 div.sk-parallel-item {display: flex;flex-direction: column;z-index: 1;position: relative;background-color: white;}#sk-container-id-1 div.sk-parallel-item:first-child::after {align-self: flex-end;width: 50%;}#sk-container-id-1 div.sk-parallel-item:last-child::after {align-self: flex-start;width: 50%;}#sk-container-id-1 div.sk-parallel-item:only-child::after {width: 0;}#sk-container-id-1 div.sk-dashed-wrapped {border: 1px dashed gray;margin: 0 0.4em 0.5em 0.4em;box-sizing: border-box;padding-bottom: 0.4em;background-color: white;}#sk-container-id-1 div.sk-label label {font-family: monospace;font-weight: bold;display: inline-block;line-height: 1.2em;}#sk-container-id-1 div.sk-label-container {text-align: center;}#sk-container-id-1 div.sk-container {/* jupyter's `normalize.less` sets `[hidden] { display: none; }` but bootstrap.min.css set `[hidden] { display: none !important; }` so we also need the `!important` here to be able to override the default hidden behavior on the sphinx rendered scikit-learn.org. See: https://github.com/scikit-learn/scikit-learn/issues/21755 */display: inline-block !important;position: relative;}#sk-container-id-1 div.sk-text-repr-fallback {display: none;}</style><div id=\"sk-container-id-1\" class=\"sk-top-container\"><div class=\"sk-text-repr-fallback\"><pre>LinearRegression()</pre><b>In a Jupyter environment, please rerun this cell to show the HTML representation or trust the notebook. <br />On GitHub, the HTML representation is unable to render, please try loading this page with nbviewer.org.</b></div><div class=\"sk-container\" hidden><div class=\"sk-item\"><div class=\"sk-estimator sk-toggleable\"><input class=\"sk-toggleable__control sk-hidden--visually\" id=\"sk-estimator-id-1\" type=\"checkbox\" checked><label for=\"sk-estimator-id-1\" class=\"sk-toggleable__label sk-toggleable__label-arrow\">LinearRegression</label><div class=\"sk-toggleable__content\"><pre>LinearRegression()</pre></div></div></div></div></div>"
      ],
      "text/plain": [
       "LinearRegression()"
      ]
     },
     "execution_count": 33,
     "metadata": {},
     "output_type": "execute_result"
    }
   ],
   "source": [
    "model.fit(height.reshape(-1,1), weight)"
   ]
  },
  {
   "cell_type": "code",
   "execution_count": 36,
   "id": "4a0b6064-ec38-4de2-b425-8dde83b07b83",
   "metadata": {},
   "outputs": [
    {
     "data": {
      "text/plain": [
       "array([ 95.96619389,  93.69166059, 111.98999163,  95.67779018,\n",
       "        99.21876415,  80.61105248,  67.55524996,  86.54603953,\n",
       "       101.13311484,  76.05340319, 100.14785254,  90.14557408,\n",
       "       102.60508083,  79.70301921,  89.47885312, 119.23518067,\n",
       "       107.0680748 , 107.21076125, 104.6092261 ,  94.38451501,\n",
       "        73.98366459, 109.18273473,  74.68631372,  79.15375963,\n",
       "        77.44449073,  78.08823954,  76.09149253,  97.06982434,\n",
       "        99.59639347,  86.39692244, 105.97922049, 108.63772834,\n",
       "        64.09195862,  97.9495863 ,  86.22023363, 114.21770415,\n",
       "       112.22397684, 104.08740656, 107.90428741,  82.49580604,\n",
       "        99.89944374, 102.16368736,  97.59676036,  96.12812366,\n",
       "        98.77097014,  92.07399207, 125.17200802,  78.43765612,\n",
       "        99.26407672, 105.31513575,  97.16618271,  96.01177193,\n",
       "       120.6972948 ,  89.92861386,  82.78539182,  90.45288526,\n",
       "        78.87129709, 103.0215527 ,  95.83164177,  98.94790186,\n",
       "       108.47877042, 108.45376337,  94.2464097 ,  75.47943621,\n",
       "       111.4624316 , 102.31102356, 104.63212675,  87.55599586,\n",
       "       116.40219585, 101.09835144,  84.80193418,  99.05295455,\n",
       "        88.51055701, 101.66486942, 104.72477649,  93.5900218 ,\n",
       "        69.45264721,  98.73843625,  92.44473516, 123.17214966,\n",
       "       101.67225781, 100.35185967,  97.76556569, 109.62139174,\n",
       "        95.49298431,  88.40039029,  94.9006713 ,  89.92647704,\n",
       "       100.6820439 , 120.71524034,  76.23143634, 102.50289398,\n",
       "       105.86926951,  90.25182264,  75.51337972,  87.44096828,\n",
       "        91.96128351,  82.1040897 , 104.97031854, 104.82881648])"
      ]
     },
     "execution_count": 36,
     "metadata": {},
     "output_type": "execute_result"
    }
   ],
   "source": [
    "weight"
   ]
  },
  {
   "cell_type": "code",
   "execution_count": 41,
   "id": "41f92825-513a-447a-b09a-85f9504f16e2",
   "metadata": {},
   "outputs": [
    {
     "data": {
      "text/plain": [
       "array([100.96376391,  93.3314014 , 111.41278845,  95.37980137,\n",
       "        98.13596064,  77.81514142,  70.67665028,  87.47749417,\n",
       "       103.54652527,  75.58857058,  95.30181263,  92.50606728,\n",
       "       107.25155956,  83.08138349,  93.58438393, 117.98393743,\n",
       "       105.28749337, 103.2450772 , 103.20113613,  93.83696549,\n",
       "        77.78701094, 114.28479679,  77.50710357,  79.8468957 ,\n",
       "        77.94438689,  78.15789869,  79.39653456,  95.39776435,\n",
       "        98.43422065,  82.76764866, 103.29394412, 105.10129536,\n",
       "        63.3170457 , 100.69986272,  89.36055462, 110.27032275,\n",
       "       112.7832464 , 104.77457987, 107.15257026,  78.43055897,\n",
       "       103.90876038, 105.43563928, 100.58958818,  97.12971197,\n",
       "       100.77910033,  88.98035318, 123.44914205,  78.48713704,\n",
       "        96.19512522, 104.17468421, 100.71272169,  93.65388629,\n",
       "       119.96614943,  93.51064225,  85.02788026,  88.64176677,\n",
       "        78.44367331, 104.44927777,  96.32886813, 104.06384234,\n",
       "       104.80651433, 104.78813024,  98.29577956,  75.63656282,\n",
       "       108.38473354, 102.12395861, 100.46834872,  87.16991859,\n",
       "       114.23444622,  99.72749817,  89.53507371,  96.3064932 ,\n",
       "        86.02154566, 107.1555023 , 100.47215479,  94.99904774,\n",
       "        72.83589955, 100.58255279,  88.78916876, 121.72111248,\n",
       "       105.27858166,  96.51048571,  99.67382572, 111.47786264,\n",
       "        95.54013773,  82.81369522,  90.18044137,  89.21602903,\n",
       "       100.75259775, 121.35157179,  77.04320906, 100.08754966,\n",
       "       110.39715152,  87.9385321 ,  76.65292434,  92.18189228,\n",
       "        91.63001175,  77.58907622, 100.88948723, 103.04266696])"
      ]
     },
     "execution_count": 41,
     "metadata": {},
     "output_type": "execute_result"
    }
   ],
   "source": [
    "y_hat = model.predict(height.reshape(-1,1))\n",
    "y_hat"
   ]
  },
  {
   "cell_type": "code",
   "execution_count": 42,
   "id": "3e62ad9a-6767-4204-b4cb-d4f2bc762d4b",
   "metadata": {},
   "outputs": [
    {
     "data": {
      "text/plain": [
       "array([ 95.96619389,  93.69166059, 111.98999163,  95.67779018,\n",
       "        99.21876415,  80.61105248,  67.55524996,  86.54603953,\n",
       "       101.13311484,  76.05340319, 100.14785254,  90.14557408,\n",
       "       102.60508083,  79.70301921,  89.47885312, 119.23518067,\n",
       "       107.0680748 , 107.21076125, 104.6092261 ,  94.38451501,\n",
       "        73.98366459, 109.18273473,  74.68631372,  79.15375963,\n",
       "        77.44449073,  78.08823954,  76.09149253,  97.06982434,\n",
       "        99.59639347,  86.39692244, 105.97922049, 108.63772834,\n",
       "        64.09195862,  97.9495863 ,  86.22023363, 114.21770415,\n",
       "       112.22397684, 104.08740656, 107.90428741,  82.49580604,\n",
       "        99.89944374, 102.16368736,  97.59676036,  96.12812366,\n",
       "        98.77097014,  92.07399207, 125.17200802,  78.43765612,\n",
       "        99.26407672, 105.31513575,  97.16618271,  96.01177193,\n",
       "       120.6972948 ,  89.92861386,  82.78539182,  90.45288526,\n",
       "        78.87129709, 103.0215527 ,  95.83164177,  98.94790186,\n",
       "       108.47877042, 108.45376337,  94.2464097 ,  75.47943621,\n",
       "       111.4624316 , 102.31102356, 104.63212675,  87.55599586,\n",
       "       116.40219585, 101.09835144,  84.80193418,  99.05295455,\n",
       "        88.51055701, 101.66486942, 104.72477649,  93.5900218 ,\n",
       "        69.45264721,  98.73843625,  92.44473516, 123.17214966,\n",
       "       101.67225781, 100.35185967,  97.76556569, 109.62139174,\n",
       "        95.49298431,  88.40039029,  94.9006713 ,  89.92647704,\n",
       "       100.6820439 , 120.71524034,  76.23143634, 102.50289398,\n",
       "       105.86926951,  90.25182264,  75.51337972,  87.44096828,\n",
       "        91.96128351,  82.1040897 , 104.97031854, 104.82881648])"
      ]
     },
     "execution_count": 42,
     "metadata": {},
     "output_type": "execute_result"
    }
   ],
   "source": [
    "weight"
   ]
  },
  {
   "cell_type": "code",
   "execution_count": null,
   "id": "1fa60acd-0f6c-493d-8ecf-20acb6872a21",
   "metadata": {},
   "outputs": [],
   "source": []
  },
  {
   "cell_type": "code",
   "execution_count": 43,
   "id": "0b563f43-e15e-44f3-a51d-4b810af4e645",
   "metadata": {},
   "outputs": [
    {
     "data": {
      "text/plain": [
       "array([0.63683712])"
      ]
     },
     "execution_count": 43,
     "metadata": {},
     "output_type": "execute_result"
    }
   ],
   "source": [
    "model.coef_"
   ]
  },
  {
   "cell_type": "code",
   "execution_count": 44,
   "id": "763b3ca4-56ab-4fb1-87ee-4fc1af731335",
   "metadata": {},
   "outputs": [
    {
     "data": {
      "text/plain": [
       "-0.44216717139893547"
      ]
     },
     "execution_count": 44,
     "metadata": {},
     "output_type": "execute_result"
    }
   ],
   "source": [
    "model.intercept_"
   ]
  },
  {
   "cell_type": "code",
   "execution_count": null,
   "id": "d7cecd25-45da-4ea7-a0ee-0a3f9afd1e31",
   "metadata": {},
   "outputs": [],
   "source": []
  },
  {
   "cell_type": "code",
   "execution_count": null,
   "id": "9f09b3c6-17d6-4f8a-8d3f-6f1ecc760ca8",
   "metadata": {},
   "outputs": [],
   "source": []
  },
  {
   "cell_type": "code",
   "execution_count": 45,
   "id": "41048d6f-9b35-4088-be59-d721ec2be00e",
   "metadata": {},
   "outputs": [],
   "source": [
    "import matplotlib.pyplot as plt"
   ]
  },
  {
   "cell_type": "code",
   "execution_count": 50,
   "id": "5f6edf52-ee6d-463e-a27a-2ed50ef4856c",
   "metadata": {},
   "outputs": [
    {
     "data": {
      "image/png": "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",
      "text/plain": [
       "<Figure size 640x480 with 1 Axes>"
      ]
     },
     "metadata": {},
     "output_type": "display_data"
    }
   ],
   "source": [
    "plt.figure(dpi=100)\n",
    "plt.scatter(height, weight, label='data')\n",
    "plt.plot(height, y_hat, 'r', label='prediction')\n",
    "plt.legend()\n",
    "plt.show()"
   ]
  },
  {
   "cell_type": "code",
   "execution_count": null,
   "id": "97b59fb8-e38b-46dd-a418-92c5c865a33c",
   "metadata": {},
   "outputs": [],
   "source": []
  },
  {
   "cell_type": "code",
   "execution_count": null,
   "id": "0e204389-0359-450a-96bb-48faaad00c0e",
   "metadata": {},
   "outputs": [],
   "source": []
  },
  {
   "cell_type": "code",
   "execution_count": null,
   "id": "eee0a524-ebeb-416e-8a6c-27f5cb84e86f",
   "metadata": {},
   "outputs": [],
   "source": []
  },
  {
   "cell_type": "code",
   "execution_count": null,
   "id": "3e4f1a01-99be-4d3f-9204-38e79e788287",
   "metadata": {},
   "outputs": [],
   "source": []
  },
  {
   "cell_type": "code",
   "execution_count": null,
   "id": "15474608-c01e-4b03-adf9-e5c310a67572",
   "metadata": {},
   "outputs": [],
   "source": []
  }
 ],
 "metadata": {
  "kernelspec": {
   "display_name": "Python 3 (ipykernel)",
   "language": "python",
   "name": "python3"
  },
  "language_info": {
   "codemirror_mode": {
    "name": "ipython",
    "version": 3
   },
   "file_extension": ".py",
   "mimetype": "text/x-python",
   "name": "python",
   "nbconvert_exporter": "python",
   "pygments_lexer": "ipython3",
   "version": "3.11.7"
  }
 },
 "nbformat": 4,
 "nbformat_minor": 5
}
>>>>>>> d7b84eea2019ea8b7ded338e1ca442369cc9d744
