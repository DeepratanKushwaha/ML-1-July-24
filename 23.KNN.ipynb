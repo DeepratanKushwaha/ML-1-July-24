{
 "cells": [
  {
   "cell_type": "markdown",
   "id": "e257cf2d-59c9-46b6-973e-e4950f2ebc70",
   "metadata": {},
   "source": [
    "# KNN\n",
    "\n",
    "        K- nearest neighbour (instance based machine learning model)"
   ]
  },
  {
   "cell_type": "markdown",
   "id": "98ea1d4a-44c6-486e-b92e-b00699083c7c",
   "metadata": {},
   "source": [
    "        we need training data to predict any data"
   ]
  },
  {
   "cell_type": "code",
   "execution_count": 1,
   "id": "c5927549-70ec-4408-8dc2-2b27d02e33fa",
   "metadata": {},
   "outputs": [],
   "source": [
    "import numpy as np\n",
    "import pandas as pd\n",
    "import matplotlib.pyplot as plt\n",
    "import seaborn as sns"
   ]
  },
  {
   "cell_type": "code",
   "execution_count": 2,
   "id": "e4f875e6-8f84-4248-974f-8ef6c3ba58ff",
   "metadata": {},
   "outputs": [
    {
     "data": {
      "text/html": [
       "<div>\n",
       "<style scoped>\n",
       "    .dataframe tbody tr th:only-of-type {\n",
       "        vertical-align: middle;\n",
       "    }\n",
       "\n",
       "    .dataframe tbody tr th {\n",
       "        vertical-align: top;\n",
       "    }\n",
       "\n",
       "    .dataframe thead th {\n",
       "        text-align: right;\n",
       "    }\n",
       "</style>\n",
       "<table border=\"1\" class=\"dataframe\">\n",
       "  <thead>\n",
       "    <tr style=\"text-align: right;\">\n",
       "      <th></th>\n",
       "      <th>sepal_length</th>\n",
       "      <th>sepal_width</th>\n",
       "      <th>petal_length</th>\n",
       "      <th>petal_width</th>\n",
       "      <th>species</th>\n",
       "    </tr>\n",
       "  </thead>\n",
       "  <tbody>\n",
       "    <tr>\n",
       "      <th>0</th>\n",
       "      <td>5.1</td>\n",
       "      <td>3.5</td>\n",
       "      <td>1.4</td>\n",
       "      <td>0.2</td>\n",
       "      <td>setosa</td>\n",
       "    </tr>\n",
       "    <tr>\n",
       "      <th>1</th>\n",
       "      <td>4.9</td>\n",
       "      <td>3.0</td>\n",
       "      <td>1.4</td>\n",
       "      <td>0.2</td>\n",
       "      <td>setosa</td>\n",
       "    </tr>\n",
       "    <tr>\n",
       "      <th>2</th>\n",
       "      <td>4.7</td>\n",
       "      <td>3.2</td>\n",
       "      <td>1.3</td>\n",
       "      <td>0.2</td>\n",
       "      <td>setosa</td>\n",
       "    </tr>\n",
       "    <tr>\n",
       "      <th>3</th>\n",
       "      <td>4.6</td>\n",
       "      <td>3.1</td>\n",
       "      <td>1.5</td>\n",
       "      <td>0.2</td>\n",
       "      <td>setosa</td>\n",
       "    </tr>\n",
       "    <tr>\n",
       "      <th>4</th>\n",
       "      <td>5.0</td>\n",
       "      <td>3.6</td>\n",
       "      <td>1.4</td>\n",
       "      <td>0.2</td>\n",
       "      <td>setosa</td>\n",
       "    </tr>\n",
       "    <tr>\n",
       "      <th>...</th>\n",
       "      <td>...</td>\n",
       "      <td>...</td>\n",
       "      <td>...</td>\n",
       "      <td>...</td>\n",
       "      <td>...</td>\n",
       "    </tr>\n",
       "    <tr>\n",
       "      <th>145</th>\n",
       "      <td>6.7</td>\n",
       "      <td>3.0</td>\n",
       "      <td>5.2</td>\n",
       "      <td>2.3</td>\n",
       "      <td>virginica</td>\n",
       "    </tr>\n",
       "    <tr>\n",
       "      <th>146</th>\n",
       "      <td>6.3</td>\n",
       "      <td>2.5</td>\n",
       "      <td>5.0</td>\n",
       "      <td>1.9</td>\n",
       "      <td>virginica</td>\n",
       "    </tr>\n",
       "    <tr>\n",
       "      <th>147</th>\n",
       "      <td>6.5</td>\n",
       "      <td>3.0</td>\n",
       "      <td>5.2</td>\n",
       "      <td>2.0</td>\n",
       "      <td>virginica</td>\n",
       "    </tr>\n",
       "    <tr>\n",
       "      <th>148</th>\n",
       "      <td>6.2</td>\n",
       "      <td>3.4</td>\n",
       "      <td>5.4</td>\n",
       "      <td>2.3</td>\n",
       "      <td>virginica</td>\n",
       "    </tr>\n",
       "    <tr>\n",
       "      <th>149</th>\n",
       "      <td>5.9</td>\n",
       "      <td>3.0</td>\n",
       "      <td>5.1</td>\n",
       "      <td>1.8</td>\n",
       "      <td>virginica</td>\n",
       "    </tr>\n",
       "  </tbody>\n",
       "</table>\n",
       "<p>150 rows × 5 columns</p>\n",
       "</div>"
      ],
      "text/plain": [
       "     sepal_length  sepal_width  petal_length  petal_width    species\n",
       "0             5.1          3.5           1.4          0.2     setosa\n",
       "1             4.9          3.0           1.4          0.2     setosa\n",
       "2             4.7          3.2           1.3          0.2     setosa\n",
       "3             4.6          3.1           1.5          0.2     setosa\n",
       "4             5.0          3.6           1.4          0.2     setosa\n",
       "..            ...          ...           ...          ...        ...\n",
       "145           6.7          3.0           5.2          2.3  virginica\n",
       "146           6.3          2.5           5.0          1.9  virginica\n",
       "147           6.5          3.0           5.2          2.0  virginica\n",
       "148           6.2          3.4           5.4          2.3  virginica\n",
       "149           5.9          3.0           5.1          1.8  virginica\n",
       "\n",
       "[150 rows x 5 columns]"
      ]
     },
     "execution_count": 2,
     "metadata": {},
     "output_type": "execute_result"
    }
   ],
   "source": [
    "iris = sns.load_dataset('iris')\n",
    "iris"
   ]
  },
  {
   "cell_type": "code",
   "execution_count": 3,
   "id": "57639e81-f4a4-4f4e-9b0a-73241dc3c3b2",
   "metadata": {},
   "outputs": [],
   "source": [
    "X = iris[['petal_length', 'petal_width']]\n",
    "y = iris['species']"
   ]
  },
  {
   "cell_type": "code",
   "execution_count": 4,
   "id": "600969bf-da40-4664-bb1a-67f3e27f097d",
   "metadata": {},
   "outputs": [
    {
     "data": {
      "text/html": [
       "<div>\n",
       "<style scoped>\n",
       "    .dataframe tbody tr th:only-of-type {\n",
       "        vertical-align: middle;\n",
       "    }\n",
       "\n",
       "    .dataframe tbody tr th {\n",
       "        vertical-align: top;\n",
       "    }\n",
       "\n",
       "    .dataframe thead th {\n",
       "        text-align: right;\n",
       "    }\n",
       "</style>\n",
       "<table border=\"1\" class=\"dataframe\">\n",
       "  <thead>\n",
       "    <tr style=\"text-align: right;\">\n",
       "      <th></th>\n",
       "      <th>petal_length</th>\n",
       "      <th>petal_width</th>\n",
       "    </tr>\n",
       "  </thead>\n",
       "  <tbody>\n",
       "    <tr>\n",
       "      <th>0</th>\n",
       "      <td>1.4</td>\n",
       "      <td>0.2</td>\n",
       "    </tr>\n",
       "    <tr>\n",
       "      <th>1</th>\n",
       "      <td>1.4</td>\n",
       "      <td>0.2</td>\n",
       "    </tr>\n",
       "    <tr>\n",
       "      <th>2</th>\n",
       "      <td>1.3</td>\n",
       "      <td>0.2</td>\n",
       "    </tr>\n",
       "    <tr>\n",
       "      <th>3</th>\n",
       "      <td>1.5</td>\n",
       "      <td>0.2</td>\n",
       "    </tr>\n",
       "    <tr>\n",
       "      <th>4</th>\n",
       "      <td>1.4</td>\n",
       "      <td>0.2</td>\n",
       "    </tr>\n",
       "    <tr>\n",
       "      <th>...</th>\n",
       "      <td>...</td>\n",
       "      <td>...</td>\n",
       "    </tr>\n",
       "    <tr>\n",
       "      <th>145</th>\n",
       "      <td>5.2</td>\n",
       "      <td>2.3</td>\n",
       "    </tr>\n",
       "    <tr>\n",
       "      <th>146</th>\n",
       "      <td>5.0</td>\n",
       "      <td>1.9</td>\n",
       "    </tr>\n",
       "    <tr>\n",
       "      <th>147</th>\n",
       "      <td>5.2</td>\n",
       "      <td>2.0</td>\n",
       "    </tr>\n",
       "    <tr>\n",
       "      <th>148</th>\n",
       "      <td>5.4</td>\n",
       "      <td>2.3</td>\n",
       "    </tr>\n",
       "    <tr>\n",
       "      <th>149</th>\n",
       "      <td>5.1</td>\n",
       "      <td>1.8</td>\n",
       "    </tr>\n",
       "  </tbody>\n",
       "</table>\n",
       "<p>150 rows × 2 columns</p>\n",
       "</div>"
      ],
      "text/plain": [
       "     petal_length  petal_width\n",
       "0             1.4          0.2\n",
       "1             1.4          0.2\n",
       "2             1.3          0.2\n",
       "3             1.5          0.2\n",
       "4             1.4          0.2\n",
       "..            ...          ...\n",
       "145           5.2          2.3\n",
       "146           5.0          1.9\n",
       "147           5.2          2.0\n",
       "148           5.4          2.3\n",
       "149           5.1          1.8\n",
       "\n",
       "[150 rows x 2 columns]"
      ]
     },
     "execution_count": 4,
     "metadata": {},
     "output_type": "execute_result"
    }
   ],
   "source": [
    "X"
   ]
  },
  {
   "cell_type": "code",
   "execution_count": 5,
   "id": "4f2a9347-3db3-440e-b432-6a8fbbf22bae",
   "metadata": {},
   "outputs": [
    {
     "data": {
      "text/plain": [
       "0         setosa\n",
       "1         setosa\n",
       "2         setosa\n",
       "3         setosa\n",
       "4         setosa\n",
       "         ...    \n",
       "145    virginica\n",
       "146    virginica\n",
       "147    virginica\n",
       "148    virginica\n",
       "149    virginica\n",
       "Name: species, Length: 150, dtype: object"
      ]
     },
     "execution_count": 5,
     "metadata": {},
     "output_type": "execute_result"
    }
   ],
   "source": [
    "y"
   ]
  },
  {
   "cell_type": "code",
   "execution_count": 6,
   "id": "0e114791-9459-4d70-96a0-17964d5af866",
   "metadata": {},
   "outputs": [
    {
     "data": {
      "image/png": "[encoded data removed]",
      "text/plain": [
       "<Figure size 640x480 with 1 Axes>"
      ]
     },
     "metadata": {},
     "output_type": "display_data"
    }
   ],
   "source": [
    "sns.scatterplot(x='petal_length', y='petal_width', data=X, hue=y, style=y)\n",
    "plt.show()"
   ]
  },
  {
   "cell_type": "code",
   "execution_count": null,
   "id": "515d3926-ec13-4e5e-9e50-b383b03d9bdc",
   "metadata": {},
   "outputs": [],
   "source": []
  },
  {
   "cell_type": "code",
   "execution_count": 7,
   "id": "2f0d7d2f-fce0-4261-bfbb-9d1f082e7ca0",
   "metadata": {},
   "outputs": [
    {
     "data": {
      "text/plain": [
       "50"
      ]
     },
     "execution_count": 7,
     "metadata": {},
     "output_type": "execute_result"
    }
   ],
   "source": [
    "p1 = np.array([10,20,30])\n",
    "p2 = np.array([30,40,20])\n",
    "\n",
    "sum(abs(p1 - p2))"
   ]
  },
  {
   "cell_type": "code",
   "execution_count": null,
   "id": "f49f6e4a-4eba-4031-945b-3f46e7f8e974",
   "metadata": {},
   "outputs": [],
   "source": []
  },
  {
   "cell_type": "code",
   "execution_count": 10,
   "id": "21600b4c-56d8-444a-992c-03a387e92747",
   "metadata": {},
   "outputs": [],
   "source": [
    "def distance(p1, p2, norm=2):\n",
    "    \"\"\"\n",
    "    norm-1 => manhatten distance\n",
    "    norm-2 => euclidean distance\n",
    "    \"\"\"\n",
    "    \n",
    "    d = sum(abs((p2 - p1)**norm)) ** (1/norm)\n",
    "    return d"
   ]
  },
  {
   "cell_type": "code",
   "execution_count": null,
   "id": "d3411a14-d8d1-4922-82f9-13c840f864f0",
   "metadata": {},
   "outputs": [],
   "source": []
  },
  {
   "cell_type": "code",
   "execution_count": 11,
   "id": "a4349cca-de52-4aa7-a277-1f2b50d33dc9",
   "metadata": {},
   "outputs": [
    {
     "data": {
      "text/plain": [
       "30.0"
      ]
     },
     "execution_count": 11,
     "metadata": {},
     "output_type": "execute_result"
    }
   ],
   "source": [
    "distance(p1, p2, norm=2)"
   ]
  },
  {
   "cell_type": "code",
   "execution_count": 12,
   "id": "86d7b9bc-038b-4e23-a394-fe12dd73db3f",
   "metadata": {},
   "outputs": [
    {
     "data": {
      "text/plain": [
       "50.0"
      ]
     },
     "execution_count": 12,
     "metadata": {},
     "output_type": "execute_result"
    }
   ],
   "source": [
    "distance(p1, p2, norm=1)"
   ]
  },
  {
   "cell_type": "code",
   "execution_count": null,
   "id": "a308b90e-e68a-4a8f-9854-9415a222a1d5",
   "metadata": {},
   "outputs": [],
   "source": []
  },
  {
   "cell_type": "code",
   "execution_count": 14,
   "id": "4a03a957-4aa3-4d79-9584-0106b96ba80a",
   "metadata": {},
   "outputs": [
    {
     "data": {
      "text/html": [
       "<div>\n",
       "<style scoped>\n",
       "    .dataframe tbody tr th:only-of-type {\n",
       "        vertical-align: middle;\n",
       "    }\n",
       "\n",
       "    .dataframe tbody tr th {\n",
       "        vertical-align: top;\n",
       "    }\n",
       "\n",
       "    .dataframe thead th {\n",
       "        text-align: right;\n",
       "    }\n",
       "</style>\n",
       "<table border=\"1\" class=\"dataframe\">\n",
       "  <thead>\n",
       "    <tr style=\"text-align: right;\">\n",
       "      <th></th>\n",
       "      <th>sepal_length</th>\n",
       "      <th>sepal_width</th>\n",
       "      <th>petal_length</th>\n",
       "      <th>petal_width</th>\n",
       "      <th>species</th>\n",
       "    </tr>\n",
       "  </thead>\n",
       "  <tbody>\n",
       "    <tr>\n",
       "      <th>0</th>\n",
       "      <td>5.1</td>\n",
       "      <td>3.5</td>\n",
       "      <td>1.4</td>\n",
       "      <td>0.2</td>\n",
       "      <td>setosa</td>\n",
       "    </tr>\n",
       "    <tr>\n",
       "      <th>1</th>\n",
       "      <td>4.9</td>\n",
       "      <td>3.0</td>\n",
       "      <td>1.4</td>\n",
       "      <td>0.2</td>\n",
       "      <td>setosa</td>\n",
       "    </tr>\n",
       "    <tr>\n",
       "      <th>2</th>\n",
       "      <td>4.7</td>\n",
       "      <td>3.2</td>\n",
       "      <td>1.3</td>\n",
       "      <td>0.2</td>\n",
       "      <td>setosa</td>\n",
       "    </tr>\n",
       "    <tr>\n",
       "      <th>3</th>\n",
       "      <td>4.6</td>\n",
       "      <td>3.1</td>\n",
       "      <td>1.5</td>\n",
       "      <td>0.2</td>\n",
       "      <td>setosa</td>\n",
       "    </tr>\n",
       "    <tr>\n",
       "      <th>4</th>\n",
       "      <td>5.0</td>\n",
       "      <td>3.6</td>\n",
       "      <td>1.4</td>\n",
       "      <td>0.2</td>\n",
       "      <td>setosa</td>\n",
       "    </tr>\n",
       "    <tr>\n",
       "      <th>...</th>\n",
       "      <td>...</td>\n",
       "      <td>...</td>\n",
       "      <td>...</td>\n",
       "      <td>...</td>\n",
       "      <td>...</td>\n",
       "    </tr>\n",
       "    <tr>\n",
       "      <th>145</th>\n",
       "      <td>6.7</td>\n",
       "      <td>3.0</td>\n",
       "      <td>5.2</td>\n",
       "      <td>2.3</td>\n",
       "      <td>virginica</td>\n",
       "    </tr>\n",
       "    <tr>\n",
       "      <th>146</th>\n",
       "      <td>6.3</td>\n",
       "      <td>2.5</td>\n",
       "      <td>5.0</td>\n",
       "      <td>1.9</td>\n",
       "      <td>virginica</td>\n",
       "    </tr>\n",
       "    <tr>\n",
       "      <th>147</th>\n",
       "      <td>6.5</td>\n",
       "      <td>3.0</td>\n",
       "      <td>5.2</td>\n",
       "      <td>2.0</td>\n",
       "      <td>virginica</td>\n",
       "    </tr>\n",
       "    <tr>\n",
       "      <th>148</th>\n",
       "      <td>6.2</td>\n",
       "      <td>3.4</td>\n",
       "      <td>5.4</td>\n",
       "      <td>2.3</td>\n",
       "      <td>virginica</td>\n",
       "    </tr>\n",
       "    <tr>\n",
       "      <th>149</th>\n",
       "      <td>5.9</td>\n",
       "      <td>3.0</td>\n",
       "      <td>5.1</td>\n",
       "      <td>1.8</td>\n",
       "      <td>virginica</td>\n",
       "    </tr>\n",
       "  </tbody>\n",
       "</table>\n",
       "<p>150 rows × 5 columns</p>\n",
       "</div>"
      ],
      "text/plain": [
       "     sepal_length  sepal_width  petal_length  petal_width    species\n",
       "0             5.1          3.5           1.4          0.2     setosa\n",
       "1             4.9          3.0           1.4          0.2     setosa\n",
       "2             4.7          3.2           1.3          0.2     setosa\n",
       "3             4.6          3.1           1.5          0.2     setosa\n",
       "4             5.0          3.6           1.4          0.2     setosa\n",
       "..            ...          ...           ...          ...        ...\n",
       "145           6.7          3.0           5.2          2.3  virginica\n",
       "146           6.3          2.5           5.0          1.9  virginica\n",
       "147           6.5          3.0           5.2          2.0  virginica\n",
       "148           6.2          3.4           5.4          2.3  virginica\n",
       "149           5.9          3.0           5.1          1.8  virginica\n",
       "\n",
       "[150 rows x 5 columns]"
      ]
     },
     "execution_count": 14,
     "metadata": {},
     "output_type": "execute_result"
    }
   ],
   "source": [
    "iris"
   ]
  },
  {
   "cell_type": "code",
   "execution_count": 17,
   "id": "010e7a44-a9ef-4d0e-b3c8-6f037b54dc29",
   "metadata": {},
   "outputs": [
    {
     "data": {
      "text/plain": [
       "array([5.1, 3.5, 1.4, 0.2], dtype=object)"
      ]
     },
     "execution_count": 17,
     "metadata": {},
     "output_type": "execute_result"
    }
   ],
   "source": [
    "iris.iloc[0].values[:-1]"
   ]
  },
  {
   "cell_type": "code",
   "execution_count": 18,
   "id": "56f09e63-8666-49c5-a9a5-ca1910bedaed",
   "metadata": {},
   "outputs": [],
   "source": [
    "p1 = iris.iloc[0].values[:-1]\n",
    "p2 = iris.iloc[1].values[:-1]"
   ]
  },
  {
   "cell_type": "code",
   "execution_count": 19,
   "id": "1f7f874f-2e47-4c2f-acc2-52e465e5b424",
   "metadata": {},
   "outputs": [
    {
     "data": {
      "text/plain": [
       "array([5.1, 3.5, 1.4, 0.2], dtype=object)"
      ]
     },
     "execution_count": 19,
     "metadata": {},
     "output_type": "execute_result"
    }
   ],
   "source": [
    "p1"
   ]
  },
  {
   "cell_type": "code",
   "execution_count": 20,
   "id": "af4c280d-d3dc-471a-a27d-f8724044dde0",
   "metadata": {},
   "outputs": [
    {
     "data": {
      "text/plain": [
       "array([4.9, 3.0, 1.4, 0.2], dtype=object)"
      ]
     },
     "execution_count": 20,
     "metadata": {},
     "output_type": "execute_result"
    }
   ],
   "source": [
    "p2"
   ]
  },
  {
   "cell_type": "code",
   "execution_count": 21,
   "id": "68c97ba5-091a-470e-804a-4b37411d981a",
   "metadata": {},
   "outputs": [
    {
     "data": {
      "text/plain": [
       "0.5385164807134502"
      ]
     },
     "execution_count": 21,
     "metadata": {},
     "output_type": "execute_result"
    }
   ],
   "source": [
    "distance(p1, p2, norm=2)"
   ]
  },
  {
   "cell_type": "code",
   "execution_count": 22,
   "id": "41dd082f-aea0-40d3-9f53-5ed5429cf849",
   "metadata": {},
   "outputs": [
    {
     "data": {
      "text/plain": [
       "0.6999999999999993"
      ]
     },
     "execution_count": 22,
     "metadata": {},
     "output_type": "execute_result"
    }
   ],
   "source": [
    "distance(p1, p2, norm=1)"
   ]
  },
  {
   "cell_type": "code",
   "execution_count": 23,
   "id": "c8b40ec4-4b14-4662-879e-5f4a056cac65",
   "metadata": {},
   "outputs": [],
   "source": [
    "p1 = iris.iloc[0].values[:-1]\n",
    "p2 = iris.iloc[41].values[:-1]"
   ]
  },
  {
   "cell_type": "code",
   "execution_count": 24,
   "id": "f867a30b-840e-4cb3-84ad-6c815a6508ee",
   "metadata": {},
   "outputs": [
    {
     "data": {
      "text/plain": [
       "1.3490737563232043"
      ]
     },
     "execution_count": 24,
     "metadata": {},
     "output_type": "execute_result"
    }
   ],
   "source": [
    "distance(p1, p2)"
   ]
  },
  {
   "cell_type": "code",
   "execution_count": 25,
   "id": "003fa12c-8fb7-46fe-aad1-554dbe049b99",
   "metadata": {},
   "outputs": [],
   "source": [
    "p1 = iris.iloc[0].values[:-1]\n",
    "p2 = iris.iloc[90].values[:-1]"
   ]
  },
  {
   "cell_type": "code",
   "execution_count": 26,
   "id": "e0ab6882-a734-4c8e-b091-a4a6d303a311",
   "metadata": {},
   "outputs": [
    {
     "data": {
      "text/plain": [
       "3.3120990323358397"
      ]
     },
     "execution_count": 26,
     "metadata": {},
     "output_type": "execute_result"
    }
   ],
   "source": [
    "distance(p1, p2)\n"
   ]
  },
  {
   "cell_type": "code",
   "execution_count": null,
   "id": "f3541e82-3df3-4a06-85f0-5fbdf3301399",
   "metadata": {},
   "outputs": [],
   "source": []
  },
  {
   "cell_type": "code",
   "execution_count": 27,
   "id": "c28aead0-3e19-47d6-89cf-4f5f2e086770",
   "metadata": {},
   "outputs": [
    {
     "data": {
      "text/plain": [
       "array([5. , 1.6])"
      ]
     },
     "execution_count": 27,
     "metadata": {},
     "output_type": "execute_result"
    }
   ],
   "source": [
    "point = np.array([5.0, 1.6])\n",
    "point"
   ]
  },
  {
   "cell_type": "code",
   "execution_count": 28,
   "id": "b2c233ef-20af-4cc8-89f7-bedbfb176e2e",
   "metadata": {},
   "outputs": [
    {
     "data": {
      "image/png": "[encoded data removed]",
      "text/plain": [
       "<Figure size 768x576 with 1 Axes>"
      ]
     },
     "metadata": {},
     "output_type": "display_data"
    }
   ],
   "source": [
    "plt.figure(dpi=120)\n",
    "sns.scatterplot(x='petal_length', y='petal_width', data=X, hue=y, style=y)\n",
    "plt.plot(point[0], point[1], 'xk', ms=15)\n",
    "plt.grid()\n",
    "plt.show()"
   ]
  },
  {
   "cell_type": "code",
   "execution_count": 29,
   "id": "f26933b7-553e-42ef-961a-82df8e1924ee",
   "metadata": {},
   "outputs": [
    {
     "data": {
      "text/html": [
       "<div>\n",
       "<style scoped>\n",
       "    .dataframe tbody tr th:only-of-type {\n",
       "        vertical-align: middle;\n",
       "    }\n",
       "\n",
       "    .dataframe tbody tr th {\n",
       "        vertical-align: top;\n",
       "    }\n",
       "\n",
       "    .dataframe thead th {\n",
       "        text-align: right;\n",
       "    }\n",
       "</style>\n",
       "<table border=\"1\" class=\"dataframe\">\n",
       "  <thead>\n",
       "    <tr style=\"text-align: right;\">\n",
       "      <th></th>\n",
       "      <th>petal_length</th>\n",
       "      <th>petal_width</th>\n",
       "    </tr>\n",
       "  </thead>\n",
       "  <tbody>\n",
       "    <tr>\n",
       "      <th>0</th>\n",
       "      <td>1.4</td>\n",
       "      <td>0.2</td>\n",
       "    </tr>\n",
       "    <tr>\n",
       "      <th>1</th>\n",
       "      <td>1.4</td>\n",
       "      <td>0.2</td>\n",
       "    </tr>\n",
       "    <tr>\n",
       "      <th>2</th>\n",
       "      <td>1.3</td>\n",
       "      <td>0.2</td>\n",
       "    </tr>\n",
       "    <tr>\n",
       "      <th>3</th>\n",
       "      <td>1.5</td>\n",
       "      <td>0.2</td>\n",
       "    </tr>\n",
       "    <tr>\n",
       "      <th>4</th>\n",
       "      <td>1.4</td>\n",
       "      <td>0.2</td>\n",
       "    </tr>\n",
       "    <tr>\n",
       "      <th>...</th>\n",
       "      <td>...</td>\n",
       "      <td>...</td>\n",
       "    </tr>\n",
       "    <tr>\n",
       "      <th>145</th>\n",
       "      <td>5.2</td>\n",
       "      <td>2.3</td>\n",
       "    </tr>\n",
       "    <tr>\n",
       "      <th>146</th>\n",
       "      <td>5.0</td>\n",
       "      <td>1.9</td>\n",
       "    </tr>\n",
       "    <tr>\n",
       "      <th>147</th>\n",
       "      <td>5.2</td>\n",
       "      <td>2.0</td>\n",
       "    </tr>\n",
       "    <tr>\n",
       "      <th>148</th>\n",
       "      <td>5.4</td>\n",
       "      <td>2.3</td>\n",
       "    </tr>\n",
       "    <tr>\n",
       "      <th>149</th>\n",
       "      <td>5.1</td>\n",
       "      <td>1.8</td>\n",
       "    </tr>\n",
       "  </tbody>\n",
       "</table>\n",
       "<p>150 rows × 2 columns</p>\n",
       "</div>"
      ],
      "text/plain": [
       "     petal_length  petal_width\n",
       "0             1.4          0.2\n",
       "1             1.4          0.2\n",
       "2             1.3          0.2\n",
       "3             1.5          0.2\n",
       "4             1.4          0.2\n",
       "..            ...          ...\n",
       "145           5.2          2.3\n",
       "146           5.0          1.9\n",
       "147           5.2          2.0\n",
       "148           5.4          2.3\n",
       "149           5.1          1.8\n",
       "\n",
       "[150 rows x 2 columns]"
      ]
     },
     "execution_count": 29,
     "metadata": {},
     "output_type": "execute_result"
    }
   ],
   "source": [
    "X"
   ]
  },
  {
   "cell_type": "code",
   "execution_count": 30,
   "id": "6934ac5c-5cf2-4396-b7f0-4e98f6dfd96b",
   "metadata": {},
   "outputs": [
    {
     "data": {
      "text/plain": [
       "0         setosa\n",
       "1         setosa\n",
       "2         setosa\n",
       "3         setosa\n",
       "4         setosa\n",
       "         ...    \n",
       "145    virginica\n",
       "146    virginica\n",
       "147    virginica\n",
       "148    virginica\n",
       "149    virginica\n",
       "Name: species, Length: 150, dtype: object"
      ]
     },
     "execution_count": 30,
     "metadata": {},
     "output_type": "execute_result"
    }
   ],
   "source": [
    "y"
   ]
  },
  {
   "cell_type": "code",
   "execution_count": 31,
   "id": "b82ade28-07d6-4804-b9b4-5bba869c19ec",
   "metadata": {},
   "outputs": [
    {
     "data": {
      "text/plain": [
       "array([[1.4, 0.2],\n",
       "       [1.4, 0.2],\n",
       "       [1.3, 0.2],\n",
       "       [1.5, 0.2],\n",
       "       [1.4, 0.2],\n",
       "       [1.7, 0.4],\n",
       "       [1.4, 0.3],\n",
       "       [1.5, 0.2],\n",
       "       [1.4, 0.2],\n",
       "       [1.5, 0.1],\n",
       "       [1.5, 0.2],\n",
       "       [1.6, 0.2],\n",
       "       [1.4, 0.1],\n",
       "       [1.1, 0.1],\n",
       "       [1.2, 0.2],\n",
       "       [1.5, 0.4],\n",
       "       [1.3, 0.4],\n",
       "       [1.4, 0.3],\n",
       "       [1.7, 0.3],\n",
       "       [1.5, 0.3],\n",
       "       [1.7, 0.2],\n",
       "       [1.5, 0.4],\n",
       "       [1. , 0.2],\n",
       "       [1.7, 0.5],\n",
       "       [1.9, 0.2],\n",
       "       [1.6, 0.2],\n",
       "       [1.6, 0.4],\n",
       "       [1.5, 0.2],\n",
       "       [1.4, 0.2],\n",
       "       [1.6, 0.2],\n",
       "       [1.6, 0.2],\n",
       "       [1.5, 0.4],\n",
       "       [1.5, 0.1],\n",
       "       [1.4, 0.2],\n",
       "       [1.5, 0.2],\n",
       "       [1.2, 0.2],\n",
       "       [1.3, 0.2],\n",
       "       [1.4, 0.1],\n",
       "       [1.3, 0.2],\n",
       "       [1.5, 0.2],\n",
       "       [1.3, 0.3],\n",
       "       [1.3, 0.3],\n",
       "       [1.3, 0.2],\n",
       "       [1.6, 0.6],\n",
       "       [1.9, 0.4],\n",
       "       [1.4, 0.3],\n",
       "       [1.6, 0.2],\n",
       "       [1.4, 0.2],\n",
       "       [1.5, 0.2],\n",
       "       [1.4, 0.2],\n",
       "       [4.7, 1.4],\n",
       "       [4.5, 1.5],\n",
       "       [4.9, 1.5],\n",
       "       [4. , 1.3],\n",
       "       [4.6, 1.5],\n",
       "       [4.5, 1.3],\n",
       "       [4.7, 1.6],\n",
       "       [3.3, 1. ],\n",
       "       [4.6, 1.3],\n",
       "       [3.9, 1.4],\n",
       "       [3.5, 1. ],\n",
       "       [4.2, 1.5],\n",
       "       [4. , 1. ],\n",
       "       [4.7, 1.4],\n",
       "       [3.6, 1.3],\n",
       "       [4.4, 1.4],\n",
       "       [4.5, 1.5],\n",
       "       [4.1, 1. ],\n",
       "       [4.5, 1.5],\n",
       "       [3.9, 1.1],\n",
       "       [4.8, 1.8],\n",
       "       [4. , 1.3],\n",
       "       [4.9, 1.5],\n",
       "       [4.7, 1.2],\n",
       "       [4.3, 1.3],\n",
       "       [4.4, 1.4],\n",
       "       [4.8, 1.4],\n",
       "       [5. , 1.7],\n",
       "       [4.5, 1.5],\n",
       "       [3.5, 1. ],\n",
       "       [3.8, 1.1],\n",
       "       [3.7, 1. ],\n",
       "       [3.9, 1.2],\n",
       "       [5.1, 1.6],\n",
       "       [4.5, 1.5],\n",
       "       [4.5, 1.6],\n",
       "       [4.7, 1.5],\n",
       "       [4.4, 1.3],\n",
       "       [4.1, 1.3],\n",
       "       [4. , 1.3],\n",
       "       [4.4, 1.2],\n",
       "       [4.6, 1.4],\n",
       "       [4. , 1.2],\n",
       "       [3.3, 1. ],\n",
       "       [4.2, 1.3],\n",
       "       [4.2, 1.2],\n",
       "       [4.2, 1.3],\n",
       "       [4.3, 1.3],\n",
       "       [3. , 1.1],\n",
       "       [4.1, 1.3],\n",
       "       [6. , 2.5],\n",
       "       [5.1, 1.9],\n",
       "       [5.9, 2.1],\n",
       "       [5.6, 1.8],\n",
       "       [5.8, 2.2],\n",
       "       [6.6, 2.1],\n",
       "       [4.5, 1.7],\n",
       "       [6.3, 1.8],\n",
       "       [5.8, 1.8],\n",
       "       [6.1, 2.5],\n",
       "       [5.1, 2. ],\n",
       "       [5.3, 1.9],\n",
       "       [5.5, 2.1],\n",
       "       [5. , 2. ],\n",
       "       [5.1, 2.4],\n",
       "       [5.3, 2.3],\n",
       "       [5.5, 1.8],\n",
       "       [6.7, 2.2],\n",
       "       [6.9, 2.3],\n",
       "       [5. , 1.5],\n",
       "       [5.7, 2.3],\n",
       "       [4.9, 2. ],\n",
       "       [6.7, 2. ],\n",
       "       [4.9, 1.8],\n",
       "       [5.7, 2.1],\n",
       "       [6. , 1.8],\n",
       "       [4.8, 1.8],\n",
       "       [4.9, 1.8],\n",
       "       [5.6, 2.1],\n",
       "       [5.8, 1.6],\n",
       "       [6.1, 1.9],\n",
       "       [6.4, 2. ],\n",
       "       [5.6, 2.2],\n",
       "       [5.1, 1.5],\n",
       "       [5.6, 1.4],\n",
       "       [6.1, 2.3],\n",
       "       [5.6, 2.4],\n",
       "       [5.5, 1.8],\n",
       "       [4.8, 1.8],\n",
       "       [5.4, 2.1],\n",
       "       [5.6, 2.4],\n",
       "       [5.1, 2.3],\n",
       "       [5.1, 1.9],\n",
       "       [5.9, 2.3],\n",
       "       [5.7, 2.5],\n",
       "       [5.2, 2.3],\n",
       "       [5. , 1.9],\n",
       "       [5.2, 2. ],\n",
       "       [5.4, 2.3],\n",
       "       [5.1, 1.8]])"
      ]
     },
     "execution_count": 31,
     "metadata": {},
     "output_type": "execute_result"
    }
   ],
   "source": [
    "X.values"
   ]
  },
  {
   "cell_type": "code",
   "execution_count": 32,
   "id": "8332bfe2-cfd9-491a-ae30-be77bdd979f5",
   "metadata": {},
   "outputs": [
    {
     "name": "stdout",
     "output_type": "stream",
     "text": [
      "[1.4 0.2] setosa\n",
      "[1.4 0.2] setosa\n",
      "[1.3 0.2] setosa\n",
      "[1.5 0.2] setosa\n",
      "[1.4 0.2] setosa\n",
      "[1.7 0.4] setosa\n",
      "[1.4 0.3] setosa\n",
      "[1.5 0.2] setosa\n",
      "[1.4 0.2] setosa\n",
      "[1.5 0.1] setosa\n",
      "[1.5 0.2] setosa\n",
      "[1.6 0.2] setosa\n",
      "[1.4 0.1] setosa\n",
      "[1.1 0.1] setosa\n",
      "[1.2 0.2] setosa\n",
      "[1.5 0.4] setosa\n",
      "[1.3 0.4] setosa\n",
      "[1.4 0.3] setosa\n",
      "[1.7 0.3] setosa\n",
      "[1.5 0.3] setosa\n",
      "[1.7 0.2] setosa\n",
      "[1.5 0.4] setosa\n",
      "[1.  0.2] setosa\n",
      "[1.7 0.5] setosa\n",
      "[1.9 0.2] setosa\n",
      "[1.6 0.2] setosa\n",
      "[1.6 0.4] setosa\n",
      "[1.5 0.2] setosa\n",
      "[1.4 0.2] setosa\n",
      "[1.6 0.2] setosa\n",
      "[1.6 0.2] setosa\n",
      "[1.5 0.4] setosa\n",
      "[1.5 0.1] setosa\n",
      "[1.4 0.2] setosa\n",
      "[1.5 0.2] setosa\n",
      "[1.2 0.2] setosa\n",
      "[1.3 0.2] setosa\n",
      "[1.4 0.1] setosa\n",
      "[1.3 0.2] setosa\n",
      "[1.5 0.2] setosa\n",
      "[1.3 0.3] setosa\n",
      "[1.3 0.3] setosa\n",
      "[1.3 0.2] setosa\n",
      "[1.6 0.6] setosa\n",
      "[1.9 0.4] setosa\n",
      "[1.4 0.3] setosa\n",
      "[1.6 0.2] setosa\n",
      "[1.4 0.2] setosa\n",
      "[1.5 0.2] setosa\n",
      "[1.4 0.2] setosa\n",
      "[4.7 1.4] versicolor\n",
      "[4.5 1.5] versicolor\n",
      "[4.9 1.5] versicolor\n",
      "[4.  1.3] versicolor\n",
      "[4.6 1.5] versicolor\n",
      "[4.5 1.3] versicolor\n",
      "[4.7 1.6] versicolor\n",
      "[3.3 1. ] versicolor\n",
      "[4.6 1.3] versicolor\n",
      "[3.9 1.4] versicolor\n",
      "[3.5 1. ] versicolor\n",
      "[4.2 1.5] versicolor\n",
      "[4. 1.] versicolor\n",
      "[4.7 1.4] versicolor\n",
      "[3.6 1.3] versicolor\n",
      "[4.4 1.4] versicolor\n",
      "[4.5 1.5] versicolor\n",
      "[4.1 1. ] versicolor\n",
      "[4.5 1.5] versicolor\n",
      "[3.9 1.1] versicolor\n",
      "[4.8 1.8] versicolor\n",
      "[4.  1.3] versicolor\n",
      "[4.9 1.5] versicolor\n",
      "[4.7 1.2] versicolor\n",
      "[4.3 1.3] versicolor\n",
      "[4.4 1.4] versicolor\n",
      "[4.8 1.4] versicolor\n",
      "[5.  1.7] versicolor\n",
      "[4.5 1.5] versicolor\n",
      "[3.5 1. ] versicolor\n",
      "[3.8 1.1] versicolor\n",
      "[3.7 1. ] versicolor\n",
      "[3.9 1.2] versicolor\n",
      "[5.1 1.6] versicolor\n",
      "[4.5 1.5] versicolor\n",
      "[4.5 1.6] versicolor\n",
      "[4.7 1.5] versicolor\n",
      "[4.4 1.3] versicolor\n",
      "[4.1 1.3] versicolor\n",
      "[4.  1.3] versicolor\n",
      "[4.4 1.2] versicolor\n",
      "[4.6 1.4] versicolor\n",
      "[4.  1.2] versicolor\n",
      "[3.3 1. ] versicolor\n",
      "[4.2 1.3] versicolor\n",
      "[4.2 1.2] versicolor\n",
      "[4.2 1.3] versicolor\n",
      "[4.3 1.3] versicolor\n",
      "[3.  1.1] versicolor\n",
      "[4.1 1.3] versicolor\n",
      "[6.  2.5] virginica\n",
      "[5.1 1.9] virginica\n",
      "[5.9 2.1] virginica\n",
      "[5.6 1.8] virginica\n",
      "[5.8 2.2] virginica\n",
      "[6.6 2.1] virginica\n",
      "[4.5 1.7] virginica\n",
      "[6.3 1.8] virginica\n",
      "[5.8 1.8] virginica\n",
      "[6.1 2.5] virginica\n",
      "[5.1 2. ] virginica\n",
      "[5.3 1.9] virginica\n",
      "[5.5 2.1] virginica\n",
      "[5. 2.] virginica\n",
      "[5.1 2.4] virginica\n",
      "[5.3 2.3] virginica\n",
      "[5.5 1.8] virginica\n",
      "[6.7 2.2] virginica\n",
      "[6.9 2.3] virginica\n",
      "[5.  1.5] virginica\n",
      "[5.7 2.3] virginica\n",
      "[4.9 2. ] virginica\n",
      "[6.7 2. ] virginica\n",
      "[4.9 1.8] virginica\n",
      "[5.7 2.1] virginica\n",
      "[6.  1.8] virginica\n",
      "[4.8 1.8] virginica\n",
      "[4.9 1.8] virginica\n",
      "[5.6 2.1] virginica\n",
      "[5.8 1.6] virginica\n",
      "[6.1 1.9] virginica\n",
      "[6.4 2. ] virginica\n",
      "[5.6 2.2] virginica\n",
      "[5.1 1.5] virginica\n",
      "[5.6 1.4] virginica\n",
      "[6.1 2.3] virginica\n",
      "[5.6 2.4] virginica\n",
      "[5.5 1.8] virginica\n",
      "[4.8 1.8] virginica\n",
      "[5.4 2.1] virginica\n",
      "[5.6 2.4] virginica\n",
      "[5.1 2.3] virginica\n",
      "[5.1 1.9] virginica\n",
      "[5.9 2.3] virginica\n",
      "[5.7 2.5] virginica\n",
      "[5.2 2.3] virginica\n",
      "[5.  1.9] virginica\n",
      "[5.2 2. ] virginica\n",
      "[5.4 2.3] virginica\n",
      "[5.1 1.8] virginica\n"
     ]
    }
   ],
   "source": [
    "for pi, cls in zip(X.values, y):\n",
    "    print(pi, cls)"
   ]
  },
  {
   "cell_type": "code",
   "execution_count": 33,
   "id": "346a7a16-bbf4-43f1-8477-fec5874d894a",
   "metadata": {},
   "outputs": [
    {
     "data": {
      "text/plain": [
       "array([5. , 1.6])"
      ]
     },
     "execution_count": 33,
     "metadata": {},
     "output_type": "execute_result"
    }
   ],
   "source": [
    "point"
   ]
  },
  {
   "cell_type": "code",
   "execution_count": 34,
   "id": "21e45664-3832-41d7-9e52-16661f920c67",
   "metadata": {},
   "outputs": [],
   "source": [
    "result = []\n",
    "for pi, cls in zip(X.values, y):\n",
    "    d = distance(point, pi)\n",
    "    result.append((d, cls))"
   ]
  },
  {
   "cell_type": "code",
   "execution_count": 35,
   "id": "32eca871-80df-4ff6-8c3a-e2d8763af599",
   "metadata": {},
   "outputs": [
    {
     "data": {
      "text/plain": [
       "[(3.8626415831655936, 'setosa'),\n",
       " (3.8626415831655936, 'setosa'),\n",
       " (3.956008088970497, 'setosa'),\n",
       " (3.769615364994153, 'setosa'),\n",
       " (3.8626415831655936, 'setosa'),\n",
       " (3.5114099732158874, 'setosa'),\n",
       " (3.8275318418009276, 'setosa'),\n",
       " (3.769615364994153, 'setosa'),\n",
       " (3.8626415831655936, 'setosa'),\n",
       " (3.8078865529319543, 'setosa'),\n",
       " (3.769615364994153, 'setosa'),\n",
       " (3.676955262170047, 'setosa'),\n",
       " (3.9, 'setosa'),\n",
       " (4.178516483155236, 'setosa'),\n",
       " (4.049691346263317, 'setosa'),\n",
       " (3.7, 'setosa'),\n",
       " (3.889730067755345, 'setosa'),\n",
       " (3.8275318418009276, 'setosa'),\n",
       " (3.5468295701936396, 'setosa'),\n",
       " (3.7336309405188937, 'setosa'),\n",
       " (3.5846896657869842, 'setosa'),\n",
       " (3.7, 'setosa'),\n",
       " (4.237924020083418, 'setosa'),\n",
       " (3.478505426185217, 'setosa'),\n",
       " (3.40147027033899, 'setosa'),\n",
       " (3.676955262170047, 'setosa'),\n",
       " (3.605551275463989, 'setosa'),\n",
       " (3.769615364994153, 'setosa'),\n",
       " (3.8626415831655936, 'setosa'),\n",
       " (3.676955262170047, 'setosa'),\n",
       " (3.676955262170047, 'setosa'),\n",
       " (3.7, 'setosa'),\n",
       " (3.8078865529319543, 'setosa'),\n",
       " (3.8626415831655936, 'setosa'),\n",
       " (3.769615364994153, 'setosa'),\n",
       " (4.049691346263317, 'setosa'),\n",
       " (3.956008088970497, 'setosa'),\n",
       " (3.9, 'setosa'),\n",
       " (3.956008088970497, 'setosa'),\n",
       " (3.769615364994153, 'setosa'),\n",
       " (3.9217343102255158, 'setosa'),\n",
       " (3.9217343102255158, 'setosa'),\n",
       " (3.956008088970497, 'setosa'),\n",
       " (3.54400902933387, 'setosa'),\n",
       " (3.3241540277189325, 'setosa'),\n",
       " (3.8275318418009276, 'setosa'),\n",
       " (3.676955262170047, 'setosa'),\n",
       " (3.8626415831655936, 'setosa'),\n",
       " (3.769615364994153, 'setosa'),\n",
       " (3.8626415831655936, 'setosa'),\n",
       " (0.3605551275463989, 'versicolor'),\n",
       " (0.5099019513592785, 'versicolor'),\n",
       " (0.1414213562373093, 'versicolor'),\n",
       " (1.044030650891055, 'versicolor'),\n",
       " (0.4123105625617664, 'versicolor'),\n",
       " (0.5830951894845301, 'versicolor'),\n",
       " (0.2999999999999998, 'versicolor'),\n",
       " (1.8027756377319948, 'versicolor'),\n",
       " (0.5000000000000003, 'versicolor'),\n",
       " (1.118033988749895, 'versicolor'),\n",
       " (1.6155494421403513, 'versicolor'),\n",
       " (0.8062257748298548, 'versicolor'),\n",
       " (1.1661903789690602, 'versicolor'),\n",
       " (0.3605551275463989, 'versicolor'),\n",
       " (1.4317821063276353, 'versicolor'),\n",
       " (0.6324555320336757, 'versicolor'),\n",
       " (0.5099019513592785, 'versicolor'),\n",
       " (1.081665382639197, 'versicolor'),\n",
       " (0.5099019513592785, 'versicolor'),\n",
       " (1.2083045973594573, 'versicolor'),\n",
       " (0.28284271247461906, 'versicolor'),\n",
       " (1.044030650891055, 'versicolor'),\n",
       " (0.1414213562373093, 'versicolor'),\n",
       " (0.5, 'versicolor'),\n",
       " (0.761577310586391, 'versicolor'),\n",
       " (0.6324555320336757, 'versicolor'),\n",
       " (0.2828427124746193, 'versicolor'),\n",
       " (0.09999999999999987, 'versicolor'),\n",
       " (0.5099019513592785, 'versicolor'),\n",
       " (1.6155494421403513, 'versicolor'),\n",
       " (1.3, 'versicolor'),\n",
       " (1.4317821063276353, 'versicolor'),\n",
       " (1.1704699910719627, 'versicolor'),\n",
       " (0.09999999999999964, 'versicolor'),\n",
       " (0.5099019513592785, 'versicolor'),\n",
       " (0.5, 'versicolor'),\n",
       " (0.31622776601683783, 'versicolor'),\n",
       " (0.6708203932499366, 'versicolor'),\n",
       " (0.9486832980505141, 'versicolor'),\n",
       " (1.044030650891055, 'versicolor'),\n",
       " (0.7211102550927977, 'versicolor'),\n",
       " (0.4472135954999583, 'versicolor'),\n",
       " (1.077032961426901, 'versicolor'),\n",
       " (1.8027756377319948, 'versicolor'),\n",
       " (0.854400374531753, 'versicolor'),\n",
       " (0.8944271909999157, 'versicolor'),\n",
       " (0.854400374531753, 'versicolor'),\n",
       " (0.761577310586391, 'versicolor'),\n",
       " (2.0615528128088303, 'versicolor'),\n",
       " (0.9486832980505141, 'versicolor'),\n",
       " (1.345362404707371, 'virginica'),\n",
       " (0.31622776601683766, 'virginica'),\n",
       " (1.0295630140987002, 'virginica'),\n",
       " (0.6324555320336755, 'virginica'),\n",
       " (0.9999999999999999, 'virginica'),\n",
       " (1.6763054614240207, 'virginica'),\n",
       " (0.5099019513592784, 'virginica'),\n",
       " (1.3152946437965904, 'virginica'),\n",
       " (0.8246211251235319, 'virginica'),\n",
       " (1.4212670403551892, 'virginica'),\n",
       " (0.41231056256176585, 'virginica'),\n",
       " (0.4242640687119283, 'virginica'),\n",
       " (0.7071067811865476, 'virginica'),\n",
       " (0.3999999999999999, 'virginica'),\n",
       " (0.8062257748298547, 'virginica'),\n",
       " (0.7615773105863906, 'virginica'),\n",
       " (0.5385164807134504, 'virginica'),\n",
       " (1.8027756377319948, 'virginica'),\n",
       " (2.024845673131659, 'virginica'),\n",
       " (0.10000000000000009, 'virginica'),\n",
       " (0.9899494936611665, 'virginica'),\n",
       " (0.41231056256176585, 'virginica'),\n",
       " (1.7464249196572983, 'virginica'),\n",
       " (0.22360679774997877, 'virginica'),\n",
       " (0.8602325267042628, 'virginica'),\n",
       " (1.019803902718557, 'virginica'),\n",
       " (0.28284271247461906, 'virginica'),\n",
       " (0.22360679774997877, 'virginica'),\n",
       " (0.7810249675906652, 'virginica'),\n",
       " (0.7999999999999998, 'virginica'),\n",
       " (1.1401754250991376, 'virginica'),\n",
       " (1.456021977856104, 'virginica'),\n",
       " (0.8485281374238569, 'virginica'),\n",
       " (0.1414213562373093, 'virginica'),\n",
       " (0.6324555320336757, 'virginica'),\n",
       " (1.3038404810405293, 'virginica'),\n",
       " (0.9999999999999997, 'virginica'),\n",
       " (0.5385164807134504, 'virginica'),\n",
       " (0.28284271247461906, 'virginica'),\n",
       " (0.6403124237432851, 'virginica'),\n",
       " (0.9999999999999997, 'virginica'),\n",
       " (0.7071067811865472, 'virginica'),\n",
       " (0.31622776601683766, 'virginica'),\n",
       " (1.140175425099138, 'virginica'),\n",
       " (1.140175425099138, 'virginica'),\n",
       " (0.7280109889280516, 'virginica'),\n",
       " (0.2999999999999998, 'virginica'),\n",
       " (0.4472135954999579, 'virginica'),\n",
       " (0.8062257748298549, 'virginica'),\n",
       " (0.22360679774997877, 'virginica')]"
      ]
     },
     "execution_count": 35,
     "metadata": {},
     "output_type": "execute_result"
    }
   ],
   "source": [
    "result"
   ]
  },
  {
   "cell_type": "code",
   "execution_count": 36,
   "id": "64ff07da-d0be-4a59-9b8f-4ad513a2dda4",
   "metadata": {},
   "outputs": [
    {
     "data": {
      "text/plain": [
       "[(3.8626415831655936, 'setosa'),\n",
       " (3.8626415831655936, 'setosa'),\n",
       " (3.956008088970497, 'setosa'),\n",
       " (3.769615364994153, 'setosa'),\n",
       " (3.8626415831655936, 'setosa')]"
      ]
     },
     "execution_count": 36,
     "metadata": {},
     "output_type": "execute_result"
    }
   ],
   "source": [
    "\n",
    "result[:5]"
   ]
  },
  {
   "cell_type": "code",
   "execution_count": null,
   "id": "3b93ef6c-89bb-48ad-8c5b-52bf3dc0a7dd",
   "metadata": {},
   "outputs": [],
   "source": []
  },
  {
   "cell_type": "code",
   "execution_count": 37,
   "id": "539b71a2-bb94-45f3-a493-eaa45aa76152",
   "metadata": {},
   "outputs": [
    {
     "data": {
      "image/png": "[encoded data removed]",
      "text/plain": [
       "<Figure size 768x576 with 1 Axes>"
      ]
     },
     "metadata": {},
     "output_type": "display_data"
    }
   ],
   "source": [
    "plt.figure(dpi=120)\n",
    "sns.scatterplot(x='petal_length', y='petal_width', data=X, hue=y, style=y)\n",
    "plt.plot(point[0], point[1], 'xk', ms=15)\n",
    "plt.grid()\n",
    "\n",
    "result = []\n",
    "for pi, cls in zip(X.values, y):\n",
    "    xs = [point[0], pi[0]]\n",
    "    ys = [point[1], pi[1]]\n",
    "    plt.plot(xs, ys, '--m', lw=0.1)\n",
    "    d = distance(point, pi)\n",
    "    result.append((d, cls))\n",
    "plt.show()"
   ]
  },
  {
   "cell_type": "code",
   "execution_count": 38,
   "id": "12040b16-3cb1-477e-9e45-e216ea0b1304",
   "metadata": {},
   "outputs": [
    {
     "data": {
      "text/html": [
       "<div>\n",
       "<style scoped>\n",
       "    .dataframe tbody tr th:only-of-type {\n",
       "        vertical-align: middle;\n",
       "    }\n",
       "\n",
       "    .dataframe tbody tr th {\n",
       "        vertical-align: top;\n",
       "    }\n",
       "\n",
       "    .dataframe thead th {\n",
       "        text-align: right;\n",
       "    }\n",
       "</style>\n",
       "<table border=\"1\" class=\"dataframe\">\n",
       "  <thead>\n",
       "    <tr style=\"text-align: right;\">\n",
       "      <th></th>\n",
       "      <th>petal_length</th>\n",
       "      <th>petal_width</th>\n",
       "    </tr>\n",
       "  </thead>\n",
       "  <tbody>\n",
       "    <tr>\n",
       "      <th>0</th>\n",
       "      <td>1.4</td>\n",
       "      <td>0.2</td>\n",
       "    </tr>\n",
       "    <tr>\n",
       "      <th>1</th>\n",
       "      <td>1.4</td>\n",
       "      <td>0.2</td>\n",
       "    </tr>\n",
       "    <tr>\n",
       "      <th>2</th>\n",
       "      <td>1.3</td>\n",
       "      <td>0.2</td>\n",
       "    </tr>\n",
       "    <tr>\n",
       "      <th>3</th>\n",
       "      <td>1.5</td>\n",
       "      <td>0.2</td>\n",
       "    </tr>\n",
       "    <tr>\n",
       "      <th>4</th>\n",
       "      <td>1.4</td>\n",
       "      <td>0.2</td>\n",
       "    </tr>\n",
       "    <tr>\n",
       "      <th>...</th>\n",
       "      <td>...</td>\n",
       "      <td>...</td>\n",
       "    </tr>\n",
       "    <tr>\n",
       "      <th>145</th>\n",
       "      <td>5.2</td>\n",
       "      <td>2.3</td>\n",
       "    </tr>\n",
       "    <tr>\n",
       "      <th>146</th>\n",
       "      <td>5.0</td>\n",
       "      <td>1.9</td>\n",
       "    </tr>\n",
       "    <tr>\n",
       "      <th>147</th>\n",
       "      <td>5.2</td>\n",
       "      <td>2.0</td>\n",
       "    </tr>\n",
       "    <tr>\n",
       "      <th>148</th>\n",
       "      <td>5.4</td>\n",
       "      <td>2.3</td>\n",
       "    </tr>\n",
       "    <tr>\n",
       "      <th>149</th>\n",
       "      <td>5.1</td>\n",
       "      <td>1.8</td>\n",
       "    </tr>\n",
       "  </tbody>\n",
       "</table>\n",
       "<p>150 rows × 2 columns</p>\n",
       "</div>"
      ],
      "text/plain": [
       "     petal_length  petal_width\n",
       "0             1.4          0.2\n",
       "1             1.4          0.2\n",
       "2             1.3          0.2\n",
       "3             1.5          0.2\n",
       "4             1.4          0.2\n",
       "..            ...          ...\n",
       "145           5.2          2.3\n",
       "146           5.0          1.9\n",
       "147           5.2          2.0\n",
       "148           5.4          2.3\n",
       "149           5.1          1.8\n",
       "\n",
       "[150 rows x 2 columns]"
      ]
     },
     "execution_count": 38,
     "metadata": {},
     "output_type": "execute_result"
    }
   ],
   "source": [
    "X"
   ]
  },
  {
   "cell_type": "code",
   "execution_count": 39,
   "id": "688d08b0-ea21-4e66-b171-87a8e45b08ae",
   "metadata": {},
   "outputs": [
    {
     "data": {
      "text/plain": [
       "0         setosa\n",
       "1         setosa\n",
       "2         setosa\n",
       "3         setosa\n",
       "4         setosa\n",
       "         ...    \n",
       "145    virginica\n",
       "146    virginica\n",
       "147    virginica\n",
       "148    virginica\n",
       "149    virginica\n",
       "Name: species, Length: 150, dtype: object"
      ]
     },
     "execution_count": 39,
     "metadata": {},
     "output_type": "execute_result"
    }
   ],
   "source": [
    "y"
   ]
  },
  {
   "cell_type": "code",
   "execution_count": 40,
   "id": "5c53d9ef-2e9a-4197-bb85-ce3b7a47c647",
   "metadata": {},
   "outputs": [],
   "source": [
    "def distance(p1, p2, norm=2):\n",
    "    \"\"\"\n",
    "    norm-1 => manhatten distance\n",
    "    norm-2 => euclidean distance\n",
    "    \"\"\"\n",
    "    \n",
    "    d = sum(abs((p2 - p1)**norm)) ** (1/norm)\n",
    "    return d\n",
    "\n",
    "def k_nearest_neighbour(point, X, y, k=5, show_fig = False):\n",
    "    plt.figure(dpi=120)\n",
    "    sns.scatterplot(x='petal_length', y='petal_width', data=X, hue=y, style=y)\n",
    "    plt.plot(point[0], point[1], 'xk', ms=15)\n",
    "    plt.grid()\n",
    "    \n",
    "    result = []\n",
    "    for pi, cls in zip(X.values, y):\n",
    "        xs = [point[0], pi[0]]\n",
    "        ys = [point[1], pi[1]]\n",
    "        plt.plot(xs, ys, '--m', lw=0.1)\n",
    "        d = distance(point, pi)\n",
    "        result.append((d, cls))\n",
    "    \n",
    "    plt.show()\n",
    "    result.sort()\n",
    "    return result[:5]\n",
    "\n",
    "def decision_function(neighbours):\n",
    "    d = {}\n",
    "    for i, j in neighbours:\n",
    "        if j not in d:\n",
    "            d[j] = 1\n",
    "        else:\n",
    "            d[j] += 1\n",
    "    for i, j in d.items():\n",
    "        if j == max(d.values()):\n",
    "            print(f\"result is: {i}\")"
   ]
  },
  {
   "cell_type": "code",
   "execution_count": null,
   "id": "843c677c-6343-49f7-ad6f-a54cae346f2e",
   "metadata": {},
   "outputs": [],
   "source": []
  },
  {
   "cell_type": "code",
   "execution_count": 41,
   "id": "87fd93a8-cfdb-40a3-a5fb-39c6640983d2",
   "metadata": {},
   "outputs": [
    {
     "data": {
      "image/png": "[encoded data removed]",
      "text/plain": [
       "<Figure size 768x576 with 1 Axes>"
      ]
     },
     "metadata": {},
     "output_type": "display_data"
    },
    {
     "name": "stdout",
     "output_type": "stream",
     "text": [
      "result is: setosa\n"
     ]
    }
   ],
   "source": [
    "point = np.array([2, 0.5])\n",
    "result = k_nearest_neighbour(point, X, y)\n",
    "decision_function(result)"
   ]
  },
  {
   "cell_type": "code",
   "execution_count": 42,
   "id": "c45003e4-fe07-486c-b0e6-28a2352df21f",
   "metadata": {},
   "outputs": [
    {
     "data": {
      "text/plain": [
       "[(0.14142135623730953, 'setosa'),\n",
       " (0.30000000000000004, 'setosa'),\n",
       " (0.31622776601683794, 'setosa'),\n",
       " (0.31622776601683794, 'setosa'),\n",
       " (0.36055512754639896, 'setosa')]"
      ]
     },
     "execution_count": 42,
     "metadata": {},
     "output_type": "execute_result"
    }
   ],
   "source": [
    "result"
   ]
  },
  {
   "cell_type": "code",
   "execution_count": null,
   "id": "72e57fc5-706e-4a29-ad35-cbf61a4cfed4",
   "metadata": {},
   "outputs": [],
   "source": []
  },
  {
   "cell_type": "code",
   "execution_count": 43,
   "id": "1150eace-343e-49a0-a306-d05a637e60d3",
   "metadata": {},
   "outputs": [],
   "source": [
    "def decision_function(neighbours):\n",
    "    d = {}\n",
    "    for i, j in neighbours:\n",
    "        if j not in d:\n",
    "            d[j] = 1\n",
    "        else:\n",
    "            d[j] += 1\n",
    "    # for i, j in d.items:\n",
    "    return d"
   ]
  },
  {
   "cell_type": "code",
   "execution_count": 44,
   "id": "ab45b822-c796-4ef3-92e5-b3b5628274d2",
   "metadata": {},
   "outputs": [
    {
     "data": {
      "text/plain": [
       "{'setosa': 5}"
      ]
     },
     "execution_count": 44,
     "metadata": {},
     "output_type": "execute_result"
    }
   ],
   "source": [
    "decision_function(result)"
   ]
  },
  {
   "cell_type": "code",
   "execution_count": null,
   "id": "6dc7522e-67c9-449f-a777-3b5e127fb998",
   "metadata": {},
   "outputs": [],
   "source": []
  },
  {
   "cell_type": "code",
   "execution_count": 45,
   "id": "cefff0a6-9402-439a-9a31-c8024638d6a8",
   "metadata": {},
   "outputs": [],
   "source": [
    "from sklearn.base import TransformerMixin, BaseEstimator"
   ]
  },
  {
   "cell_type": "code",
   "execution_count": null,
   "id": "6c679336-cd2c-48b0-a228-5f4d26a285be",
   "metadata": {},
   "outputs": [],
   "source": []
  },
  {
   "cell_type": "code",
   "execution_count": 46,
   "id": "670470ee-f2ac-47c4-bff6-623a8d11baa0",
   "metadata": {},
   "outputs": [],
   "source": [
    "class KNearestNeighbour(BaseEstimator):\n",
    "    def __init__(self, n_neighbour=5, norm=2):\n",
    "        self.k = n_neighbour\n",
    "        self.norm = norm\n",
    "\n",
    "    def fit(self,X, y):\n",
    "        self.X = np.array(X)\n",
    "        self.y = np.array(y)\n",
    "\n",
    "    def distance(self, p1, p2, norm=2):\n",
    "        d = sum(abs((p2 - p1)**norm)) ** (1/norm)\n",
    "        return d\n",
    "\n",
    "    def decision_function(self, neighbours):\n",
    "        d = {}\n",
    "        for i, j in neighbours:\n",
    "            if j not in d:\n",
    "                d[j] = 1\n",
    "            else:\n",
    "                d[j] += 1\n",
    "        for i, j in d.items():\n",
    "            if j == max(d.values()):\n",
    "                return i\n",
    "\n",
    "    def predict(self, X_new):\n",
    "        X_new = np.array(X_new)\n",
    "        prediction = []\n",
    "        for point in X_new:\n",
    "            result = []\n",
    "            for pi, cls in zip(self.X, self.y):\n",
    "                xs = [point[0], pi[0]]\n",
    "                ys = [point[1], pi[1]]\n",
    "                d = self.distance(point, pi, self.norm)\n",
    "                result.append((d, cls))\n",
    "            \n",
    "            result.sort()\n",
    "            prediction.append(self.decision_function(result[:self.k]))\n",
    "        return np.array(prediction)"
   ]
  },
  {
   "cell_type": "code",
   "execution_count": 47,
   "id": "4e166346-649d-467f-bf65-3382b41b108b",
   "metadata": {},
   "outputs": [],
   "source": [
    "knn_model = KNearestNeighbour()"
   ]
  },
  {
   "cell_type": "code",
   "execution_count": 48,
   "id": "2adeac0e-f46f-4ae5-b801-0db47b3d5bbc",
   "metadata": {},
   "outputs": [],
   "source": [
    "knn_model.fit(X, y)"
   ]
  },
  {
   "cell_type": "code",
   "execution_count": 49,
   "id": "43743688-50d0-4e41-bd53-27e0a7afab6f",
   "metadata": {},
   "outputs": [],
   "source": [
    "y_hat = knn_model.predict(X)"
   ]
  },
  {
   "cell_type": "code",
   "execution_count": 50,
   "id": "9a3e32dc-6ade-4e77-b592-aa9117129fcb",
   "metadata": {},
   "outputs": [
    {
     "data": {
      "text/plain": [
       "array(['setosa', 'setosa', 'setosa', 'setosa', 'setosa', 'setosa',\n",
       "       'setosa', 'setosa', 'setosa', 'setosa', 'setosa', 'setosa',\n",
       "       'setosa', 'setosa', 'setosa', 'setosa', 'setosa', 'setosa',\n",
       "       'setosa', 'setosa', 'setosa', 'setosa', 'setosa', 'setosa',\n",
       "       'setosa', 'setosa', 'setosa', 'setosa', 'setosa', 'setosa',\n",
       "       'setosa', 'setosa', 'setosa', 'setosa', 'setosa', 'setosa',\n",
       "       'setosa', 'setosa', 'setosa', 'setosa', 'setosa', 'setosa',\n",
       "       'setosa', 'setosa', 'setosa', 'setosa', 'setosa', 'setosa',\n",
       "       'setosa', 'setosa', 'versicolor', 'versicolor', 'versicolor',\n",
       "       'versicolor', 'versicolor', 'versicolor', 'versicolor',\n",
       "       'versicolor', 'versicolor', 'versicolor', 'versicolor',\n",
       "       'versicolor', 'versicolor', 'versicolor', 'versicolor',\n",
       "       'versicolor', 'versicolor', 'versicolor', 'versicolor',\n",
       "       'versicolor', 'virginica', 'versicolor', 'versicolor',\n",
       "       'versicolor', 'versicolor', 'versicolor', 'versicolor',\n",
       "       'virginica', 'versicolor', 'versicolor', 'versicolor',\n",
       "       'versicolor', 'versicolor', 'virginica', 'versicolor',\n",
       "       'versicolor', 'versicolor', 'versicolor', 'versicolor',\n",
       "       'versicolor', 'versicolor', 'versicolor', 'versicolor',\n",
       "       'versicolor', 'versicolor', 'versicolor', 'versicolor',\n",
       "       'versicolor', 'versicolor', 'versicolor', 'virginica', 'virginica',\n",
       "       'virginica', 'virginica', 'virginica', 'virginica', 'versicolor',\n",
       "       'virginica', 'virginica', 'virginica', 'virginica', 'virginica',\n",
       "       'virginica', 'virginica', 'virginica', 'virginica', 'virginica',\n",
       "       'virginica', 'virginica', 'versicolor', 'virginica', 'virginica',\n",
       "       'virginica', 'virginica', 'virginica', 'virginica', 'virginica',\n",
       "       'virginica', 'virginica', 'virginica', 'virginica', 'virginica',\n",
       "       'virginica', 'versicolor', 'virginica', 'virginica', 'virginica',\n",
       "       'virginica', 'virginica', 'virginica', 'virginica', 'virginica',\n",
       "       'virginica', 'virginica', 'virginica', 'virginica', 'virginica',\n",
       "       'virginica', 'virginica', 'virginica'], dtype='<U10')"
      ]
     },
     "execution_count": 50,
     "metadata": {},
     "output_type": "execute_result"
    }
   ],
   "source": [
    "y_hat"
   ]
  },
  {
   "cell_type": "code",
   "execution_count": 51,
   "id": "11b034cb-137f-475f-8046-c4dbd75802eb",
   "metadata": {},
   "outputs": [],
   "source": [
    "from sklearn.metrics import confusion_matrix"
   ]
  },
  {
   "cell_type": "code",
   "execution_count": 52,
   "id": "a408cf98-7d5e-4aad-9c28-b1cfb0274010",
   "metadata": {},
   "outputs": [
    {
     "data": {
      "text/plain": [
       "array([[50,  0,  0],\n",
       "       [ 0, 47,  3],\n",
       "       [ 0,  3, 47]], dtype=int64)"
      ]
     },
     "execution_count": 52,
     "metadata": {},
     "output_type": "execute_result"
    }
   ],
   "source": [
    "confusion_matrix(y, y_hat)"
   ]
  },
  {
   "cell_type": "code",
   "execution_count": 46,
   "id": "7c32ec7a-a3a4-4f0b-a1aa-70fc46e796e8",
   "metadata": {},
   "outputs": [],
   "source": [
    "X = iris.drop('species', axis=1)"
   ]
  },
  {
   "cell_type": "code",
   "execution_count": 47,
   "id": "59c58105-fc40-45d9-82f3-95cc2d923525",
   "metadata": {},
   "outputs": [
    {
     "data": {
      "text/html": [
       "<div>\n",
       "<style scoped>\n",
       "    .dataframe tbody tr th:only-of-type {\n",
       "        vertical-align: middle;\n",
       "    }\n",
       "\n",
       "    .dataframe tbody tr th {\n",
       "        vertical-align: top;\n",
       "    }\n",
       "\n",
       "    .dataframe thead th {\n",
       "        text-align: right;\n",
       "    }\n",
       "</style>\n",
       "<table border=\"1\" class=\"dataframe\">\n",
       "  <thead>\n",
       "    <tr style=\"text-align: right;\">\n",
       "      <th></th>\n",
       "      <th>sepal_length</th>\n",
       "      <th>sepal_width</th>\n",
       "      <th>petal_length</th>\n",
       "      <th>petal_width</th>\n",
       "    </tr>\n",
       "  </thead>\n",
       "  <tbody>\n",
       "    <tr>\n",
       "      <th>0</th>\n",
       "      <td>5.1</td>\n",
       "      <td>3.5</td>\n",
       "      <td>1.4</td>\n",
       "      <td>0.2</td>\n",
       "    </tr>\n",
       "    <tr>\n",
       "      <th>1</th>\n",
       "      <td>4.9</td>\n",
       "      <td>3.0</td>\n",
       "      <td>1.4</td>\n",
       "      <td>0.2</td>\n",
       "    </tr>\n",
       "    <tr>\n",
       "      <th>2</th>\n",
       "      <td>4.7</td>\n",
       "      <td>3.2</td>\n",
       "      <td>1.3</td>\n",
       "      <td>0.2</td>\n",
       "    </tr>\n",
       "    <tr>\n",
       "      <th>3</th>\n",
       "      <td>4.6</td>\n",
       "      <td>3.1</td>\n",
       "      <td>1.5</td>\n",
       "      <td>0.2</td>\n",
       "    </tr>\n",
       "    <tr>\n",
       "      <th>4</th>\n",
       "      <td>5.0</td>\n",
       "      <td>3.6</td>\n",
       "      <td>1.4</td>\n",
       "      <td>0.2</td>\n",
       "    </tr>\n",
       "    <tr>\n",
       "      <th>...</th>\n",
       "      <td>...</td>\n",
       "      <td>...</td>\n",
       "      <td>...</td>\n",
       "      <td>...</td>\n",
       "    </tr>\n",
       "    <tr>\n",
       "      <th>145</th>\n",
       "      <td>6.7</td>\n",
       "      <td>3.0</td>\n",
       "      <td>5.2</td>\n",
       "      <td>2.3</td>\n",
       "    </tr>\n",
       "    <tr>\n",
       "      <th>146</th>\n",
       "      <td>6.3</td>\n",
       "      <td>2.5</td>\n",
       "      <td>5.0</td>\n",
       "      <td>1.9</td>\n",
       "    </tr>\n",
       "    <tr>\n",
       "      <th>147</th>\n",
       "      <td>6.5</td>\n",
       "      <td>3.0</td>\n",
       "      <td>5.2</td>\n",
       "      <td>2.0</td>\n",
       "    </tr>\n",
       "    <tr>\n",
       "      <th>148</th>\n",
       "      <td>6.2</td>\n",
       "      <td>3.4</td>\n",
       "      <td>5.4</td>\n",
       "      <td>2.3</td>\n",
       "    </tr>\n",
       "    <tr>\n",
       "      <th>149</th>\n",
       "      <td>5.9</td>\n",
       "      <td>3.0</td>\n",
       "      <td>5.1</td>\n",
       "      <td>1.8</td>\n",
       "    </tr>\n",
       "  </tbody>\n",
       "</table>\n",
       "<p>150 rows × 4 columns</p>\n",
       "</div>"
      ],
      "text/plain": [
       "     sepal_length  sepal_width  petal_length  petal_width\n",
       "0             5.1          3.5           1.4          0.2\n",
       "1             4.9          3.0           1.4          0.2\n",
       "2             4.7          3.2           1.3          0.2\n",
       "3             4.6          3.1           1.5          0.2\n",
       "4             5.0          3.6           1.4          0.2\n",
       "..            ...          ...           ...          ...\n",
       "145           6.7          3.0           5.2          2.3\n",
       "146           6.3          2.5           5.0          1.9\n",
       "147           6.5          3.0           5.2          2.0\n",
       "148           6.2          3.4           5.4          2.3\n",
       "149           5.9          3.0           5.1          1.8\n",
       "\n",
       "[150 rows x 4 columns]"
      ]
     },
     "execution_count": 47,
     "metadata": {},
     "output_type": "execute_result"
    }
   ],
   "source": [
    "X"
   ]
  },
  {
   "cell_type": "code",
   "execution_count": 48,
   "id": "4cb649fc-0971-4007-8390-ad8801b3f227",
   "metadata": {},
   "outputs": [
    {
     "data": {
      "text/plain": [
       "0         setosa\n",
       "1         setosa\n",
       "2         setosa\n",
       "3         setosa\n",
       "4         setosa\n",
       "         ...    \n",
       "145    virginica\n",
       "146    virginica\n",
       "147    virginica\n",
       "148    virginica\n",
       "149    virginica\n",
       "Name: species, Length: 150, dtype: object"
      ]
     },
     "execution_count": 48,
     "metadata": {},
     "output_type": "execute_result"
    }
   ],
   "source": [
    "y"
   ]
  },
  {
   "cell_type": "code",
   "execution_count": 49,
   "id": "a40e97e5-438a-4e8c-98a5-30452efd0352",
   "metadata": {},
   "outputs": [
    {
     "name": "stdout",
     "output_type": "stream",
     "text": [
      "[[50  0  0]\n",
      " [ 0 47  3]\n",
      " [ 0  2 48]]\n"
     ]
    }
   ],
   "source": [
    "knn_model = KNearestNeighbour()\n",
    "knn_model.fit(X, y)\n",
    "y_hat = knn_model.predict(X)\n",
    "print(confusion_matrix(y, y_hat))\n"
   ]
  },
  {
   "cell_type": "code",
   "execution_count": 50,
   "id": "879fa9ab-cd8e-4124-85ed-d233dd9c0f74",
   "metadata": {},
   "outputs": [],
   "source": [
    "from sklearn.model_selection import train_test_split"
   ]
  },
  {
   "cell_type": "code",
   "execution_count": 51,
   "id": "0c01b929-1504-4c0d-821b-9944e777a78f",
   "metadata": {},
   "outputs": [],
   "source": [
    "X_train,X_test,y_train,y_test = train_test_split(X, y, test_size=0.2, random_state=123)"
   ]
  },
  {
   "cell_type": "code",
   "execution_count": 52,
   "id": "dd362f0b-6f3a-4ecd-a2a9-d1af06aa582b",
   "metadata": {},
   "outputs": [
    {
     "name": "stdout",
     "output_type": "stream",
     "text": [
      "[[37  0  0]\n",
      " [ 0 43  1]\n",
      " [ 0  1 38]]\n"
     ]
    }
   ],
   "source": [
    "knn_model = KNearestNeighbour()\n",
    "knn_model.fit(X_train, y_train)\n",
    "y_hat = knn_model.predict(X_train)\n",
    "print(confusion_matrix(y_train, y_hat))\n"
   ]
  },
  {
   "cell_type": "code",
   "execution_count": 53,
   "id": "0b584163-c7db-4fbb-989c-d05009fe268f",
   "metadata": {},
   "outputs": [
    {
     "name": "stdout",
     "output_type": "stream",
     "text": [
      "[[13  0  0]\n",
      " [ 0  5  1]\n",
      " [ 0  0 11]]\n"
     ]
    }
   ],
   "source": [
    "knn_model = KNearestNeighbour()\n",
    "knn_model.fit(X_train, y_train)\n",
    "y_hat = knn_model.predict(X_test)\n",
    "print(confusion_matrix(y_test, y_hat))\n"
   ]
  },
  {
   "cell_type": "code",
   "execution_count": null,
   "id": "629e526b-5c41-4120-aa22-bb435c65bb48",
   "metadata": {},
   "outputs": [],
   "source": []
  },
  {
   "cell_type": "code",
   "execution_count": null,
   "id": "2b10065e-6df9-44c9-9c72-cee84df37480",
   "metadata": {},
   "outputs": [],
   "source": []
  },
  {
   "cell_type": "code",
   "execution_count": 54,
   "id": "26a275b2-39cc-4df3-ad70-5dae747b358a",
   "metadata": {},
   "outputs": [],
   "source": [
    "from sklearn.neighbors import KNeighborsClassifier"
   ]
  },
  {
   "cell_type": "code",
   "execution_count": 55,
   "id": "485328fa-aa00-4fbc-b959-e4f161178727",
   "metadata": {},
   "outputs": [
    {
     "name": "stdout",
     "output_type": "stream",
     "text": [
      "[[37  0  0]\n",
      " [ 0 43  1]\n",
      " [ 0  1 38]]\n"
     ]
    }
   ],
   "source": [
    "model = KNeighborsClassifier()\n",
    "model.fit(X_train, y_train)\n",
    "y_hat = model.predict(X_train)\n",
    "print(confusion_matrix(y_train, y_hat))\n"
   ]
  },
  {
   "cell_type": "code",
   "execution_count": null,
   "id": "2722ee4e-bd21-4ad4-96e9-a123f7cbea40",
   "metadata": {},
   "outputs": [],
   "source": []
  },
  {
   "cell_type": "code",
   "execution_count": null,
   "id": "d65da499-3ab3-4205-bca5-7fe0de62dc94",
   "metadata": {},
   "outputs": [],
   "source": []
  },
  {
   "cell_type": "code",
   "execution_count": 56,
   "id": "af8b13b4-d9aa-4c9c-8f8e-c1decba5b6f2",
   "metadata": {},
   "outputs": [
    {
     "data": {
      "text/html": [
       "<div>\n",
       "<style scoped>\n",
       "    .dataframe tbody tr th:only-of-type {\n",
       "        vertical-align: middle;\n",
       "    }\n",
       "\n",
       "    .dataframe tbody tr th {\n",
       "        vertical-align: top;\n",
       "    }\n",
       "\n",
       "    .dataframe thead th {\n",
       "        text-align: right;\n",
       "    }\n",
       "</style>\n",
       "<table border=\"1\" class=\"dataframe\">\n",
       "  <thead>\n",
       "    <tr style=\"text-align: right;\">\n",
       "      <th></th>\n",
       "      <th>sepal_length</th>\n",
       "      <th>sepal_width</th>\n",
       "      <th>petal_length</th>\n",
       "      <th>petal_width</th>\n",
       "    </tr>\n",
       "  </thead>\n",
       "  <tbody>\n",
       "    <tr>\n",
       "      <th>0</th>\n",
       "      <td>5.1</td>\n",
       "      <td>3.5</td>\n",
       "      <td>1.4</td>\n",
       "      <td>0.2</td>\n",
       "    </tr>\n",
       "    <tr>\n",
       "      <th>1</th>\n",
       "      <td>4.9</td>\n",
       "      <td>3.0</td>\n",
       "      <td>1.4</td>\n",
       "      <td>0.2</td>\n",
       "    </tr>\n",
       "    <tr>\n",
       "      <th>2</th>\n",
       "      <td>4.7</td>\n",
       "      <td>3.2</td>\n",
       "      <td>1.3</td>\n",
       "      <td>0.2</td>\n",
       "    </tr>\n",
       "    <tr>\n",
       "      <th>3</th>\n",
       "      <td>4.6</td>\n",
       "      <td>3.1</td>\n",
       "      <td>1.5</td>\n",
       "      <td>0.2</td>\n",
       "    </tr>\n",
       "    <tr>\n",
       "      <th>4</th>\n",
       "      <td>5.0</td>\n",
       "      <td>3.6</td>\n",
       "      <td>1.4</td>\n",
       "      <td>0.2</td>\n",
       "    </tr>\n",
       "    <tr>\n",
       "      <th>...</th>\n",
       "      <td>...</td>\n",
       "      <td>...</td>\n",
       "      <td>...</td>\n",
       "      <td>...</td>\n",
       "    </tr>\n",
       "    <tr>\n",
       "      <th>145</th>\n",
       "      <td>6.7</td>\n",
       "      <td>3.0</td>\n",
       "      <td>5.2</td>\n",
       "      <td>2.3</td>\n",
       "    </tr>\n",
       "    <tr>\n",
       "      <th>146</th>\n",
       "      <td>6.3</td>\n",
       "      <td>2.5</td>\n",
       "      <td>5.0</td>\n",
       "      <td>1.9</td>\n",
       "    </tr>\n",
       "    <tr>\n",
       "      <th>147</th>\n",
       "      <td>6.5</td>\n",
       "      <td>3.0</td>\n",
       "      <td>5.2</td>\n",
       "      <td>2.0</td>\n",
       "    </tr>\n",
       "    <tr>\n",
       "      <th>148</th>\n",
       "      <td>6.2</td>\n",
       "      <td>3.4</td>\n",
       "      <td>5.4</td>\n",
       "      <td>2.3</td>\n",
       "    </tr>\n",
       "    <tr>\n",
       "      <th>149</th>\n",
       "      <td>5.9</td>\n",
       "      <td>3.0</td>\n",
       "      <td>5.1</td>\n",
       "      <td>1.8</td>\n",
       "    </tr>\n",
       "  </tbody>\n",
       "</table>\n",
       "<p>150 rows × 4 columns</p>\n",
       "</div>"
      ],
      "text/plain": [
       "     sepal_length  sepal_width  petal_length  petal_width\n",
       "0             5.1          3.5           1.4          0.2\n",
       "1             4.9          3.0           1.4          0.2\n",
       "2             4.7          3.2           1.3          0.2\n",
       "3             4.6          3.1           1.5          0.2\n",
       "4             5.0          3.6           1.4          0.2\n",
       "..            ...          ...           ...          ...\n",
       "145           6.7          3.0           5.2          2.3\n",
       "146           6.3          2.5           5.0          1.9\n",
       "147           6.5          3.0           5.2          2.0\n",
       "148           6.2          3.4           5.4          2.3\n",
       "149           5.9          3.0           5.1          1.8\n",
       "\n",
       "[150 rows x 4 columns]"
      ]
     },
     "execution_count": 56,
     "metadata": {},
     "output_type": "execute_result"
    }
   ],
   "source": [
    "X"
   ]
  },
  {
   "cell_type": "code",
   "execution_count": null,
   "id": "916f2971-8bf5-434d-b021-5710f93a65f4",
   "metadata": {},
   "outputs": [],
   "source": []
  }
 ],
 "metadata": {
  "kernelspec": {
   "display_name": "Python 3 (ipykernel)",
   "language": "python",
   "name": "python3"
  },
  "language_info": {
   "codemirror_mode": {
    "name": "ipython",
    "version": 3
   },
   "file_extension": ".py",
   "mimetype": "text/x-python",
   "name": "python",
   "nbconvert_exporter": "python",
   "pygments_lexer": "ipython3",
   "version": "3.11.7"
  }
 },
 "nbformat": 4,
 "nbformat_minor": 5
}
